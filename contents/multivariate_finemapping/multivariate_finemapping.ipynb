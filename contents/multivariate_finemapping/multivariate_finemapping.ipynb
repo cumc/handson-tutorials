{
 "cells": [
  {
   "cell_type": "markdown",
   "id": "1461c262-176f-4d33-b883-c00d55ecbc95",
   "metadata": {},
   "source": [
    "# Introduction to mvSuSiE for multi-trait fine-mapping\n",
    "\n",
    "author: Yuxin Zou, Gao Wang, Peter Carbonetto and Matthew Stephens\n",
    "\n",
    "Originally posted on [mvsusieR vignette](https://stephenslab.github.io/mvsusieR/articles/mvsusie_intro.html)"
   ]
  },
  {
   "cell_type": "markdown",
   "id": "995f16e9-e12f-457b-a1b4-dfefc00fa4e9",
   "metadata": {},
   "source": [
    "The aim of this vignette is to work through the steps of a basic\n",
    "mvSuSiE multi-trait fine-mapping analysis. We analyze a simulated\n",
    "fine-mapping data set with realistic genotypes."
   ]
  },
  {
   "cell_type": "markdown",
   "id": "c8cd0f08",
   "metadata": {},
   "source": [
    "First, load the necessary packages, and to ensure reproducibility set\n",
    "the seed."
   ]
  },
  {
   "cell_type": "code",
   "execution_count": null,
   "id": "c282f067",
   "metadata": {
    "attributes": {
     "classes": [],
     "id": "",
     "message": "FALSE"
    }
   },
   "outputs": [],
   "source": [
    "library(mvsusieR)\n",
    "library(ggplot2)\n",
    "library(cowplot)\n",
    "set.seed(1)"
   ]
  },
  {
   "cell_type": "markdown",
   "id": "2a7be6fa",
   "metadata": {},
   "source": [
    "Next, load the data set we will analyze."
   ]
  },
  {
   "cell_type": "code",
   "execution_count": null,
   "id": "26c477e6",
   "metadata": {},
   "outputs": [],
   "source": [
    "data(simdata)"
   ]
  },
  {
   "cell_type": "markdown",
   "id": "9b1b8aca",
   "metadata": {},
   "source": [
    "The data consist of an $N \\times J$ genotype matrix `X` and an $N\n",
    "\\times R$ phenotype matrix `Y` where $N$ is the number of samples, $J$\n",
    "is the number of SNPs, and $R$ is the number of traits/phenotypes."
   ]
  },
  {
   "cell_type": "code",
   "execution_count": null,
   "id": "26f1752f",
   "metadata": {},
   "outputs": [],
   "source": [
    "X <- simdata$raw$X\n",
    "Y <- simdata$raw$Y\n",
    "dim(X)\n",
    "dim(Y)"
   ]
  },
  {
   "cell_type": "markdown",
   "id": "6df8156d",
   "metadata": {},
   "source": [
    "Specify the prior\n",
    "-----------------\n",
    "\n",
    "Some care should be taken to choose the prior for your mvSuSiE\n",
    "analysis. To simplify the example we have defined the prior for you:"
   ]
  },
  {
   "cell_type": "code",
   "execution_count": null,
   "id": "2203d0b8",
   "metadata": {},
   "outputs": [],
   "source": [
    "prior <- create_mixture_prior(list(matrices = simdata$par$U,\n",
    "                                   weights = simdata$par$w),\n",
    "                              null_weight = 0)"
   ]
  },
  {
   "cell_type": "markdown",
   "id": "e76c6fbc",
   "metadata": {},
   "source": [
    "More generally, we recommend taking a \"data-driven\" approach to\n",
    "estimating the weights and the covariance matrices in the prior. For\n",
    "example, when there are many candidate fine-mapping regions in your\n",
    "study, you could fit the prior to all the top associations from each\n",
    "of the candidate fine-mapping regions. This data-driven approach is\n",
    "quite similar to the approach used in [mashr][mashr], and we recommend\n",
    "looking through the vignettes in the mashr package for further guidance.\n",
    "\n",
    "Fit the mvSuSiE model\n",
    "---------------------\n",
    "\n",
    "Now that we have set up the prior, we are ready to run mvsusie:"
   ]
  },
  {
   "cell_type": "code",
   "execution_count": null,
   "id": "d4b8458c",
   "metadata": {},
   "outputs": [],
   "source": [
    "fit <- mvsusie(X,Y,standardize = TRUE,\n",
    "               prior_variance = prior,\n",
    "               residual_variance = simdata$par$V,\n",
    "\t\t\t   estimate_prior_variance = TRUE,\n",
    "\t\t\t   tol = 0.01)"
   ]
  },
  {
   "cell_type": "markdown",
   "id": "6b107165",
   "metadata": {},
   "source": [
    "In this call, we have provided mvSuSiE with the four key pieces of\n",
    "information need to run the analysis: (1) the genotype matrix; (2) the\n",
    "phenotype matrix, (3) the prior on the effects; and (4) the residual\n",
    "variance-covariance matrix (an $R \\times R$ matrix).\n",
    "\n",
    "The \"tol\" parameter tells the IBSS model fitting algorithm when to stop\n",
    "iterating; for a final analysis, you may want to set a more stringent\n",
    "tolerance (a number closer to zero).\n",
    "\n",
    "Identifying the causal SNPs: Credible Sets \n",
    "------------------------------------------\n",
    "\n",
    "By default, the \"mvsusie\" function fits a model with L = 10 single\n",
    "effects. mvSuSiE is generally robust to misspecification of L so long\n",
    "as L is chosen to be larger than the true number of effects. mvSuSiE\n",
    "prunes unneeded single effects by estimating a scaling coefficient in\n",
    "the prior; we set `estimate_prior_variance = TRUE` to turn on this\n",
    "pruning step. Indeed, mvsusie pruned 7 out of 10 of the single effects,\n",
    "resulting in three 95% credible sets (CSs), each of which contain\n",
    "exactly one of the true causal SNPs:"
   ]
  },
  {
   "cell_type": "code",
   "execution_count": null,
   "id": "bc8e6fb8",
   "metadata": {},
   "outputs": [],
   "source": [
    "fit$sets$cs"
   ]
  },
  {
   "cell_type": "markdown",
   "id": "00fdddc9",
   "metadata": {},
   "source": [
    "In the third CS, mvSuSiE cannot decide which SNP is the causal SNP\n",
    "because the candidate SNPs are strongly correlated with each other:"
   ]
  },
  {
   "cell_type": "code",
   "execution_count": null,
   "id": "a7e1e578",
   "metadata": {},
   "outputs": [],
   "source": [
    "fit$sets$purity"
   ]
  },
  {
   "cell_type": "markdown",
   "id": "6ff93efe",
   "metadata": {},
   "source": [
    "Examining the posterior inclusion probabilties (PIPs) for these SNPs,\n",
    "there is a subset of 3 SNPs that account for >58% of probability for\n",
    "being causal:"
   ]
  },
  {
   "cell_type": "code",
   "execution_count": null,
   "id": "bc87a162",
   "metadata": {},
   "outputs": [],
   "source": [
    "markers <- fit$sets$cs$L3\n",
    "fit$pip[markers]"
   ]
  },
  {
   "cell_type": "markdown",
   "id": "a02a5ee0",
   "metadata": {},
   "source": [
    "Additionally, the \"sentinel\" SNP---the SNP with the highest PIP---as a\n",
    "PIP of nearly 40%.\n",
    "\n",
    "This is all summarized visually in a \"PIP plot\":"
   ]
  },
  {
   "cell_type": "code",
   "execution_count": null,
   "id": "de70d202",
   "metadata": {
    "attributes": {
     "classes": [],
     "fig.height": "2,",
     "fig.width": "6",
     "id": ""
    }
   },
   "outputs": [],
   "source": [
    "mvsusie_plot(fit)$pip_plot"
   ]
  },
  {
   "cell_type": "markdown",
   "id": "f5742787",
   "metadata": {},
   "source": [
    "Determining which traits are affected\n",
    "-------------------------------------\n",
    "\n",
    "In a multi-trait analysis, we are not just interested in identifying\n",
    "the causal SNPs, but also _which traits_ are affected by these causal\n",
    "SNPs.\n",
    "\n",
    "Let's take the first CS as an example. This is an example of a causal\n",
    "SNP that affects most traits:"
   ]
  },
  {
   "cell_type": "code",
   "execution_count": null,
   "id": "711c867b",
   "metadata": {
    "attributes": {
     "classes": [],
     "fig.height": "2.5,",
     "fig.width": "3.5",
     "id": ""
    }
   },
   "outputs": [],
   "source": [
    "l <- 1\n",
    "i <- 335\n",
    "pdat <- data.frame(bhat = simdata$Btrue[i,],\n",
    "                   coef = fit$b1_rescaled[l,i+1,],\n",
    "                   lfsr = fit$single_effect_lfsr[l,])\n",
    "ggplot(pdat,aes(x = bhat,y = coef,color = log10(lfsr),pch = 20)) +\n",
    "  geom_point(shape = 20,size = 2.5) +\n",
    "  geom_abline(intercept = 0,slope = 1,color = \"black\",linetype = \"dotted\") +\n",
    "  scale_color_gradient2(low = \"lightskyblue\",mid = \"gold\",high = \"orangered\",\n",
    "                        midpoint = -40) +\n",
    "  labs(x = \"true coef\",y = \"mvsusie estimate\") +\n",
    "  theme_cowplot(font_size = 12)"
   ]
  },
  {
   "cell_type": "markdown",
   "id": "3344ffc9",
   "metadata": {},
   "source": [
    "Indeed, the effects of this causal SNP are significant---*i.e.,* small\n",
    "local false sign rates---for most of the 20 traits. (A local false\n",
    "sign rate can be thought of as an alternative to a *p*-value, but is\n",
    "typically slightly more conservative than a *p*-value.)\n",
    "\n",
    "Also, it is reassuring that the mvsusie estimates of the coefficients\n",
    "align well with the coefficients used to simulate the data.\n",
    "\n",
    "By contrast, the causal SNP identified by the third CS only affects\n",
    "one trait, and the affected trait was correctly identified by mvsusie:"
   ]
  },
  {
   "cell_type": "code",
   "execution_count": null,
   "id": "ff0ebf43",
   "metadata": {
    "attributes": {
     "classes": [],
     "fig.height": "2.5,",
     "fig.width": "3.5",
     "id": ""
    }
   },
   "outputs": [],
   "source": [
    "l <- 3\n",
    "i <- 493\n",
    "pdat <- data.frame(bhat = simdata$Btrue[i,],\n",
    "                   coef = fit$b1_rescaled[l,i+1,],\n",
    "                   lfsr = fit$single_effect_lfsr[l,])\n",
    "ggplot(pdat,aes(x = bhat,y = coef,color = log10(lfsr),pch = 20)) +\n",
    "  geom_point(shape = 20,size = 2.5) +\n",
    "  scale_color_gradient2(low = \"lightskyblue\",mid = \"gold\",high = \"orangered\",\n",
    "                        midpoint = -3) +\n",
    "  labs(x = \"true coef\",y = \"mvsusie estimate\") +\n",
    "  theme_cowplot(font_size = 12)"
   ]
  },
  {
   "cell_type": "markdown",
   "id": "993153cc",
   "metadata": {},
   "source": [
    "Notice that the lfsr is very small for the first trait (<1e-6) whereas\n",
    "the lfsrs for the rest of the traits are all close to 1.\n",
    "\n",
    "The information about which traits are affected by the causal SNP is\n",
    "summarized in the \"effect plot\":"
   ]
  },
  {
   "cell_type": "code",
   "execution_count": null,
   "id": "1ab2e145",
   "metadata": {
    "attributes": {
     "classes": [],
     "fig.height": "3.25,",
     "fig.width": "2.5",
     "id": ""
    }
   },
   "outputs": [],
   "source": [
    "out <- mvsusie_plot(fit,add_cs = TRUE)\n",
    "out$effect_plot"
   ]
  },
  {
   "cell_type": "markdown",
   "id": "0ac7bed5",
   "metadata": {},
   "source": [
    "mvSuSiE with summary data: mvSuSiE-RSS\n",
    "--------------------------------------\n",
    "\n",
    "mvsusieR also provides a \"summary data\" interface, building on the\n",
    "ideas developed in the [susie-rss paper][susie-rss]. Different\n",
    "combinations of summary statistics are accepted, but here we will\n",
    "focus on the most common case in which the *z*-scores from the\n",
    "association tests are used. These *z*-scores should be stored in a $J\n",
    "\\times R$ matrix:"
   ]
  },
  {
   "cell_type": "code",
   "execution_count": null,
   "id": "1deb643f",
   "metadata": {},
   "outputs": [],
   "source": [
    "Z <- simdata$sumstats$z\n",
    "dim(Z)"
   ]
  },
  {
   "cell_type": "markdown",
   "id": "003b0ca1",
   "metadata": {},
   "source": [
    "In addition to the *z*-scores, the sample size and $R \\times R$ LD\n",
    "(correlation) matrix are needed. (Strictly speaking, the sample size\n",
    "is not required, but the estimates may be less accurate if the sample\n",
    "size is not provided.)"
   ]
  },
  {
   "cell_type": "code",
   "execution_count": null,
   "id": "abddb168",
   "metadata": {},
   "outputs": [],
   "source": [
    "n <- simdata$sumstats$n\n",
    "R <- simdata$sumstats$LD"
   ]
  },
  {
   "cell_type": "markdown",
   "id": "13782ad8",
   "metadata": {},
   "source": [
    "Now we can fit an mvSuSiE model to these summary data via the\n",
    "`mvsusie_rss` interface:"
   ]
  },
  {
   "cell_type": "code",
   "execution_count": null,
   "id": "2a4c4a9c",
   "metadata": {},
   "outputs": [],
   "source": [
    "fit_rss <- mvsusie_rss(Z,R,n,\n",
    "                       prior_variance = prior,\n",
    "\t\t\t\t\t   residual_variance = simdata$par$V,\n",
    "\t\t\t\t\t   estimate_prior_variance = TRUE,\n",
    "\t\t\t\t\t   tol = 0.01)"
   ]
  },
  {
   "cell_type": "markdown",
   "id": "94909558",
   "metadata": {},
   "source": [
    "The call to `mvsusie_rss` is very similar to the call to `mvsusie`\n",
    "above, except that the individual-level data are replaced with summary\n",
    "data.\n",
    "\n",
    "When the genotypes are standardized in `mvsusie` (`standardize =\n",
    "TRUE`) and the LD estimates are obtained from the same data that were\n",
    "used to compute the *z*-scores, both `mvsusie` and `mvsusie_rss`\n",
    "should give the same result:"
   ]
  },
  {
   "cell_type": "code",
   "execution_count": null,
   "id": "80dabe10",
   "metadata": {
    "attributes": {
     "classes": [],
     "fig.height": "2.5,",
     "fig.width": "2.5",
     "id": ""
    }
   },
   "outputs": [],
   "source": [
    "pdat <- data.frame(b1     = as.vector(fit$b1),\n",
    "                   b1_rss = as.vector(fit_rss$b1))\n",
    "ggplot(pdat,aes(x = b1,y = b1_rss)) +\n",
    "  geom_point(shape = 20,size = 2,color = \"royalblue\") +\n",
    "  geom_abline(intercept = 0,slope = 1,color = \"black\",linetype = \"dotted\") +\n",
    "  labs(x = \"mvsusie\",y = \"mvsusie_rss\") +\n",
    "  theme_cowplot(font_size = 12)"
   ]
  },
  {
   "cell_type": "markdown",
   "id": "2ae902ed",
   "metadata": {},
   "source": [
    "Of course, the result is not always expected to be the same---for\n",
    "example, when the LD is estimated from an external reference panel.\n",
    "\n",
    "Estimating the residual variance\n",
    "--------------------------------\n",
    "\n",
    "In the above examples, we set the residual variance to the value that\n",
    "was used to simulated the data. In practice of course we will not have\n",
    "access to this so we will have to estimate the residual variance somehow.\n",
    "\n",
    "When one has access to the summary data (specifically, the z-scores)\n",
    "for a large pool of independent SNPs that are expected to have little\n",
    "to no effect on the traits, one can use these z-scores to estimate the\n",
    "residual variance. Here, in this example data set, we do not have\n",
    "access to a large pool of independent \"null SNPs\", but we can still\n",
    "use the data we have available to obtain a rough estimate of the\n",
    "residual variance.  Specifically, we take as the \"null SNPs\" the SNPs\n",
    "in which the z-scores are all less than 2 in magnitude:"
   ]
  },
  {
   "cell_type": "code",
   "execution_count": null,
   "id": "1b045895",
   "metadata": {},
   "outputs": [],
   "source": [
    "Z <- simdata$sumstats$z\n",
    "null_markers <- which(apply(abs(Z),1,max) < 2)\n",
    "length(null_markers)\n",
    "Z <- Z[null_markers,]\n",
    "Vest <- cov(Z)"
   ]
  },
  {
   "cell_type": "markdown",
   "id": "2450ac33",
   "metadata": {},
   "source": [
    "The estimate of the residual covariance matrix using these SNPs is\n",
    "reasonable, although presumably one could do better if we had the\n",
    "z-scores for more SNPs that were not in LD with the causal SNPs:"
   ]
  },
  {
   "cell_type": "code",
   "execution_count": null,
   "id": "a29a352c",
   "metadata": {
    "attributes": {
     "classes": [],
     "fig.height": "2.75,",
     "fig.width": "3",
     "id": ""
    }
   },
   "outputs": [],
   "source": [
    "pdat <- data.frame(true = as.vector(simdata$par$V) + rnorm(400)/30,\n",
    "                   estimated = as.vector(Vest))\n",
    "ggplot(pdat,aes(x = true,y = estimated)) +\n",
    "  geom_point(shape = 20,size = 2.5,color = \"royalblue\") +\n",
    "  geom_abline(intercept = 0,slope = 1,color = \"black\",linetype = \"dotted\") +\n",
    "  theme_cowplot(font_size = 12)"
   ]
  },
  {
   "cell_type": "markdown",
   "id": "1c38adff",
   "metadata": {},
   "source": [
    "[mashr]: https://github.com/stephenslab/mashr\n",
    "[susie-rss]: https://doi.org/10.1371/journal.pgen.1010299"
   ]
  }
 ],
 "metadata": {
  "kernelspec": {
   "display_name": "R",
   "language": "R",
   "name": "ir"
  },
  "language_info": {
   "codemirror_mode": "r",
   "file_extension": ".r",
   "mimetype": "text/x-r-source",
   "name": "R",
   "pygments_lexer": "r",
   "version": "4.2.3"
  }
 },
 "nbformat": 4,
 "nbformat_minor": 5
}
