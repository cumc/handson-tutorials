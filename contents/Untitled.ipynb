{
 "cells": [
  {
   "cell_type": "code",
   "execution_count": 5,
   "id": "c9b733a4-1b4f-4b02-8123-03314b33a47b",
   "metadata": {},
   "outputs": [],
   "source": [
    "import os\n",
    "\n",
    "def process_license_files(start_dir, extra_content_file):\n",
    "    for root, dirs, files in os.walk(start_dir):\n",
    "        for file in files:\n",
    "            if file == \"LICENSE\":\n",
    "                license_path = os.path.join(root, file)\n",
    "                process_and_update_license(license_path, extra_content_file)\n",
    "\n",
    "def process_and_update_license(license_path, extra_content_file):\n",
    "    # Read and modify LICENSE file content\n",
    "    with open(license_path, 'r') as file:\n",
    "        content = file.readlines()\n",
    "    modified_content = ', '.join(line.strip() for line in content)\n",
    "\n",
    "    # Append extra content\n",
    "    with open(extra_content_file, 'r') as file:\n",
    "        extra_content = file.read()\n",
    "    final_content = modified_content + extra_content\n",
    "\n",
    "    # Write the updated content back to the LICENSE file\n",
    "    with open(license_path, 'w') as file:\n",
    "        file.write(final_content)\n",
    "\n",
    "# Example usage:\n",
    "process_license_files('.', '/Users/gw2411/GIT/handson-tutorials/LICENSE')\n"
   ]
  },
  {
   "cell_type": "code",
   "execution_count": 3,
   "id": "79917b6b-850c-40c5-b4f7-85019fff340a",
   "metadata": {},
   "outputs": [],
   "source": []
  },
  {
   "cell_type": "code",
   "execution_count": null,
   "id": "6cdaf2e0-d2c7-4e10-8373-ebc372bebaf3",
   "metadata": {},
   "outputs": [],
   "source": []
  }
 ],
 "metadata": {
  "kernelspec": {
   "display_name": "Python 3 (ipykernel)",
   "language": "python",
   "name": "python3"
  },
  "language_info": {
   "codemirror_mode": {
    "name": "ipython",
    "version": 3
   },
   "file_extension": ".py",
   "mimetype": "text/x-python",
   "name": "python",
   "nbconvert_exporter": "python",
   "pygments_lexer": "ipython3",
   "version": "3.12.2"
  }
 },
 "nbformat": 4,
 "nbformat_minor": 5
}
