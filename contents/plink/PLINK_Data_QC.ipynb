{
 "cells": [
  {
   "cell_type": "markdown",
   "metadata": {
    "kernel": "SoS"
   },
   "source": [
    "# Genome-wide Association Analysis - Data Quality Control"
   ]
  },
  {
   "cell_type": "markdown",
   "metadata": {
    "kernel": "SoS"
   },
   "source": [
    "## Introduction\n",
    "In this exercise, you will learn how to perform data quality control (QC) by removing markers and samples that fail QC quality control criteria. You will also examine your samples for individuals that are related to each other and/or are duplicate samples. Each sample will also be tested for excess homozygosity and heterozygosity of genotype data. Each SNP will be tested for deviations from Hardy-Weinberg Equilibrium. These exercises will be carried out using PLINK1.9 and R."
   ]
  },
  {
   "cell_type": "markdown",
   "metadata": {
    "kernel": "SoS"
   },
   "source": [
    "## 1. Using PLINK\n",
    "PLINK can upload data in different formats please see the PLINK documentation (https://www.cog-genomics.org/plink/1.9/input) for additional details. The data for this exercise is in PLINK/LINKAGE file format. There are two files: a pedfile (`GWAS.ped`) and a map file (`GWAS.map`). Please examine these files and the PLINK documentation. Please note the commands must be given in the directory where the data residues.\n",
    "Navigate via the command prompt to the directory which contains the files for the exercise. Type plink in the command prompt and make note of the output. Next type:"
   ]
  },
  {
   "cell_type": "code",
   "execution_count": 1,
   "metadata": {
    "kernel": "Bash"
   },
   "outputs": [],
   "source": [
    "cd ./Plink_DataQC"
   ]
  },
  {
   "cell_type": "code",
   "execution_count": 2,
   "metadata": {
    "kernel": "Bash"
   },
   "outputs": [
    {
     "name": "stdout",
     "output_type": "stream",
     "text": [
      "PLINK v1.90b6.18 64-bit (16 Jun 2020)          www.cog-genomics.org/plink/1.9/\n",
      "(C) 2005-2020 Shaun Purcell, Christopher Chang   GNU General Public License v3\n",
      "Logging to plink.log.\n",
      "Options in effect:\n",
      "  --file GWAS\n",
      "\n",
      "7960 MB RAM detected; reserving 3980 MB for main workspace.\n",
      ".ped scan complete (for binary autoconversion).4151516161617171818181919202020212122222223232424242525262627272728282929293030313131323233333334343535353636373737383839393940404141414242434343444445454546464747474848494949505051515252525353545454555556565657575858585959606060616162626263636464646565666666676768686869697070707171727272737374747475757676777777787879797980808181818282838383848485858586868787878888898989909091919192929393939494959595969697979798989999100%\n",
      "Performing single-pass .bed write (6424 variants, 248 people).\n",
      "--file: plink.bed + plink.bim + plink.fam written.353637383940414243444546474849505152535455565758596061626364656667686970717273747576777879808182838485868788899091929394%\n"
     ]
    }
   ],
   "source": [
    "plink --file GWAS"
   ]
  },
  {
   "cell_type": "markdown",
   "metadata": {
    "kernel": "SoS"
   },
   "source": [
    "Note, that PLINK outputs a file called plink.log that contains the same output which you see on the screen. To see all options, type `plink --help` for more information. Determine how many samples there are in your data set and fill in Oval 1 of the flowchart below."
   ]
  },
  {
   "cell_type": "markdown",
   "metadata": {
    "kernel": "SoS"
   },
   "source": [
    "## 2. Data Quality Control"
   ]
  },
  {
   "cell_type": "markdown",
   "metadata": {
    "kernel": "SoS"
   },
   "source": [
    "### a. Removing Samples and SNPs with Missing Genotypes.\n",
    "You will exclude samples that are missing more than 10% of their genotype calls. These samples are likely to have been generated using low quality DNA and can also have higher than average genotyping error rates."
   ]
  },
  {
   "cell_type": "code",
   "execution_count": 3,
   "metadata": {
    "kernel": "Bash"
   },
   "outputs": [
    {
     "name": "stdout",
     "output_type": "stream",
     "text": [
      "PLINK v1.90b6.18 64-bit (16 Jun 2020)          www.cog-genomics.org/plink/1.9/\n",
      "(C) 2005-2020 Shaun Purcell, Christopher Chang   GNU General Public License v3\n",
      "Logging to GWAS_clean_mind.log.\n",
      "Options in effect:\n",
      "  --file GWAS\n",
      "  --mind 0.10\n",
      "  --out GWAS_clean_mind\n",
      "  --recode\n",
      "\n",
      "7960 MB RAM detected; reserving 3980 MB for main workspace.\n",
      ".ped scan complete (for binary autoconversion).4151516161617171818181919202020212122222223232424242525262627272728282929293030313131323233333334343535353636373737383839393940404141414242434343444445454546464747474848494949505051515252525353545454555556565657575858585959606060616162626263636464646565666666676768686869697070707171727272737374747475757676777777787879797980808181818282838383848485858586868787878888898989909091919192929393939494959595969697979798989999100%\n",
      "Performing single-pass .bed write (6424 variants, 248 people).\n",
      "--file: GWAS_clean_mind-temporary.bed + GWAS_clean_mind-temporary.bim +546474849505152535455565758596061626364656667686970717273747576777879808182838485868788899091929394%\n",
      "GWAS_clean_mind-temporary.fam written.\n",
      "6424 variants loaded from .bim file.\n",
      "248 people (125 males, 123 females) loaded from .fam.\n",
      "1 person removed due to missing genotype data (--mind).\n",
      "ID written to GWAS_clean_mind.irem .\n",
      "Using 1 thread (no multithreaded calculations invoked).\n",
      "Before main variant filters, 247 founders and 0 nonfounders present.\n",
      "Calculating allele frequencies... 10111213141516171819202122232425262728293031323334353637383940414243444546474849505152535455565758596061626364656667686970717273747576777879808182838485868788899091929394959697989 done.\n",
      "Warning: 6 het. haploid genotypes present (see GWAS_clean_mind.hh ); many\n",
      "commands treat these as missing.\n",
      "Total genotyping rate in remaining samples is 0.996863.\n",
      "6424 variants and 247 people pass filters and QC.\n",
      "Note: No phenotypes present.\n",
      "--recode ped to GWAS_clean_mind.ped + GWAS_clean_mind.map ... 101112131415161718192021222324252627282930313233343536373839404142434445464748495051525354555657585960616263646566676869707172737475767778798081828384858687888990919293949596979899done.\n"
     ]
    }
   ],
   "source": [
    "plink --file GWAS --mind 0.10 --recode --out GWAS_clean_mind"
   ]
  },
  {
   "cell_type": "markdown",
   "metadata": {
    "kernel": "SoS"
   },
   "source": [
    "Examine `GWAS_clean_mind.log` to see how many samples are excluded based on this criterion and fill in Box 1."
   ]
  },
  {
   "cell_type": "markdown",
   "metadata": {
    "kernel": "SoS"
   },
   "source": [
    "Create two versions of your dataset, one with SNPs with a minor allele frequencies (MAFs) >5% and the other with SNPs with a MAFs <5%.\n",
    "\n",
    "You will now remove SNPs with MAFs>5% that are missing >5% of their genotypes and then remove SNPs with MAFs<5% that are missing >1% of their genotypes. SNPs which are missing genotypes can have higher error rates than those SNP markers without missing data."
   ]
  },
  {
   "cell_type": "code",
   "execution_count": 4,
   "metadata": {
    "kernel": "Bash"
   },
   "outputs": [
    {
     "name": "stdout",
     "output_type": "stream",
     "text": [
      "PLINK v1.90b6.18 64-bit (16 Jun 2020)          www.cog-genomics.org/plink/1.9/\n",
      "(C) 2005-2020 Shaun Purcell, Christopher Chang   GNU General Public License v3\n",
      "Logging to MAF_greater_5.log.\n",
      "Options in effect:\n",
      "  --file GWAS_clean_mind\n",
      "  --maf 0.05\n",
      "  --out MAF_greater_5\n",
      "  --recode\n",
      "\n",
      "7960 MB RAM detected; reserving 3980 MB for main workspace.\n",
      ".ped scan complete (for binary autoconversion).41515161617171718181919192020212121222223232324242525252626272727282829292930303131313232333334343435353636363737383838393940404041414242424343444444454546464647474848484949505051515152525353535454555555565657575758585959596060616161626263636364646565656666676768686869697070707171727272737374747475757676767777787878797980808081818282828383848485858586868787878888898989909091919192929393939494959595969697979798989999100%\n",
      "Performing single-pass .bed write (6424 variants, 247 people).\n",
      "--file: MAF_greater_5-temporary.bed + MAF_greater_5-temporary.bim +3444546474849505152535455565758596061626364656667686970717273747576777879808182838485868788899091929394%\n",
      "MAF_greater_5-temporary.fam written.\n",
      "6424 variants loaded from .bim file.\n",
      "247 people (125 males, 122 females) loaded from .fam.\n",
      "Using 1 thread (no multithreaded calculations invoked).\n",
      "Before main variant filters, 247 founders and 0 nonfounders present.\n",
      "Calculating allele frequencies... 10111213141516171819202122232425262728293031323334353637383940414243444546474849505152535455565758596061626364656667686970717273747576777879808182838485868788899091929394959697989 done.\n",
      "Warning: 6 het. haploid genotypes present (see MAF_greater_5.hh ); many\n",
      "commands treat these as missing.\n",
      "Total genotyping rate is 0.996863.\n",
      "556 variants removed due to minor allele threshold(s)\n",
      "(--maf/--max-maf/--mac/--max-mac).\n",
      "5868 variants and 247 people pass filters and QC.\n",
      "Note: No phenotypes present.\n",
      "--recode ped to MAF_greater_5.ped + MAF_greater_5.map ... 101112131415161718192021222324252627282930313233343536373839404142434445464748495051525354555657585960616263646566676869707172737475767778798081828384858687888990919293949596979899done.\n",
      "PLINK v1.90b6.18 64-bit (16 Jun 2020)          www.cog-genomics.org/plink/1.9/\n",
      "(C) 2005-2020 Shaun Purcell, Christopher Chang   GNU General Public License v3\n",
      "Logging to MAF_less_5.log.\n",
      "Options in effect:\n",
      "  --exclude MAF_greater_5.map\n",
      "  --file GWAS_clean_mind\n",
      "  --out MAF_less_5\n",
      "  --recode\n",
      "\n",
      "7960 MB RAM detected; reserving 3980 MB for main workspace.\n",
      ".ped scan complete (for binary autoconversion).41515161617171718181919192020212121222223232324242525252626272727282829292930303131313232333334343435353636363737383838393940404041414242424343444444454546464647474848484949505051515152525353535454555555565657575758585959596060616161626263636364646565656666676768686869697070707171727272737374747475757676767777787878797980808081818282828383848485858586868787878888898989909091919192929393939494959595969697979798989999100%\n",
      "Performing single-pass .bed write (6424 variants, 247 people).\n",
      "--file: MAF_less_5-temporary.bed + MAF_less_5-temporary.bim +0414243444546474849505152535455565758596061626364656667686970717273747576777879808182838485868788899091929394%\n",
      "MAF_less_5-temporary.fam written.\n",
      "6424 variants loaded from .bim file.\n",
      "247 people (125 males, 122 females) loaded from .fam.\n",
      "--exclude: 556 variants remaining.\n",
      "Using 1 thread (no multithreaded calculations invoked).\n",
      "Before main variant filters, 247 founders and 0 nonfounders present.\n",
      "Calculating allele frequencies... 10111213141516171819202122232425262728293031323334353637383940414243444546474849505152535455565758596061626364656667686970717273747576777879808182838485868788899091929394959697989 done.\n",
      "Total genotyping rate is 0.996913.\n",
      "556 variants and 247 people pass filters and QC.\n",
      "Note: No phenotypes present.\n",
      "--recode ped to MAF_less_5.ped + MAF_less_5.map ... 101112131415161718192021222324252627282930313233343536373839404142434445464748495051525354555657585960616263646566676869707172737475767778798081828384858687888990919293949596979899done.\n",
      "PLINK v1.90b6.18 64-bit (16 Jun 2020)          www.cog-genomics.org/plink/1.9/\n",
      "(C) 2005-2020 Shaun Purcell, Christopher Chang   GNU General Public License v3\n",
      "Logging to MAF_greater_5_clean.log.\n",
      "Options in effect:\n",
      "  --file MAF_greater_5\n",
      "  --geno 0.05\n",
      "  --out MAF_greater_5_clean\n",
      "  --recode\n",
      "\n",
      "7960 MB RAM detected; reserving 3980 MB for main workspace.\n",
      ".ped scan complete (for binary autoconversion).41515161617171718181919192020212121222223232324242525252626272727282829292930303131313232333334343435353636363737383838393940404041414242424343444444454546464647474848484949505051515152525353535454555555565657575758585959596060616161626263636364646565656666676768686869697070707171727272737374747475757676767777787878797980808081818282828383848485858586868787878888898989909091919192929393939494959595969697979798989999100%\n",
      "Performing single-pass .bed write (5868 variants, 247 people).\n",
      "--file: MAF_greater_5_clean-temporary.bed + MAF_greater_5_clean-temporary.bim +9505152535455565758596061626364656667686970717273747576777879808182838485868788899091929394%\n",
      "MAF_greater_5_clean-temporary.fam written.\n",
      "5868 variants loaded from .bim file.\n",
      "247 people (125 males, 122 females) loaded from .fam.\n",
      "Using 1 thread (no multithreaded calculations invoked).\n",
      "Before main variant filters, 247 founders and 0 nonfounders present.\n",
      "Calculating allele frequencies... 10111213141516171819202122232425262728293031323334353637383940414243444546474849505152535455565758596061626364656667686970717273747576777879808182838485868788899091929394959697989 done.\n",
      "Warning: 6 het. haploid genotypes present (see MAF_greater_5_clean.hh ); many\n",
      "commands treat these as missing.\n",
      "Total genotyping rate is 0.996858.\n",
      "2 variants removed due to missing genotype data (--geno).\n",
      "5866 variants and 247 people pass filters and QC.\n",
      "Note: No phenotypes present.\n",
      "--recode ped to MAF_greater_5_clean.ped + MAF_greater_5_clean.map ... 101112131415161718192021222324252627282930313233343536373839404142434445464748495051525354555657585960616263646566676869707172737475767778798081828384858687888990919293949596979899done.\n"
     ]
    }
   ],
   "source": [
    "plink --file GWAS_clean_mind --maf 0.05 --recode --out MAF_greater_5\n",
    "plink --file GWAS_clean_mind --exclude MAF_greater_5.map --recode --out MAF_less_5\n",
    "plink --file MAF_greater_5 --geno 0.05 --recode --out MAF_greater_5_clean"
   ]
  },
  {
   "cell_type": "markdown",
   "metadata": {
    "kernel": "SoS",
    "tags": []
   },
   "source": [
    "Fill in Box 2a."
   ]
  },
  {
   "cell_type": "code",
   "execution_count": 5,
   "metadata": {
    "kernel": "Bash",
    "tags": []
   },
   "outputs": [
    {
     "name": "stdout",
     "output_type": "stream",
     "text": [
      "PLINK v1.90b6.18 64-bit (16 Jun 2020)          www.cog-genomics.org/plink/1.9/\n",
      "(C) 2005-2020 Shaun Purcell, Christopher Chang   GNU General Public License v3\n",
      "Logging to MAF_less_5_clean.log.\n",
      "Options in effect:\n",
      "  --file MAF_less_5\n",
      "  --geno 0.01\n",
      "  --out MAF_less_5_clean\n",
      "  --recode\n",
      "\n",
      "7960 MB RAM detected; reserving 3980 MB for main workspace.\n",
      ".ped scan complete (for binary autoconversion).41515161616171718181919192020212121222223232324242525252626272727282829292930303131313232333333343435353636363737383838393940404041414242424343444444454546464647474848484949505050515152525353535454555555565657575758585959596060616161626263636364646565656666676767686869697070707171727272737374747475757676767777787878797980808081818282828383848485858586868787878888898989909091919192929393939494959595969697979798989999100%\n",
      "Performing single-pass .bed write (556 variants, 247 people).\n",
      "--file: MAF_less_5_clean-temporary.bed + MAF_less_5_clean-temporary.bim +6474849505152535455565758596061626364656667686970717273747576777879808182838485868788899091929394%\n",
      "MAF_less_5_clean-temporary.fam written.\n",
      "556 variants loaded from .bim file.\n",
      "247 people (125 males, 122 females) loaded from .fam.\n",
      "Using 1 thread (no multithreaded calculations invoked).\n",
      "Before main variant filters, 247 founders and 0 nonfounders present.\n",
      "Calculating allele frequencies... 10111213141516171819202122232425262728293031323334353637383940414243444546474849505152535455565758596061626364656667686970717273747576777879808182838485868788899091929394959697989 done.\n",
      "Total genotyping rate is 0.996913.\n",
      "59 variants removed due to missing genotype data (--geno).\n",
      "497 variants and 247 people pass filters and QC.\n",
      "Note: No phenotypes present.\n",
      "--recode ped to MAF_less_5_clean.ped + MAF_less_5_clean.map ... 101112131415161718192021222324252627282930313233343536373839404142434445464748495051525354555657585960616263646566676869707172737475767778798081828384858687888990919293949596979899done.\n"
     ]
    }
   ],
   "source": [
    "plink --file MAF_less_5 --geno 0.01 --recode --out MAF_less_5_clean"
   ]
  },
  {
   "cell_type": "markdown",
   "metadata": {
    "kernel": "SoS",
    "tags": []
   },
   "source": [
    "Fill in Box 2b. Merge the two files."
   ]
  },
  {
   "cell_type": "code",
   "execution_count": 6,
   "metadata": {
    "kernel": "Bash",
    "tags": []
   },
   "outputs": [
    {
     "name": "stdout",
     "output_type": "stream",
     "text": [
      "PLINK v1.90b6.18 64-bit (16 Jun 2020)          www.cog-genomics.org/plink/1.9/\n",
      "(C) 2005-2020 Shaun Purcell, Christopher Chang   GNU General Public License v3\n",
      "Logging to GWAS_MAF_clean.log.\n",
      "Options in effect:\n",
      "  --file MAF_greater_5_clean\n",
      "  --merge MAF_less_5_clean.ped MAF_less_5_clean.map\n",
      "  --out GWAS_MAF_clean\n",
      "  --recode\n",
      "\n",
      "7960 MB RAM detected; reserving 3980 MB for main workspace.\n",
      ".ped scan complete (for binary autoconversion).41515161617171718181919192020212121222223232324242525252626272727282829292930303131313232333334343435353636363737383838393940404041414242424343444444454546464647474848484949505051515152525353535454555555565657575758585959596060616161626263636364646565656666676768686869697070707171727272737374747475757676767777787878797980808081818282828383848485858586868787878888898989909091919192929393939494959595969697979798989999100%\n",
      "Performing single-pass .bed write (5866 variants, 247 people).\n",
      "--file: GWAS_MAF_clean-temporary.bed + GWAS_MAF_clean-temporary.bim +44546474849505152535455565758596061626364656667686970717273747576777879808182838485868788899091929394%\n",
      "GWAS_MAF_clean-temporary.fam written.\n",
      "247 people loaded from GWAS_MAF_clean-temporary.fam.\n",
      "247 people to be merged from MAF_less_5_clean.ped.\n",
      "Of these, 0 are new, while 247 are present in the base dataset.\n",
      "5866 markers loaded from GWAS_MAF_clean-temporary.bim.\n",
      "497 markers to be merged from MAF_less_5_clean.map.\n",
      "Of these, 497 are new, while 0 are present in the base dataset.\n",
      "Performing single-pass merge (247 people, 6363 variants).\n",
      "Merged fileset written to GWAS_MAF_clean.bed + GWAS_MAF_clean.bim +\n",
      "GWAS_MAF_clean.fam .\n",
      "6363 variants loaded from .bim file.\n",
      "247 people (125 males, 122 females) loaded from .fam.\n",
      "Using 1 thread (no multithreaded calculations invoked).\n",
      "Before main variant filters, 247 founders and 0 nonfounders present.\n",
      "Calculating allele frequencies... 10111213141516171819202122232425262728293031323334353637383940414243444546474849505152535455565758596061626364656667686970717273747576777879808182838485868788899091929394959697989 done.\n",
      "Warning: 6 het. haploid genotypes present (see GWAS_MAF_clean.hh ); many\n",
      "commands treat these as missing.\n",
      "Total genotyping rate is 0.99716.\n",
      "6363 variants and 247 people pass filters and QC.\n",
      "Note: No phenotypes present.\n",
      "--recode ped to GWAS_MAF_clean.ped + GWAS_MAF_clean.map ... 101112131415161718192021222324252627282930313233343536373839404142434445464748495051525354555657585960616263646566676869707172737475767778798081828384858687888990919293949596979899done.\n"
     ]
    }
   ],
   "source": [
    "plink --file MAF_greater_5_clean --merge MAF_less_5_clean.ped MAF_less_5_clean.map --recode --out GWAS_MAF_clean"
   ]
  },
  {
   "cell_type": "markdown",
   "metadata": {
    "kernel": "SoS",
    "tags": []
   },
   "source": [
    "A more stringent criterion for missing data is used, samples missing >3% of their genotypes are removed."
   ]
  },
  {
   "cell_type": "code",
   "execution_count": 7,
   "metadata": {
    "kernel": "Bash",
    "tags": []
   },
   "outputs": [
    {
     "name": "stdout",
     "output_type": "stream",
     "text": [
      "PLINK v1.90b6.18 64-bit (16 Jun 2020)          www.cog-genomics.org/plink/1.9/\n",
      "(C) 2005-2020 Shaun Purcell, Christopher Chang   GNU General Public License v3\n",
      "Logging to GWAS_clean2.log.\n",
      "Options in effect:\n",
      "  --file GWAS_MAF_clean\n",
      "  --mind 0.03\n",
      "  --out GWAS_clean2\n",
      "  --recode\n",
      "\n",
      "7960 MB RAM detected; reserving 3980 MB for main workspace.\n",
      ".ped scan complete (for binary autoconversion).41515161617171718181919192020212121222223232324242525252626272727282829292930303131313232333334343435353636363737383838393940404041414242424343444444454546464647474848484949505051515152525353535454555555565657575758585959596060616161626263636364646565656666676768686869697070707171727272737374747475757676767777787878797980808081818282828383848485858586868787878888898989909091919192929393939494959595969697979798989999100%\n",
      "Performing single-pass .bed write (6363 variants, 247 people).\n",
      "--file: GWAS_clean2-temporary.bed + GWAS_clean2-temporary.bim +14243444546474849505152535455565758596061626364656667686970717273747576777879808182838485868788899091929394%\n",
      "GWAS_clean2-temporary.fam written.\n",
      "6363 variants loaded from .bim file.\n",
      "247 people (125 males, 122 females) loaded from .fam.\n",
      "0 people removed due to missing genotype data (--mind).\n",
      "Using 1 thread (no multithreaded calculations invoked).\n",
      "Before main variant filters, 247 founders and 0 nonfounders present.\n",
      "Calculating allele frequencies... 10111213141516171819202122232425262728293031323334353637383940414243444546474849505152535455565758596061626364656667686970717273747576777879808182838485868788899091929394959697989 done.\n",
      "Warning: 6 het. haploid genotypes present (see GWAS_clean2.hh ); many commands\n",
      "treat these as missing.\n",
      "Total genotyping rate is 0.99716.\n",
      "6363 variants and 247 people pass filters and QC.\n",
      "Note: No phenotypes present.\n",
      "--recode ped to GWAS_clean2.ped + GWAS_clean2.map ... 101112131415161718192021222324252627282930313233343536373839404142434445464748495051525354555657585960616263646566676869707172737475767778798081828384858687888990919293949596979899done.\n"
     ]
    }
   ],
   "source": [
    "plink --file GWAS_MAF_clean --mind 0.03 --recode --out GWAS_clean2"
   ]
  },
  {
   "cell_type": "markdown",
   "metadata": {
    "kernel": "SoS",
    "tags": []
   },
   "source": [
    "Fill in Box 3."
   ]
  },
  {
   "cell_type": "markdown",
   "metadata": {
    "kernel": "SoS"
   },
   "source": [
    "### b. Checking Sex\n",
    "Error of the reported sex of an individual can occur. Information from the SNP genotypes can be used to verify the sex of individuals, by examining homozygosity (F) on the X chromosome for every individual. F is expected to be <0.2 in females and >0.8 in males. To check sex run"
   ]
  },
  {
   "cell_type": "code",
   "execution_count": 8,
   "metadata": {
    "kernel": "Bash"
   },
   "outputs": [
    {
     "name": "stdout",
     "output_type": "stream",
     "text": [
      "PLINK v1.90b6.18 64-bit (16 Jun 2020)          www.cog-genomics.org/plink/1.9/\n",
      "(C) 2005-2020 Shaun Purcell, Christopher Chang   GNU General Public License v3\n",
      "Logging to GWAS_sex_checking.log.\n",
      "Options in effect:\n",
      "  --check-sex\n",
      "  --file GWAS_clean2\n",
      "  --out GWAS_sex_checking\n",
      "\n",
      "7960 MB RAM detected; reserving 3980 MB for main workspace.\n",
      ".ped scan complete (for binary autoconversion).41515161617171718181919192020212121222223232324242525252626272727282829292930303131313232333334343435353636363737383838393940404041414242424343444444454546464647474848484949505051515152525353535454555555565657575758585959596060616161626263636364646565656666676768686869697070707171727272737374747475757676767777787878797980808081818282828383848485858586868787878888898989909091919192929393939494959595969697979798989999100%\n",
      "Performing single-pass .bed write (6363 variants, 247 people).\n",
      "--file: GWAS_sex_checking-temporary.bed + GWAS_sex_checking-temporary.bim +74849505152535455565758596061626364656667686970717273747576777879808182838485868788899091929394%\n",
      "GWAS_sex_checking-temporary.fam written.\n",
      "6363 variants loaded from .bim file.\n",
      "247 people (125 males, 122 females) loaded from .fam.\n",
      "Using 1 thread (no multithreaded calculations invoked).\n",
      "Before main variant filters, 247 founders and 0 nonfounders present.\n",
      "Calculating allele frequencies... 10111213141516171819202122232425262728293031323334353637383940414243444546474849505152535455565758596061626364656667686970717273747576777879808182838485868788899091929394959697989 done.\n",
      "Warning: 6 het. haploid genotypes present (see GWAS_sex_checking.hh ); many\n",
      "commands treat these as missing.\n",
      "Total genotyping rate is 0.99716.\n",
      "6363 variants and 247 people pass filters and QC.\n",
      "Note: No phenotypes present.\n",
      "--check-sex: 186 Xchr and 0 Ychr variant(s) scanned, 5 problems detected.\n",
      "Report written to GWAS_sex_checking.sexcheck .\n"
     ]
    }
   ],
   "source": [
    "plink --file GWAS_clean2 --check-sex --out GWAS_sex_checking"
   ]
  },
  {
   "cell_type": "markdown",
   "metadata": {
    "kernel": "SoS"
   },
   "source": [
    "Use R to examine the GWAS_sex_checking.sexcheck file and determine if there are individuals whose recorded sex is inconsistent with genetic sex."
   ]
  },
  {
   "cell_type": "code",
   "execution_count": 14,
   "metadata": {
    "kernel": "R"
   },
   "outputs": [],
   "source": [
    "setwd('./Plink_DataQC/')"
   ]
  },
  {
   "cell_type": "code",
   "execution_count": 15,
   "metadata": {
    "kernel": "R",
    "tags": []
   },
   "outputs": [
    {
     "data": {
      "text/html": [
       "<ol class=list-inline>\n",
       "\t<li>'FID'</li>\n",
       "\t<li>'IID'</li>\n",
       "\t<li>'PEDSEX'</li>\n",
       "\t<li>'SNPSEX'</li>\n",
       "\t<li>'STATUS'</li>\n",
       "\t<li>'F'</li>\n",
       "</ol>\n"
      ],
      "text/latex": [
       "\\begin{enumerate*}\n",
       "\\item 'FID'\n",
       "\\item 'IID'\n",
       "\\item 'PEDSEX'\n",
       "\\item 'SNPSEX'\n",
       "\\item 'STATUS'\n",
       "\\item 'F'\n",
       "\\end{enumerate*}\n"
      ],
      "text/markdown": [
       "1. 'FID'\n",
       "2. 'IID'\n",
       "3. 'PEDSEX'\n",
       "4. 'SNPSEX'\n",
       "5. 'STATUS'\n",
       "6. 'F'\n",
       "\n",
       "\n"
      ],
      "text/plain": [
       "[1] \"FID\"    \"IID\"    \"PEDSEX\" \"SNPSEX\" \"STATUS\" \"F\"     "
      ]
     },
     "metadata": {},
     "output_type": "display_data"
    },
    {
     "data": {
      "text/html": [
       "<table>\n",
       "<caption>A data.frame: 5 × 6</caption>\n",
       "<thead>\n",
       "\t<tr><th></th><th scope=col>FID</th><th scope=col>IID</th><th scope=col>PEDSEX</th><th scope=col>SNPSEX</th><th scope=col>STATUS</th><th scope=col>F</th></tr>\n",
       "\t<tr><th></th><th scope=col>&lt;fct&gt;</th><th scope=col>&lt;fct&gt;</th><th scope=col>&lt;int&gt;</th><th scope=col>&lt;int&gt;</th><th scope=col>&lt;fct&gt;</th><th scope=col>&lt;dbl&gt;</th></tr>\n",
       "</thead>\n",
       "<tbody>\n",
       "\t<tr><th scope=row>163</th><td>NA20506</td><td>NA20506</td><td>2</td><td>1</td><td>PROBLEM</td><td>1.0000</td></tr>\n",
       "\t<tr><th scope=row>181</th><td>NA20530</td><td>NA20530</td><td>2</td><td>1</td><td>PROBLEM</td><td>1.0000</td></tr>\n",
       "\t<tr><th scope=row>202</th><td>NA20757</td><td>NA20757</td><td>2</td><td>0</td><td>PROBLEM</td><td>0.2141</td></tr>\n",
       "\t<tr><th scope=row>208</th><td>NA20766</td><td>NA20766</td><td>2</td><td>0</td><td>PROBLEM</td><td>0.2292</td></tr>\n",
       "\t<tr><th scope=row>212</th><td>NA20771</td><td>NA20771</td><td>2</td><td>0</td><td>PROBLEM</td><td>0.2234</td></tr>\n",
       "</tbody>\n",
       "</table>\n"
      ],
      "text/latex": [
       "A data.frame: 5 × 6\n",
       "\\begin{tabular}{r|llllll}\n",
       "  & FID & IID & PEDSEX & SNPSEX & STATUS & F\\\\\n",
       "  & <fct> & <fct> & <int> & <int> & <fct> & <dbl>\\\\\n",
       "\\hline\n",
       "\t163 & NA20506 & NA20506 & 2 & 1 & PROBLEM & 1.0000\\\\\n",
       "\t181 & NA20530 & NA20530 & 2 & 1 & PROBLEM & 1.0000\\\\\n",
       "\t202 & NA20757 & NA20757 & 2 & 0 & PROBLEM & 0.2141\\\\\n",
       "\t208 & NA20766 & NA20766 & 2 & 0 & PROBLEM & 0.2292\\\\\n",
       "\t212 & NA20771 & NA20771 & 2 & 0 & PROBLEM & 0.2234\\\\\n",
       "\\end{tabular}\n"
      ],
      "text/markdown": [
       "\n",
       "A data.frame: 5 × 6\n",
       "\n",
       "| <!--/--> | FID &lt;fct&gt; | IID &lt;fct&gt; | PEDSEX &lt;int&gt; | SNPSEX &lt;int&gt; | STATUS &lt;fct&gt; | F &lt;dbl&gt; |\n",
       "|---|---|---|---|---|---|---|\n",
       "| 163 | NA20506 | NA20506 | 2 | 1 | PROBLEM | 1.0000 |\n",
       "| 181 | NA20530 | NA20530 | 2 | 1 | PROBLEM | 1.0000 |\n",
       "| 202 | NA20757 | NA20757 | 2 | 0 | PROBLEM | 0.2141 |\n",
       "| 208 | NA20766 | NA20766 | 2 | 0 | PROBLEM | 0.2292 |\n",
       "| 212 | NA20771 | NA20771 | 2 | 0 | PROBLEM | 0.2234 |\n",
       "\n"
      ],
      "text/plain": [
       "    FID     IID     PEDSEX SNPSEX STATUS  F     \n",
       "163 NA20506 NA20506 2      1      PROBLEM 1.0000\n",
       "181 NA20530 NA20530 2      1      PROBLEM 1.0000\n",
       "202 NA20757 NA20757 2      0      PROBLEM 0.2141\n",
       "208 NA20766 NA20766 2      0      PROBLEM 0.2292\n",
       "212 NA20771 NA20771 2      0      PROBLEM 0.2234"
      ]
     },
     "metadata": {},
     "output_type": "display_data"
    }
   ],
   "source": [
    "sexcheck = read.table(\"GWAS_sex_checking.sexcheck\", header=T) \n",
    "names(sexcheck)\n",
    "sex_problem = sexcheck[which(sexcheck$STATUS==\"PROBLEM\"),] \n",
    "sex_problem\n",
    "q()"
   ]
  },
  {
   "cell_type": "markdown",
   "metadata": {
    "kernel": "R"
   },
   "source": [
    "NA20530 and NA20506 were coded as a female (2) and from the genotypes appear to be males (1). In addition, 3 individuals (NA20766, NA20771 and NA20757) do not have enough information to determine if they are males or females and PLINK reports sex = 0 for the genotyped sex.Fill in the table below:"
   ]
  },
  {
   "cell_type": "markdown",
   "metadata": {
    "kernel": "SoS"
   },
   "source": [
    "<style>\n",
    "    .StatgenLabel {\n",
    "        font-family: \"Times New Roman\", Times, serif;\n",
    "        font-size: 12pt;\n",
    "        font-weight: bold;\n",
    "    }\n",
    "    .StatgenTable {\n",
    "        font-size: 10pt;\n",
    "        text-align: left;\n",
    "    }\n",
    "    .StatgenTable th {\n",
    "        padding: 0px 7px 0px 7px;\n",
    "    }\n",
    "    .StatgenTable td {\n",
    "        padding: 0px 7px 0px 7px;\n",
    "    }\n",
    "</style>\n",
    "<span class=\"StatgenLabel\">\n",
    "    Table 1: Sex check\n",
    "</span>\n",
    "<table class=\"StatgenTable\">\n",
    "    <tr>\n",
    "        <th width=\"50\">FID</th>\n",
    "        <th width=\"50\">IID</th>\n",
    "        <th width=\"50\">PEDSEX</th>\n",
    "        <th width=\"50\">SNPSEX</th>\n",
    "        <th width=\"90\">STATUS</th>\n",
    "        <th width=\"50\">F</th>\n",
    "    </tr>\n",
    "    <tr>\n",
    "        <td>NA20506</td>\n",
    "        <td>NA20506</td>\n",
    "        <td>&nbsp;</td>\n",
    "        <td>&nbsp;</td>\n",
    "        <td>&nbsp;</td>\n",
    "        <td>&nbsp;</td>\n",
    "    </tr>\n",
    "    <tr>\n",
    "        <td>NA20530</td>\n",
    "        <td>NA20530</td>\n",
    "        <td>&nbsp;</td>\n",
    "        <td>&nbsp;</td>\n",
    "        <td>&nbsp;</td>\n",
    "        <td>&nbsp;</td>\n",
    "    </tr>\n",
    "    <tr>\n",
    "        <td>NA20766</td>\n",
    "        <td>NA20766</td>\n",
    "        <td>&nbsp;</td>\n",
    "        <td>&nbsp;</td>\n",
    "        <td>&nbsp;</td>\n",
    "        <td>&nbsp;</td>\n",
    "    </tr>\n",
    "    <tr>\n",
    "        <td>NA20771</td>\n",
    "        <td>NA20771</td>\n",
    "        <td>&nbsp;</td>\n",
    "        <td>&nbsp;</td>\n",
    "        <td>&nbsp;</td>\n",
    "        <td>&nbsp;</td>\n",
    "    </tr>\n",
    "    <tr>\n",
    "        <td>NA20757</td>\n",
    "        <td>NA20757</td>\n",
    "        <td>&nbsp;</td>\n",
    "        <td>&nbsp;</td>\n",
    "        <td>&nbsp;</td>\n",
    "        <td>&nbsp;</td>\n",
    "    </tr>\n",
    "</table>"
   ]
  },
  {
   "cell_type": "markdown",
   "metadata": {
    "kernel": "R"
   },
   "source": [
    "Reasons for these kinds of discrepancies, include the records are incorrect, incorrect data entry, sample swap, unreported Turner or Klinefelter syndromes. Additionally, if a sufficient number of SNPs have not been genotyped on the X chromosome it can be difficult to accurately predict the sex of an individual. In this dataset, there are only 194 X chromosomal SNPs. If you cannot validate the sex of the individual they should be removed. For this exercise, we are going to assume that when the sex was checked, we found it was incorrectly recorded (i.e. these samples were male). Therefore, this error could simply be corrected."
   ]
  },
  {
   "cell_type": "markdown",
   "metadata": {
    "kernel": "R"
   },
   "source": [
    "### c. Duplicate Samples"
   ]
  },
  {
   "cell_type": "markdown",
   "metadata": {
    "kernel": "R"
   },
   "source": [
    "The following PLINK command can be used to check for duplicate samples"
   ]
  },
  {
   "cell_type": "code",
   "execution_count": 11,
   "metadata": {
    "kernel": "Bash",
    "tags": []
   },
   "outputs": [
    {
     "name": "stdout",
     "output_type": "stream",
     "text": [
      "PLINK v1.90b6.18 64-bit (16 Jun 2020)          www.cog-genomics.org/plink/1.9/\n",
      "(C) 2005-2020 Shaun Purcell, Christopher Chang   GNU General Public License v3\n",
      "Logging to duplicates.log.\n",
      "Options in effect:\n",
      "  --file GWAS_clean2\n",
      "  --genome\n",
      "  --out duplicates\n",
      "\n",
      "7960 MB RAM detected; reserving 3980 MB for main workspace.\n",
      ".ped scan complete (for binary autoconversion).41515161617171718181919192020212121222223232324242525252626272727282829292930303131313232333334343435353636363737383838393940404041414242424343444444454546464647474848484949505051515152525353535454555555565657575758585959596060616161626263636364646565656666676768686869697070707171727272737374747475757676767777787878797980808081818282828383848485858586868787878888898989909091919192929393939494959595969697979798989999100%\n",
      "Performing single-pass .bed write (6363 variants, 247 people).\n",
      "--file: duplicates-temporary.bed + duplicates-temporary.bim +0414243444546474849505152535455565758596061626364656667686970717273747576777879808182838485868788899091929394%\n",
      "duplicates-temporary.fam written.\n",
      "6363 variants loaded from .bim file.\n",
      "247 people (125 males, 122 females) loaded from .fam.\n",
      "Using up to 4 threads (change this with --threads).\n",
      "Before main variant filters, 247 founders and 0 nonfounders present.\n",
      "Calculating allele frequencies... 10111213141516171819202122232425262728293031323334353637383940414243444546474849505152535455565758596061626364656667686970717273747576777879808182838485868788899091929394959697989 done.\n",
      "Warning: 6 het. haploid genotypes present (see duplicates.hh ); many commands\n",
      "treat these as missing.\n",
      "Total genotyping rate is 0.99716.\n",
      "6363 variants and 247 people pass filters and QC.\n",
      "Note: No phenotypes present.\n",
      "Excluding 186 variants on non-autosomes from IBD calculation.\n",
      "IBD calculations complete.  \n",
      "Finished writing duplicates.genome .\n"
     ]
    }
   ],
   "source": [
    "plink --file GWAS_clean2 --genome --out duplicates"
   ]
  },
  {
   "cell_type": "markdown",
   "metadata": {
    "kernel": "R"
   },
   "source": [
    "Open the `duplicates.genome` file in R with the following command:"
   ]
  },
  {
   "cell_type": "code",
   "execution_count": 16,
   "metadata": {
    "kernel": "R"
   },
   "outputs": [],
   "source": [
    "dups = read.table(\"duplicates.genome\", header = T)"
   ]
  },
  {
   "cell_type": "markdown",
   "metadata": {
    "kernel": "R"
   },
   "source": [
    "We are interested in the Pi-Hat (the estimated proportion IBD sharing) value. You may notice that there is more than one duplicate (Pi-Hat=~1). Also, examine the output for pairs of individuals with high Pi-Hat values which can indicate they are related. The amount of allele sharing [Z(0), Z(1) and Z(2)] across all SNPs provides information on the type of relative pair."
   ]
  },
  {
   "cell_type": "code",
   "execution_count": 17,
   "metadata": {
    "kernel": "R"
   },
   "outputs": [
    {
     "data": {
      "text/html": [
       "<table>\n",
       "<caption>A data.frame: 4 × 14</caption>\n",
       "<thead>\n",
       "\t<tr><th></th><th scope=col>FID1</th><th scope=col>IID1</th><th scope=col>FID2</th><th scope=col>IID2</th><th scope=col>RT</th><th scope=col>EZ</th><th scope=col>Z0</th><th scope=col>Z1</th><th scope=col>Z2</th><th scope=col>PI_HAT</th><th scope=col>PHE</th><th scope=col>DST</th><th scope=col>PPC</th><th scope=col>RATIO</th></tr>\n",
       "\t<tr><th></th><th scope=col>&lt;fct&gt;</th><th scope=col>&lt;fct&gt;</th><th scope=col>&lt;fct&gt;</th><th scope=col>&lt;fct&gt;</th><th scope=col>&lt;fct&gt;</th><th scope=col>&lt;int&gt;</th><th scope=col>&lt;dbl&gt;</th><th scope=col>&lt;dbl&gt;</th><th scope=col>&lt;dbl&gt;</th><th scope=col>&lt;dbl&gt;</th><th scope=col>&lt;int&gt;</th><th scope=col>&lt;dbl&gt;</th><th scope=col>&lt;dbl&gt;</th><th scope=col>&lt;dbl&gt;</th></tr>\n",
       "</thead>\n",
       "<tbody>\n",
       "\t<tr><th scope=row>4138</th><td>1344</td><td>NA12057</td><td>13291</td><td>NA25001</td><td>UN</td><td>NA</td><td>0.0000</td><td>0.0025</td><td>0.9975</td><td>0.9988</td><td>-1</td><td>0.999594</td><td>1</td><td> NA</td></tr>\n",
       "\t<tr><th scope=row>15331</th><td>1444</td><td>NA12739</td><td>1444 </td><td>NA12748</td><td>OT</td><td> 0</td><td>0.0026</td><td>0.9949</td><td>0.0025</td><td>0.5000</td><td>-1</td><td>0.835832</td><td>1</td><td>867</td></tr>\n",
       "\t<tr><th scope=row>15332</th><td>1444</td><td>NA12739</td><td>1444 </td><td>NA12749</td><td>OT</td><td> 0</td><td>0.0026</td><td>0.9807</td><td>0.0168</td><td>0.5071</td><td>-1</td><td>0.838175</td><td>1</td><td>869</td></tr>\n",
       "\t<tr><th scope=row>25442</th><td>M033</td><td>NA19774</td><td>M041 </td><td>NA25000</td><td>UN</td><td>NA</td><td>0.0000</td><td>0.0000</td><td>1.0000</td><td>1.0000</td><td>-1</td><td>1.000000</td><td>1</td><td> NA</td></tr>\n",
       "</tbody>\n",
       "</table>\n"
      ],
      "text/latex": [
       "A data.frame: 4 × 14\n",
       "\\begin{tabular}{r|llllllllllllll}\n",
       "  & FID1 & IID1 & FID2 & IID2 & RT & EZ & Z0 & Z1 & Z2 & PI\\_HAT & PHE & DST & PPC & RATIO\\\\\n",
       "  & <fct> & <fct> & <fct> & <fct> & <fct> & <int> & <dbl> & <dbl> & <dbl> & <dbl> & <int> & <dbl> & <dbl> & <dbl>\\\\\n",
       "\\hline\n",
       "\t4138 & 1344 & NA12057 & 13291 & NA25001 & UN & NA & 0.0000 & 0.0025 & 0.9975 & 0.9988 & -1 & 0.999594 & 1 &  NA\\\\\n",
       "\t15331 & 1444 & NA12739 & 1444  & NA12748 & OT &  0 & 0.0026 & 0.9949 & 0.0025 & 0.5000 & -1 & 0.835832 & 1 & 867\\\\\n",
       "\t15332 & 1444 & NA12739 & 1444  & NA12749 & OT &  0 & 0.0026 & 0.9807 & 0.0168 & 0.5071 & -1 & 0.838175 & 1 & 869\\\\\n",
       "\t25442 & M033 & NA19774 & M041  & NA25000 & UN & NA & 0.0000 & 0.0000 & 1.0000 & 1.0000 & -1 & 1.000000 & 1 &  NA\\\\\n",
       "\\end{tabular}\n"
      ],
      "text/markdown": [
       "\n",
       "A data.frame: 4 × 14\n",
       "\n",
       "| <!--/--> | FID1 &lt;fct&gt; | IID1 &lt;fct&gt; | FID2 &lt;fct&gt; | IID2 &lt;fct&gt; | RT &lt;fct&gt; | EZ &lt;int&gt; | Z0 &lt;dbl&gt; | Z1 &lt;dbl&gt; | Z2 &lt;dbl&gt; | PI_HAT &lt;dbl&gt; | PHE &lt;int&gt; | DST &lt;dbl&gt; | PPC &lt;dbl&gt; | RATIO &lt;dbl&gt; |\n",
       "|---|---|---|---|---|---|---|---|---|---|---|---|---|---|---|\n",
       "| 4138 | 1344 | NA12057 | 13291 | NA25001 | UN | NA | 0.0000 | 0.0025 | 0.9975 | 0.9988 | -1 | 0.999594 | 1 |  NA |\n",
       "| 15331 | 1444 | NA12739 | 1444  | NA12748 | OT |  0 | 0.0026 | 0.9949 | 0.0025 | 0.5000 | -1 | 0.835832 | 1 | 867 |\n",
       "| 15332 | 1444 | NA12739 | 1444  | NA12749 | OT |  0 | 0.0026 | 0.9807 | 0.0168 | 0.5071 | -1 | 0.838175 | 1 | 869 |\n",
       "| 25442 | M033 | NA19774 | M041  | NA25000 | UN | NA | 0.0000 | 0.0000 | 1.0000 | 1.0000 | -1 | 1.000000 | 1 |  NA |\n",
       "\n"
      ],
      "text/plain": [
       "      FID1 IID1    FID2  IID2    RT EZ Z0     Z1     Z2     PI_HAT PHE DST     \n",
       "4138  1344 NA12057 13291 NA25001 UN NA 0.0000 0.0025 0.9975 0.9988 -1  0.999594\n",
       "15331 1444 NA12739 1444  NA12748 OT  0 0.0026 0.9949 0.0025 0.5000 -1  0.835832\n",
       "15332 1444 NA12739 1444  NA12749 OT  0 0.0026 0.9807 0.0168 0.5071 -1  0.838175\n",
       "25442 M033 NA19774 M041  NA25000 UN NA 0.0000 0.0000 1.0000 1.0000 -1  1.000000\n",
       "      PPC RATIO\n",
       "4138  1    NA  \n",
       "15331 1   867  \n",
       "15332 1   869  \n",
       "25442 1    NA  "
      ]
     },
     "metadata": {},
     "output_type": "display_data"
    }
   ],
   "source": [
    "problem_pairs = dups[which(dups$PI_HAT > 0.4),] \n",
    "problem_pairs"
   ]
  },
  {
   "cell_type": "markdown",
   "metadata": {
    "kernel": "SoS"
   },
   "source": [
    "<style>\n",
    "    .StatgenLabel {\n",
    "        font-family: \"Times New Roman\", Times, serif;\n",
    "        font-size: 12pt;\n",
    "        font-weight: bold;\n",
    "    }\n",
    "    .StatgenTable {\n",
    "        font-size: 10pt;\n",
    "        text-align: left;\n",
    "    }\n",
    "    .StatgenTable th {\n",
    "        padding: 0px 7px 0px 7px;\n",
    "    }\n",
    "    .StatgenTable td {\n",
    "        padding: 0px 7px 0px 7px;\n",
    "    }\n",
    "</style>\n",
    "<span class=\"StatgenLabel\">\n",
    "    Table 2: Duplicate and Related Individuals\n",
    "</span>\n",
    "<table class=\"StatgenTable\">\n",
    "    <tr>\n",
    "        <th width=\"40\">FID1</th>\n",
    "        <th width=\"50\">IID1</th>\n",
    "        <th width=\"40\">FID2</th>\n",
    "        <th width=\"50\">IID2</th>\n",
    "        <th width=\"70\">Z(0)</th>\n",
    "        <th width=\"70\">Z(0)</th>\n",
    "        <th width=\"70\">Z(0)</th>\n",
    "        <th width=\"70\">PI_HAT</th>\n",
    "    </tr>\n",
    "    <tr>\n",
    "        <td>&nbsp;</td>\n",
    "        <td>&nbsp;</td>\n",
    "        <td>&nbsp;</td>\n",
    "        <td>&nbsp;</td>\n",
    "        <td>&nbsp;</td>\n",
    "        <td>&nbsp;</td>\n",
    "        <td>&nbsp;</td>\n",
    "        <td style=\"background-color:rgba(255, 239, 0, 0.5)\">&nbsp;</td>\n",
    "    </tr>\n",
    "    <tr>\n",
    "        <td>&nbsp;</td>\n",
    "        <td>&nbsp;</td>\n",
    "        <td>&nbsp;</td>\n",
    "        <td>&nbsp;</td>\n",
    "        <td>&nbsp;</td>\n",
    "        <td>&nbsp;</td>\n",
    "        <td>&nbsp;</td>\n",
    "        <td style=\"background-color:rgba(255, 239, 0, 0.5)\">&nbsp;</td>\n",
    "    </tr>\n",
    "    <tr>\n",
    "        <td>&nbsp;</td>\n",
    "        <td>&nbsp;</td>\n",
    "        <td>&nbsp;</td>\n",
    "        <td>&nbsp;</td>\n",
    "        <td>&nbsp;</td>\n",
    "        <td>&nbsp;</td>\n",
    "        <td>&nbsp;</td>\n",
    "        <td style=\"background-color:rgba(255, 239, 0, 0.5)\">&nbsp;</td>\n",
    "    </tr>\n",
    "    <tr>\n",
    "        <td>&nbsp;</td>\n",
    "        <td>&nbsp;</td>\n",
    "        <td>&nbsp;</td>\n",
    "        <td>&nbsp;</td>\n",
    "        <td>&nbsp;</td>\n",
    "        <td>&nbsp;</td>\n",
    "        <td>&nbsp;</td>\n",
    "        <td style=\"background-color:rgba(255, 239, 0, 0.5)\">&nbsp;</td>\n",
    "    </tr>\n",
    "    <tr>\n",
    "        <td colspan=\"8\">\n",
    "            FID1 - Family ID for 1st individual;\n",
    "            ID1 - Individual ID for 1st individual;\n",
    "            FID2 - Family ID for 2nd individual;\n",
    "            ID2 - Individual ID for 2nd individual;\n",
    "            Z(0) - P(IBD=0);\n",
    "            Z(1) - P(IBD+1);\n",
    "            Z(2) - P(IBD=2);\n",
    "            PI_HAT - P(IBD=2)+0.5*P(IBD=1) ( proportion IBD )\n",
    "        </td>\n",
    "    </tr>\n",
    "</table>"
   ]
  },
  {
   "cell_type": "markdown",
   "metadata": {
    "kernel": "R"
   },
   "source": [
    "**Note:** Pi-hat can be inflated and individuals appear to be related to each other if you have samples from different populations. This explains why we observe pairs of individuals with Pi-hat >0.05 since threedistinctpopulationswereanalyzed. Additionally,thisphenomenoncanbeobservedifasubset(s) of samples have higher genotyping/sequencing error rates, which creates two or more “populations” and the individuals within these “populations” incorrectly appear to be related.\n",
    "\n",
    "Using this R script please observe how many sample pairs have pi-hat >0.05:"
   ]
  },
  {
   "cell_type": "code",
   "execution_count": 18,
   "metadata": {
    "kernel": "R"
   },
   "outputs": [
    {
     "data": {
      "text/html": [
       "<table>\n",
       "<caption>A data.frame: 1464 × 5</caption>\n",
       "<thead>\n",
       "\t<tr><th></th><th scope=col>FID1</th><th scope=col>IID1</th><th scope=col>FID2</th><th scope=col>IID2</th><th scope=col>PI_HAT</th></tr>\n",
       "\t<tr><th></th><th scope=col>&lt;fct&gt;</th><th scope=col>&lt;fct&gt;</th><th scope=col>&lt;fct&gt;</th><th scope=col>&lt;fct&gt;</th><th scope=col>&lt;dbl&gt;</th></tr>\n",
       "</thead>\n",
       "<tbody>\n",
       "\t<tr><th scope=row>26</th><td>1328</td><td>NA06984</td><td>1347   </td><td>NA11882</td><td>0.0677</td></tr>\n",
       "\t<tr><th scope=row>83</th><td>1328</td><td>NA06984</td><td>1451   </td><td>NA12776</td><td>0.0546</td></tr>\n",
       "\t<tr><th scope=row>259</th><td>1328</td><td>NA06989</td><td>1341   </td><td>NA06993</td><td>0.0537</td></tr>\n",
       "\t<tr><th scope=row>328</th><td>1328</td><td>NA06989</td><td>1451   </td><td>NA12776</td><td>0.0501</td></tr>\n",
       "\t<tr><th scope=row>344</th><td>1328</td><td>NA06989</td><td>1459   </td><td>NA12875</td><td>0.0525</td></tr>\n",
       "\t<tr><th scope=row>503</th><td>1330</td><td>NA12340</td><td>1341   </td><td>NA06993</td><td>0.0671</td></tr>\n",
       "\t<tr><th scope=row>524</th><td>1330</td><td>NA12340</td><td>1353   </td><td>NA12489</td><td>0.0616</td></tr>\n",
       "\t<tr><th scope=row>557</th><td>1330</td><td>NA12340</td><td>1423   </td><td>NA11918</td><td>0.0530</td></tr>\n",
       "\t<tr><th scope=row>565</th><td>1330</td><td>NA12340</td><td>1444   </td><td>NA12750</td><td>0.0740</td></tr>\n",
       "\t<tr><th scope=row>583</th><td>1330</td><td>NA12340</td><td>1458   </td><td>NA12842</td><td>0.0536</td></tr>\n",
       "\t<tr><th scope=row>589</th><td>1330</td><td>NA12340</td><td>1463   </td><td>NA12889</td><td>0.0543</td></tr>\n",
       "\t<tr><th scope=row>651</th><td>1330</td><td>NA12340</td><td>NA20506</td><td>NA20506</td><td>0.0533</td></tr>\n",
       "\t<tr><th scope=row>669</th><td>1330</td><td>NA12340</td><td>NA20530</td><td>NA20530</td><td>0.0518</td></tr>\n",
       "\t<tr><th scope=row>986</th><td>1330</td><td>NA12343</td><td>1340   </td><td>NA07056</td><td>0.0551</td></tr>\n",
       "\t<tr><th scope=row>987</th><td>1330</td><td>NA12343</td><td>1341   </td><td>NA06985</td><td>0.0658</td></tr>\n",
       "\t<tr><th scope=row>988</th><td>1330</td><td>NA12343</td><td>1341   </td><td>NA06993</td><td>0.0537</td></tr>\n",
       "\t<tr><th scope=row>997</th><td>1330</td><td>NA12343</td><td>1346   </td><td>NA12044</td><td>0.0606</td></tr>\n",
       "\t<tr><th scope=row>1000</th><td>1330</td><td>NA12343</td><td>1347   </td><td>NA11882</td><td>0.0866</td></tr>\n",
       "\t<tr><th scope=row>1004</th><td>1330</td><td>NA12343</td><td>1350   </td><td>NA11829</td><td>0.0577</td></tr>\n",
       "\t<tr><th scope=row>1006</th><td>1330</td><td>NA12343</td><td>1350   </td><td>NA11831</td><td>0.0555</td></tr>\n",
       "\t<tr><th scope=row>1010</th><td>1330</td><td>NA12343</td><td>1353   </td><td>NA12546</td><td>0.0765</td></tr>\n",
       "\t<tr><th scope=row>1014</th><td>1330</td><td>NA12343</td><td>1358   </td><td>NA12716</td><td>0.0568</td></tr>\n",
       "\t<tr><th scope=row>1016</th><td>1330</td><td>NA12343</td><td>1362   </td><td>NA11992</td><td>0.0585</td></tr>\n",
       "\t<tr><th scope=row>1019</th><td>1330</td><td>NA12343</td><td>1362   </td><td>NA11995</td><td>0.0541</td></tr>\n",
       "\t<tr><th scope=row>1023</th><td>1330</td><td>NA12343</td><td>1377   </td><td>NA11892</td><td>0.0578</td></tr>\n",
       "\t<tr><th scope=row>1028</th><td>1330</td><td>NA12343</td><td>1408   </td><td>NA12156</td><td>0.0580</td></tr>\n",
       "\t<tr><th scope=row>1032</th><td>1330</td><td>NA12343</td><td>1418   </td><td>NA12273</td><td>0.0691</td></tr>\n",
       "\t<tr><th scope=row>1037</th><td>1330</td><td>NA12343</td><td>1421   </td><td>NA12282</td><td>0.0613</td></tr>\n",
       "\t<tr><th scope=row>1040</th><td>1330</td><td>NA12343</td><td>1421   </td><td>NA12287</td><td>0.0616</td></tr>\n",
       "\t<tr><th scope=row>1042</th><td>1330</td><td>NA12343</td><td>1423   </td><td>NA11918</td><td>0.0520</td></tr>\n",
       "\t<tr><th scope=row>⋮</th><td>⋮</td><td>⋮</td><td>⋮</td><td>⋮</td><td>⋮</td></tr>\n",
       "\t<tr><th scope=row>29899</th><td>NA20775</td><td>NA20775</td><td>NA20802</td><td>NA20802</td><td>0.0656</td></tr>\n",
       "\t<tr><th scope=row>29907</th><td>NA20775</td><td>NA20775</td><td>NA20810</td><td>NA20810</td><td>0.0501</td></tr>\n",
       "\t<tr><th scope=row>29911</th><td>NA20775</td><td>NA20775</td><td>NA20815</td><td>NA20815</td><td>0.0516</td></tr>\n",
       "\t<tr><th scope=row>29916</th><td>NA20775</td><td>NA20775</td><td>NA20828</td><td>NA20828</td><td>0.0658</td></tr>\n",
       "\t<tr><th scope=row>29935</th><td>NA20778</td><td>NA20778</td><td>NA20808</td><td>NA20808</td><td>0.0561</td></tr>\n",
       "\t<tr><th scope=row>29953</th><td>NA20783</td><td>NA20783</td><td>NA20796</td><td>NA20796</td><td>0.0665</td></tr>\n",
       "\t<tr><th scope=row>29983</th><td>NA20785</td><td>NA20785</td><td>NA20799</td><td>NA20799</td><td>0.0559</td></tr>\n",
       "\t<tr><th scope=row>30017</th><td>NA20786</td><td>NA20786</td><td>NA20806</td><td>NA20806</td><td>0.0579</td></tr>\n",
       "\t<tr><th scope=row>30022</th><td>NA20786</td><td>NA20786</td><td>NA20811</td><td>NA20811</td><td>0.0505</td></tr>\n",
       "\t<tr><th scope=row>30064</th><td>NA20790</td><td>NA20790</td><td>NA20802</td><td>NA20802</td><td>0.0585</td></tr>\n",
       "\t<tr><th scope=row>30105</th><td>NA20792</td><td>NA20792</td><td>NA20828</td><td>NA20828</td><td>0.0717</td></tr>\n",
       "\t<tr><th scope=row>30106</th><td>NA20795</td><td>NA20795</td><td>NA20796</td><td>NA20796</td><td>0.0586</td></tr>\n",
       "\t<tr><th scope=row>30117</th><td>NA20795</td><td>NA20795</td><td>NA20808</td><td>NA20808</td><td>0.0552</td></tr>\n",
       "\t<tr><th scope=row>30125</th><td>NA20795</td><td>NA20795</td><td>NA20818</td><td>NA20818</td><td>0.0654</td></tr>\n",
       "\t<tr><th scope=row>30137</th><td>NA20796</td><td>NA20796</td><td>NA20806</td><td>NA20806</td><td>0.0511</td></tr>\n",
       "\t<tr><th scope=row>30145</th><td>NA20796</td><td>NA20796</td><td>NA20815</td><td>NA20815</td><td>0.0610</td></tr>\n",
       "\t<tr><th scope=row>30147</th><td>NA20796</td><td>NA20796</td><td>NA20818</td><td>NA20818</td><td>0.0629</td></tr>\n",
       "\t<tr><th scope=row>30150</th><td>NA20796</td><td>NA20796</td><td>NA20828</td><td>NA20828</td><td>0.0660</td></tr>\n",
       "\t<tr><th scope=row>30199</th><td>NA20800</td><td>NA20800</td><td>NA20808</td><td>NA20808</td><td>0.0612</td></tr>\n",
       "\t<tr><th scope=row>30211</th><td>NA20801</td><td>NA20801</td><td>NA20802</td><td>NA20802</td><td>0.0838</td></tr>\n",
       "\t<tr><th scope=row>30219</th><td>NA20801</td><td>NA20801</td><td>NA20810</td><td>NA20810</td><td>0.0603</td></tr>\n",
       "\t<tr><th scope=row>30233</th><td>NA20802</td><td>NA20802</td><td>NA20807</td><td>NA20807</td><td>0.0677</td></tr>\n",
       "\t<tr><th scope=row>30236</th><td>NA20802</td><td>NA20802</td><td>NA20810</td><td>NA20810</td><td>0.0523</td></tr>\n",
       "\t<tr><th scope=row>30238</th><td>NA20802</td><td>NA20802</td><td>NA20812</td><td>NA20812</td><td>0.0702</td></tr>\n",
       "\t<tr><th scope=row>30242</th><td>NA20802</td><td>NA20802</td><td>NA20818</td><td>NA20818</td><td>0.0584</td></tr>\n",
       "\t<tr><th scope=row>30245</th><td>NA20802</td><td>NA20802</td><td>NA20828</td><td>NA20828</td><td>0.0620</td></tr>\n",
       "\t<tr><th scope=row>30271</th><td>NA20804</td><td>NA20804</td><td>NA20815</td><td>NA20815</td><td>0.0551</td></tr>\n",
       "\t<tr><th scope=row>30300</th><td>NA20806</td><td>NA20806</td><td>NA20818</td><td>NA20818</td><td>0.0561</td></tr>\n",
       "\t<tr><th scope=row>30319</th><td>NA20808</td><td>NA20808</td><td>NA20812</td><td>NA20812</td><td>0.0532</td></tr>\n",
       "\t<tr><th scope=row>30378</th><td>NA20818</td><td>NA20818</td><td>NA20828</td><td>NA20828</td><td>0.0816</td></tr>\n",
       "</tbody>\n",
       "</table>\n"
      ],
      "text/latex": [
       "A data.frame: 1464 × 5\n",
       "\\begin{tabular}{r|lllll}\n",
       "  & FID1 & IID1 & FID2 & IID2 & PI\\_HAT\\\\\n",
       "  & <fct> & <fct> & <fct> & <fct> & <dbl>\\\\\n",
       "\\hline\n",
       "\t26 & 1328 & NA06984 & 1347    & NA11882 & 0.0677\\\\\n",
       "\t83 & 1328 & NA06984 & 1451    & NA12776 & 0.0546\\\\\n",
       "\t259 & 1328 & NA06989 & 1341    & NA06993 & 0.0537\\\\\n",
       "\t328 & 1328 & NA06989 & 1451    & NA12776 & 0.0501\\\\\n",
       "\t344 & 1328 & NA06989 & 1459    & NA12875 & 0.0525\\\\\n",
       "\t503 & 1330 & NA12340 & 1341    & NA06993 & 0.0671\\\\\n",
       "\t524 & 1330 & NA12340 & 1353    & NA12489 & 0.0616\\\\\n",
       "\t557 & 1330 & NA12340 & 1423    & NA11918 & 0.0530\\\\\n",
       "\t565 & 1330 & NA12340 & 1444    & NA12750 & 0.0740\\\\\n",
       "\t583 & 1330 & NA12340 & 1458    & NA12842 & 0.0536\\\\\n",
       "\t589 & 1330 & NA12340 & 1463    & NA12889 & 0.0543\\\\\n",
       "\t651 & 1330 & NA12340 & NA20506 & NA20506 & 0.0533\\\\\n",
       "\t669 & 1330 & NA12340 & NA20530 & NA20530 & 0.0518\\\\\n",
       "\t986 & 1330 & NA12343 & 1340    & NA07056 & 0.0551\\\\\n",
       "\t987 & 1330 & NA12343 & 1341    & NA06985 & 0.0658\\\\\n",
       "\t988 & 1330 & NA12343 & 1341    & NA06993 & 0.0537\\\\\n",
       "\t997 & 1330 & NA12343 & 1346    & NA12044 & 0.0606\\\\\n",
       "\t1000 & 1330 & NA12343 & 1347    & NA11882 & 0.0866\\\\\n",
       "\t1004 & 1330 & NA12343 & 1350    & NA11829 & 0.0577\\\\\n",
       "\t1006 & 1330 & NA12343 & 1350    & NA11831 & 0.0555\\\\\n",
       "\t1010 & 1330 & NA12343 & 1353    & NA12546 & 0.0765\\\\\n",
       "\t1014 & 1330 & NA12343 & 1358    & NA12716 & 0.0568\\\\\n",
       "\t1016 & 1330 & NA12343 & 1362    & NA11992 & 0.0585\\\\\n",
       "\t1019 & 1330 & NA12343 & 1362    & NA11995 & 0.0541\\\\\n",
       "\t1023 & 1330 & NA12343 & 1377    & NA11892 & 0.0578\\\\\n",
       "\t1028 & 1330 & NA12343 & 1408    & NA12156 & 0.0580\\\\\n",
       "\t1032 & 1330 & NA12343 & 1418    & NA12273 & 0.0691\\\\\n",
       "\t1037 & 1330 & NA12343 & 1421    & NA12282 & 0.0613\\\\\n",
       "\t1040 & 1330 & NA12343 & 1421    & NA12287 & 0.0616\\\\\n",
       "\t1042 & 1330 & NA12343 & 1423    & NA11918 & 0.0520\\\\\n",
       "\t⋮ & ⋮ & ⋮ & ⋮ & ⋮ & ⋮\\\\\n",
       "\t29899 & NA20775 & NA20775 & NA20802 & NA20802 & 0.0656\\\\\n",
       "\t29907 & NA20775 & NA20775 & NA20810 & NA20810 & 0.0501\\\\\n",
       "\t29911 & NA20775 & NA20775 & NA20815 & NA20815 & 0.0516\\\\\n",
       "\t29916 & NA20775 & NA20775 & NA20828 & NA20828 & 0.0658\\\\\n",
       "\t29935 & NA20778 & NA20778 & NA20808 & NA20808 & 0.0561\\\\\n",
       "\t29953 & NA20783 & NA20783 & NA20796 & NA20796 & 0.0665\\\\\n",
       "\t29983 & NA20785 & NA20785 & NA20799 & NA20799 & 0.0559\\\\\n",
       "\t30017 & NA20786 & NA20786 & NA20806 & NA20806 & 0.0579\\\\\n",
       "\t30022 & NA20786 & NA20786 & NA20811 & NA20811 & 0.0505\\\\\n",
       "\t30064 & NA20790 & NA20790 & NA20802 & NA20802 & 0.0585\\\\\n",
       "\t30105 & NA20792 & NA20792 & NA20828 & NA20828 & 0.0717\\\\\n",
       "\t30106 & NA20795 & NA20795 & NA20796 & NA20796 & 0.0586\\\\\n",
       "\t30117 & NA20795 & NA20795 & NA20808 & NA20808 & 0.0552\\\\\n",
       "\t30125 & NA20795 & NA20795 & NA20818 & NA20818 & 0.0654\\\\\n",
       "\t30137 & NA20796 & NA20796 & NA20806 & NA20806 & 0.0511\\\\\n",
       "\t30145 & NA20796 & NA20796 & NA20815 & NA20815 & 0.0610\\\\\n",
       "\t30147 & NA20796 & NA20796 & NA20818 & NA20818 & 0.0629\\\\\n",
       "\t30150 & NA20796 & NA20796 & NA20828 & NA20828 & 0.0660\\\\\n",
       "\t30199 & NA20800 & NA20800 & NA20808 & NA20808 & 0.0612\\\\\n",
       "\t30211 & NA20801 & NA20801 & NA20802 & NA20802 & 0.0838\\\\\n",
       "\t30219 & NA20801 & NA20801 & NA20810 & NA20810 & 0.0603\\\\\n",
       "\t30233 & NA20802 & NA20802 & NA20807 & NA20807 & 0.0677\\\\\n",
       "\t30236 & NA20802 & NA20802 & NA20810 & NA20810 & 0.0523\\\\\n",
       "\t30238 & NA20802 & NA20802 & NA20812 & NA20812 & 0.0702\\\\\n",
       "\t30242 & NA20802 & NA20802 & NA20818 & NA20818 & 0.0584\\\\\n",
       "\t30245 & NA20802 & NA20802 & NA20828 & NA20828 & 0.0620\\\\\n",
       "\t30271 & NA20804 & NA20804 & NA20815 & NA20815 & 0.0551\\\\\n",
       "\t30300 & NA20806 & NA20806 & NA20818 & NA20818 & 0.0561\\\\\n",
       "\t30319 & NA20808 & NA20808 & NA20812 & NA20812 & 0.0532\\\\\n",
       "\t30378 & NA20818 & NA20818 & NA20828 & NA20828 & 0.0816\\\\\n",
       "\\end{tabular}\n"
      ],
      "text/markdown": [
       "\n",
       "A data.frame: 1464 × 5\n",
       "\n",
       "| <!--/--> | FID1 &lt;fct&gt; | IID1 &lt;fct&gt; | FID2 &lt;fct&gt; | IID2 &lt;fct&gt; | PI_HAT &lt;dbl&gt; |\n",
       "|---|---|---|---|---|---|\n",
       "| 26 | 1328 | NA06984 | 1347    | NA11882 | 0.0677 |\n",
       "| 83 | 1328 | NA06984 | 1451    | NA12776 | 0.0546 |\n",
       "| 259 | 1328 | NA06989 | 1341    | NA06993 | 0.0537 |\n",
       "| 328 | 1328 | NA06989 | 1451    | NA12776 | 0.0501 |\n",
       "| 344 | 1328 | NA06989 | 1459    | NA12875 | 0.0525 |\n",
       "| 503 | 1330 | NA12340 | 1341    | NA06993 | 0.0671 |\n",
       "| 524 | 1330 | NA12340 | 1353    | NA12489 | 0.0616 |\n",
       "| 557 | 1330 | NA12340 | 1423    | NA11918 | 0.0530 |\n",
       "| 565 | 1330 | NA12340 | 1444    | NA12750 | 0.0740 |\n",
       "| 583 | 1330 | NA12340 | 1458    | NA12842 | 0.0536 |\n",
       "| 589 | 1330 | NA12340 | 1463    | NA12889 | 0.0543 |\n",
       "| 651 | 1330 | NA12340 | NA20506 | NA20506 | 0.0533 |\n",
       "| 669 | 1330 | NA12340 | NA20530 | NA20530 | 0.0518 |\n",
       "| 986 | 1330 | NA12343 | 1340    | NA07056 | 0.0551 |\n",
       "| 987 | 1330 | NA12343 | 1341    | NA06985 | 0.0658 |\n",
       "| 988 | 1330 | NA12343 | 1341    | NA06993 | 0.0537 |\n",
       "| 997 | 1330 | NA12343 | 1346    | NA12044 | 0.0606 |\n",
       "| 1000 | 1330 | NA12343 | 1347    | NA11882 | 0.0866 |\n",
       "| 1004 | 1330 | NA12343 | 1350    | NA11829 | 0.0577 |\n",
       "| 1006 | 1330 | NA12343 | 1350    | NA11831 | 0.0555 |\n",
       "| 1010 | 1330 | NA12343 | 1353    | NA12546 | 0.0765 |\n",
       "| 1014 | 1330 | NA12343 | 1358    | NA12716 | 0.0568 |\n",
       "| 1016 | 1330 | NA12343 | 1362    | NA11992 | 0.0585 |\n",
       "| 1019 | 1330 | NA12343 | 1362    | NA11995 | 0.0541 |\n",
       "| 1023 | 1330 | NA12343 | 1377    | NA11892 | 0.0578 |\n",
       "| 1028 | 1330 | NA12343 | 1408    | NA12156 | 0.0580 |\n",
       "| 1032 | 1330 | NA12343 | 1418    | NA12273 | 0.0691 |\n",
       "| 1037 | 1330 | NA12343 | 1421    | NA12282 | 0.0613 |\n",
       "| 1040 | 1330 | NA12343 | 1421    | NA12287 | 0.0616 |\n",
       "| 1042 | 1330 | NA12343 | 1423    | NA11918 | 0.0520 |\n",
       "| ⋮ | ⋮ | ⋮ | ⋮ | ⋮ | ⋮ |\n",
       "| 29899 | NA20775 | NA20775 | NA20802 | NA20802 | 0.0656 |\n",
       "| 29907 | NA20775 | NA20775 | NA20810 | NA20810 | 0.0501 |\n",
       "| 29911 | NA20775 | NA20775 | NA20815 | NA20815 | 0.0516 |\n",
       "| 29916 | NA20775 | NA20775 | NA20828 | NA20828 | 0.0658 |\n",
       "| 29935 | NA20778 | NA20778 | NA20808 | NA20808 | 0.0561 |\n",
       "| 29953 | NA20783 | NA20783 | NA20796 | NA20796 | 0.0665 |\n",
       "| 29983 | NA20785 | NA20785 | NA20799 | NA20799 | 0.0559 |\n",
       "| 30017 | NA20786 | NA20786 | NA20806 | NA20806 | 0.0579 |\n",
       "| 30022 | NA20786 | NA20786 | NA20811 | NA20811 | 0.0505 |\n",
       "| 30064 | NA20790 | NA20790 | NA20802 | NA20802 | 0.0585 |\n",
       "| 30105 | NA20792 | NA20792 | NA20828 | NA20828 | 0.0717 |\n",
       "| 30106 | NA20795 | NA20795 | NA20796 | NA20796 | 0.0586 |\n",
       "| 30117 | NA20795 | NA20795 | NA20808 | NA20808 | 0.0552 |\n",
       "| 30125 | NA20795 | NA20795 | NA20818 | NA20818 | 0.0654 |\n",
       "| 30137 | NA20796 | NA20796 | NA20806 | NA20806 | 0.0511 |\n",
       "| 30145 | NA20796 | NA20796 | NA20815 | NA20815 | 0.0610 |\n",
       "| 30147 | NA20796 | NA20796 | NA20818 | NA20818 | 0.0629 |\n",
       "| 30150 | NA20796 | NA20796 | NA20828 | NA20828 | 0.0660 |\n",
       "| 30199 | NA20800 | NA20800 | NA20808 | NA20808 | 0.0612 |\n",
       "| 30211 | NA20801 | NA20801 | NA20802 | NA20802 | 0.0838 |\n",
       "| 30219 | NA20801 | NA20801 | NA20810 | NA20810 | 0.0603 |\n",
       "| 30233 | NA20802 | NA20802 | NA20807 | NA20807 | 0.0677 |\n",
       "| 30236 | NA20802 | NA20802 | NA20810 | NA20810 | 0.0523 |\n",
       "| 30238 | NA20802 | NA20802 | NA20812 | NA20812 | 0.0702 |\n",
       "| 30242 | NA20802 | NA20802 | NA20818 | NA20818 | 0.0584 |\n",
       "| 30245 | NA20802 | NA20802 | NA20828 | NA20828 | 0.0620 |\n",
       "| 30271 | NA20804 | NA20804 | NA20815 | NA20815 | 0.0551 |\n",
       "| 30300 | NA20806 | NA20806 | NA20818 | NA20818 | 0.0561 |\n",
       "| 30319 | NA20808 | NA20808 | NA20812 | NA20812 | 0.0532 |\n",
       "| 30378 | NA20818 | NA20818 | NA20828 | NA20828 | 0.0816 |\n",
       "\n"
      ],
      "text/plain": [
       "      FID1    IID1    FID2    IID2    PI_HAT\n",
       "26    1328    NA06984 1347    NA11882 0.0677\n",
       "83    1328    NA06984 1451    NA12776 0.0546\n",
       "259   1328    NA06989 1341    NA06993 0.0537\n",
       "328   1328    NA06989 1451    NA12776 0.0501\n",
       "344   1328    NA06989 1459    NA12875 0.0525\n",
       "503   1330    NA12340 1341    NA06993 0.0671\n",
       "524   1330    NA12340 1353    NA12489 0.0616\n",
       "557   1330    NA12340 1423    NA11918 0.0530\n",
       "565   1330    NA12340 1444    NA12750 0.0740\n",
       "583   1330    NA12340 1458    NA12842 0.0536\n",
       "589   1330    NA12340 1463    NA12889 0.0543\n",
       "651   1330    NA12340 NA20506 NA20506 0.0533\n",
       "669   1330    NA12340 NA20530 NA20530 0.0518\n",
       "986   1330    NA12343 1340    NA07056 0.0551\n",
       "987   1330    NA12343 1341    NA06985 0.0658\n",
       "988   1330    NA12343 1341    NA06993 0.0537\n",
       "997   1330    NA12343 1346    NA12044 0.0606\n",
       "1000  1330    NA12343 1347    NA11882 0.0866\n",
       "1004  1330    NA12343 1350    NA11829 0.0577\n",
       "1006  1330    NA12343 1350    NA11831 0.0555\n",
       "1010  1330    NA12343 1353    NA12546 0.0765\n",
       "1014  1330    NA12343 1358    NA12716 0.0568\n",
       "1016  1330    NA12343 1362    NA11992 0.0585\n",
       "1019  1330    NA12343 1362    NA11995 0.0541\n",
       "1023  1330    NA12343 1377    NA11892 0.0578\n",
       "1028  1330    NA12343 1408    NA12156 0.0580\n",
       "1032  1330    NA12343 1418    NA12273 0.0691\n",
       "1037  1330    NA12343 1421    NA12282 0.0613\n",
       "1040  1330    NA12343 1421    NA12287 0.0616\n",
       "1042  1330    NA12343 1423    NA11918 0.0520\n",
       "⋮     ⋮       ⋮       ⋮       ⋮       ⋮     \n",
       "29899 NA20775 NA20775 NA20802 NA20802 0.0656\n",
       "29907 NA20775 NA20775 NA20810 NA20810 0.0501\n",
       "29911 NA20775 NA20775 NA20815 NA20815 0.0516\n",
       "29916 NA20775 NA20775 NA20828 NA20828 0.0658\n",
       "29935 NA20778 NA20778 NA20808 NA20808 0.0561\n",
       "29953 NA20783 NA20783 NA20796 NA20796 0.0665\n",
       "29983 NA20785 NA20785 NA20799 NA20799 0.0559\n",
       "30017 NA20786 NA20786 NA20806 NA20806 0.0579\n",
       "30022 NA20786 NA20786 NA20811 NA20811 0.0505\n",
       "30064 NA20790 NA20790 NA20802 NA20802 0.0585\n",
       "30105 NA20792 NA20792 NA20828 NA20828 0.0717\n",
       "30106 NA20795 NA20795 NA20796 NA20796 0.0586\n",
       "30117 NA20795 NA20795 NA20808 NA20808 0.0552\n",
       "30125 NA20795 NA20795 NA20818 NA20818 0.0654\n",
       "30137 NA20796 NA20796 NA20806 NA20806 0.0511\n",
       "30145 NA20796 NA20796 NA20815 NA20815 0.0610\n",
       "30147 NA20796 NA20796 NA20818 NA20818 0.0629\n",
       "30150 NA20796 NA20796 NA20828 NA20828 0.0660\n",
       "30199 NA20800 NA20800 NA20808 NA20808 0.0612\n",
       "30211 NA20801 NA20801 NA20802 NA20802 0.0838\n",
       "30219 NA20801 NA20801 NA20810 NA20810 0.0603\n",
       "30233 NA20802 NA20802 NA20807 NA20807 0.0677\n",
       "30236 NA20802 NA20802 NA20810 NA20810 0.0523\n",
       "30238 NA20802 NA20802 NA20812 NA20812 0.0702\n",
       "30242 NA20802 NA20802 NA20818 NA20818 0.0584\n",
       "30245 NA20802 NA20802 NA20828 NA20828 0.0620\n",
       "30271 NA20804 NA20804 NA20815 NA20815 0.0551\n",
       "30300 NA20806 NA20806 NA20818 NA20818 0.0561\n",
       "30319 NA20808 NA20808 NA20812 NA20812 0.0532\n",
       "30378 NA20818 NA20818 NA20828 NA20828 0.0816"
      ]
     },
     "metadata": {},
     "output_type": "display_data"
    }
   ],
   "source": [
    "problem_pairs = dups[which(dups$PI_HAT > 0.05),] \n",
    "myvars = c(\"FID1\", \"IID1\", \"FID2\", \"IID2\", \"PI_HAT\") \n",
    "problem_pairs[myvars]"
   ]
  },
  {
   "cell_type": "markdown",
   "metadata": {
    "kernel": "R"
   },
   "source": [
    "Create the following txt file:\n",
    "```\n",
    "1344 NA12057\n",
    "1444 NA12739\n",
    "M033 NA19774\n",
    "```"
   ]
  },
  {
   "cell_type": "markdown",
   "metadata": {
    "kernel": "R"
   },
   "source": [
    "name it ‘IBS_excluded.txt’ and save it to the folder with your PLINK data. Give the command:"
   ]
  },
  {
   "cell_type": "code",
   "execution_count": 21,
   "metadata": {
    "kernel": "Python3"
   },
   "outputs": [
    {
     "name": "stdout",
     "output_type": "stream",
     "text": [
      "Writing Plink_DataQC/IBS_excluded.txt\n"
     ]
    }
   ],
   "source": [
    "%%writefile Plink_DataQC/IBS_excluded.txt\n",
    "1344 NA12057\n",
    "1444 NA12739\n",
    "M033 NA19774"
   ]
  },
  {
   "cell_type": "code",
   "execution_count": 22,
   "metadata": {
    "kernel": "Bash"
   },
   "outputs": [
    {
     "name": "stdout",
     "output_type": "stream",
     "text": [
      "PLINK v1.90b6.18 64-bit (16 Jun 2020)          www.cog-genomics.org/plink/1.9/\n",
      "(C) 2005-2020 Shaun Purcell, Christopher Chang   GNU General Public License v3\n",
      "Logging to GWAS_clean3.log.\n",
      "Options in effect:\n",
      "  --file GWAS_clean2\n",
      "  --out GWAS_clean3\n",
      "  --recode\n",
      "  --remove IBS_excluded.txt\n",
      "\n",
      "7960 MB RAM detected; reserving 3980 MB for main workspace.\n",
      ".ped scan complete (for binary autoconversion).41515161617171718181919192020212121222223232324242525252626272727282829292930303131313232333334343435353636363737383838393940404041414242424343444444454546464647474848484949505051515152525353535454555555565657575758585959596060616161626263636364646565656666676768686869697070707171727272737374747475757676767777787878797980808081818282828383848485858586868787878888898989909091919192929393939494959595969697979798989999100%\n",
      "Performing single-pass .bed write (6363 variants, 247 people).\n",
      "--file: GWAS_clean3-temporary.bed + GWAS_clean3-temporary.bim +14243444546474849505152535455565758596061626364656667686970717273747576777879808182838485868788899091929394%\n",
      "GWAS_clean3-temporary.fam written.\n",
      "6363 variants loaded from .bim file.\n",
      "247 people (125 males, 122 females) loaded from .fam.\n",
      "--remove: 244 people remaining.\n",
      "Using 1 thread (no multithreaded calculations invoked).\n",
      "Before main variant filters, 244 founders and 0 nonfounders present.\n",
      "Calculating allele frequencies... 10111213141516171819202122232425262728293031323334353637383940414243444546474849505152535455565758596061626364656667686970717273747576777879808182838485868788899091929394959697989 done.\n",
      "Warning: 6 het. haploid genotypes present (see GWAS_clean3.hh ); many commands\n",
      "treat these as missing.\n",
      "Total genotyping rate in remaining samples is 0.997225.\n",
      "6363 variants and 244 people pass filters and QC.\n",
      "Note: No phenotypes present.\n",
      "--recode ped to GWAS_clean3.ped + GWAS_clean3.map ... 101112131415161718192021222324252627282930313233343536373839404142434445464748495051525354555657585960616263646566676869707172737475767778798081828384858687888990919293949596979899done.\n"
     ]
    }
   ],
   "source": [
    "plink --file GWAS_clean2 --remove IBS_excluded.txt --recode --out GWAS_clean3"
   ]
  },
  {
   "cell_type": "markdown",
   "metadata": {
    "kernel": "R"
   },
   "source": [
    "Fill in Box 4 and Oval 3."
   ]
  },
  {
   "cell_type": "markdown",
   "metadata": {
    "kernel": "R"
   },
   "source": [
    "As part of QC usually the data is examined for outliers by plotting the first and second principal or multidimensional scaling (MDS) components. Using a subset of markers that have been trimmed to remove LD (r2<0.5). Principal components analysis (PCA) and MDS will be performed in the\n",
    "second part of the exercise to detect outliers and control for populations substructure. Outlier can be due to study subjects coming from different populations e.g. European- and African-Americans or batch effects. If it is suspected that outliers are due to study subjects having been sampled from different populations than data from HapMap can be included to elucidate population membership, e.g. for a study of European-Americans if African-American study subjects are included they would cluster between the European and African HapMap samples. If you perform this type of analysis you should remove the HapMap samples and re-estimate the MDS or PC components before adjusting for population substructure or stratification. For this exercise data is used from HapMap Phase III which consists of CEU (Europeans from Utah), MEX (Mexicans from Los Angeles) and TSI (Tuscans from Italy). Three clusters can be observed that consist of the three data sets but no extreme outliers are observed. This data set is being used for demonstration purposes. Different populations should be analyzed separately and the results can be combined using meta-analysis. In part two of this exercise MDS and PC components will be constructed and analyzed."
   ]
  },
  {
   "cell_type": "markdown",
   "metadata": {
    "kernel": "R"
   },
   "source": [
    "### d. Hardy-Weinberg Equilibrium (HWE):\n",
    "To test for HWE we will test separately in each ancestry group and by case-control status. Therefore, we will need to use information on ancestry and cases-control status. Please note that this should be tested in the 3 different populations separately (CEU, MEX, TSI), but due to the small sample sizes, we tested it in the 3 populations together for example purposes. It should also be noted if the sample sizes are small it is difficult to detect a deviation from HWE."
   ]
  },
  {
   "cell_type": "code",
   "execution_count": 24,
   "metadata": {
    "kernel": "Bash"
   },
   "outputs": [
    {
     "name": "stdout",
     "output_type": "stream",
     "text": [
      "PLINK v1.90b6.18 64-bit (16 Jun 2020)          www.cog-genomics.org/plink/1.9/\n",
      "(C) 2005-2020 Shaun Purcell, Christopher Chang   GNU General Public License v3\n",
      "Logging to plink.log.\n",
      "Options in effect:\n",
      "  --file GWAS_clean3\n",
      "  --hardy\n",
      "  --pheno pheno.txt\n",
      "  --pheno-name Aff\n",
      "\n",
      "7960 MB RAM detected; reserving 3980 MB for main workspace.\n",
      ".ped scan complete (for binary autoconversion).51515161617171818181919202020212122222223232424242525262627272728282929293030313131323233333434343535363636373738383839394040404141424243434344444545454646474747484849494950505151525252535354545455555656565757585859595960606161616262636363646465656566666767686868696970707071717272727373747474757576767777777878797979808081818182828383848484858586868687878888888989909090919192929393939494959595969697979798989999100%\n",
      "Performing single-pass .bed write (6363 variants, 244 people).\n",
      "--file: plink-temporary.bed + plink-temporary.bim + plink-temporary.fam546474849505152535455565758596061626364656667686970717273747576777879808182838485868788899091929394%\n",
      "written.\n",
      "6363 variants loaded from .bim file.\n",
      "244 people (123 males, 121 females) loaded from .fam.\n",
      "244 phenotype values present after --pheno.\n",
      "Using 1 thread (no multithreaded calculations invoked).\n",
      "Before main variant filters, 244 founders and 0 nonfounders present.\n",
      "Calculating allele frequencies... 10111213141516171819202122232425262728293031323334353637383940414243444546474849505152535455565758596061626364656667686970717273747576777879808182838485868788899091929394959697989 done.\n",
      "Warning: 6 het. haploid genotypes present (see plink.hh ); many commands treat\n",
      "these as missing.\n",
      "Total genotyping rate is 0.997225.\n",
      "--hardy: Writing Hardy-Weinberg report (founders only) to plink.hwe ... 101112131415161718192021222324252627282930313233343536373839404142434445464748495051525354555657585960616263646566676869707172737475767778798081828384858687888990919293949596979899done.\n"
     ]
    }
   ],
   "source": [
    "plink --file GWAS_clean3 --pheno pheno.txt --pheno-name Aff --hardy"
   ]
  },
  {
   "cell_type": "markdown",
   "metadata": {
    "kernel": "R"
   },
   "source": [
    "Using R examine the file `plink.hwe` and look for SNPs with p-values of 10-7 or smaller."
   ]
  },
  {
   "cell_type": "code",
   "execution_count": 25,
   "metadata": {
    "kernel": "R"
   },
   "outputs": [
    {
     "data": {
      "text/html": [
       "<ol class=list-inline>\n",
       "\t<li>'CHR'</li>\n",
       "\t<li>'SNP'</li>\n",
       "\t<li>'TEST'</li>\n",
       "\t<li>'A1'</li>\n",
       "\t<li>'A2'</li>\n",
       "\t<li>'GENO'</li>\n",
       "\t<li>'O.HET.'</li>\n",
       "\t<li>'E.HET.'</li>\n",
       "\t<li>'P'</li>\n",
       "</ol>\n"
      ],
      "text/latex": [
       "\\begin{enumerate*}\n",
       "\\item 'CHR'\n",
       "\\item 'SNP'\n",
       "\\item 'TEST'\n",
       "\\item 'A1'\n",
       "\\item 'A2'\n",
       "\\item 'GENO'\n",
       "\\item 'O.HET.'\n",
       "\\item 'E.HET.'\n",
       "\\item 'P'\n",
       "\\end{enumerate*}\n"
      ],
      "text/markdown": [
       "1. 'CHR'\n",
       "2. 'SNP'\n",
       "3. 'TEST'\n",
       "4. 'A1'\n",
       "5. 'A2'\n",
       "6. 'GENO'\n",
       "7. 'O.HET.'\n",
       "8. 'E.HET.'\n",
       "9. 'P'\n",
       "\n",
       "\n"
      ],
      "text/plain": [
       "[1] \"CHR\"    \"SNP\"    \"TEST\"   \"A1\"     \"A2\"     \"GENO\"   \"O.HET.\" \"E.HET.\"\n",
       "[9] \"P\"     "
      ]
     },
     "metadata": {},
     "output_type": "display_data"
    },
    {
     "data": {
      "text/html": [
       "<table>\n",
       "<caption>A data.frame: 4 × 9</caption>\n",
       "<thead>\n",
       "\t<tr><th></th><th scope=col>CHR</th><th scope=col>SNP</th><th scope=col>TEST</th><th scope=col>A1</th><th scope=col>A2</th><th scope=col>GENO</th><th scope=col>O.HET.</th><th scope=col>E.HET.</th><th scope=col>P</th></tr>\n",
       "\t<tr><th></th><th scope=col>&lt;int&gt;</th><th scope=col>&lt;fct&gt;</th><th scope=col>&lt;fct&gt;</th><th scope=col>&lt;fct&gt;</th><th scope=col>&lt;fct&gt;</th><th scope=col>&lt;fct&gt;</th><th scope=col>&lt;dbl&gt;</th><th scope=col>&lt;dbl&gt;</th><th scope=col>&lt;dbl&gt;</th></tr>\n",
       "</thead>\n",
       "<tbody>\n",
       "\t<tr><th scope=row>622</th><td>1</td><td>rs2968487 </td><td>ALL  </td><td>T</td><td>C</td><td>0/124/114</td><td>0.5210</td><td>0.3853</td><td>3.877e-10</td></tr>\n",
       "\t<tr><th scope=row>624</th><td>1</td><td>rs2968487 </td><td>UNAFF</td><td>T</td><td>C</td><td>0/83/70  </td><td>0.5425</td><td>0.3953</td><td>2.262e-07</td></tr>\n",
       "\t<tr><th scope=row>787</th><td>1</td><td>rs11239985</td><td>ALL  </td><td>G</td><td>A</td><td>0/111/128</td><td>0.4644</td><td>0.3566</td><td>7.625e-08</td></tr>\n",
       "\t<tr><th scope=row>2386</th><td>2</td><td>rs12988076</td><td>ALL  </td><td>C</td><td>A</td><td>69/82/93 </td><td>0.3361</td><td>0.4952</td><td>6.973e-07</td></tr>\n",
       "</tbody>\n",
       "</table>\n"
      ],
      "text/latex": [
       "A data.frame: 4 × 9\n",
       "\\begin{tabular}{r|lllllllll}\n",
       "  & CHR & SNP & TEST & A1 & A2 & GENO & O.HET. & E.HET. & P\\\\\n",
       "  & <int> & <fct> & <fct> & <fct> & <fct> & <fct> & <dbl> & <dbl> & <dbl>\\\\\n",
       "\\hline\n",
       "\t622 & 1 & rs2968487  & ALL   & T & C & 0/124/114 & 0.5210 & 0.3853 & 3.877e-10\\\\\n",
       "\t624 & 1 & rs2968487  & UNAFF & T & C & 0/83/70   & 0.5425 & 0.3953 & 2.262e-07\\\\\n",
       "\t787 & 1 & rs11239985 & ALL   & G & A & 0/111/128 & 0.4644 & 0.3566 & 7.625e-08\\\\\n",
       "\t2386 & 2 & rs12988076 & ALL   & C & A & 69/82/93  & 0.3361 & 0.4952 & 6.973e-07\\\\\n",
       "\\end{tabular}\n"
      ],
      "text/markdown": [
       "\n",
       "A data.frame: 4 × 9\n",
       "\n",
       "| <!--/--> | CHR &lt;int&gt; | SNP &lt;fct&gt; | TEST &lt;fct&gt; | A1 &lt;fct&gt; | A2 &lt;fct&gt; | GENO &lt;fct&gt; | O.HET. &lt;dbl&gt; | E.HET. &lt;dbl&gt; | P &lt;dbl&gt; |\n",
       "|---|---|---|---|---|---|---|---|---|---|\n",
       "| 622 | 1 | rs2968487  | ALL   | T | C | 0/124/114 | 0.5210 | 0.3853 | 3.877e-10 |\n",
       "| 624 | 1 | rs2968487  | UNAFF | T | C | 0/83/70   | 0.5425 | 0.3953 | 2.262e-07 |\n",
       "| 787 | 1 | rs11239985 | ALL   | G | A | 0/111/128 | 0.4644 | 0.3566 | 7.625e-08 |\n",
       "| 2386 | 2 | rs12988076 | ALL   | C | A | 69/82/93  | 0.3361 | 0.4952 | 6.973e-07 |\n",
       "\n"
      ],
      "text/plain": [
       "     CHR SNP        TEST  A1 A2 GENO      O.HET. E.HET. P        \n",
       "622  1   rs2968487  ALL   T  C  0/124/114 0.5210 0.3853 3.877e-10\n",
       "624  1   rs2968487  UNAFF T  C  0/83/70   0.5425 0.3953 2.262e-07\n",
       "787  1   rs11239985 ALL   G  A  0/111/128 0.4644 0.3566 7.625e-08\n",
       "2386 2   rs12988076 ALL   C  A  69/82/93  0.3361 0.4952 6.973e-07"
      ]
     },
     "metadata": {},
     "output_type": "display_data"
    }
   ],
   "source": [
    "hardy = read.table(\"plink.hwe\", header = T) \n",
    "names(hardy)\n",
    "hwe_prob = hardy[which(hardy$P < 0.0000009),] \n",
    "hwe_prob"
   ]
  },
  {
   "cell_type": "markdown",
   "metadata": {
    "kernel": "R"
   },
   "source": [
    "Using a criterion of p <10-7 to reject the null hypothesis of HWE, how many SNPs fail HWE in the controls? Fill out Oval 5 and Box 4. Using the same criteria, how many SNPs fail HWE in the controls? Complete Table 2 with this information."
   ]
  },
  {
   "cell_type": "markdown",
   "metadata": {
    "kernel": "SoS"
   },
   "source": [
    "<style>\n",
    "    .StatgenLabel {\n",
    "        font-family: \"Times New Roman\", Times, serif;\n",
    "        font-size: 12pt;\n",
    "        font-weight: bold;\n",
    "    }\n",
    "    .StatgenTable {\n",
    "        font-size: 10pt;\n",
    "        text-align: left;\n",
    "    }\n",
    "    .StatgenTable th {\n",
    "        padding: 0px 7px 0px 7px;\n",
    "    }\n",
    "    .StatgenTable td {\n",
    "        padding: 0px 0px 0px 0px;\n",
    "    }\n",
    "</style>\n",
    "\n",
    "<span class=\"StatgenLabel\">\n",
    "    Table 3: Hardy-Weinberg Equilibrium\n",
    "</span>\n",
    "<table class=\"StatgenTable\">\n",
    "    <tr>\n",
    "        <th colspan=\"3\">Cases</th>\n",
    "        <th colspan=\"3\">Controls</th>\n",
    "    </tr>\n",
    "    <tr>\n",
    "        <th style=\"width:40px;\">SNP</td>\n",
    "        <th style=\"width:100px;\">Pvalue</td>\n",
    "        <th style=\"width:90px;\">Population(s)</td>\n",
    "        <th style=\"width:100px;\">SNP</td>\n",
    "        <th style=\"width:100px;\">Population(s)</td>\n",
    "        <th style=\"width:120px;\">Pvalue</td>\n",
    "    </tr>\n",
    "    <tr>\n",
    "        <td>&nbsp;</td>\n",
    "        <td>&nbsp;</td>\n",
    "        <td>&nbsp;</td>\n",
    "        <td>&nbsp;</td>\n",
    "        <td>&nbsp;</td>\n",
    "        <td>&nbsp;</td>\n",
    "    </tr>\n",
    "</table>"
   ]
  },
  {
   "cell_type": "markdown",
   "metadata": {
    "kernel": "R"
   },
   "source": [
    "Create a text file called HWE_out.txt with the following SNP in it:\n",
    "```\n",
    "rs2968487\n",
    "```\n",
    "and type the following command:"
   ]
  },
  {
   "cell_type": "code",
   "execution_count": 26,
   "metadata": {
    "kernel": "Python3"
   },
   "outputs": [
    {
     "name": "stdout",
     "output_type": "stream",
     "text": [
      "Writing Plink_DataQC/HWE_out.txt\n"
     ]
    }
   ],
   "source": [
    "%%writefile Plink_DataQC/HWE_out.txt\n",
    "rs2968487"
   ]
  },
  {
   "cell_type": "code",
   "execution_count": 28,
   "metadata": {
    "kernel": "Bash"
   },
   "outputs": [
    {
     "name": "stdout",
     "output_type": "stream",
     "text": [
      "PLINK v1.90b6.18 64-bit (16 Jun 2020)          www.cog-genomics.org/plink/1.9/\n",
      "(C) 2005-2020 Shaun Purcell, Christopher Chang   GNU General Public License v3\n",
      "Logging to GWAS_clean4.log.\n",
      "Options in effect:\n",
      "  --exclude HWE_out.txt\n",
      "  --file GWAS_clean3\n",
      "  --out GWAS_clean4\n",
      "  --recode\n",
      "\n",
      "7960 MB RAM detected; reserving 3980 MB for main workspace.\n",
      ".ped scan complete (for binary autoconversion).51515161617171818181919202020212122222223232424242525262627272728282929293030313131323233333434343535363636373738383839394040404141424243434344444545454646474747484849494950505151525252535354545455555656565757585859595960606161616262636363646465656566666767686868696970707071717272727373747474757576767777777878797979808081818182828383848484858586868687878888888989909090919192929393939494959595969697979798989999100%\n",
      "Performing single-pass .bed write (6363 variants, 244 people).\n",
      "--file: GWAS_clean4-temporary.bed + GWAS_clean4-temporary.bim +14243444546474849505152535455565758596061626364656667686970717273747576777879808182838485868788899091929394%\n",
      "GWAS_clean4-temporary.fam written.\n",
      "6363 variants loaded from .bim file.\n",
      "244 people (123 males, 121 females) loaded from .fam.\n",
      "--exclude: 6362 variants remaining.\n",
      "Using 1 thread (no multithreaded calculations invoked).\n",
      "Before main variant filters, 244 founders and 0 nonfounders present.\n",
      "Calculating allele frequencies... 10111213141516171819202122232425262728293031323334353637383940414243444546474849505152535455565758596061626364656667686970717273747576777879808182838485868788899091929394959697989 done.\n",
      "Warning: 6 het. haploid genotypes present (see GWAS_clean4.hh ); many commands\n",
      "treat these as missing.\n",
      "Total genotyping rate is 0.997229.\n",
      "6362 variants and 244 people pass filters and QC.\n",
      "Note: No phenotypes present.\n",
      "--recode ped to GWAS_clean4.ped + GWAS_clean4.map ... 101112131415161718192021222324252627282930313233343536373839404142434445464748495051525354555657585960616263646566676869707172737475767778798081828384858687888990919293949596979899done.\n"
     ]
    }
   ],
   "source": [
    "plink --file GWAS_clean3 --exclude HWE_out.txt --recode --out GWAS_clean4"
   ]
  },
  {
   "cell_type": "markdown",
   "metadata": {
    "kernel": "R"
   },
   "source": [
    "There are a number of SNPs with HWE p-values in the range of 10-5 to 10-6 in the controls. Based on above criterion they will not be excluded however, if they reach genome-wide significance during association testing they SNPs should be further investigated to ensure there is no genotyping error. You can now fill in Box 5 and Oval 4."
   ]
  },
  {
   "cell_type": "markdown",
   "metadata": {
    "kernel": "R"
   },
   "source": [
    "![](data:image/png;base64,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)"
   ]
  },
  {
   "cell_type": "markdown",
   "metadata": {
    "kernel": "R"
   },
   "source": [
    "## 3. Questions"
   ]
  },
  {
   "cell_type": "markdown",
   "metadata": {
    "kernel": "R"
   },
   "source": [
    "**Question 1:** Why do you expect the homozygosity rate to be higher on the X chromosome in males than females?"
   ]
  },
  {
   "cell_type": "markdown",
   "metadata": {
    "kernel": "R"
   },
   "source": [
    "**Question 2:** How many duplicate pairs do your find (hint: Pi-Hat = ~1)? Do pairs with a Pi-Hat = ~1 have to be duplicate samples? What is another explanation? What proportion would you expect a parent/ child to share IBD? Can you find any such relationship?"
   ]
  },
  {
   "cell_type": "markdown",
   "metadata": {
    "kernel": "R"
   },
   "source": [
    "## 4. Answers"
   ]
  },
  {
   "cell_type": "markdown",
   "metadata": {
    "kernel": "R"
   },
   "source": [
    "**Answer 1:** Because males only have one allele for each SNP on the X chromosome they\n",
    "  will appear homozygous."
   ]
  },
  {
   "cell_type": "markdown",
   "metadata": {
    "kernel": "SoS"
   },
   "source": [
    "<style>\n",
    "    .StatgenLabel {\n",
    "        font-family: \"Times New Roman\", Times, serif;\n",
    "        font-size: 12pt;\n",
    "        font-weight: bold;\n",
    "    }\n",
    "    .StatgenTable {\n",
    "        font-size: 10pt;\n",
    "        text-align: left;\n",
    "    }\n",
    "    .StatgenTable th {\n",
    "        padding: 0px 7px 0px 7px;\n",
    "    }\n",
    "    .StatgenTable td {\n",
    "        padding: 0px 7px 0px 7px;\n",
    "    }\n",
    "</style>\n",
    "<span class=\"StatgenLabel\">\n",
    "    Table 1: Sex check\n",
    "</span>\n",
    "<table class=\"StatgenTable\">\n",
    "    <tr>\n",
    "        <th width=\"50\">FID</th>\n",
    "        <th width=\"50\">IID</th>\n",
    "        <th width=\"50\">PEDSEX</th>\n",
    "        <th width=\"50\">SNPSEX</th>\n",
    "        <th width=\"90\">STATUS</th>\n",
    "        <th width=\"50\">F</th>\n",
    "    </tr>\n",
    "    <tr>\n",
    "        <td>NA20506</td>\n",
    "        <td>NA20506</td>\n",
    "        <td>2</td>\n",
    "        <td>1</td>\n",
    "        <td>PROBLEM</td>\n",
    "        <td>1</td>\n",
    "    </tr>\n",
    "    <tr>\n",
    "        <td>NA20530</td>\n",
    "        <td>NA20530</td>\n",
    "        <td>2</td>\n",
    "        <td>1</td>\n",
    "        <td>PROBLEM</td>\n",
    "        <td>1</td>\n",
    "    </tr>\n",
    "    <tr>\n",
    "        <td>NA20766</td>\n",
    "        <td>NA20766</td>\n",
    "        <td>2</td>\n",
    "        <td>0</td>\n",
    "        <td>PROBLEM</td>\n",
    "        <td>0.2292</td>\n",
    "    </tr>\n",
    "    <tr>\n",
    "        <td>NA20771</td>\n",
    "        <td>NA20771</td>\n",
    "        <td>2</td>\n",
    "        <td>0</td>\n",
    "        <td>PROBLEM</td>\n",
    "        <td>0.2234</td>\n",
    "    </tr>\n",
    "    <tr>\n",
    "        <td>NA20757</td>\n",
    "        <td>NA20757</td>\n",
    "        <td>2</td>\n",
    "        <td>0</td>\n",
    "        <td>PROBLEM</td>\n",
    "        <td>0.2141</td>\n",
    "    </tr>\n",
    "</table>"
   ]
  },
  {
   "cell_type": "markdown",
   "metadata": {
    "kernel": "SoS"
   },
   "source": [
    "<style>\n",
    "    .StatgenLabel {\n",
    "        font-family: \"Times New Roman\", Times, serif;\n",
    "        font-size: 12pt;\n",
    "        font-weight: bold;\n",
    "    }\n",
    "    .StatgenTable {\n",
    "        font-size: 10pt;\n",
    "        text-align: left;\n",
    "    }\n",
    "    .StatgenTable th {\n",
    "        padding: 0px 7px 0px 7px;\n",
    "    }\n",
    "    .StatgenTable td {\n",
    "        padding: 0px 7px 0px 7px;\n",
    "    }\n",
    "</style>\n",
    "<span class=\"StatgenLabel\">\n",
    "    Table 2: Duplicate and Related Individuals\n",
    "</span>\n",
    "<table class=\"StatgenTable\">\n",
    "    <tr>\n",
    "        <th width=\"40\">FID1</th>\n",
    "        <th width=\"50\">IID1</th>\n",
    "        <th width=\"40\">FID2</th>\n",
    "        <th width=\"50\">IID2</th>\n",
    "        <th width=\"70\">Z(0)</th>\n",
    "        <th width=\"70\">Z(0)</th>\n",
    "        <th width=\"70\">Z(0)</th>\n",
    "        <th width=\"70\">PI_HAT</th>\n",
    "    </tr>\n",
    "    <tr>\n",
    "        <td>M033</td>\n",
    "        <td>NA19774</td>\n",
    "        <td>M041</td>\n",
    "        <td>NA25000</td>\n",
    "        <td>0.0000</td>\n",
    "        <td>0.0000</td>\n",
    "        <td>1.0000</td>\n",
    "        <td style=\"background-color:rgba(255, 239, 0, 0.5)\">1.00</td>\n",
    "    </tr>\n",
    "    <tr>\n",
    "        <td>1344</td>\n",
    "        <td>NA12057</td>\n",
    "        <td>13291</td>\n",
    "        <td>NA25001</td>\n",
    "        <td>0.0000</td>\n",
    "        <td>0.0025</td>\n",
    "        <td>0.9975</td>\n",
    "        <td style=\"background-color:rgba(255, 239, 0, 0.5)\">1.00</td>\n",
    "    </tr>\n",
    "    <tr>\n",
    "        <td>1444</td>\n",
    "        <td>NA12739</td>\n",
    "        <td>1444</td>\n",
    "        <td>NA12849</td>\n",
    "        <td>0.0026</td>\n",
    "        <td>0.9807</td>\n",
    "        <td>0.0168</td>\n",
    "        <td style=\"background-color:rgba(255, 239, 0, 0.5)\">0.51</td>\n",
    "    </tr>\n",
    "    <tr>\n",
    "        <td>1444</td>\n",
    "        <td>NA12739</td>\n",
    "        <td>1444</td>\n",
    "        <td>NA12748</td>\n",
    "        <td>0.0026</td>\n",
    "        <td>0.9949</td>\n",
    "        <td>0.0025</td>\n",
    "        <td style=\"background-color:rgba(255, 239, 0, 0.5)\">0.50</td>\n",
    "    </tr>\n",
    "    <tr>\n",
    "        <td colspan=\"8\">\n",
    "            FID1 - Family ID for 1st individual;\n",
    "            ID1 - Individual ID for 1st individual;\n",
    "            FID2 - Family ID for 2nd individual;\n",
    "            ID2 - Individual ID for 2nd individual;\n",
    "            Z(0) - P(IBD=0);\n",
    "            Z(1) - P(IBD+1);\n",
    "            Z(2) - P(IBD=2);\n",
    "            PI_HAT - P(IBD=2)+0.5*P(IBD=1) ( proportion IBD )\n",
    "        </td>\n",
    "    </tr>\n",
    "</table>"
   ]
  },
  {
   "cell_type": "markdown",
   "metadata": {
    "kernel": "R"
   },
   "source": [
    "**Answer 2:** There are two duplicate pairs and also a trio (two parents and a child). Parent/child relationships will have a Pi_Hat value of ~0.5, but so will sibpairs. We can tell that this is a parent child relationship by examine Z(0), Z(1) and Z(2). We will retain only one sample from each duplicate pair and the parents NA12749 and NA12748. If you perform mixed-model analysis related individuals can be retained in the sample."
   ]
  },
  {
   "cell_type": "markdown",
   "metadata": {
    "kernel": "SoS"
   },
   "source": [
    "<style>\n",
    "    .StatgenLabel {\n",
    "        font-family: \"Times New Roman\", Times, serif;\n",
    "        font-size: 12pt;\n",
    "        font-weight: bold;\n",
    "    }\n",
    "    .StatgenTable {\n",
    "        font-size: 10pt;\n",
    "        text-align: left;\n",
    "    }\n",
    "    .StatgenTable th {\n",
    "        padding: 0px 7px 0px 7px;\n",
    "    }\n",
    "    .StatgenTable td {\n",
    "        padding: 0px 7px 0px 7px;\n",
    "    }\n",
    "</style>\n",
    "\n",
    "<span class=\"StatgenLabel\">\n",
    "    Table 3: Hardy-Weinberg Equilibrium\n",
    "</span>\n",
    "<table class=\"StatgenTable\">\n",
    "    <tr>\n",
    "        <th colspan=\"2\">Fail Cases</th>\n",
    "        <th colspan=\"2\">Fail Controls</th>\n",
    "    </tr>\n",
    "    <tr>\n",
    "        <th style=\"width:40px;\">SNP</td>\n",
    "        <th style=\"width:50px;\">pvalue</td>\n",
    "        <th style=\"width:60px;\">SNP</td>\n",
    "        <th style=\"width:80px;\">pvalue</td>\n",
    "    </tr>\n",
    "    <tr>\n",
    "        <td>None</td>\n",
    "        <td>&nbsp;</td>\n",
    "        <td>rs2968487</td>\n",
    "        <td style=\"font-family:Courier,fixed\">2.262e-007</td>\n",
    "    </tr>\n",
    "</table>"
   ]
  },
  {
   "cell_type": "markdown",
   "metadata": {
    "kernel": "SoS"
   },
   "source": [
    "![](data:image/png;base64,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)"
   ]
  }
 ],
 "metadata": {
  "kernelspec": {
   "display_name": "SoS",
   "language": "sos",
   "name": "sos"
  },
  "language_info": {
   "codemirror_mode": "sos",
   "file_extension": ".sos",
   "mimetype": "text/x-sos",
   "name": "sos",
   "nbconvert_exporter": "sos_notebook.converter.SoS_Exporter",
   "pygments_lexer": "sos"
  },
  "sos": {
   "kernels": [
    [
     "Bash",
     "bash",
     "Bash",
     "#E6EEFF",
     "shell"
    ],
    [
     "Python3",
     "python3",
     "Python3",
     "#FFD91A",
     {
      "name": "ipython",
      "version": 3
     }
    ],
    [
     "R",
     "ir",
     "R",
     "#DCDCDA",
     "r"
    ]
   ],
   "version": "0.24.3"
  }
 },
 "nbformat": 4,
 "nbformat_minor": 4
}
