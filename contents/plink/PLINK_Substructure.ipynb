{
 "cells": [
  {
   "cell_type": "markdown",
   "metadata": {
    "kernel": "SoS"
   },
   "source": [
    "# Genome-Wide Association Exercise Association Analysis Controlling for Population Substructure"
   ]
  },
  {
   "cell_type": "markdown",
   "metadata": {
    "kernel": "SoS"
   },
   "source": [
    "## 1. Population Stratification and Association Testing"
   ]
  },
  {
   "cell_type": "markdown",
   "metadata": {
    "kernel": "SoS"
   },
   "source": [
    "The dataset from part I of this exercise which you performed data quality control (QC) on was obtained from HapMap Phase III data. It contains CEU founders (Caucasians from Utah), MEX founders (Mexicans from Los Angeles) and TSI (Tuscans from Italy). The CEU pedigree identifiers begin with only numbers e.g., 1347, the MEX pedigree identifies all start with M e.g., M017 and the TSI pedigree identifiers all start with NA e.g., NA0217. Before we start testing for association, we want to know if there are outliers. Even after removing the outliers when association analysis is performed population substructure and admixture may need to be controlled. If not, we risk observing an association, which is due to a difference in genotype frequencies in cases and controls, because of population substructure/admixture and not because of linkage disequilibrium (LD) between tagSNP(s) and the functional variant(s). We are going to use multidimensional scaling (MDS) and principal components analysis (PCA) within the PLINK software to generate 10 components. \n",
    "\n",
    "**Disclaimer: You usually should not analyze data from European-Americans, Mexican- Americans and Italians together even if you control for population stratification. They can be analyzed separately, and the data combined using meta-analysis.**\n",
    "\n",
    "**Note:** For a GWAS study instead of this toy study, you will have a denser set of markers of which some will be in LD. You should first prune your SNPs to obtain a subset in linkage equilibrium/weak LD (R2<0.5) prior to performing MDS or PCA analysis on the data. Although for association analysis is performed on the entire data set will be analyzed only this a subset of SNPs which are not in LD will be used to construct PCA and MDS components. For more information on how to do this in PLINK see https://www.cog-genomics.org/plink/1.9/ld."
   ]
  },
  {
   "cell_type": "code",
   "execution_count": 1,
   "metadata": {
    "kernel": "Bash"
   },
   "outputs": [],
   "source": [
    "cd ./Plink_substructure"
   ]
  },
  {
   "cell_type": "code",
   "execution_count": 2,
   "metadata": {
    "kernel": "Bash"
   },
   "outputs": [
    {
     "name": "stdout",
     "output_type": "stream",
     "text": [
      "PLINK v1.90b6.18 64-bit (16 Jun 2020)          www.cog-genomics.org/plink/1.9/\n",
      "(C) 2005-2020 Shaun Purcell, Christopher Chang   GNU General Public License v3\n",
      "Logging to plink.log.\n",
      "Options in effect:\n",
      "  --cluster\n",
      "  --file GWAS_clean4\n",
      "  --genome\n",
      "  --mds-plot 10\n",
      "\n",
      "7960 MB RAM detected; reserving 3980 MB for main workspace.\n",
      ".ped scan complete (for binary autoconversion).51515161617171818181919202020212122222223232424242525262627272728282929293030313131323233333434343535363636373738383839394040404141424243434344444545454646474747484849494950505151525252535354545455555656565757585859595960606161616262636363646465656566666767686868696970707071717272727373747474757576767777777878797979808081818182828383848484858586868687878888888989909090919192929393939494959595969697979798989999100%\n",
      "Performing single-pass .bed write (6362 variants, 244 people).\n",
      "--file: plink-temporary.bed + plink-temporary.bim + plink-temporary.fam546474849505152535455565758596061626364656667686970717273747576777879808182838485868788899091929394%\n",
      "written.\n",
      "6362 variants loaded from .bim file.\n",
      "244 people (123 males, 121 females) loaded from .fam.\n",
      "Using up to 4 threads (change this with --threads).\n",
      "Before main variant filters, 244 founders and 0 nonfounders present.\n",
      "Calculating allele frequencies... 10111213141516171819202122232425262728293031323334353637383940414243444546474849505152535455565758596061626364656667686970717273747576777879808182838485868788899091929394959697989 done.\n",
      "Warning: 6 het. haploid genotypes present (see plink.hh ); many commands treat\n",
      "these as missing.\n",
      "Total genotyping rate is 0.997229.\n",
      "6362 variants and 244 people pass filters and QC.\n",
      "Note: No phenotypes present.\n",
      "Excluding 186 variants on non-autosomes from IBD calculation.\n",
      "IBD calculations complete.  \n",
      "Finished writing plink.genome .\n",
      "Clustering... done.                        \n",
      "Cluster solution written to plink.cluster1 , plink.cluster2 , and82930313233343536373839404142434445464748495051525354555657585960616263646566676869707172737475767778798081828384858687888990919293949596979899100%\n",
      "plink.cluster3 .\n",
      "Performing multidimensional scaling analysis (SVD algorithm, 10\n",
      "dimensions)... done.\n",
      "MDS solution written to plink.mds .\n"
     ]
    }
   ],
   "source": [
    "plink --file GWAS_clean4 --genome --cluster --mds-plot 10"
   ]
  },
  {
   "cell_type": "markdown",
   "metadata": {
    "kernel": "SoS"
   },
   "source": [
    "This command outputs the file `plink.mds` that contains the subject IDs and values for the 10 components we just generated. There is another file in your folder called `mds_components.txt`. This file is identical to your `plink.mds` file with the exception that a group column which codes CEU individuals as 1, MEX individuals as 2 and TSI individuals as 3. This is done so when we plot the MDS components in R you can see which group the points belong to and judge how well does the data cluster, e.g., are there outliers. The following commands will generate a jpeg image file containing the mds `plot (filename=mds.jpeg)` in your current working directory. Open R and use the following command:"
   ]
  },
  {
   "cell_type": "code",
   "execution_count": 3,
   "metadata": {
    "kernel": "R"
   },
   "outputs": [],
   "source": [
    "setwd('./Plink_substructure/')"
   ]
  },
  {
   "cell_type": "code",
   "execution_count": 6,
   "metadata": {
    "kernel": "R"
   },
   "outputs": [
    {
     "data": {
      "text/html": [
       "<strong>null device:</strong> 1"
      ],
      "text/latex": [
       "\\textbf{null device:} 1"
      ],
      "text/markdown": [
       "**null device:** 1"
      ],
      "text/plain": [
       "null device \n",
       "          1 "
      ]
     },
     "metadata": {},
     "output_type": "display_data"
    },
    {
     "data": {
      "image/png": "[encoded data removed]",
      "text/plain": [
       "plot without title"
      ]
     },
     "metadata": {
      "image/png": {
       "height": 420,
       "width": 420
      },
      "text/plain": {
       "height": 420,
       "width": 420
      }
     },
     "output_type": "display_data"
    }
   ],
   "source": [
    "mydata = read.table(\"mds_components.txt\", header=T)\n",
    "mydata$pch[mydata$Group==1 ] <-15 \n",
    "mydata$pch[mydata$Group==2 ] <-16 \n",
    "mydata$pch[mydata$Group==3 ] <-2\n",
    "#jpeg(\"mds.jpeg\", height=500, width=500) \n",
    "plot(mydata$C1, mydata$C2 ,pch=mydata$pch) \n",
    "dev.off()"
   ]
  },
  {
   "cell_type": "markdown",
   "metadata": {
    "kernel": "SoS"
   },
   "source": [
    "Visualizing population structure using MDS is useful for identifying subpopulations, population stratification and systematic genotyping or sequencing errors, and can also be used to detect individual outliers that may need to be removed, e.g. European-Americans included in a study of African-Americans. MDS coordinates help with visualizing genetic distances and population substructure. PLINK also offers another dimension reduction, --pca, for PCA, the PC components which can also be used for visualizing data to detect outliers in the same manner which was performed using MDS. Additionally, covariates either from either MDS or PCA can be used in a regression model to aid in correcting for population substructure and admixture.\n",
    "\n",
    "We will now continue performing the analysis using PLINK but will use PCA instead of MDS. We will generate PCs and determine how many PC covariates should be included in the regression model. When SNPs are tested for an association with a trait analysis can be performed, first by including no PC components, then one PC component and then two PC components and so on. Please note that as each PC component is added all the SNPs are analyzed, e.g. a complete GWAS is performed. Examining λ can aid in determining how many PC components should be included in the analysis. If there is no population stratification or other biases, then λ should equal 1 or ~1. We will use λ to determine how many PC components from our analysis will be added to the logistic regression model. First, estimate λ without adjusting for any PC components:"
   ]
  },
  {
   "cell_type": "code",
   "execution_count": 8,
   "metadata": {
    "kernel": "Bash"
   },
   "outputs": [
    {
     "name": "stdout",
     "output_type": "stream",
     "text": [
      "PLINK v1.90b6.18 64-bit (16 Jun 2020)          www.cog-genomics.org/plink/1.9/\n",
      "(C) 2005-2020 Shaun Purcell, Christopher Chang   GNU General Public License v3\n",
      "Logging to unadj.log.\n",
      "Options in effect:\n",
      "  --adjust\n",
      "  --file GWAS_clean4\n",
      "  --logistic\n",
      "  --out unadj\n",
      "  --pheno pheno.txt\n",
      "  --pheno-name Aff\n",
      "\n",
      "7960 MB RAM detected; reserving 3980 MB for main workspace.\n",
      ".ped scan complete (for binary autoconversion).51515161617171818181919202020212122222223232424242525262627272728282929293030313131323233333434343535363636373738383839394040404141424243434344444545454646474747484849494950505151525252535354545455555656565757585859595960606161616262636363646465656566666767686868696970707071717272727373747474757576767777777878797979808081818182828383848484858586868687878888888989909090919192929393939494959595969697979798989999100%\n",
      "Performing single-pass .bed write (6362 variants, 244 people).\n",
      "--file: unadj-temporary.bed + unadj-temporary.bim + unadj-temporary.fam546474849505152535455565758596061626364656667686970717273747576777879808182838485868788899091929394%\n",
      "written.\n",
      "6362 variants loaded from .bim file.\n",
      "244 people (123 males, 121 females) loaded from .fam.\n",
      "244 phenotype values present after --pheno.\n",
      "Using 1 thread (no multithreaded calculations invoked).\n",
      "Before main variant filters, 244 founders and 0 nonfounders present.\n",
      "Calculating allele frequencies... 10111213141516171819202122232425262728293031323334353637383940414243444546474849505152535455565758596061626364656667686970717273747576777879808182838485868788899091929394959697989 done.\n",
      "Warning: 6 het. haploid genotypes present (see unadj.hh ); many commands treat\n",
      "these as missing.\n",
      "Total genotyping rate is 0.997229.\n",
      "6362 variants and 244 people pass filters and QC.\n",
      "Among remaining phenotypes, 87 are cases and 157 are controls.\n",
      "Writing logistic model association results to unadj.assoc.logistic ... 1515222834414652566166717578818487899194959799done.\n",
      "--adjust: Genomic inflation est. lambda (based on median chisq) = 1.12068.\n",
      "101112131415161718192021222324252627282930313233343536373839404142434445464748495051525354555657585960616263646566676869707172737475767778798081828384858687888990919293949596979899--adjust values (6346 variants) written to unadj.assoc.logistic.adjusted .\n"
     ]
    }
   ],
   "source": [
    "plink --file GWAS_clean4 --pheno pheno.txt --pheno-name Aff --logistic --adjust --out unadj"
   ]
  },
  {
   "cell_type": "markdown",
   "metadata": {
    "kernel": "SoS"
   },
   "source": [
    "Generated the first 10 PCA values:"
   ]
  },
  {
   "cell_type": "code",
   "execution_count": 9,
   "metadata": {
    "kernel": "Bash"
   },
   "outputs": [
    {
     "name": "stdout",
     "output_type": "stream",
     "text": [
      "PLINK v1.90b6.18 64-bit (16 Jun 2020)          www.cog-genomics.org/plink/1.9/\n",
      "(C) 2005-2020 Shaun Purcell, Christopher Chang   GNU General Public License v3\n",
      "Logging to plink.log.\n",
      "Options in effect:\n",
      "  --cluster\n",
      "  --file GWAS_clean4\n",
      "  --genome\n",
      "  --pca 10 header\n",
      "\n",
      "7960 MB RAM detected; reserving 3980 MB for main workspace.\n",
      ".ped scan complete (for binary autoconversion).51515161617171818181919202020212122222223232424242525262627272728282929293030313131323233333434343535363636373738383839394040404141424243434344444545454646474747484849494950505151525252535354545455555656565757585859595960606161616262636363646465656566666767686868696970707071717272727373747474757576767777777878797979808081818182828383848484858586868687878888888989909090919192929393939494959595969697979798989999100%\n",
      "Performing single-pass .bed write (6362 variants, 244 people).\n",
      "--file: plink-temporary.bed + plink-temporary.bim + plink-temporary.fam546474849505152535455565758596061626364656667686970717273747576777879808182838485868788899091929394%\n",
      "written.\n",
      "6362 variants loaded from .bim file.\n",
      "244 people (123 males, 121 females) loaded from .fam.\n",
      "Using up to 4 threads (change this with --threads).\n",
      "Before main variant filters, 244 founders and 0 nonfounders present.\n",
      "Calculating allele frequencies... 10111213141516171819202122232425262728293031323334353637383940414243444546474849505152535455565758596061626364656667686970717273747576777879808182838485868788899091929394959697989 done.\n",
      "Warning: 6 het. haploid genotypes present (see plink.hh ); many commands treat\n",
      "these as missing.\n",
      "Total genotyping rate is 0.997229.\n",
      "6362 variants and 244 people pass filters and QC.\n",
      "Note: No phenotypes present.\n",
      "Excluding 186 variants on non-autosomes from relationship matrix calc.\n",
      "Relationship matrix calculation complete.\n",
      "--pca: Results saved to plink.eigenval and plink.eigenvec .\n",
      "Excluding 186 variants on non-autosomes from IBD calculation.\n",
      "IBD calculations complete.  \n",
      "Finished writing plink.genome .\n",
      "Clustering... done.                        \n",
      "Cluster solution written to plink.cluster1 , plink.cluster2 , and82930313233343536373839404142434445464748495051525354555657585960616263646566676869707172737475767778798081828384858687888990919293949596979899100%\n",
      "plink.cluster3 .\n"
     ]
    }
   ],
   "source": [
    "plink --file GWAS_clean4 --genome --cluster --pca 10 header"
   ]
  },
  {
   "cell_type": "markdown",
   "metadata": {
    "kernel": "SoS"
   },
   "source": [
    "Eigenvectors are written to plink.eigenvec, and top eigenvalues are written to plink.eigenval. The 'header' modifier adds a header line to the .eigenvec file(s).\n",
    "And then find out what λ is when we adjust for the first component:"
   ]
  },
  {
   "cell_type": "code",
   "execution_count": 10,
   "metadata": {
    "kernel": "Bash"
   },
   "outputs": [
    {
     "name": "stdout",
     "output_type": "stream",
     "text": [
      "PLINK v1.90b6.18 64-bit (16 Jun 2020)          www.cog-genomics.org/plink/1.9/\n",
      "(C) 2005-2020 Shaun Purcell, Christopher Chang   GNU General Public License v3\n",
      "Logging to PC1.log.\n",
      "Options in effect:\n",
      "  --adjust\n",
      "  --covar plink.eigenvec\n",
      "  --covar-name PC1\n",
      "  --file GWAS_clean4\n",
      "  --logistic\n",
      "  --out PC1\n",
      "  --pheno pheno.txt\n",
      "  --pheno-name Aff\n",
      "\n",
      "7960 MB RAM detected; reserving 3980 MB for main workspace.\n",
      ".ped scan complete (for binary autoconversion).51515161617171818181919202020212122222223232424242525262627272728282929293030313131323233333434343535363636373738383839394040404141424243434344444545454646474747484849494950505151525252535354545455555656565757585859595960606161616262636363646465656566666767686868696970707071717272727373747474757576767777777878797979808081818182828383848484858586868687878888888989909090919192929393939494959595969697979798989999100%\n",
      "Performing single-pass .bed write (6362 variants, 244 people).\n",
      "--file: PC1-temporary.bed + PC1-temporary.bim + PC1-temporary.fam written.474849505152535455565758596061626364656667686970717273747576777879808182838485868788899091929394%\n",
      "6362 variants loaded from .bim file.\n",
      "244 people (123 males, 121 females) loaded from .fam.\n",
      "244 phenotype values present after --pheno.\n",
      "Using 1 thread (no multithreaded calculations invoked).\n",
      "--covar: 1 out of 10 covariates loaded.\n",
      "Before main variant filters, 244 founders and 0 nonfounders present.\n",
      "Calculating allele frequencies... 10111213141516171819202122232425262728293031323334353637383940414243444546474849505152535455565758596061626364656667686970717273747576777879808182838485868788899091929394959697989 done.\n",
      "Warning: 6 het. haploid genotypes present (see PC1.hh ); many commands treat\n",
      "these as missing.\n",
      "Total genotyping rate is 0.997229.\n",
      "6362 variants and 244 people pass filters and QC.\n",
      "Among remaining phenotypes, 87 are cases and 157 are controls.\n",
      "Writing logistic model association results to PC1.assoc.logistic ... 1515222834414652566166717578818487899194959799done.\n",
      "--adjust: Genomic inflation est. lambda (based on median chisq) = 1.08462.\n",
      "101112131415161718192021222324252627282930313233343536373839404142434445464748495051525354555657585960616263646566676869707172737475767778798081828384858687888990919293949596979899--adjust values (6346 variants) written to PC1.assoc.logistic.adjusted .\n"
     ]
    }
   ],
   "source": [
    "plink --file GWAS_clean4 --pheno pheno.txt --pheno-name Aff --covar plink.eigenvec --covar-name PC1 --logistic --adjust --out PC1"
   ]
  },
  {
   "cell_type": "markdown",
   "metadata": {
    "kernel": "SoS"
   },
   "source": [
    "And the first and second components:"
   ]
  },
  {
   "cell_type": "code",
   "execution_count": 11,
   "metadata": {
    "kernel": "Bash"
   },
   "outputs": [
    {
     "name": "stdout",
     "output_type": "stream",
     "text": [
      "PLINK v1.90b6.18 64-bit (16 Jun 2020)          www.cog-genomics.org/plink/1.9/\n",
      "(C) 2005-2020 Shaun Purcell, Christopher Chang   GNU General Public License v3\n",
      "Logging to PC1-PC2.log.\n",
      "Options in effect:\n",
      "  --adjust\n",
      "  --covar plink.eigenvec\n",
      "  --covar-name PC1-PC2\n",
      "  --file GWAS_clean4\n",
      "  --logistic\n",
      "  --out PC1-PC2\n",
      "  --pheno pheno.txt\n",
      "  --pheno-name Aff\n",
      "\n",
      "7960 MB RAM detected; reserving 3980 MB for main workspace.\n",
      ".ped scan complete (for binary autoconversion).51515161617171818181919202020212122222223232424242525262627272728282929293030313131323233333434343535363636373738383839394040404141424243434344444545454646474747484849494950505151525252535354545455555656565757585859595960606161616262636363646465656566666767686868696970707071717272727373747474757576767777777878797979808081818182828383848484858586868687878888888989909090919192929393939494959595969697979798989999100%\n",
      "Performing single-pass .bed write (6362 variants, 244 people).\n",
      "--file: PC1-PC2-temporary.bed + PC1-PC2-temporary.bim + PC1-PC2-temporary.fam849505152535455565758596061626364656667686970717273747576777879808182838485868788899091929394%\n",
      "written.\n",
      "6362 variants loaded from .bim file.\n",
      "244 people (123 males, 121 females) loaded from .fam.\n",
      "244 phenotype values present after --pheno.\n",
      "Using 1 thread (no multithreaded calculations invoked).\n",
      "--covar: 2 out of 10 covariates loaded.\n",
      "Before main variant filters, 244 founders and 0 nonfounders present.\n",
      "Calculating allele frequencies... 10111213141516171819202122232425262728293031323334353637383940414243444546474849505152535455565758596061626364656667686970717273747576777879808182838485868788899091929394959697989 done.\n",
      "Warning: 6 het. haploid genotypes present (see PC1-PC2.hh ); many commands\n",
      "treat these as missing.\n",
      "Total genotyping rate is 0.997229.\n",
      "6362 variants and 244 people pass filters and QC.\n",
      "Among remaining phenotypes, 87 are cases and 157 are controls.\n",
      "Writing logistic model association results to PC1-PC2.assoc.logistic ... 1515222834414652566166717578818487899194959799done.\n",
      "--adjust: Genomic inflation est. lambda (based on median chisq) = 1.02628.\n",
      "101112131415161718192021222324252627282930313233343536373839404142434445464748495051525354555657585960616263646566676869707172737475767778798081828384858687888990919293949596979899--adjust values (6346 variants) written to PC1-PC2.assoc.logistic.adjusted .\n"
     ]
    }
   ],
   "source": [
    "plink --file GWAS_clean4 --pheno pheno.txt --pheno-name Aff --covar plink.eigenvec --covar-name PC1-PC2 --logistic --adjust --out PC1-PC2"
   ]
  },
  {
   "cell_type": "markdown",
   "metadata": {
    "kernel": "SoS"
   },
   "source": [
    "and so forth for all 10 components in the .log file completing the table:"
   ]
  },
  {
   "cell_type": "markdown",
   "metadata": {
    "kernel": "SoS"
   },
   "source": [
    "<table style=\"border-bottom:1px solid; border-right: 1px solid; border-spacing:0px; font-size:10pt; text-align:left;\">\n",
    "    <tr style=\"text-align:center; vertical-align:bottom;\">\n",
    "        <td width=\"90\" style=\"border:none; height: 50px; vertical-align:top;\">\n",
    "            <span style=\"font-size:12pt; font-weight:bold;\">\n",
    "                Table 1<br />\n",
    "            </span>\n",
    "        </td>\n",
    "        <th width=\"50\" style=\"background-color:rgba(196,196,196,0.5); border-left:1px solid; border-top:1px solid;\">Un-adjusted</th>\n",
    "        <th width=\"25\" style=\"background-color:rgba(196,196,196,0.5); border-left:1px solid; border-top:1px solid;\">PC 1&nbsp;&nbsp;</th>\n",
    "        <th width=\"25\" style=\"background-color:rgba(196,196,196,0.5); border-left:1px solid; border-top:1px solid;\">PC 1&#8209;2</th>\n",
    "        <th width=\"25\" style=\"background-color:rgba(196,196,196,0.5); border-left:1px solid; border-top:1px solid;\">PC 1&#8209;3</th>\n",
    "        <th width=\"25\" style=\"background-color:rgba(196,196,196,0.5); border-left:1px solid; border-top:1px solid;\">PC 1&#8209;4</th>\n",
    "        <th width=\"25\" style=\"background-color:rgba(196,196,196,0.5); border-left:1px solid; border-top:1px solid;\">PC 1&#8209;5</th>\n",
    "        <th width=\"25\" style=\"background-color:rgba(196,196,196,0.5); border-left:1px solid; border-top:1px solid;\">PC 1&#8209;6</th>\n",
    "        <th width=\"25\" style=\"background-color:rgba(196,196,196,0.5); border-left:1px solid; border-top:1px solid;\">PC 1&#8209;7</th>\n",
    "        <th width=\"25\" style=\"background-color:rgba(196,196,196,0.5); border-left:1px solid; border-top:1px solid;\">PC 1&#8209;8</th>\n",
    "        <th width=\"25\" style=\"background-color:rgba(196,196,196,0.5); border-left:1px solid; border-top:1px solid;\">PC 1&#8209;9</th>\n",
    "        <th width=\"25\" style=\"background-color:rgba(196,196,196,0.5); border-left:1px solid; border-top:1px solid;\">PC 1&#8209;10</th>\n",
    "    </tr>\n",
    "    <tr>\n",
    "        <th style=\"background-color:rgba(196,196,196,0.5); border-left:1px solid; border-top:1px solid; text-align:center;\">&lambda;</th>\n",
    "        <td style=\"border-left:1px solid; border-top:1px solid;\">&nbsp;</td>\n",
    "        <td style=\"border-left:1px solid; border-top:1px solid;\">&nbsp;</td>\n",
    "        <td style=\"border-left:1px solid; border-top:1px solid;\">&nbsp;</td>\n",
    "        <td style=\"border-left:1px solid; border-top:1px solid;\">&nbsp;</td>\n",
    "        <td style=\"border-left:1px solid; border-top:1px solid;\">&nbsp;</td>\n",
    "        <td style=\"border-left:1px solid; border-top:1px solid;\">&nbsp;</td>\n",
    "        <td style=\"border-left:1px solid; border-top:1px solid;\">&nbsp;</td>\n",
    "        <td style=\"border-left:1px solid; border-top:1px solid;\">&nbsp;</td>\n",
    "        <td style=\"border-left:1px solid; border-top:1px solid;\">&nbsp;</td>\n",
    "        <td style=\"border-left:1px solid; border-top:1px solid;\">&nbsp;</td>\n",
    "        <td style=\"border-left:1px solid; border-top:1px solid;\">&nbsp;</td>\n",
    "    </tr>\n",
    "</table>"
   ]
  },
  {
   "cell_type": "markdown",
   "metadata": {
    "kernel": "SoS"
   },
   "source": [
    "The number closest to 1.0, with the least number of PC components, would be the best for adjusting without overfitting and introducing unnecessary noise. You can check your table against the one provided in the answers section.\n",
    "\n",
    "Go to the **`assoc.logistic` file that corresponds to that number of components** and make a note of how you named the `.assoc.logistic` file for it and when you did not adjust for any components. Then go back to the R program to load the results and create a jpeg image file containing QQ plots for the adjusted and unadjusted results (using a modified script from http://www.broad.mit.edu/node/555) as follows:\n"
   ]
  },
  {
   "cell_type": "code",
   "execution_count": 15,
   "metadata": {
    "kernel": "R",
    "tags": []
   },
   "outputs": [
    {
     "data": {
      "text/html": [
       "<strong>null device:</strong> 1"
      ],
      "text/latex": [
       "\\textbf{null device:} 1"
      ],
      "text/markdown": [
       "**null device:** 1"
      ],
      "text/plain": [
       "null device \n",
       "          1 "
      ]
     },
     "metadata": {},
     "output_type": "display_data"
    },
    {
     "data": {
      "image/png": "[encoded data removed]",
      "text/plain": [
       "Plot with title “Some Trait Adjusted for PC1 and PC2”"
      ]
     },
     "metadata": {
      "image/png": {
       "height": 420,
       "width": 420
      },
      "text/plain": {
       "height": 420,
       "width": 420
      }
     },
     "output_type": "display_data"
    }
   ],
   "source": [
    "broadqq <-function(pvals, title) {\n",
    "    observed <- sort(pvals) \n",
    "    lobs <- -(log10(observed))\n",
    "    expected <- c(1:length(observed))\n",
    "    lexp <- -(log10(expected / (length(expected)+1)))\n",
    "    plot(c(0,7), c(0,7), col=\"red\", lwd=3, type=\"l\", xlab=\"Expected (-logP)\", ylab=\"Observed (-logP)\",\n",
    "         xlim=c(0,max(lobs)), ylim=c(0,max(lobs)), las=1, xaxs=\"i\", yaxs=\"i\", bty=\"l\", main = title)\n",
    "    points(lexp, lobs, pch=23, cex=.4, bg=\"black\") \n",
    "}\n",
    "#jpeg(\"qqplot_compare.jpeg\", height=1000, width=500) \n",
    "par(mfrow=c(2,1))\n",
    "aff_unadj<-read.table(\"unadj.assoc.logistic\", header=TRUE) \n",
    "aff_unadj.add.p<-aff_unadj[aff_unadj$TEST==c(\"ADD\"),]$P \n",
    "broadqq(aff_unadj.add.p,\"Some Trait Unadjusted\") \n",
    "aff_C1C2<-read.table(\"PC1-PC2.assoc.logistic\", header=TRUE) \n",
    "aff_C1C2.add.p<-aff_C1C2[aff_C1C2$TEST==c(\"ADD\"),]$P \n",
    "broadqq(aff_C1C2.add.p, \"Some Trait Adjusted for PC1 and PC2\")\n",
    "dev.off()"
   ]
  },
  {
   "cell_type": "code",
   "execution_count": null,
   "metadata": {
    "kernel": "SoS",
    "vscode": {
     "languageId": "plaintext"
    }
   },
   "outputs": [],
   "source": []
  },
  {
   "cell_type": "markdown",
   "metadata": {
    "kernel": "R"
   },
   "source": [
    "Now look for SNPs with genome-wide significance using the following R connamds:"
   ]
  },
  {
   "cell_type": "code",
   "execution_count": 16,
   "metadata": {
    "kernel": "R"
   },
   "outputs": [
    {
     "data": {
      "text/html": [
       "<table>\n",
       "<caption>A data.frame: 2 × 9</caption>\n",
       "<thead>\n",
       "\t<tr><th></th><th scope=col>CHR</th><th scope=col>SNP</th><th scope=col>BP</th><th scope=col>A1</th><th scope=col>TEST</th><th scope=col>NMISS</th><th scope=col>OR</th><th scope=col>STAT</th><th scope=col>P</th></tr>\n",
       "\t<tr><th></th><th scope=col>&lt;int&gt;</th><th scope=col>&lt;fct&gt;</th><th scope=col>&lt;int&gt;</th><th scope=col>&lt;fct&gt;</th><th scope=col>&lt;fct&gt;</th><th scope=col>&lt;int&gt;</th><th scope=col>&lt;dbl&gt;</th><th scope=col>&lt;dbl&gt;</th><th scope=col>&lt;dbl&gt;</th></tr>\n",
       "</thead>\n",
       "<tbody>\n",
       "\t<tr><th scope=row>1800</th><td>4</td><td>rs10008252</td><td>179853616</td><td>G</td><td>ADD</td><td>244</td><td>0.16650</td><td>-6.639</td><td>3.155e-11</td></tr>\n",
       "\t<tr><th scope=row>3131</th><td>8</td><td>rs4571722 </td><td> 60326734</td><td>T</td><td>ADD</td><td>242</td><td>0.04126</td><td>-7.436</td><td>1.037e-13</td></tr>\n",
       "</tbody>\n",
       "</table>\n"
      ],
      "text/latex": [
       "A data.frame: 2 × 9\n",
       "\\begin{tabular}{r|lllllllll}\n",
       "  & CHR & SNP & BP & A1 & TEST & NMISS & OR & STAT & P\\\\\n",
       "  & <int> & <fct> & <int> & <fct> & <fct> & <int> & <dbl> & <dbl> & <dbl>\\\\\n",
       "\\hline\n",
       "\t1800 & 4 & rs10008252 & 179853616 & G & ADD & 244 & 0.16650 & -6.639 & 3.155e-11\\\\\n",
       "\t3131 & 8 & rs4571722  &  60326734 & T & ADD & 242 & 0.04126 & -7.436 & 1.037e-13\\\\\n",
       "\\end{tabular}\n"
      ],
      "text/markdown": [
       "\n",
       "A data.frame: 2 × 9\n",
       "\n",
       "| <!--/--> | CHR &lt;int&gt; | SNP &lt;fct&gt; | BP &lt;int&gt; | A1 &lt;fct&gt; | TEST &lt;fct&gt; | NMISS &lt;int&gt; | OR &lt;dbl&gt; | STAT &lt;dbl&gt; | P &lt;dbl&gt; |\n",
       "|---|---|---|---|---|---|---|---|---|---|\n",
       "| 1800 | 4 | rs10008252 | 179853616 | G | ADD | 244 | 0.16650 | -6.639 | 3.155e-11 |\n",
       "| 3131 | 8 | rs4571722  |  60326734 | T | ADD | 242 | 0.04126 | -7.436 | 1.037e-13 |\n",
       "\n"
      ],
      "text/plain": [
       "     CHR SNP        BP        A1 TEST NMISS OR      STAT   P        \n",
       "1800 4   rs10008252 179853616 G  ADD  244   0.16650 -6.639 3.155e-11\n",
       "3131 8   rs4571722   60326734 T  ADD  242   0.04126 -7.436 1.037e-13"
      ]
     },
     "metadata": {},
     "output_type": "display_data"
    },
    {
     "data": {
      "text/html": [
       "<table>\n",
       "<caption>A data.frame: 2 × 9</caption>\n",
       "<thead>\n",
       "\t<tr><th></th><th scope=col>CHR</th><th scope=col>SNP</th><th scope=col>BP</th><th scope=col>A1</th><th scope=col>TEST</th><th scope=col>NMISS</th><th scope=col>OR</th><th scope=col>STAT</th><th scope=col>P</th></tr>\n",
       "\t<tr><th></th><th scope=col>&lt;int&gt;</th><th scope=col>&lt;fct&gt;</th><th scope=col>&lt;int&gt;</th><th scope=col>&lt;fct&gt;</th><th scope=col>&lt;fct&gt;</th><th scope=col>&lt;int&gt;</th><th scope=col>&lt;dbl&gt;</th><th scope=col>&lt;dbl&gt;</th><th scope=col>&lt;dbl&gt;</th></tr>\n",
       "</thead>\n",
       "<tbody>\n",
       "\t<tr><th scope=row>5398</th><td>4</td><td>rs10008252</td><td>179853616</td><td>G</td><td>ADD</td><td>244</td><td>0.13070</td><td>-6.707</td><td>1.985e-11</td></tr>\n",
       "\t<tr><th scope=row>9391</th><td>8</td><td>rs4571722 </td><td> 60326734</td><td>T</td><td>ADD</td><td>242</td><td>0.04382</td><td>-7.237</td><td>4.585e-13</td></tr>\n",
       "</tbody>\n",
       "</table>\n"
      ],
      "text/latex": [
       "A data.frame: 2 × 9\n",
       "\\begin{tabular}{r|lllllllll}\n",
       "  & CHR & SNP & BP & A1 & TEST & NMISS & OR & STAT & P\\\\\n",
       "  & <int> & <fct> & <int> & <fct> & <fct> & <int> & <dbl> & <dbl> & <dbl>\\\\\n",
       "\\hline\n",
       "\t5398 & 4 & rs10008252 & 179853616 & G & ADD & 244 & 0.13070 & -6.707 & 1.985e-11\\\\\n",
       "\t9391 & 8 & rs4571722  &  60326734 & T & ADD & 242 & 0.04382 & -7.237 & 4.585e-13\\\\\n",
       "\\end{tabular}\n"
      ],
      "text/markdown": [
       "\n",
       "A data.frame: 2 × 9\n",
       "\n",
       "| <!--/--> | CHR &lt;int&gt; | SNP &lt;fct&gt; | BP &lt;int&gt; | A1 &lt;fct&gt; | TEST &lt;fct&gt; | NMISS &lt;int&gt; | OR &lt;dbl&gt; | STAT &lt;dbl&gt; | P &lt;dbl&gt; |\n",
       "|---|---|---|---|---|---|---|---|---|---|\n",
       "| 5398 | 4 | rs10008252 | 179853616 | G | ADD | 244 | 0.13070 | -6.707 | 1.985e-11 |\n",
       "| 9391 | 8 | rs4571722  |  60326734 | T | ADD | 242 | 0.04382 | -7.237 | 4.585e-13 |\n",
       "\n"
      ],
      "text/plain": [
       "     CHR SNP        BP        A1 TEST NMISS OR      STAT   P        \n",
       "5398 4   rs10008252 179853616 G  ADD  244   0.13070 -6.707 1.985e-11\n",
       "9391 8   rs4571722   60326734 T  ADD  242   0.04382 -7.237 4.585e-13"
      ]
     },
     "metadata": {},
     "output_type": "display_data"
    }
   ],
   "source": [
    "gws_unadj = aff_unadj[which(aff_unadj$P < 0.0000001),] \n",
    "gws_unadj\n",
    "gws_adjusted = aff_C1C2[which(aff_C1C2$P < 0.0000001),] \n",
    "gws_adjusted"
   ]
  },
  {
   "cell_type": "markdown",
   "metadata": {
    "kernel": "R"
   },
   "source": [
    "**Note:** These are the uncorrected p-values for multiple testing. The p-values which have been corrected using various multiple testing methods can be found in the .adjusted file."
   ]
  },
  {
   "cell_type": "markdown",
   "metadata": {
    "kernel": "R"
   },
   "source": [
    "A common question when you have a finding with genome-wide significance in a GWAS is “Is the SNP in a known gene?” One way to look this information up is annotate variants in batch (please look at the annotating exercise for more information). You can do this using the Ensembl Variant Predictor. Go to the website:\n",
    "\n",
    "http://grch37.ensembl.org/Homo_sapiens/Tools/VEP (GRCh37 version)\n",
    "\n",
    "Type the rs number(s) of the SNP(s) with genome-wide significance in “Either paste data”, leave all options default and press run. In a few minutes you can view the results of your query."
   ]
  },
  {
   "cell_type": "markdown",
   "metadata": {
    "kernel": "R"
   },
   "source": [
    "## 2. Questions"
   ]
  },
  {
   "cell_type": "markdown",
   "metadata": {
    "kernel": "R"
   },
   "source": [
    "**Question 1:** Did this study have a finding with genome-wide significance after adjusting for population substructure? Did you notice any difference in the p-values before and after adjustment for substructure? How many PC components should you include in the regression model?"
   ]
  },
  {
   "cell_type": "markdown",
   "metadata": {
    "kernel": "SoS"
   },
   "source": [
    "<table style=\"border-spacing:0px; font-size:10pt; text-align:left;\">\n",
    "    <tr>\n",
    "        <td colspan=\"9\" style=\"border-bottom:1px solid; padding:0; text-align:left;\">\n",
    "            <span style=\"font-family:'Times New Roman',Times,serif; font-size:12pt; font-weight:bold;\">\n",
    "                Table 2. SNPs with genome-wide significance unadjusted for substructure:\n",
    "            </span>\n",
    "        </td>\n",
    "    </tr>\n",
    "    <tr style=\"font-weight:bold; text-align:center;\">\n",
    "        <th width=\"30\" style=\"border-bottom: 1px solid; border-left:1px solid; border-right:1px solid;\">CHR</th>\n",
    "        <th width=\"70\" style=\"border-bottom: 1px solid; border-right:1px solid;\">SNP</th>\n",
    "        <th width=\"60\" style=\"border-bottom: 1px solid; border-right:1px solid;\">BP</th>\n",
    "        <th width=\"25\" style=\"border-bottom: 1px solid; border-right:1px solid;\">A1</th>\n",
    "        <th width=\"45\" style=\"border-bottom: 1px solid; border-right:1px solid;\">TEST</th>\n",
    "        <th width=\"45\" style=\"border-bottom: 1px solid; border-right:1px solid;\">NMISS</th>\n",
    "        <th width=\"45\" style=\"border-bottom: 1px solid; border-right:1px solid;\">OR</th>\n",
    "        <th width=\"50\" style=\"border-bottom: 1px solid; border-right:1px solid;\">STAT</th>\n",
    "        <th width=\"55\" style=\"border-bottom: 1px solid; border-right:1px solid;\">P</th>\n",
    "    </tr>\n",
    "    <tr>\n",
    "        <td style=\"border-bottom: 1px solid; border-left:1px solid; border-right:1px solid;\">&nbsp;</td>\n",
    "        <td style=\"border-bottom: 1px solid; border-right:1px solid;\">&nbsp;</td>\n",
    "        <td style=\"border-bottom: 1px solid; border-right:1px solid;\">&nbsp;</td>\n",
    "        <td style=\"border-bottom: 1px solid; border-right:1px solid;\">&nbsp;</td>\n",
    "        <td style=\"border-bottom: 1px solid; border-right:1px solid;\">&nbsp;</td>\n",
    "        <td style=\"border-bottom: 1px solid; border-right:1px solid;\">&nbsp;</td>\n",
    "        <td style=\"border-bottom: 1px solid; border-right:1px solid;\">&nbsp;</td>\n",
    "        <td style=\"border-bottom: 1px solid; border-right:1px solid;\">&nbsp;</td>\n",
    "        <td style=\"border-bottom: 1px solid; border-right:1px solid;\">&nbsp;</td>\n",
    "    </tr>\n",
    "    <tr>\n",
    "        <td style=\"border-bottom: 1px solid; border-left:1px solid; border-right:1px solid;\">&nbsp;</td>\n",
    "        <td style=\"border-bottom: 1px solid; border-right:1px solid;\">&nbsp;</td>\n",
    "        <td style=\"border-bottom: 1px solid; border-right:1px solid;\">&nbsp;</td>\n",
    "        <td style=\"border-bottom: 1px solid; border-right:1px solid;\">&nbsp;</td>\n",
    "        <td style=\"border-bottom: 1px solid; border-right:1px solid;\">&nbsp;</td>\n",
    "        <td style=\"border-bottom: 1px solid; border-right:1px solid;\">&nbsp;</td>\n",
    "        <td style=\"border-bottom: 1px solid; border-right:1px solid;\">&nbsp;</td>\n",
    "        <td style=\"border-bottom: 1px solid; border-right:1px solid;\">&nbsp;</td>\n",
    "        <td style=\"border-bottom: 1px solid; border-right:1px solid;\">&nbsp;</td>\n",
    "    </tr>\n",
    "</table>"
   ]
  },
  {
   "cell_type": "markdown",
   "metadata": {
    "kernel": "SoS"
   },
   "source": [
    "<table style=\"border-spacing:0px; font-size:10pt; text-align:left;\">\n",
    "    <tr>\n",
    "        <td colspan=\"9\" style=\"border-bottom:1px solid; padding:0; text-align:left;\">\n",
    "            <span style=\"font-family:'Times New Roman',Times,serif; font-size:12pt; font-weight:bold;\">\n",
    "                Table 3. SNPs with genome-wide significance adjusted for components 1 and 2:\n",
    "            </span>\n",
    "        </td>\n",
    "    </tr>\n",
    "    <tr style=\"font-weight:bold; text-align:center;\">\n",
    "        <th width=\"30\" style=\"border-bottom: 1px solid; border-left:1px solid; border-right:1px solid;\">CHR</th>\n",
    "        <th width=\"70\" style=\"border-bottom: 1px solid; border-right:1px solid;\">SNP</th>\n",
    "        <th width=\"60\" style=\"border-bottom: 1px solid; border-right:1px solid;\">BP</th>\n",
    "        <th width=\"25\" style=\"border-bottom: 1px solid; border-right:1px solid;\">A1</th>\n",
    "        <th width=\"45\" style=\"border-bottom: 1px solid; border-right:1px solid;\">TEST</th>\n",
    "        <th width=\"45\" style=\"border-bottom: 1px solid; border-right:1px solid;\">NMISS</th>\n",
    "        <th width=\"45\" style=\"border-bottom: 1px solid; border-right:1px solid;\">OR</th>\n",
    "        <th width=\"50\" style=\"border-bottom: 1px solid; border-right:1px solid;\">STAT</th>\n",
    "        <th width=\"55\" style=\"border-bottom: 1px solid; border-right:1px solid;\">P</th>\n",
    "    </tr>\n",
    "    <tr>\n",
    "        <td style=\"border-bottom: 1px solid; border-left:1px solid; border-right:1px solid;\">&nbsp;</td>\n",
    "        <td style=\"border-bottom: 1px solid; border-right:1px solid;\">&nbsp;</td>\n",
    "        <td style=\"border-bottom: 1px solid; border-right:1px solid;\">&nbsp;</td>\n",
    "        <td style=\"border-bottom: 1px solid; border-right:1px solid;\">&nbsp;</td>\n",
    "        <td style=\"border-bottom: 1px solid; border-right:1px solid;\">&nbsp;</td>\n",
    "        <td style=\"border-bottom: 1px solid; border-right:1px solid;\">&nbsp;</td>\n",
    "        <td style=\"border-bottom: 1px solid; border-right:1px solid;\">&nbsp;</td>\n",
    "        <td style=\"border-bottom: 1px solid; border-right:1px solid;\">&nbsp;</td>\n",
    "        <td style=\"border-bottom: 1px solid; border-right:1px solid;\">&nbsp;</td>\n",
    "    </tr>\n",
    "    <tr>\n",
    "        <td style=\"border-bottom: 1px solid; border-left:1px solid; border-right:1px solid;\">&nbsp;</td>\n",
    "        <td style=\"border-bottom: 1px solid; border-right:1px solid;\">&nbsp;</td>\n",
    "        <td style=\"border-bottom: 1px solid; border-right:1px solid;\">&nbsp;</td>\n",
    "        <td style=\"border-bottom: 1px solid; border-right:1px solid;\">&nbsp;</td>\n",
    "        <td style=\"border-bottom: 1px solid; border-right:1px solid;\">&nbsp;</td>\n",
    "        <td style=\"border-bottom: 1px solid; border-right:1px solid;\">&nbsp;</td>\n",
    "        <td style=\"border-bottom: 1px solid; border-right:1px solid;\">&nbsp;</td>\n",
    "        <td style=\"border-bottom: 1px solid; border-right:1px solid;\">&nbsp;</td>\n",
    "        <td style=\"border-bottom: 1px solid; border-right:1px solid;\">&nbsp;</td>\n",
    "    </tr>\n",
    "</table>"
   ]
  },
  {
   "cell_type": "markdown",
   "metadata": {
    "kernel": "R"
   },
   "source": [
    "**Question 2:** Why would you not want to include in your analysis individuals from different ethnic backgrounds even if you control for population substructure?"
   ]
  },
  {
   "cell_type": "markdown",
   "metadata": {
    "kernel": "R"
   },
   "source": [
    "**Question 3:** Are any SNPs with genome-wide significance in known genes?"
   ]
  },
  {
   "cell_type": "markdown",
   "metadata": {
    "kernel": "R"
   },
   "source": [
    "## 3. Answers and Output"
   ]
  },
  {
   "cell_type": "markdown",
   "metadata": {
    "kernel": "SoS"
   },
   "source": [
    "<table style=\"border-bottom:1px solid; border-right: 1px solid; border-spacing:0px; font-size:10pt; text-align:left;\">\n",
    "    <tr style=\"text-align:center; vertical-align:bottom;\">\n",
    "        <td width=\"90\" style=\"border:none; height: 50px; vertical-align:top;\">\n",
    "            <span style=\"font-size:12pt; font-weight:bold;\">\n",
    "                Table 1<br />\n",
    "            </span>\n",
    "        </td>\n",
    "        <th width=\"50\" style=\"background-color:rgba(196,196,196,0.5); border-left:1px solid; border-top:1px solid;\">Un-adjusted</th>\n",
    "        <th width=\"25\" style=\"background-color:rgba(196,196,196,0.5); border-left:1px solid; border-top:1px solid;\">PC 1&nbsp;&nbsp;</th>\n",
    "        <th width=\"25\" style=\"background-color:rgba(196,196,196,0.5); border-left:1px solid; border-top:1px solid;\">PC 1&#8209;2</th>\n",
    "        <th width=\"25\" style=\"background-color:rgba(196,196,196,0.5); border-left:1px solid; border-top:1px solid;\">PC 1&#8209;3</th>\n",
    "        <th width=\"25\" style=\"background-color:rgba(196,196,196,0.5); border-left:1px solid; border-top:1px solid;\">PC 1&#8209;4</th>\n",
    "        <th width=\"25\" style=\"background-color:rgba(196,196,196,0.5); border-left:1px solid; border-top:1px solid;\">PC 1&#8209;5</th>\n",
    "        <th width=\"25\" style=\"background-color:rgba(196,196,196,0.5); border-left:1px solid; border-top:1px solid;\">PC 1&#8209;6</th>\n",
    "        <th width=\"25\" style=\"background-color:rgba(196,196,196,0.5); border-left:1px solid; border-top:1px solid;\">PC 1&#8209;7</th>\n",
    "        <th width=\"25\" style=\"background-color:rgba(196,196,196,0.5); border-left:1px solid; border-top:1px solid;\">PC 1&#8209;8</th>\n",
    "        <th width=\"25\" style=\"background-color:rgba(196,196,196,0.5); border-left:1px solid; border-top:1px solid;\">PC 1&#8209;9</th>\n",
    "        <th width=\"25\" style=\"background-color:rgba(196,196,196,0.5); border-left:1px solid; border-top:1px solid;\">PC 1&#8209;10</th>\n",
    "    </tr>\n",
    "    <tr>\n",
    "        <th style=\"background-color:rgba(196,196,196,0.5); border-left:1px solid; border-top:1px solid; text-align:center;\">&lambda;</th>\n",
    "        <td style=\"border-left:1px solid; border-top:1px solid;\">1.2.1</td>\n",
    "        <td style=\"border-left:1px solid; border-top:1px solid;\">1.085</td>\n",
    "        <td style=\"border-left:1px solid; border-top:1px solid;\">1.026</td>\n",
    "        <td style=\"border-left:1px solid; border-top:1px solid;\">1.033</td>\n",
    "        <td style=\"border-left:1px solid; border-top:1px solid;\">1.040</td>\n",
    "        <td style=\"border-left:1px solid; border-top:1px solid;\">1.050</td>\n",
    "        <td style=\"border-left:1px solid; border-top:1px solid;\">1.043</td>\n",
    "        <td style=\"border-left:1px solid; border-top:1px solid;\">1.021</td>\n",
    "        <td style=\"border-left:1px solid; border-top:1px solid;\">1.036</td>\n",
    "        <td style=\"border-left:1px solid; border-top:1px solid;\">1.043</td>\n",
    "        <td style=\"border-left:1px solid; border-top:1px solid;\">1.051</td>\n",
    "    </tr>\n",
    "</table>"
   ]
  },
  {
   "cell_type": "markdown",
   "metadata": {
    "kernel": "R"
   },
   "source": [
    "**Answer 1:** Yes, see tables below. It is best to include to two PC components in the analysis, however the lambda is still inflated. Since we are analyzing three unique populations inclusion of PCs did not adequately control for substructure. If you compare the QQ plots below you can see that for this dataset the most significant SNPs were changed minimally when we adjusted for substructure but some of the moderately significant SNPs became less significant after adjustment. However, in some situations the p-values can become smaller."
   ]
  },
  {
   "cell_type": "markdown",
   "metadata": {
    "kernel": "SoS"
   },
   "source": [
    "<table style=\"border-spacing:0px; font-size:10pt; text-align:left;\">\n",
    "    <tr>\n",
    "        <td colspan=\"9\" style=\"border-bottom:1px solid; padding:0; text-align:left;\">\n",
    "            <span style=\"font-family:'Times New Roman',Times,serif; font-size:12pt; font-weight:bold;\">\n",
    "                Table 2. SNPs with genome-wide significance unadjusted for substructure:\n",
    "            </span>\n",
    "        </td>\n",
    "    </tr>\n",
    "    <tr style=\"font-weight:bold; text-align:center;\">\n",
    "        <th width=\"30\" style=\"border-bottom: 1px solid; border-left:1px solid; border-right:1px solid;\">CHR</th>\n",
    "        <th width=\"70\" style=\"border-bottom: 1px solid; border-right:1px solid;\">SNP</th>\n",
    "        <th width=\"60\" style=\"border-bottom: 1px solid; border-right:1px solid;\">BP</th>\n",
    "        <th width=\"25\" style=\"border-bottom: 1px solid; border-right:1px solid;\">A1</th>\n",
    "        <th width=\"45\" style=\"border-bottom: 1px solid; border-right:1px solid;\">TEST</th>\n",
    "        <th width=\"45\" style=\"border-bottom: 1px solid; border-right:1px solid;\">NMISS</th>\n",
    "        <th width=\"45\" style=\"border-bottom: 1px solid; border-right:1px solid;\">OR</th>\n",
    "        <th width=\"50\" style=\"border-bottom: 1px solid; border-right:1px solid;\">STAT</th>\n",
    "        <th width=\"55\" style=\"border-bottom: 1px solid; border-right:1px solid;\">P</th>\n",
    "    </tr>\n",
    "    <tr>\n",
    "        <td style=\"border-bottom: 1px solid; border-left:1px solid; border-right:1px solid;\">8</td>\n",
    "        <td style=\"border-bottom: 1px solid; border-right:1px solid;\">rs4571722</td>\n",
    "        <td style=\"border-bottom: 1px solid; border-right:1px solid;\">60326734</td>\n",
    "        <td style=\"border-bottom: 1px solid; border-right:1px solid;\">T</td>\n",
    "        <td style=\"border-bottom: 1px solid; border-right:1px solid;\">ADD</td>\n",
    "        <td style=\"border-bottom: 1px solid; border-right:1px solid;\">242</td>\n",
    "        <td style=\"border-bottom: 1px solid; border-right:1px solid;\">0.04126</td>\n",
    "        <td style=\"border-bottom: 1px solid; border-right:1px solid;\">-7.436</td>\n",
    "        <td style=\"border-bottom: 1px solid; border-right:1px solid;\">1.04E-13</td>\n",
    "    </tr>\n",
    "    <tr>\n",
    "        <td style=\"border-bottom: 1px solid; border-left:1px solid; border-right:1px solid;\">4</td>\n",
    "        <td style=\"border-bottom: 1px solid; border-right:1px solid;\">rs10008252</td>\n",
    "        <td style=\"border-bottom: 1px solid; border-right:1px solid;\">179853616</td>\n",
    "        <td style=\"border-bottom: 1px solid; border-right:1px solid;\">G</td>\n",
    "        <td style=\"border-bottom: 1px solid; border-right:1px solid;\">ADD</td>\n",
    "        <td style=\"border-bottom: 1px solid; border-right:1px solid;\">244</td>\n",
    "        <td style=\"border-bottom: 1px solid; border-right:1px solid;\">0.1665</td>\n",
    "        <td style=\"border-bottom: 1px solid; border-right:1px solid;\">-6.639</td>\n",
    "        <td style=\"border-bottom: 1px solid; border-right:1px solid;\">316E-11</td>\n",
    "    </tr>\n",
    "</table>"
   ]
  },
  {
   "cell_type": "markdown",
   "metadata": {
    "kernel": "SoS"
   },
   "source": [
    "<table style=\"border-spacing:0px; font-size:10pt; text-align:left;\">\n",
    "    <tr>\n",
    "        <td colspan=\"9\" style=\"border-bottom:1px solid; padding:0; text-align:left;\">\n",
    "            <span style=\"font-family:'Times New Roman',Times,serif; font-size:12pt; font-weight:bold;\">\n",
    "                Table 3. SNPs with genome-wide significance adjusted for components 1 and 2:\n",
    "            </span>\n",
    "        </td>\n",
    "    </tr>\n",
    "    <tr style=\"font-weight:bold; text-align:center;\">\n",
    "        <th width=\"30\" style=\"border-bottom: 1px solid; border-left:1px solid; border-right:1px solid;\">CHR</th>\n",
    "        <th width=\"70\" style=\"border-bottom: 1px solid; border-right:1px solid;\">SNP</th>\n",
    "        <th width=\"60\" style=\"border-bottom: 1px solid; border-right:1px solid;\">BP</th>\n",
    "        <th width=\"25\" style=\"border-bottom: 1px solid; border-right:1px solid;\">A1</th>\n",
    "        <th width=\"45\" style=\"border-bottom: 1px solid; border-right:1px solid;\">TEST</th>\n",
    "        <th width=\"45\" style=\"border-bottom: 1px solid; border-right:1px solid;\">NMISS</th>\n",
    "        <th width=\"45\" style=\"border-bottom: 1px solid; border-right:1px solid;\">OR</th>\n",
    "        <th width=\"50\" style=\"border-bottom: 1px solid; border-right:1px solid;\">STAT</th>\n",
    "        <th width=\"55\" style=\"border-bottom: 1px solid; border-right:1px solid;\">P</th>\n",
    "    </tr>\n",
    "    <tr>\n",
    "        <td style=\"border-bottom: 1px solid; border-left:1px solid; border-right:1px solid;\">8</td>\n",
    "        <td style=\"border-bottom: 1px solid; border-right:1px solid;\">rs4571722</td>\n",
    "        <td style=\"border-bottom: 1px solid; border-right:1px solid;\">60326734</td>\n",
    "        <td style=\"border-bottom: 1px solid; border-right:1px solid;\">T</td>\n",
    "        <td style=\"border-bottom: 1px solid; border-right:1px solid;\">ADD</td>\n",
    "        <td style=\"border-bottom: 1px solid; border-right:1px solid;\">242</td>\n",
    "        <td style=\"border-bottom: 1px solid; border-right:1px solid;\">0.04382</td>\n",
    "        <td style=\"border-bottom: 1px solid; border-right:1px solid;\">-7.237</td>\n",
    "        <td style=\"border-bottom: 1px solid; border-right:1px solid;\">4.59E-13</td>\n",
    "    </tr>\n",
    "    <tr>\n",
    "        <td style=\"border-bottom: 1px solid; border-left:1px solid; border-right:1px solid;\">4</td>\n",
    "        <td style=\"border-bottom: 1px solid; border-right:1px solid;\">rs10008252</td>\n",
    "        <td style=\"border-bottom: 1px solid; border-right:1px solid;\">179853616</td>\n",
    "        <td style=\"border-bottom: 1px solid; border-right:1px solid;\">G</td>\n",
    "        <td style=\"border-bottom: 1px solid; border-right:1px solid;\">ADD</td>\n",
    "        <td style=\"border-bottom: 1px solid; border-right:1px solid;\">244</td>\n",
    "        <td style=\"border-bottom: 1px solid; border-right:1px solid;\">0.13070</td>\n",
    "        <td style=\"border-bottom: 1px solid; border-right:1px solid;\">-6.707</td>\n",
    "        <td style=\"border-bottom: 1px solid; border-right:1px solid;\">1.99E-11</td>\n",
    "    </tr>\n",
    "</table>"
   ]
  },
  {
   "cell_type": "markdown",
   "metadata": {
    "kernel": "SoS"
   },
   "source": [
    "![](data:image/png;base64,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)\n",
    "![](data:image/png;base64,iVBORw0KGgoAAAANSUhEUgAAASMAAAEeCAYAAADBxHNeAAAAAXNSR0IArs4c6QAAAARnQU1BAACxjwv8YQUAAAAJcEhZcwAADsMAAA7DAcdvqGQAAABWZVhJZk1NACoAAAAIAAGHaQAEAAAAAQAAABoAAAAAAAOShgAHAAAAEgAAAESgAgAEAAAAAQAAAoSgAwAEAAAAAQAAAfQAAAAAQVNDSUkAAABTY3JlZW5zaG90nnojhAAAAdZpVFh0WE1MOmNvbS5hZG9iZS54bXAAAAAAADx4OnhtcG1ldGEgeG1sbnM6eD0iYWRvYmU6bnM6bWV0YS8iIHg6eG1wdGs9IlhNUCBDb3JlIDYuMC4wIj4KICAgPHJkZjpSREYgeG1sbnM6cmRmPSJodHRwOi8vd3d3LnczLm9yZy8xOTk5LzAyLzIyLXJkZi1zeW50YXgtbnMjIj4KICAgICAgPHJkZjpEZXNjcmlwdGlvbiByZGY6YWJvdXQ9IiIKICAgICAgICAgICAgeG1sbnM6ZXhpZj0iaHR0cDovL25zLmFkb2JlLmNvbS9leGlmLzEuMC8iPgogICAgICAgICA8ZXhpZjpQaXhlbFlEaW1lbnNpb24+NTAwPC9leGlmOlBpeGVsWURpbWVuc2lvbj4KICAgICAgICAgPGV4aWY6UGl4ZWxYRGltZW5zaW9uPjY0NDwvZXhpZjpQaXhlbFhEaW1lbnNpb24+CiAgICAgICAgIDxleGlmOlVzZXJDb21tZW50PlNjcmVlbnNob3Q8L2V4aWY6VXNlckNvbW1lbnQ+CiAgICAgIDwvcmRmOkRlc2NyaXB0aW9uPgogICA8L3JkZjpSREY+CjwveDp4bXBtZXRhPgofhhq8AAAAIXRFWHRDcmVhdGlvbiBUaW1lADIwMjI6MTE6MDkgMDk6MTc6NTFhbIzWAABLMElEQVR4Xu2dB4BVxdm/31t3l16l9y5FUFFBY0Oxgd2oiS0maCx/NT35EqNf1JjkSzHFaAwqKtEoogJRsaAg0kE6IkiHhaXD9lv/88zu4M0Ky4Jw77nL+yzD6efMnTPzO+90X9IgiqIoGcZfuVQURckoKkaKongCFSNFUTyBipGiKJ5AxUhRFE+gYqQoiidQMVIUxROoGCmK4glUjBRF8QQqRkeYRCJhlz/4wQ+kS5cuMmLECGnWrJn85Cc/sftp8F5eXm4dsIxEIhKNRqWwqNBezzr7cBCLxWT37t377s1y69atcvvtt8uZZ54pderXkf79+8s111wjixYtste5e8XjcdmzZ4+Ulpba9alTp8rzzz8va9eulVtuuUVmzZpl78kzOc55v/jFL6ROnTry1FNP2WPcj3uVlJTY8wcNHiTTpk2Te++9V/7zn//Y6/gdLPErzl3Hs1myD7+NHDnS3guHH7kn8HzO4Xc98MADcvbZZ9v9ZWVlUlRUJP/85z+lY8eOMmXKFBuGxcXF1rHO/XHcIzU83333XRs23ItwuuiiC2XDhg3ywQcfyIABA+RrX/uanHrqqXLCCSfYcNm4caMNkz59+sjSpUv33RtYxy+Ej9t2z2U/fuH3s59n79q1SyZMmCCnnHKKLFmy2F6zbNkyGTJkiI0XQ4cOleOPP17uv/9+Gw6vvvqqnHzyyXLiiSfa/c8++6wsXLhQLr74Yundu7ece+658uSTT9r78IzaSOBBQ+W6cgTw+Xx2+etf/1o6dOggjz76qHTv3t3uHzRokOzcuVP+/Oc/28jfrVs3adiwofzlL3+Rzz//XP41+l82MRJ5J02aJCeddJJNoM8884wVENa5F5ExJyfHJjDOGf/GeCsg3/ve9yQQCMi//vUvefvtt6VNmzYyc+ZM+cc//mGFoHPnzuL3+23i+fjjj63YcJ8zzjhDwuGwvS+JjWcFg0GbcK+44goJhUKyatUq+etf/yofTf1Itm3bZhNJYWGhTVgI5bhx42wCJwHt2LHDXv/3v/9d3nzzTXt+q1atrKC89tprNmEhhn/605/Mb11iw6levXoye/Zseemll2T5p59KmRGVm266yf4e/PGb3/zGCtu3vvUtyc/Ptwnzww8/lLp161qxHz9+vBWq7du3S69evazYrV69WqZMniJPPPGEDB8+XFauXGmfQ9ggGDzrnHPOsf7Hf4QNfiRMhg0bJi1atNiX8Ddv3mzD9f3335cGDRpYf7344otWYPA3zyec6tevb38j9163bp0VuMsuu1yOO+44KSjYIh999JFceOGF8sMf/tCG35w5c2wYcn67du3s7+RDgP+bN29uxfWOO+6QRo0a2XeAiOHP2ohaRkcYIhF8/etft0Jw9dVX2+WFF15gBQkLiQiI2Nx33302UWAtELERpu9///vm2Ac2UvIFf/nll62gEWGxtt577z2b0IHzifxABCaRrF+/3n5VuS/CQiIhIXAfRImEzPM5F/Ly8vbdj4THF51E9T//8z/y2WefWb+XlJbIb3/7W3nnnXfseYV7C+39x44daxPIwoUL5IUXXrD7ECNEAHHid/HsGTNmmIRYIE2aNLFiwHF+O8/CLz//+c9l06ZNNmwWLFggn5t7Igj4h3uS+Pit+JNrOQ8R2Llrp/zsZz+zQosV8vjjj1tLxSVWwnvv3r3Wn/x+fjuJGyE866yzpGnTplbc+R5jsbRv317uuusuG6ZOhHiffAQIVz4YWIS8Dz4aCOLo0aOt3/HX7373WytEfGzw6/Lly+3zvvCP327zm9944w2ZPmO6DR/e05o1a+zHpUePHnLX3XdZ0cVKuueee+y7RfBat25da4UIVIyOMEQWIjCR+/XXX5drr73WWkF33XW3tRBItD/96U+tJcOXfcWKFTay8cXDssnNzd2XMDg2efJkKxwk5Ny8XBuRgWfwLBziAXytSbxYSyRSvuynn366PYYFgcVCwkIQ+vXrZy2nK6+80lpF7CfxkihIWIgMWQ8ScnlZucw2z7311lvlrjvvsgmN53A+z49GY3af2ya7wleeZ06e/KH1f7369Wz2B+sQwcBK4fkkRsQBwdpjhOPuu++W888//78SMaIxePBgady4sbUm+B0PP/yw3G3CNBqLWmsFy+G0006zFhvPd/C75s+fb60UrCCsJn4X2UPCC9HZuHGDtY7wL88oLSu1vwVY4tiPf6GwcK99BuF21VVXWcG4/PLLjb92WgHnt/OOb7jhBnutEzbWuW7V6lXWIhx48kD7ewkf/MQ75dxtW7dZgeP3428sZ8KbZ4C7X21DxegoQGSpsHAmyfXXX2+FhkhF2QcCwRcTRwJGfLAQ+BoTUZ1YIDBEzpYtW9ol+84bcp7N4gDHidwcI6KSeNkmgQHnY9VQ/oJVxTbZMxzn8hwSANkP/ItjP19s/Dl71ixrNSCGWAQtjGhQjoJQ8TwsF2AdMSX7mb8532ap2EfWC6E77bRB8sorr8irY16153Oes+hIzGQdL7vsMvs7i81zsXjcPVJxZTWIDr8ZP2FtYaWRmPEzgoGlRzgSFiRmRBzhwlqh/A5h69q1q83S8Xv4UNxpBBbLyolFIl5R1uZAqCjTwSrCOikpKbXh5347jrDDX7yXrdu22veLH9nnxCORiFv/XX/d9fLYY49Zi2zgwIE2O4af8APZZz4kZKGxxsjKfmqyrdddd539LdwLf9ZGVIyOMEQWBIFsAJbPI488Yi0cCpvbtm0rDz30KytSZMGIdCRaylo4RuLEcsBaOKH/CdKpUye56uqrpGfPnra8hIjNMXCJJZxTcQ1lHkRSEjqmPn7gXEx99vNVJyFRvsKXu2PHDjYhkMAQKJ5NggISyl//9jebDUEsEEuyDavNF92VZZEQnUBQeI5wjX5htC2zwaqjrGT9hvVWZLD0sEg6dGhv/YIIU9iOdYIgkpj79u1ry6fmzZtnfydWDnA+v4V7Ys1RyHvBBRfY7CcCgdAjehRuE14IEI7rECl+PwJEuLCf33/zzTfb+/3xj3+0ZTUUEPO+3HF+j8v+AsLLvXkGgsf7wk+EA2GMAPE72Y8F161rN3nu+eesdcO9sLigTp261jokTPFPKByy8QW/IJSEA2HO/fhdW7ZsseLNu3t74tsyceLEfcJWG9HxjI4SZCdwJFoSOpYJEZwESDkGsA9HpCPh8NWkLIKIyrVky3JzKiwnxIiEYCOxiawOsjx8ubkeKwtBQVw4j3WOkeA5DiSMWDwmdfLq2OwO15OQEAjW8RvnkpiBxMB9eSb3Au77+9//3goC5VMkZO4VN/fNMf7lNxGt8DMWC7+be5KAuR+JDjHlWezjGPv4zdzbCQrCANyL38DvIgy4jnXuwe/h/uzDj6y7KO3Chmt4B+znd7nfyTKZTJjfl2fDC7/wfPycGs6IY3FJsbHciu05+I3nch7vjHWEGT+6/ZFIuQ0LcPciLvAbEaH69erb++If/MUx5yfEj/u4MMKPJqnacOVetRUVo6MEZjyR1iUAIh4JnqWDY0Ru9nEuuHW35Bx3Dfdx56WSej24Z1a91rlUP8H+rnXr7t6p9yHhUR7Gb6Sgnn2c4xIv61zrHLhzuA/rJDT3XM4hHFyYcQ7bzh8O55fUsMURrqnPScVdkwr7UvdzLevu2gNd4+A8XNV74NjvfpvbTr3XgfzJNc4fqdfxDLftXG1Fxegos7+IfajwinCHc5/qrq3JfTnuEgDrbumyaFgcDkQhNbEc7P4HOs6+gyW6g937YHBtKkc6kbv7H8p9D+ea2oSKkXJYkJ0AZ9lVFSJFOVRUjJTDBhFy2QgsFIRJUQ4XFSPlK0H0wSI6EtlR5dhGxUhRFE+gnzJFUTyBipGiKJ4gq8SIcgll/7jctitUVpRsw9NiRAKjMZirsVG+jBMeGgLSehjYR7gpSjbhaTFKTVD6td8/rm0PNVk0QHStf7VmS8k2PB1jSVAkNm1M92WcpejCxnWfwCHcGmZKtuHpqn2+8ji8iDCxTO1+cKxCOLgwAbJnjJXENsNM0EcMMVLrSMkm0hJb+VLjnO7VNMvF155BqBgci2v1a19BqtAQLgg2Q7ziGGxMhUjJRtJiGVG4SgIh0SAwDJfAMAnsZ9v1wqZ/k8OJz/Tp0+3QDAxTwXFNZF+GsGKERsKHcZEIT7UglWwjLSk7tRMlgkQ2go6W7CMhufKOA6ECVD2EHSLEAGtYnYSnomQbaUnllGkwkDzjHJNYPv10mR3OlFH9GGxsf8aZEyeEKA3GW9bjhB00vJRs5KiKkUsUzPgw5tUxMnfuXJtF27KlwI7Ix5xbBVsL/ssq4hqsJsbLQcTcUBVK9ewvm6so2cRRFSP3tWbc38suvcwOmylGdxjfGDHCSmrUsJE91yUehuWknIgZHxgsnXGkGaCd7F1NC76PRRAjJ0gHy/Yqihc56tk0RIbxfEkk1soxmkPhKjVkTKzH+MdYSw7OY5BznJtEj/GVESL92h+YVPFRIVKykbSVDCNETkyY1YGZExgIHiFyBdQIDgOcM20LUw4zywUzMqQeVxSldnLUxch9pbF0aJBHNo2JCJnsjgkNmRmDbAVC487FOkKAKhrvfdEtRL/4ilJ7SUs7I4TGFUZj+dBamH2IjptGxrWNwTs4d/y550bZmTqZd4zjbgYKRVFqF2nJpmHl0MiRAmzEhOwZE9OxZE4ujrtGelg/bLusWSpqGSlK7SUtYgSIi6vlcWJTE3FJtdtUjBSl9pI2MUrlUEVFRUhRaj8ZESNFUZSqqBgpiuIJVIwURfEEKkaKongCFSNFUTyBipGiKJ5AxUhRFE+gYqQoiidQMVIUxROoGCmK4glUjGoBaRh4QVGOOipGHgehYTwnhljBpW67oXhxipLtqBh5HITGDS6HECFCbt0tdWoipTagYuRxUoXGDcHCEodIMRSLEyZFyWZUjDwOQsOAdCxxzJ6yefPmfeNDuf2Kku2oGGUJrlzo7bffltdff92up2bhFCXbUTHKErCCsIZOOukkOeuss6wQqVWk1CZUjLIAyolc2VCXLl3sVE6ss09Ragsamz0OQkRWzA29y5JZU7CMcKyrdaTUBlSMPE6q0LCOQ5BSRUnFSKkNqBh5HETHZdFYIkBVl85qUpRsRsUoC3CCdCDRoXBbUbIdFSNFUTxBVoiRlokoSu0nLWKEmGzfvl3y8/NtzRBz7i9fvlx27959QKFJ3e+yJypKilJ7SYsYbdmyRR577DF56aWXpKSkRD7++GO7TkviouIiWyMEiE3VFsXVlZUoilJ7SIsYFRQUWFEJh8N2e+7cuXLmmWfK+vXrZcP6DVaAcIgRrqyszIoWzu1XFKV2c9TFCCHp0rWLDBw4UHJyciQajdrOnp07d5a8vDxrGQFDY2ABcWzy5MkyYcIEmTRpksyZM0eKiorsfZwFpShK7SMtllH9evWtVURZESAqCAwClBPOsSJEexngvO7du0v//v1lwIAB0r59eytinIN1pShK7SQtlhGUl5fbLBeig8CMHz/eilHr1q2tyDihqVOnjj1O/yuOtWrV0g6hAVp2pCi1l6MuRk5A6OCJtYPlM+S8IVK/fn05//zzpWHDhvu6NHAuzg0eppaQohw7pEWMEJpOnTrZ4S+wjNq2aSvXXHON9OvXzx5DeFJr0ZwoQaVhpShKLSdtpgci5Mp+WG/UqJFd4pwgKYpy7JIWMUKAyHIhOC47RnaNsiBnAbmloijHJmmzjFwZkHOp2wiRipGiHNukTYyc2DjxSUWFSFGUtImRoihKdagYKYriCVSMFEXxBCpGiqJ4AhUjRVE8gYqRoiieQMVIURRPoGKkKIonUDFSFMUTqBgpiuIJVIwURfEEKkaKongCFSNFUTyBipGiKJ5AxUhRFE+gYqQoiidQMVIUxROoGCmK4glUjBRF8QQqRoqieAIVI0VRPIGKkaIoniDtYsQkjji37ubZrwk1PU9RlOwjbWKE6EAsFrNLt80c+6kCpSjKsUlaxCjVAmJu/aLiIpk/f75s2bLFTuCIIFUlVZzcOhNAKopSO0lL6kaIEBJEBfGZNXOWfPjhh/Lmm29KWVmZFSNnKTmY/ho43804W/UcRVFqD2kRI4TFWUewe/duyc/Pl82bN1shSrV42C4pKZGdO3faJc5dp9NgK0rtJW3ZNLfEUW60bds2K0IIDWLlsmp79uyRmTNnWstpypQpsnTpUitI7lpFUWonaS2EobwoGo3KmjVr5NJLL5Xi4mJrISEyruwoNzdXevToLgMGDJDevXtL165dJS8vzx5XMVKU2ktaxMhlrxATBKlJkyaya9cuycnJ2Sc0rkyJfa1atZb27dtLu3btpHHjxvYa0GyaotRe0pZNc1kylkPOGyL169eXoUOHGuFpVXnWF3A+5yI+OJeFUxSl9lKtGCEKThiq4o7VBCcqrqC6Q/sOMmTIEOnfv7/NlrEfR9kRLtUCqvqcmj5TUZTsoloxoqAZIcIyoQq+sLBQtm/fLnv37rVlP64BY01xYhQKhaRp06ZWiJxQOQdOmCqosKocqUKlKErtoVoxIuEjRlSzT548WV57baxxr8m///1vu41AHS4ITHXC4o5hCLl1FSJFqb1UK0YIRlFRkSxatMgWInfv3kP69u0rPXr0sFZSwdaCwy7PUWFRFCWVasWI8pk6depIq1Ytbdaqfft2csIJJ8ipp54qp59+ujRv1vy/slCKoiiHS42yaR9/PE2mTp0qI0c+LVu3bt1XPd+gQQO1cJSMQDVGzPyfqHT8KdnNQbNpdGbduHGjtYRopMg6WTO1iJRMEpW4cVEjSDGzxl+FJCnZy0EVpbS01IpPp06d5LjjjrOF1uXl5ZVHFSUzBMUn4WRAgkm/cQEJpERlJInGKNqtOrs4qBiRHaM1NP3F1q1bZ/uMjRo1ymTdPv5KtWmK8lXwJ3wSiPvFb5wv7hOf2fYlK2tgjVMhyj6qFSPKixo1aiTDhg2ztWo7duyw7YsQpHHjxsmm/E37bRCpKEcdhAfn81Wssq+y+JIFrdQqN5Us4aBiRGF169atbc0a3Te++c1vyte+9jVbcF1S/MXwHoqSHpCdpC28jgSSEvUlpdwXt0ua4HLUrBprqcIp2cNBxQgQnhYtWtjOrZ9//rktQ6ITq+vAqijpA3uHrkVJ8aM2/oTZQn2oVTPxtUKrKpySVVQrRogQtWaI0mmnnSZt2rSxtWkM73HJJZdIy5YttVZNST/GSvdHoxKgzNI4X3mZ+GNmu1KULJpHyzoOKkYIEYJDtf6GDRtsO6Ply5fboT5oEKlipKSD1A7SthI/GpfCVetl6nOjZeW0mRIw4uOPx4wWIUjmfKKlClJWcVAxIhKwnD59uh1baPjw4bY19uzZs21htvaiV9IJ8S0ejUnpZ6tkwXMvyvK33xcpKRUfObS4iYvmOAXacZx+J7OKal8XZUNObFz5EbVrtD2KRCL65VEOGWJT9Z8vmi6WSjJWThNrYwGZeGiiXtQ4Gx8LCyUyc44sf3Kk7F64QL427ELpeMrJVnx8wZC5wETpBE9IiDm74pZKVnDQb4cTI/qjARYRw3sMHDhQcsI51mpSlK+EUyjrjBgZx6cPy8Z+As1/fiMwyeJSyZ82S5Y8O1rKi4pk4Devk16XDJVws4YSCfrN+QFzPW2OjDVvr1QxyiZMFrtSbfYDhygj+sMf/iCbNlW0KWIMIiyjb3zjG3L++efvG5PoSOPKqmhgSS3ebbfdZp/1xThHSrbj9CdVNohJAbNRaPJdMYlK/WRCgohTUblsHDVBVo4ZL31+cKO0vOBMSYZCUh4ISpEvJEkTXxr4Q5JjLCmzIckw9fpGmERrfLOFasUIs5hyobVr19psGSK0bNky6dWrl3Ts2FGaNWt21Kr3VYxqN0Q65IJl1QhILstn8mYJX9TEgYiEdu+Vba9+KMtfe0fannO6tL9xuASaNJSoEaNSc37MFzSS45c8Iz05tm2RuTZIbzWkSMUoW6g2m4YghMNh6dmzp52po0uXLlJQUGBn7KDsSGvSlMPFiVCFI2uGdNivoyQpJDJSEvDFxLdpm2x6/g1ZPuoVadK9nbS5+jwJNmtszKewOTkkYeNyzJW5JnsWsnk6cz+/zwqd1SUla6hWTbBCsIywiABh6tatm12SNcNyUpRDBWOc6nlIGBFi1QpRIm6yaEnxxyPmuLGKtu2VrU++JltefEdanNhTunznSgl3aGUsJhNtjTUUSvqNCPmlTsIvOeYefm5pbkQZdsxEbUqOlOyhWjHC8onFYjJt2jRbtc9wIscff7yd64x9lCOpIClfDaMglAuZj1vAWDeJWFySJnsm6zbKuj+Mlq1vTpVWp5wsne6+Ufw9O0s8aT6Q/qDNgvlN1MMFjJ5RtW/vZmJ03BwzR+2fkj1U+7ZcNo1e+3SSff/99+0sr3SUpRyHRo9am6YcKhU2UQUBY+X4TDyz/cii5r9YQnZtWCnrf/+sFL89TRpdd740/n9fl3DHTiay1pEyYxH57JAhJt4Re4l+mEQBY20ZZ6v4za4w2TbjlOzhoAXYiA2nUFZEzRqWEo0eKbxu3ry5FaujgRZg117IolXY0wz7YcQpGrVjEiVpzJi/Rfb87yOybtNGaXb9MGl6+QVSt1lzCcVCRnTCEjEK5DPiQ9U9UWFfi2tzNyrSjCpJ2Ozwu4lrtPw6a6jWMnI6hSghPP369bNjYFOYTb807Sir/BeVWSXEpmJIWNbYWbGMsaQNUKQia8VnxVpFJhZGAuaKku2y/aXXZe/a3dL1WzdIs28Ml7zjWhg9CUnCxDUMHT59fqyfQEVLImsGmf+IqRWZs327KleUbOGg7YwYQI2+aMyXRv+0hg0bWkul3wn9pGOHjlq1r1RALKLFtIkOEWPuID5GPirFoUIsrIv7JWbyUogKchI3WauyaJHsnbdYyt6dLMn87ZJ3xRXS6pQBkqyfa7Je5g6ISsDc2MRHsmdsIkxVtaZCkJRspVrLCBAkBt5fsWKFnT+NoWdZLlm8xA4/W42WKccSRgXiRi8SZsnniZquQMJvsksmW1XpGJWRLhpxYxqVGxf3RcW3fZfsfWGi5D/0tJSv3S4tbrxcmp8zWKR+PXOXCiFKGtMJKyhJ+WSl2lQu/ov97VOyh2rFiPIhyowYu4iyIbdNVT9OhUhxEBMY4IwMGdZLgGFgjRhVRDHKhqyqmPgTlxyJSNJvPmQ7Nsuuf4+X7f94VZo2ayFtv3Ot5J56orF+zTUYwEGzNNZxNIGEaVyr7VQrRmSJnGN2ECwiZpMl68aYRl+lKwjNA5gmG0Hbn6iRTavK/vYp3gC5oGuqjVDWjDHObNj+ZcYlERe/EapkQgIst2yVTc+NlZWvjJOGA7pL6+9fLzmn9TN6lWsinsnWBX32Wjri+4wgqdVT+7Fx50AgEogNjrKh3bt3y549e+xYRrHYoQ0fglVFA0pYsGCBvPPOO3ZQf8bWpoC8qtA4kaPmTvE+RCTKgPzECV6leX3lZr3MHCj2JcySGjQjVibeRDYUyNrHX5a14z6QpqefIC1+cI34+3U215p37QtJwoiRrW0jDviNleWvKCmyBd52P/8ptY1qxQiBcIJEb/3OnTtbx4iPCxcushZSTQTJ3YMl5UxMCElhOELjupQ48eE4zQgYUXLz5s123TWsPBTxU9ILb4+yIjvQInpkdpQaEWJSq5hZ+pPl4k9EJL5us6z484uyesosaX3ROdLh9usk3KOjxANBiZjsWRKryN6twmETfbGl1GaqFaNUKMQma7VkyRI7935eXt4+IakJCBvZPUSHzrZMe7R+/fp9FpETGgSOwnKes3LlSttJ11lUinfZJxaV3wuKiIgfPolJTqxcQuVlktizV1a8PlHWzF8s3a+7XDre/HXJ6djJnJ1jxCsgMSNGVNsjalhBVZ2KUe2mWjVxFg2OVti0NaKT7CmnnGLHN8KycRZNTeB+iA8jANBWCbFhKFvA+uE4IseEkXTO7dKls32uy6odyrOU9FJpEO1TDBZMtJibpMDafIx27Jb8f4+XLbM/kV7fvEw6XTtcgi1aSjxBJX+OBJNBybGF3HTmMBHT3CzVuTfPM3BK7aNaMXKWDwJCYTX90nr06GHLf1zr7JrgBA2xwTo66aSTbO0cw9iGcyo63fIsjrO/bdu2doiSNm3aWgHkGjgUS0w5eiAGNHB2UwOBeXUVpdU2R022LGLEqFSC5UVSNm+xrB35kuRPnykdzztTulx+kfiaNDRZsoAksZ6Sfgkl/BI2N6lsyvjf1CyaKVnOQS0jQHywWGj4+Omnn9osFAXZNcXdx4kJM4v06dNHLr30UjsFEiB4+xeb/de2KemFzvVWJ4xjQQtrJ0hWkYwIJRMBW/uVlHLjSiWwY7vsNtmyGX94XHZtK5CO1wyXNlcNE1/TxuIzQhQIUlNrPlTmtVc4vwT8ZNIMCJBzKexnl1JLqFaMwFkzZKkodGa42YsvvtgWYrvynpqA9eMEh2sZoA0rKy83b7/3cVYXOuTWlcyA4FAgbeF9GIdk2LIdhMiaSD6JGQO2PEAlf0SSJlu2bcz7svSpVyXcqIG0+9aV0uKsQRI0FhGiY9XHvNx9b/bLK8oxRrVihHA4t2bNGlu9379/f1ujdihtjBA07sH5CBvrLuvF0h1XvAlaE+VVV75uv/l2BI34IESU52Aq+TCdfGUS8UWkzFjQW/4+TjY9M14a9ekp/e79tjTr20eidan0qHjvwKWK4qhWARAPJziM7Egt2IQJE2Ts2LF2vabZJ+7hBKfqNVhFiJyKkbexb63Kt8eWN7PPmEjUmoUjRRIq3CWrn31dNo6bJE0GD5Aed3xD6vTsJkl/nvny5JoTv3jPNf2YKccG1SpAqnAMHjzI1qI1adLEZrOaNm1a48jkRM2dzxLxwbl1d0z5MrwH19YqE80cGDPRztZaGR3IsmEp0YbIznHvixlRKpdAebkUjZ8mW9+ZJo2vPUta3nO9hLt0kkAiJL5gjrkHg3voe1b2z0EtI5cIysrK7UiPOFpN0zjxUOBeqc6hFlH1IERUILDEiqxqWaYDGlaEeCxFe5VCFDHbtKiOx2n4GpVkSbHseGuqbHx+gnS68Fxp862rxdeptcQDRoiSYQnQWdaO/cEdFeXL1FgJGHaWREF/MhomfvLJJ1Ie0V77RxuEm3I1srKEdSa6x9DJ1basNlhNQlPMjmC0XMLJmPhM1mzD+Emy8vGxEuzYWtreNFwCTRubyGWilxGjuMmamdO+KARXlP1QIzEiQdSrV89W52MZ0RKb9kBqch99yJbRj4/GoViRGWmNjgJROGT+0emVtx5Mxu2YRMn8LbLqxTGy8rlXpEnrTtL03msl0bKpBI0lFEqGbO99LigPHsKXTzkmqTZ+pFo93bp1lfr169svM4JE1TwdZlOzXMqRh755Y18bazsXE9ZHK6tm9aZi9UsbdgCPytecTMQkwMwdxUWy7aOZsujJ0VI4Z7F0POcMaffjW6VJz54mNxeUBFMJJQJWjALokREj7dSjVEeNxWj16jW2awaD8NMqmo6sfKU1m3Z0wSK95uprbPcYONQuOAclRpkgzRRFyuyacagGk9ubvFVEYnZ/jEcaIfLHSiWxY5OsGjtW5j82UhK7Y9L5mm9Ip+/cLLkn9ZA8f67kBHIkYLKVDA1LpzKKBekSopaRUh0HFSMiPoXY27Zts8PP0q8MMdqyZbPdr2J0dKFJBdOIM18duPZZRwzm+DHvkAaMRAbaFNF4kWE8IBBP2skRGdys3M841UWyY9QE2fH4a9KwdRvpMOIaqXvWaRJo2sxcTyF1wC7NWkV+jptWrupgMEp11PhjxUD8fKVJGB06dJA+ffrabJrWhmU3dCcjC4YY2cHu2WnEKG7EKIGo+AIS9NF5tVz80ZjsfWeWbHzlPWk78ETpc9c3pUHvLhLLCdgOIIryVahWSbCKXBsgBKh+/Xp26A+q9Znq+oh/pZW0gnyUGyGKmKWttTf/BUwWLWDMI1pWx8x7L/H5JeaPSqCoUKLvzZQNo/8jLYacJsfdd73k9OokgaQRqwStHjUuKF+NasUIIXJiROfY4uISax0xkywtsLXMKD0cLeuTN4cQkTWraE1mQJXMho8er4mEPS5GiPZMnCJL/vKshFs0lDbfvUYSXVtJImhsqWCOESN63XOiohw+B43llAsVFRfJ4sWLbc99xsKmzcuqVaskGtP6kezHJyHjAqgRZUPGwIn4YxJPRiUYjUvejr2yd8wkWfDkaClvUU/a3n6VBNq3MteEJeQL22FAqC6jPaOifBUOahnRwPHDDz60Q8AyAiNtXlavXm3nT7NjExurSclOePl5EpBQzIhJJMm4ZlISSEpBMCZl/rj4CnbJrqfGymdPvSy5ndtJj+/fKHX79qRrvgR9OcaACtjsXMLoEYXeivJVqFaMyIK5qmT6olGzw5hGDIpGO6NMtAZWjixhGiUiKCYmxP1MNBSVOqWlsmvefFn0/POybcY0aThkoPS+d4Q0Pf4EI0C5EsciijPnfUX2juyerS5TlK9AtWKECDGGEdX6jM44fPhw6xgQjX1atZ/l8OpiImXGqtlhvitFwaTklBp7Z8wU2fTokxIt2CCtbz1Xutx1veT26i6lgRwpCeVIeShgu3YEKVuKJo11FDNahCwpyuFTrRgBLYCpQaP2DEd7F9oZ2TIjLcD2LMxrH0dpEsbFGZexcq57FChmnNEO3hyiYseZjpdLMFEoJYvnyep/vSINGzWXbjffIHUuuVByWrUxH6aQBIIhCdFPDivIxBxy6CE7lVBluyJF+QpUK0Z0PaD2DAuJvlGUH23dutWKE1k1qva1zMib+JJxiRshihjVwSUTcfHFEpKI09rat69rBh+TgLFsGkbN3hmfyKd/+4cEujWTTt+/Ver1GyCxUGMjWmEjOgHJM9flmWtoTU27JNoj2bGMfEjRQb9rilIt1cYgeumTJTvxxBNtr/0XX3zROvYzuwe1aipG3iSQNAKRDEjEWC3lRkgSZtsf94nPuJgRECZXjBiZ8Sej4ouUS8m0BbLw0acluL1MunzrWsnp0Y6vkfgZDE3fsZIGqhUj+9U01s/gwYOtY1A1+khdcMEFdl3xMEaEqO0MG/Ml6DNiZLaZIJGPR5hcmnm3RXRCixfK7jenyGd/GmWEyi9dbrtZGvQ93giQiRqcr9lwJU2YuHbg2FZaWmrFyDV+pIyIpRtbx4nV0YAsIs8aNWqU7Nq1S2677TY77ra2+q4ZNhtm3myQtkNmtdQEG+VF4URSQhGTdTPGTjRRIrvHjpWN/5wguc2Ok3Z3flP8g/pK/aAJ52TlNNN+n8miaYmQcvSp1jJyY1Pj+KKm9kVjqcLgXSiUZox82zDaKEkwTpYsIXGfkSmfEaQtRVL69ATZ9PfR4u/SVNr/+EYJntFX/Ll5JlsXlCjv3fyFjHipECnpoFoxoh2REyRXNoQAaTmR9/EbyzIocZM9oyYtaiyiqOQayzYUj8vulatl+ahXJH/8VGk54ETp9v1bxH9qL/EFglI35jcWUUjKg35rFVXYVQc0nhXliFGtGCnZC40Yk8YCYnAzXzQmEiszFk5SShZ9LvP+9rTsLVgjzW85X4Lf+6406NJPcktzJGwbNPokN24sKaM/ZUaLEgGiiH58lKOPilEtxWfUKB4PSKkRl1IjKEmzTCxdK6uffElyjTB1u3Wo1L/6FPF36CTxRF3JieeaLJmRK9vPLGEsqYQdyyhBQbaipIGMxDQKvimgBrc8EOQIXRl7NWXtxyY2OAi/hPljcNjKXQZ/LGFrwspNFo3GjrvnLZYFj/1TStdvkH63fF3qnNxX4oE8aUaVf25AkiEjQubiUNKIVsBWpEmOubVKkZIu0hLXUsWELiS0U3Kw7Zap530hPF9kEb7Yd2yD/NigIOzi1JtFKv9itLm2HV4TKIsvJnWKyiQyabosfuwfUrx9k3S9abjkDDxBEsn6kiMNJRT0SdCIjz/kF18oYJsDBIkWxprym2NaRaGki7SJUaqQUCBO3zbGRQLEyZ2DpeRcBSpAVbHyTbBUBg3jMLLqS8TtlNNRs1UWNHsTESl+a7ps+N0oCZTEpfddN0i9YWdINCcsOdFcyY2Gv4gBFFbjKv5VoGaRkkbSEt2ofUsVG2rkpk6dKnPmzLFC5ISHJeek1t6RNFxzAq3Fq8BmzAgKwiUZMqITMtZMjgmggDmGbRQRf2GR5E94Tz4ZOVr8detJnztHSP0hZ0hpg3oSTgQlmDCqRd2/oniEtIgRAuOWCArDkDA2UmFh4b5jTrAQp927d1vHcUYNcOcoFTDVdMRnsrwU7NDtI+K3oy2WmH2lUi7BPXuk6F//kaVPPi/BTs2l3Y9vkbyzTzan1jHWUJ6EzLlRf1TidppYRfEGaTPEERssHKyfSZMm2aUrL3IWDxYTnXHnz58v06ZNk9mzZ1vRYh+oKFUQRNRNUFBaZMuPjJWTjJpsmdnHiI3bJnwon7/winTo0E763XuThAb3llheWELJsOTFwvaamBGiGM2zFcUjpE2MnFVUUlJiu3ewzYiRTH2ESLHNklberVq1ktatW0uLFsfZQd20pXcVIiLhqBEgI+jFgYTsDUcl6YtL3trtsvPl92XjpI+l4YWDpcu9N0jjnl3FnwxK2Bc0WTufxINiLSq/WQ+6QidF8QDV9k07UmABYQnRmruoqMhOj7127VorSsOGDdvXzcSJDl4iu0YL8Oeeo2/abhkxYoT2TaskWW5eGW2AgnHZGyi3IhNevlrWPP6aRNflS8srzpEGw06XZLN6Uj9uLCGGiA0yDywCVNE1JOmPk8MTSpsUxQukxTLCInJZMYSnc+fOMvj0wXLeeefZ7aqkno9UugJupYJYqMLCYcyiOqXlEp/3icz665OyceFcaXneGdLisvMkcFwrCSTrmnDMtcOAxKmDM/k46t2MEWUbRSZRI0XxCGkTI2fRYAGxXbdOXTuoP1bQ/qwdznM4YVIqKDZBszdINi0ukY8XyObf/FNkxTrpfftV0vDGoVLeqL7kRAOSlwib7FvAdgthKqGcRMysxyQSTNhxjYJMmqYoHiFtYuSWiIwblA0Rcuup4nOsw1xlRmrMSkKS8YTsNes7jYuYXUnKi5IlEi7dIyUTP5aVj40S/864nPTtEdLq8osk1rSBeakhCdAkwmg8cysy5TRjGgWNhRTgr7JBo992hFUUb5A2BXCC5ETHCRCOdXf8WMdOqkiZTiwp5VTV23FAkpIw20kah/qTklu4R7a/NVGmPzFSEjl50uGeEdLoknMlWrehkaFc40wYY2ziTLDaoLUNGitaVzNPmj3GfNaK4hHUHPEYDPgRpN1iwifFwYphY+saIWpYGjFCEjNWTkQK3pohM554UUKdWknXH90qOUNPkmg9hnoJWqFBZ9AbRckmVIw8RjiakEDSWEUmGxXHgDFZK79QExk1xk1M9s6ZLWtf+I+073S8DLzz25J72vFSUsfIlD9ksm8BCcVNVs5cp2XTSrahUdZjBKJJiQWMGJk3UzdJTiohkWBckiWFsuOtSbL+n6OlXpe2MvDe70pez66SCGANMStsQPwRk901YlQx2L6iZBcqRh4jZiyiqMlnhZJxyUlEJBSJSmL5Wln2t9GyZvTr0qBjW+l4x/Xi79NRkkaIwr4cyaNvmu2sZsAqqlgoSlahYuQxSsPM1pqUIE0UkxGJzVos6x95Sna+PUOafW2wtL31Ogn17CxRv7GCgpRAB8Rn1o0e0YLRvtHcWMVIjYqSTagYeQw7wFksKYFYRHbOmC2L//C4lKxYKz1vukqOu+FyKW/e2ogUtWJGgIwzubKKmT7Mm4xzsZ8yp4S9j6JkEypGHoP26DlGXcrHfSyL/+9x2ZvYKW1+erU0/MZQkfoNTD4ux4hV0GTjKrJiaA4vMZBgZMeE2Rm3YxnFfdpqXckuVIzSBaoRSdrRhsorNxNJ2g8Z0TAbCWPiFNMa3WwXLV0ps598QXJCudL7e9+R+peeIbEGuZJr8mK5fpozVkAVPj3LKnJoPjuwGhIVI9um7baULEPFKE1gtMQiCTuTa6nZtoPFlsckGYlLIpqUSDwqJWZf6Wcr5ZOXR8tbaxbIjl6dpclJgyTsbyo5iRzbYt0foKzInGi0hpdXuWo22IE8BSTXOLJxipJNqBilibgJ6cKwz87wmmdcwLgg8ynGY1Lsj9pC6Minq2X835+UcW+Nk7WhuExcPF/KIzEJ+IwQITS8LfSm2rdGz3wjWJVbipItqBilCRowFocrpgzKiZMdi4s/nJR4TsKITULyZ82T1x9+RF4Y94oUNWkol39nhJxx0TAJ1qljsl2IWUUjSJzNjSlKLUPFKE1g0NQ11hCTK8aM+ESZZppB0QoKZPtr78jKf42RtZtWSKdBg+W6H/5IrhrxHbnilpslULeuGNmqdEaMjFOrR6mNpGVwtcOBMYzoRDtqFIOr7ZLbbrstuwdXM6EcK42JL+STkkBMQlIu8bmfysrR42Xvxi2S6NhY6p87UMJtuknP3v3EH2JwfXOZUR4yXft+tbkPxUOKUttQyyidJGISSxobJx6TsskLZMWvR0rx8rVS2qGRvPj5IikxQtN3wIniD1SU+gRMlo5aMhowVjYhsk5RaiMqRmnEx1CvIZPVWvy5rPjVE5JTlhT/mQNkzNaVMn/7dtlVRsW/Oc9YPrwYBIhB9nH7CorUKlJqKSpGacNkO2kzvWWnrHr6ZQmHw9Ls5mHy7u7V8s6M2XL77XfK6edeYNse+a36VAERMk574yu1FY3aRwlyUzZHRQMj2zLaJ9H1+bLyd8/IrgWfyapujeT3M96Sl998Wy4ceolcdsll0qBh44qr/ssUMiBCxtEXlgLs/UiVomQ9KkZHBJowVrarNqvMdb/TbO000hGPFJt9pRKZu1A2/OEZ2T13vmxp3Uh+M2mCjH7lDTmxz6lyz+3/T5o1bSZlScYsqjSBWFau2s3KVV4YS0WpbagYHQES/BnrBxEC6id98aTEjLjEfXEpmjVP1v9ppBQtWCLFrevJ6M8XSqxOI7nvnh/Iz++/X47v3kvi8ZhtCWkyaeYO+5cbJ0aKUhvRuH0EiEnQyBHDeRi5CJj/jQA1ikWlbn6BbHl/uix++iVZOP8T+chfLKMWzZaisF9+9sADctc9d0v3nj24QBLxuPiZGVYzYcoxiorRESBhFCiRNCpE8VC83GhLqZQsWyKbH31GSl96R5ZvWCsj92yUV3dtlvDJ/eXHDz4oF19yiYTCOfaaiokJfHbapiTlS4pyDJIxMfJoW8vDgrY/zOaRSJqsltmIbS6Qz/4yUkoXLZGddXzyzpb1MmV7gZx/y03yI2MRDTn/wopqexP8AdoUGSHyh8ySdVtmpCjHHmkRI4THzQqbus6SaayzjapCGoqbbRo0BuIi2/fIhmfGia9gt/ivOkOe3LxI3l22TK4cPky+e9vt0qN9J/HFTaYu7pOQsYhsQVCQrh7GMvLTxFGNVeXYJG1iBKki5BwgSNloKSWN/20Zj8maBfxRiWwtkE+f+rdsmzhDtnU+Tp5YNlfGvP+RtD6+q9z3/e9LsybNbN182EhOwBlA5g0kjWVEKyT+1C5SjlXSIkZkPZxFxNJlRdwEju5YNrGvoBlvB6MSX7VaVvxxlBRMmiFlnVvKnz/+UJ568WXp0ruf3Pvjn8mAAaeY35iUUAjrx4QBIW+ydDRitLcwDpFSlGOVtIgRIDaID8KDJbRu3TopKiqy2/vr/Mp+R+q6F7BiarzEMmoEJLpshax47O+yeeZs6TJ0sMwJlsoHS5bKzVfdIg/88kG5/spvSDLgl3JjPcX9FVX4uISfkR8rZI1RGoOVTQMU5VgkbWIETlSWLl0qU6d+JNOnT5eSkhIrVCRsllUtJPYjYpAJUUIqeKpr1shGsjwuyVjEKGyZFM+fJx89/qys+XyNtP/6RfL21nXywuRJMujss+XBBx+UKy64RHKDRmxD5rdQY8bY1OTRbNbM7DMurS9BUTxKWtKBExG3jEaj0qxZc5kyZYps377d7uMYjmPs27p1qx06BOvJCVS6xYinYbkgRBHjhajZETP/JSJx8ZUWyfbJk+Wz//ujbDb+7H73HbKwpFQeeX6U5BcWy/fuvU9atW9lB8ZPGpMn4EvaWfCDPpNNs+PGBs1fxfCw9iWgSl82EBXlmCEtYpRq7bDep08faX5cc2nevLnk5eXt2092jSzcli2bZf369Wa5xYpSebm1STIC5TxGBSUQj0k4ylz3InvL9srqNydLwZhJZjtHmvbvK3PWrZU/Pf1PCdarJ9+9bYScN+RciSaMaFFtb0urcZC6riiKI605BCybYDAoS5YskfmfzJehQ4dKkyZNrBA5y4jjTZs2k5YtW0rjxo2lUaNGttAXbFlNGuFptnjHCFFIIhLyRySwZ6tsfW28rJkwSQr8Ifm8VUuTLftQHvj1w9K8dUu5//5fyh133inBnLDxr79i7OqEcfR0VRTlgKRFjFzBtWPixImybNkyWb16tRQWFlqRcUKD8CBE7dq1s8umTZtmTIzwMSVGfj8uJoldWyX/5ddk+wsTZHn+evnn5wvld2+MkX+/9650PaGf/M/998tN375VmrVqJVT6u4p6BkrzqRgpSrWkTYzIgjlROfXUU+X000+3+9x+lqmF1Q6sptRs3tEmHo/vs9JisbiU0wHWZLXiW3bJhqdfl2VPvSJTtq2UUcvnypj33pbSQFiuvvoaeeCBB2TQWWdJzGTNGM3RtqxGPI3X/VhHaRZSRck2MjYGNo+tztJBgBCmdI6BzTMpQOcZPDti1k0+S0o25MuaV8bLrKeelpWFW+TNyF7ZHBe55PxhcsmVV8mAAX2le49utnYsmUhKIMj890aAjUVEtw+LapGiVEtay4wcGdK/GkMhOsIU8Pll9/pNMvGvI+Xpp56SF7eukJe3FUi0TiO5a8Tt8otf3i/XXneNdOve3U7OGDACZMcjSsRsxZgbsLEiu6coSnVkRIywiNJd/lMT8JOz2BifaN7cOfLko/8nz4x+WsatXiILJSJtTjlR7rv3PvnRj34qPXr3NNkyhMsIEfJjlkEjSIlY1JYXuV+oQqQoBycjYuQVqlpoLmvI+NQfTZ0qD/3qYfn7syNl7rbNkmzXSm65+bvy4C/ul5tvHyENWzS31wdNCIaovq8UH64PBikbUwlSlEPhmJ03jZ9N+RBNCYCCa55HI8sFCxbYAunZs2dL7+N7S9uObeVr55wtN151vTRu0kR8IWoHfRJEfXAmBNm2/c32QbB6z/pTFK9yzIqRK6wmS8Y9aVi5ePFieffdd+XDDz+UTz75RG6++WY5d8gQ6dyxo3Tt1k1ycnJseRKWk6IoR5ZjNpvmyqwQPNo6vfHGG/LQQw/Jo797VKZNmyZXX321/OxnP5OLL7pIevbqZQULAfNiWZei1AaOWTFCWBCYbdu2yciRI+Xhhx+WN9980x676aab5Ac/+IE0a9bMbjvjEeHCKYpy5DnmUhYiRFYL1tKf7E9/kt///vfy6aefyuDBg+V793xPfvGLX0j37t3tOTTIrK5RpqIoR4ZjJmUhQq7QmiVdUX7zm9/IU089JQUFBXLmmWfK/fffLz/5yU+kffv29hpXuO3KlVhqNk1Rjg7HlBhFIhErJmXlZfLEE0/IqGdHyZ49e2TIkCG29uy8886T+vXrqwWkKBngmElxVN0jMojSmFfGyIsvvmj30UcOi+iMM85Qq0dRMsgxIUauAJomAmPGjLFlRJQbXXTRRfLLX/5SBg0aZEXKiRHnqzApSnqptWKE1ePKh0pLS+WDDz6wIvToo4/aQdu++93vyoP/+6Cce+65NktGmRBLREiFSFHST60WI4SIMbZpOPmrh35la8527txpGzPed999cvJJJ1sRoqDaDW+iKEpmqJVi5Lp20KoaIXrkkUdk5oyZdlTJb3/721aIGEES1ApSFG9Qay2jsrIyefbZZ60Q5efnS6tWreSee+6RO++8U9q0aWPP0RozRfEOtSo1uqwZQvTqq6/Kb3/7W9m8ebO0aNFC7rrrLrn33nuldevW9lwVIkXxFlmfIhEfCqqdENHP7Pnnn5ff/e531iJq27atFaE77rhD6tWrZ6+hjEjFSFG8Ra0QI4QIqDUja/brX//adu/o16+f/PCHP5S7/9/dtrxIa8oUxbvUCvOAmrANGzbYrh1U32/cuFFOOukk2+t+xIgRUrdO3cozFUXxKlklRlhBqbBdXFwsc+bMkT//+c+2sJoyIiwismZXXnmlzZI5y0lRFO/ieTEiW+VEyHV2deVDa9eulb/97W/yv//7oB0GZO/evXLVVVfJz3/+c7n88svtIGhaPqQo2YHnUymi48p5WKewGlGiFfVjjz0mD/36IZk48R3bePH666+XBx98UK644gqpW7cia4YQcUxRFG/jWTFKFaDUdRxlRK+88oo888wzUlpUaqvub7/9dtvPrEuXLlaA1BpSlOzC8ykWq8aV+SBKDAPCONUIEYPnd+7cWe6++2758Y9/bNdBhUhRsg/PplosIECInGVE4TQ1ZozEuHTpUltjhgjRhqhhw4Y2++YGRFMUJbtImxi5wmecK4CuDs53S7JljMb417/+1daYUXvWqVMn+dGPfiQ33nijNGjQwAoWFhFLJ15Hk5r+jkyC31w4esmfzk9ewoWV196n8w/Lqn7b375M4PyxP/8civ/SMlWR8yQOoaDW67PPPrN9xFq2bGn3ccyV9TDWEBGD2rDnnhslq1atttmzvzz+F1tGRNaNho1kzzif81i6n+LudzRIvS9i5PzsFZwQE34u0eM/1lmmQ6irgzDDL86CTX1vmYLnOz+w9EI4pUJ44S/8RNx379WRqTB06cx9lNnG4R9gn9sPbv+BSEsqwkPOIyyZk2zGjBny3nvvWWFK/UGQGtihUFjee/89efLJJ60QNW7cWK677jrriNC8HBcojtT1Iw3Pwn8u0F1AZxp+s/NL6jqwjV+PZrgcCviN9+2VsAMXNl71E86lIdbdsUy+V56LS/WbWx4OabWMgKr5P/7xj3LKKafIlClT5Nprr5WePXva/UySSCPGVatW2XGIqJ4fP368bUuEtcQP7dWrlx2PiEHzidBk4b5KABwqBDzP5ZkUoOfl5Vk/VP1apRsXKVw4E3516tSx/kK0nf84J1PwbN4jVi7vGviYpCEKVouLn7xXwNLOtJ/AffRwrOMn4h3OiXkm3ye4cMNPjB/v0gL+4hhxkM7pbmz56kirGOFhOrLSZeOGG26wPeuHDh0qJ5xwgj3OD2GAfGZ2ZUnHViZUXLdunRUfIgnV+PxAIjTXEJm5bzohQeGXyZMnS+/eveW4446z+zIZMVwY4wf8MnfuXNsSnVl4CVeX0DLtRzovb926VU488UT7Dr2Q8F3CZuA9wo7hZjLtJ3AfEPzCx3rHjh02Z8BHmm0vVNbgN8KN+QdJC/iP8CRdQr369aRrl662b+jBSNv01jwGx8tmZg48vX79eitKlB0hKO4HcB4vgm3EiA6wTCVE4BNpOM4Sx3npFCOe7b7sWGzDhw+XDh067PNTpiAcXJgxqNxLL70kF198sRVvwtyFUbqFGwgbHJGUWtDPP//czthLOPJOM+Enh/MXy02bNtnhZ7DU0x2vqoJ/3DsF0gA9DkgrJGzeKe/apYNM4PyGsbBw4ULp37+/TQtOjA7VX2kJ7dSAxZMnn3yyDdhu3brZWVs5ngo/IjXxuB/tvmDscz803RGG56Y+OxisEFC3L5NUjZxsgwvfdIeVA/+4d5YqPm5fJnF+g9QE5BV/4Zy/WLoPsgu7TPrThZvzW+r24fgrrbHTiRIKikXBfGVVa8KqwvmIEBzonEzBlz2R8IafCBsXAVh3YebwStjhD77qkMmEtD8IM/fh8wqp7zSZ/MJv7M/0O3XPJ9zINro4d7jvNS1ihKdTVZNyDMqJGIeaY0SAqj/AbXOOG4vIa7Rr125fQWymSQ0fwhpz3pUpcAyXycjrnk2BP805gH2Z9JPD+YF36fo0eiG+ufcGWB5169YTf+CLD3em/ej8xztt3ry5XX4V0laAjadTv4g4RAjH8f3VirGfWiEsEC+1sOYLQOSgsy5lX14QJPcaCVf8xxxxCDnhRbizHz9nEvxIbSn+wW/u3WfaX+6Ljr/w01dNVEcSwgeHv1wZG+HF+3Q5CtYzCWWUrvaWnA4cjp/SVoANBGjVAHSP35/na3pepkj1n5fxYtg5siUMM40LJy+/y69KWsVIURTlQKS1AFtRFOVAeF6MKGOgpbPXDDiynLt377b5ZS+C/6jh8BqUexBuXjTICS/a83gNyrQozyLMiG+FRYX2/WYaF8dY4jfCjrKjwyXwIEMjehQKiGlJvHLlSltITCG2F/LKBP7ceXNtZ19GE6CtlCu4yyT4yxXG0lgUvzFVk9uXybDDbyQoZm1ZsWKFFSVqYLyAS0g03KMBHwWxrlYtkxBm27dvl3nz5tlEThqYPXu2rFm9xh7PRC0zYYUjTtFoef78+fu6gBB+TIzBNiNpuPNr6kdPW0Z0t2CmD1rGvv/++/arwI/LNCSkRQsX2XUGelu+fLldz6TfXGLHD4g4c8cRiYGIw/F0+4/npbqy8jJZsGC+FcnVq1fbffgr0+AHah95lyR2EhXgv0xCa3C6Ro0bN84metICYk740a+TLlPp9CPPcnGMHMusWbOs33iXiDndQmhd//HHH9s45/zGsibv2bNixA9YsmSJnH766bZxJD8Sk9ALlhEBTfcU2kqR5fBCdsi9eMJnzZo19quJJemgFjMTYccz8RvPLystk/z8zfaj4vqkeUGM8AcOfzGAHx+bTIN/iGdYQ/TLZBsBIM4NGjTIxjs+Oi580wn+Is7Td5ROsDwfK7dv3762WQRWHPtSXU3wrBgRSXE0kCTi0r7CCxEX8A+B/+abb0r37t1ti3LIpFASNiR4EhTZIPqkMfoBCStTbbNcRHQJBr8Rifm6kv3my5/JMHPgN/xC+JHF8EK5EX4inh1//PF2OGUX90nsgWDAihThmE54V65pDkJEx1jiGX7jvZLFZUiggQMH7jvPwfbB8KwY0bCLYQfIl2IG0kiOfak/MFMQsC+//LK1QIYNH1ajgD7a4AfCh4jBF5TyLC9Yk/iH5+P4sCDegwcPttkixCnTDR6BOEWPeMLwnHPOsWWUbn8mIcywQggnXqHP77NZtYItBfZY48aN9p2XLniWi2uED4KIH7EoiXNMiNGxU8d97/1Q8KwYAcNMkFem7KNPnz72a+AFMcIM/WDSJGsdzZo5yxYyQib9RuTg5RNGw4YNk1NPPVUGDBhgC2PT/QV1pEZG1vELEZmyBiItHxsvgN/4wvM+SVRkhdz+TMGzCStXGNy4cROpV7ee/TBTpkXFRPPmx1WenT6I4y6eY3FjIVHYj0XEMCJ8ZFauWLnPkuNcfkdN8HRtGvlRfiSRhLIjF5kzDVkfEhKOrxajD/BSMhl5HYgSkZf+X527dJamTZraLxd+cy5duASVit983Qm/c8452/qTyOqFcCNuNWhQ32aDTj3tVMkJ52TUX+7ZhB9+QywZNwvYPu200/aJeTr9icg4gXFxjfGfsHpdWRvllfg19d3XxI+eboGN11LNfNa9YNbjj1R/OecV3CvFj0CkQJCc9ZRJUt8peCHs8FNqMqgqoJnChRXgp1R/uu10h5+L++D84uIV+1P9lLqvJuWW3gj1A8CPIBE55358psEvLq/M0r0cr5AaOQkz57/U/ZnChVtqxM00LoxcPPPK+0yN727d+dH5MxPhV/W5qWGHc35159XUgPB83zT3g/iRh/LDjib4iWDzksWxP/CjCz/nv0z7kwJ1ws192VlmGvzBe3R+SQ2vTIO/wPnJJVe3zER6cPEfqr5D58/UNOL2HwztKKukFRfdahI5Fe+HF/47Un5TMVIUxRN4usxIUZRjBxUjRVE8gYqRckBcDp4lBZKHw1cpBUh9vlse7H4cTy1ghdTrFe+iZUbKl3A1cEQNt3S1TS66sM4xJ1L7K8TkHK7D0c6Ea911rLvngDvm9rt1dw+37fa5c7ie4yzdfqjqH64DL9TGKvtHxUj5EiRookVJaYmUl30xeBytzEnwDpfgqy6deLht2hYhRm4/jvu7bScgLOkc6p7Pcbad2LjzERS3j3Xu755Fh1cc++mmwJJW8twH2HbnKt5CxUj5L1x0oLPtW2+9ZdfpH0WftzPOOMMmcM5xApIqDizdMRI86zjOYewdprXu2rWr3ce57h5cS0dVOh4zPAbH2aavU48ePew5+IexfZgAFGFx9+Y+wD0QHfq9cR3dE1q1bmWnVqY3Offhd+AUb6JlRsqXQEgKCwvlP//5j12yjaAgCPQaJ3Gv37DejgowZ84c+eSTT6x1whg7bDMYHkKDuDDipDvvhRdesILkBjDjGjpWcozB8yZNmmSfg6hwTzqtAqJDZ+SJEyfa5yM4XI8AMdDYzJkz7T0YeIyB7pyYvTb2Nfs8Zi/GD9zbCaDiPTzdUVZJPwgPCZZxxz/66CNriTCsLp2VsTY++GCSzJ07T+rWqWvHc3JDvNB5k3n033vvPWuZ0FFy7NixViwQNMQEEaLDJ8tly5bZYWFYIiYMV4qIMJAeVtSECRPk7LPPtllD/MM+zkOoGKoC0aFTK6KFxcToDogXE2syGBlCxXhOWHOI6IoVn8mAASfaeyFKivfQt6J8CUQBSMRYG4iMGz1y9+49kp+fbwfW2pS/SS688EK7/s4771jLhiwUAoWlgnVyyy23SK9eveyQFwwUhiWEIFGGNH36dFm0aJEVIEQDSwkY3AzxQQAZhI3hhxnVECFC2K644gpzvzZWDBkN9JJLLpF+/fpZ4UMI8QcCxUgP9Cgni7lnz14rRC5bp3gPFSPlSzjLAfG54IIL5Morr7RjSyEGWE5YJAhGwwYNbRkM5yMuWE4IGVNrcy4i4ASA/ezjXIaFYSZeN6A8x+0IhpXnYdU4Cw3hw/IiC8g253GPcDjHLnmmkU+7xA+Iz6WXXio33HCDXQL35Fqc4l00m6Z8CYQAsZk6daoVBqwNympI7GS3EBUgi0V2DguIoUaxZEjwLBmgjKwUlgxlTIxNxTaDqpGlQ6gY9RExw/JCdLg/Y4tjIWHZUNjtBolDhNwsMWTp3DNhwYKF9t74m/Oxkhj/GxGKRCOydMlSK3TcB/9xnuI9VIyUL0Ei5g9xQBjoaQ+IDGKClYTIsJ9ETzaMWjDKlpghokOHDnZkTsqEEI0BA/pLj549MWD2DZjHoFyIRseOHe29yLohLiwRC+6N6HG+tYRywvYY40EjiNSO8UzOIQuJ2HA9IkhWkXtwXWlJqRVDsohucDIVI2+iVfvKAakaNVwithZHJGLLccgWIVrsc9ms1MSeuu3W93cOuH1YL5RXFWwtkI4dOtr7pt7DLXGIHS4UDkm7tu2s5eTuzxLLDfGiYJt93EvxJipGygFBFFz0ICFjaQD7OMa2W0eQwO0HjuG4FscxJxLgzmM/pJ7HORx390u9jiXZR4SFY6y7c1LhPK7nPPcM90zFe6gYKYdF1YTuhORI4O7t2J/QcJzz3P6qS4fzmzu36nHFO+hnQjlknBCkWhlHOpG77NSBslU8Gz9AqthUhf3uWKrAKd5DxUg5ZEjYqQl/fyLwVajp/cgaunMPlP1yxw8kVop30GyaoigeQOT/A731WYwKlAybAAAAAElFTkSuQmCC)"
   ]
  },
  {
   "cell_type": "markdown",
   "metadata": {
    "kernel": "R"
   },
   "source": [
    "**Answer 2:** Firstly, you may not be able to adequately control for population substructure. Secondly, even if within the different populations the same genes are involved, for common variants LD structure can vary between populations, e.g., the tagSNPs in the different populations can have different allele frequencies, therefore the functional variant will not be tagged equally well in all populations and power can be reduced. It is also possible that different variants are associated, but for common variants, which are very old, usually this is not the cause. If a study involves individuals of different ancestry analysis can be performed separately and the results can be combined via meta-analysis. Studying individuals of different ancestry can be highly beneficial to fine map loci."
   ]
  },
  {
   "cell_type": "markdown",
   "metadata": {
    "kernel": "R"
   },
   "source": [
    "**Answer 3:** No, both rs457122 and rs10008252 are intergenic/intronic."
   ]
  }
 ],
 "metadata": {
  "kernelspec": {
   "display_name": "SoS",
   "language": "sos",
   "name": "sos"
  },
  "language_info": {
   "codemirror_mode": "sos",
   "file_extension": ".sos",
   "mimetype": "text/x-sos",
   "name": "sos",
   "nbconvert_exporter": "sos_notebook.converter.SoS_Exporter",
   "pygments_lexer": "sos"
  },
  "sos": {
   "kernels": [
    [
     "Bash",
     "bash",
     "Bash",
     "#E6EEFF",
     "shell"
    ],
    [
     "R",
     "ir",
     "R",
     "#DCDCDA",
     "r"
    ]
   ],
   "version": "0.24.3"
  }
 },
 "nbformat": 4,
 "nbformat_minor": 4
}
