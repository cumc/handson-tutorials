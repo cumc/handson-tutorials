{
 "cells": [
  {
   "cell_type": "markdown",
   "id": "b035136c-181d-44bd-ac61-c0d101ef0328",
   "metadata": {},
   "source": [
    "# Introduction to mr.mash for multi-trait prediction with applications to TWAS\n",
    "\n",
    "author: Peter Carbonetto & Fabio Morgante\n",
    "\n",
    "Origionally posted on [mr.mash vignette](https://stephenslab.github.io/mr.mash.alpha/articles/mr_mash_intro.html)"
   ]
  },
  {
   "cell_type": "markdown",
   "id": "3d03d21a-701c-499f-a8b7-c44801676c36",
   "metadata": {},
   "source": [
    "The aim of this vignette is to introduce the basic steps of a\n",
    "mr.mash analysis through a toy example. To learn more about\n",
    "mr.mash, please see the [paper][mr-mash-biorxiv]."
   ]
  },
  {
   "cell_type": "markdown",
   "id": "ad019f2b",
   "metadata": {},
   "source": [
    "First, we set the seed to make the results more easily reproducible,\n",
    "and we load the \"mr.mash.alpha\" package."
   ]
  },
  {
   "cell_type": "code",
   "execution_count": 2,
   "id": "57246a60",
   "metadata": {
    "tags": []
   },
   "outputs": [],
   "source": [
    "library(mr.mash.alpha)\n",
    "set.seed(123)"
   ]
  },
  {
   "cell_type": "markdown",
   "id": "f2420146",
   "metadata": {},
   "source": [
    "We illustrate the application of mr.mash to a data set simulated from\n",
    "a multivariate, multiple linear regression with 5 responses in which\n",
    "the coefficients are the same for all responses. In the target\n",
    "application considered in the paper---prediction of multi-tissue gene\n",
    "expression from genotypes---this would correspond to the situation in\n",
    "which we would like to predict expression of a single gene in 5\n",
    "different tissues from genotype data at multiple SNPs, and the SNPs\n",
    "have the same effects on gene expression in all 5 tissues. (In\n",
    "multi-tissue gene expression we would normally like to predict\n",
    "expression of many genes, but to simplify this vignette here we\n",
    "illustrate the key ideas with a single gene.)\n",
    "\n",
    "Although this simulation is not particularly realistic, this is\n",
    "meant to illustrate the benefits of mr.mash: by modeling the sharing\n",
    "of effects across tissues, mr.mash is able to more accurately estimate\n",
    "the effects in multiple tissues, and therefore is able to obtain\n",
    "better predictions.\n",
    "\n",
    "We start by simulating 150 samples from a multivariate, multiple\n",
    "linear regression model in which 5 out of the 800 variables (SNPs)\n",
    "affect the 5 responses (expression levels)."
   ]
  },
  {
   "cell_type": "code",
   "execution_count": null,
   "id": "c2fc250b",
   "metadata": {
    "attributes": {
     "classes": [],
     "id": "",
     "results": "\"hide\""
    }
   },
   "outputs": [],
   "source": [
    "dat <- simulate_mr_mash_data(n = 150,p = 800,p_causal = 5,r = 5,pve = 0.5,\n",
    "\t\t\t\t\t\t\t V_cor = 0.25)"
   ]
  },
  {
   "cell_type": "markdown",
   "id": "de98fcfb",
   "metadata": {},
   "source": [
    "Next we split the samples into a training set (with 100 samples) and\n",
    "test set (with 50 samples)."
   ]
  },
  {
   "cell_type": "code",
   "execution_count": null,
   "id": "8aab50d4",
   "metadata": {},
   "outputs": [],
   "source": [
    "ntest  <- 50 \n",
    "Ytrain <- dat$Y[-(1:ntest),]\n",
    "Xtrain <- dat$X[-(1:ntest),]\n",
    "Ytest  <- dat$Y[1:ntest,]\n",
    "Xtest  <- dat$X[1:ntest,]"
   ]
  },
  {
   "cell_type": "markdown",
   "id": "f8e12118",
   "metadata": {},
   "source": [
    "Define the mr.mash prior\n",
    "------------------------\n",
    "\n",
    "To run mr.mash, we need to first specify the covariances in the\n",
    "mixture of normals prior. The idea is that the chosen collection of\n",
    "covariance matrices should include a variety of potential effect\n",
    "sharing patterns, and in the model fitting stage the prior should then\n",
    "assign most weight to the sharing patterns that are present in the\n",
    "data, and little or no weight on patterns that are inconsistent with\n",
    "the data. In general, we recommend learning\n",
    "[\"data-driven\" covariance matrices][mashr-dd-vignette].  But here, for\n",
    "simplicity, we instead use \"canonical\" covariances which are not\n",
    "adaptive, but nonetheless well suited for this toy example since the\n",
    "true effects are the same across responses/tissues."
   ]
  },
  {
   "cell_type": "code",
   "execution_count": null,
   "id": "e15ab002",
   "metadata": {},
   "outputs": [],
   "source": [
    "S0 <- compute_canonical_covs(r = 5,singletons = TRUE,\n",
    "                             hetgrid = seq(0,1,0.25))"
   ]
  },
  {
   "cell_type": "markdown",
   "id": "58546af9",
   "metadata": {},
   "source": [
    "This gives a mixture of 10 covariance matrices capturing a variety of\n",
    "\"canonical\" effect-sharing patterns:"
   ]
  },
  {
   "cell_type": "code",
   "execution_count": null,
   "id": "54dbc6a4",
   "metadata": {},
   "outputs": [],
   "source": [
    "names(S0)"
   ]
  },
  {
   "cell_type": "markdown",
   "id": "057b740d",
   "metadata": {},
   "source": [
    "To illustrate the benefits of modeling a variety of effect-sharing\n",
    "patterns, we also try out mr.mash with a simpler mixture of covariance\n",
    "matrices in which the effects are effectively independent across\n",
    "tissues. Although this may seem to be a very poor choice of prior,\n",
    "particularly for this example, it turns out that several multivariate\n",
    "regression methods assume, implicitly or explicitly, this prior."
   ]
  },
  {
   "cell_type": "code",
   "execution_count": null,
   "id": "e636432e",
   "metadata": {},
   "outputs": [],
   "source": [
    "S0_ind <- compute_canonical_covs(r = 5,singletons = FALSE,\n",
    "                                 hetgrid = c(0,0.001,0.01))\n",
    "names(S0_ind)"
   ]
  },
  {
   "cell_type": "markdown",
   "id": "8599ff52",
   "metadata": {},
   "source": [
    "Regardless of the covariance matrices are chosen, it is recommended to\n",
    "also consider a variety of effect scales in the prior. This is\n",
    "normally achieved in mr.mash by expanding the mixture across a\n",
    "specifed grid of scaling factors. Here we choose this grid in an\n",
    "adaptive fashion based on the data:"
   ]
  },
  {
   "cell_type": "code",
   "execution_count": null,
   "id": "af5ceb92",
   "metadata": {},
   "outputs": [],
   "source": [
    "univ_sumstats <- compute_univariate_sumstats(Xtrain,Ytrain,standardize = TRUE)\n",
    "scaling_grid <- autoselect.mixsd(univ_sumstats,mult = sqrt(2))^2\n",
    "S0 <- expand_covs(S0,scaling_grid)\n",
    "S0_ind <- expand_covs(S0_ind,scaling_grid)"
   ]
  },
  {
   "cell_type": "markdown",
   "id": "a80e299b",
   "metadata": {},
   "source": [
    "Fit a mr.mash model to the data\n",
    "-------------------------------\n",
    "\n",
    "Having specified the mr.mash prior, we are now ready to fit a mr.mash\n",
    "model to the training data (this may take a few minutes to run). Given\n",
    "that the majority of the SNPs have no effect, we initialize the mixture\n",
    "weights with 99\\% of the weight on the null component and the rest of the\n",
    "weight split equally across the remaining components."
   ]
  },
  {
   "cell_type": "code",
   "execution_count": null,
   "id": "f160fe5d",
   "metadata": {
    "attributes": {
     "classes": [],
     "id": "",
     "results": "\"hide\""
    }
   },
   "outputs": [],
   "source": [
    "null_weight <- 0.99\n",
    "non_null_weight <- 1-null_weight\n",
    "w0_init <- c(null_weight, rep(non_null_weight/(length(S0)-1), (length(S0)-1)))\n",
    "fit <- mr.mash(X=Xtrain,Y=Ytrain,S0=S0, w0=w0_init, update_V = TRUE)"
   ]
  },
  {
   "cell_type": "markdown",
   "id": "68074068",
   "metadata": {},
   "source": [
    "And for comparison we fit a second mr.mash model using the simpler and\n",
    "less flexible prior:"
   ]
  },
  {
   "cell_type": "code",
   "execution_count": null,
   "id": "02e9a940",
   "metadata": {
    "attributes": {
     "classes": [],
     "id": "",
     "results": "\"hide\""
    }
   },
   "outputs": [],
   "source": [
    "w0_init <- c(null_weight, rep(non_null_weight/(length(S0_ind)-1), (length(S0_ind)-1)))\n",
    "fit_ind <- mr.mash(X=Xtrain,Y=Ytrain,S0=S0_ind,w0=w0_init,update_V = TRUE)"
   ]
  },
  {
   "cell_type": "markdown",
   "id": "97446ba0",
   "metadata": {},
   "source": [
    "(Notice that the less complex model also takes less time to fit.)\n",
    "\n",
    "For prediction, the key output is the posterior mean estimates of the\n",
    "regression coefficients, stored in the \"mu1\" output. Let's compare the\n",
    "estimates to the ground truth:"
   ]
  },
  {
   "cell_type": "code",
   "execution_count": null,
   "id": "6a12f3af",
   "metadata": {
    "attributes": {
     "classes": [],
     "fig.height": "3.5,",
     "fig.width": "6",
     "id": ""
    }
   },
   "outputs": [],
   "source": [
    "par(mfrow = c(1,2))\n",
    "plot(dat$B,fit_ind$mu1,pch = 20,xlab = \"true\",ylab = \"estimated\",\n",
    "     main = sprintf(\"cor = %0.3f\",\n",
    "\t                cor(as.vector(dat$B),as.vector(fit_ind$mu1))))\n",
    "abline(a = 0,b = 1,col = \"royalblue\",lty = \"dotted\")\n",
    "plot(dat$B,fit$mu1,pch = 20,xlab = \"true\",ylab = \"estimated\",\n",
    "     main = sprintf(\"cor = %0.3f\",\n",
    "\t                cor(as.vector(dat$B),as.vector(fit$mu1))))\n",
    "abline(a = 0,b = 1,col = \"royalblue\",lty = \"dotted\")"
   ]
  },
  {
   "cell_type": "markdown",
   "id": "2b981a6b",
   "metadata": {},
   "source": [
    "As expected, the coefficients on the left-hand side obtained using an\n",
    "\"independent effects\" prior are not as accurate as the the\n",
    "coefficients estimated using the more flexible prior (right-hand side).\n",
    "\n",
    "While perhaps not of primary interest, for diagnostic purposes it is\n",
    "often helpful to examine the estimated mixture weights in the prior as\n",
    "well as the estimated residual covariance matrix.\n",
    "\n",
    "Inspecting the top prior mixture weights from the better model, it is\n",
    "helpful to see that the \"null\" and \"shared1\" components are among the\n",
    "top components by weight. (The top component is the null component\n",
    "because most of the SNPs have no effect on gene expression.)"
   ]
  },
  {
   "cell_type": "code",
   "execution_count": null,
   "id": "fc769ede",
   "metadata": {},
   "outputs": [],
   "source": [
    "head(sort(fit$w0,decreasing = TRUE),n = 10)"
   ]
  },
  {
   "cell_type": "markdown",
   "id": "69992b57",
   "metadata": {},
   "source": [
    "Also, reassuringly, the estimated residual variance-covariance matrix\n",
    "is close to the matrix used to simulate the data:"
   ]
  },
  {
   "cell_type": "code",
   "execution_count": null,
   "id": "4028c6c2",
   "metadata": {},
   "outputs": [],
   "source": [
    "dat$V\n",
    "fit$V"
   ]
  },
  {
   "cell_type": "markdown",
   "id": "9b5e279c",
   "metadata": {},
   "source": [
    "Use the fitted mr.mash model to make predictions\n",
    "------------------------------------------------\n",
    "\n",
    "We can use the fitted mr.mash model to predict gene expression from\n",
    "a genotype sample, including a sample not included in the training\n",
    "set. This is implemented by the \"predict\" method. Let's compare the\n",
    "predictions from the two mr.mash models:"
   ]
  },
  {
   "cell_type": "code",
   "execution_count": null,
   "id": "d255d43f",
   "metadata": {
    "attributes": {
     "classes": [],
     "fig.height": "3.5,",
     "fig.width": "6",
     "id": ""
    }
   },
   "outputs": [],
   "source": [
    "par(mfrow = c(1,2))\n",
    "Ypred <- predict(fit,Xtest)\n",
    "Ypred_ind <- predict(fit_ind,Xtest)\n",
    "plot(Ytest,Ypred_ind,pch = 20,col = \"darkblue\",xlab = \"true\",\n",
    "     ylab = \"predicted\",\n",
    "     main = sprintf(\"cor = %0.3f\",cor(as.vector(Ytest),as.vector(Ypred_ind))))\n",
    "abline(a = 0,b = 1,col = \"magenta\",lty = \"dotted\")\n",
    "plot(Ytest,Ypred,pch = 20,col = \"darkblue\",xlab = \"true\",\n",
    "     ylab = \"predicted\",\n",
    "     main = sprintf(\"cor = %0.3f\",cor(as.vector(Ytest),as.vector(Ypred))))\n",
    "abline(a = 0,b = 1,col = \"magenta\",lty = \"dotted\")"
   ]
  },
  {
   "cell_type": "markdown",
   "id": "f2761f8e",
   "metadata": {},
   "source": [
    "Indeed, mr.mash with the more flexible prior (right-hand plot)\n",
    "produces more accurate predictions than mr.mash with the \"independent\n",
    "effects\" prior.\n",
    "\n",
    "[mr-mash-biorxiv]: https://doi.org/10.1101/2022.11.22.517471 \n",
    "[mashr-dd-vignette]: https://stephenslab.github.io/mashr/articles/intro_mash_dd.html"
   ]
  }
 ],
 "metadata": {
  "kernelspec": {
   "display_name": "R",
   "language": "R",
   "name": "ir"
  },
  "language_info": {
   "codemirror_mode": "r",
   "file_extension": ".r",
   "mimetype": "text/x-r-source",
   "name": "R",
   "pygments_lexer": "r",
   "version": "4.2.3"
  }
 },
 "nbformat": 4,
 "nbformat_minor": 5
}
