{
 "cells": [
  {
   "cell_type": "markdown",
   "id": "c390cc00-4f12-4ebd-b066-fc431617142c",
   "metadata": {},
   "source": [
    "# A practical introduction to some theoretical concepts in quantitative genetics"
   ]
  },
  {
   "cell_type": "code",
   "execution_count": null,
   "id": "574cb241",
   "metadata": {
    "lines_to_next_cell": 0,
    "name": "setup",
    "tags": [
     "remove_cell"
    ]
   },
   "outputs": [],
   "source": [
    "libs = c('reshape2',\n",
    "         'ggplot2',\n",
    "         'grid',\n",
    "         'gridExtra',\n",
    "         'RColorBrewer',\n",
    "         'scales',\n",
    "         'dplyr',\n",
    "         'rgl',\n",
    "         'MASS',\n",
    "         'mgcv',\n",
    "         'knitr')\n",
    "for(lib in libs) {\n",
    "  suppressPackageStartupMessages(suppressMessages(suppressWarnings(library(lib, character.only = TRUE))))\n",
    "}"
   ]
  },
  {
   "cell_type": "markdown",
   "id": "d7327cd0",
   "metadata": {},
   "source": [
    "\n"
   ]
  },
  {
   "cell_type": "markdown",
   "id": "5cbbb35a",
   "metadata": {},
   "source": [
    "## Introduction"
   ]
  },
  {
   "cell_type": "markdown",
   "id": "d1acd42c",
   "metadata": {},
   "source": [
    "The purpose of this document is to give an overview over frequently occurring quantities in quantitative genetics and to demonstrate how to they can be validated in R examples using simulated genotype data.\n",
    "\n",
    "Since the focus here is on how different concepts relate to one another, many topics are presented in a simplified way that ignores complicating factors that sometimes arise in the application to real data.\n",
    "\n",
    "For questions, and any kind of feedback (especially mistakes), please contact Robert Maier at <r.maier@uq.edu.au>.\n"
   ]
  },
  {
   "cell_type": "markdown",
   "id": "87274163",
   "metadata": {},
   "source": [
    "\n",
    "\n",
    "## The structure of genotype data\n",
    "\n",
    "### Simulating genotypes\n",
    "\n",
    "Humans have diploid genomes, so at each biallelic SNP, there are $2 \\times 2$ possible combinations of alleles at each locus. Since we don't usually distinguish between, say $AG$ and $GA$, we are left with 3 distinct genotypes, which means that we can code genotypes for each SNP and individual as 0, 1 or 2, which can be interpreted as 0, 1 or 2 alternative alleles.\n",
    "\n",
    "Under a random mating assumption, the number of alternative alleles for a SNP and individual follows a [binomial distribution](https://en.wikipedia.org/wiki/Binomial_distribution) with 2 draws (one from mum and one from dad) and probability equal to the minor allele frequency of that SNP.\n",
    "\n",
    "Let's assume that the minor allele frequency of our $M$ SNPs come from a uniform distribution between $0$ and $0.5$."
   ]
  },
  {
   "cell_type": "code",
   "execution_count": null,
   "id": "0de804a0",
   "metadata": {
    "name": "create_genotypes0"
   },
   "outputs": [],
   "source": [
    "#set.seed(6147)\n",
    "#set.seed(6154)\n",
    "set.seed(6155)\n",
    "m = 500                                  # number of SNPs\n",
    "maf = runif(m, 0, .5)                    # random MAF for each SNP\n",
    "# apologies if using \"=\" as the assignment operator in R makes your eyes hurt"
   ]
  },
  {
   "cell_type": "markdown",
   "id": "11b1bfe6",
   "metadata": {},
   "source": [
    "The ```set.seed``` command here ensures that the random draws from a distribution will be the same each time this code is run.\n",
    "We can then draw genotypes for one person for each SNP."
   ]
  },
  {
   "cell_type": "code",
   "execution_count": null,
   "id": "4e0274e9",
   "metadata": {
    "name": "create_genotypes1"
   },
   "outputs": [],
   "source": [
    "x012 = rbinom(m, 2, maf)"
   ]
  },
  {
   "cell_type": "markdown",
   "id": "0803c77d",
   "metadata": {},
   "source": [
    "We want genotypes for $N$ individuals, so let's replicate this $N$ times.\n"
   ]
  },
  {
   "cell_type": "code",
   "execution_count": null,
   "id": "b3cf3d5b",
   "metadata": {
    "name": "create_genotypes3"
   },
   "outputs": [],
   "source": [
    "n = 400                                    # number of individuals\n",
    "x012 = t(replicate(n, rbinom(m, 2, maf)))  # n x m genotype matrix"
   ]
  },
  {
   "cell_type": "markdown",
   "id": "1c07b57c",
   "metadata": {},
   "source": [
    "If we are unlucky, some SNPs will be monomorphic, so not actually vary between people. Since this can cause problems, let's simulate more SNPs and only keep $M$ polymorphic ones."
   ]
  },
  {
   "cell_type": "code",
   "execution_count": null,
   "id": "47c63323",
   "metadata": {
    "name": "create_genotypes4"
   },
   "outputs": [],
   "source": [
    "x012 = t(replicate(n, rbinom(2*m, 2, c(maf, maf))))\n",
    "polymorphic = apply(x012, 2, var) > 0\n",
    "x012 = x012[,polymorphic][,1:m]\n",
    "maf = c(maf, maf)[polymorphic][1:m]\n",
    "round(maf[1:10], 2)\n",
    "x012[1:5, 1:10]"
   ]
  },
  {
   "cell_type": "markdown",
   "id": "eef2446e",
   "metadata": {},
   "source": [
    "Later on, we will not only need the original genotype matrix $\\textbf{X}_{012}$, but also a version in which each SNP is mean-centered, $\\textbf{X}^*$, and a version in which each SNP has mean 0 and variance 1, $\\textbf{X}$."
   ]
  },
  {
   "cell_type": "code",
   "execution_count": null,
   "id": "9438f72e",
   "metadata": {
    "name": "create_genotypes5"
   },
   "outputs": [],
   "source": [
    "x_o = scale(x012, scale=FALSE)               # mean 0\n",
    "x = scale(x012, scale=TRUE)                  # mean 0, variance 1"
   ]
  },
  {
   "cell_type": "markdown",
   "id": "75c00117",
   "metadata": {},
   "source": [
    "Working with mean-centered genotypes and phenotypes makes life a lot easier, but it means we don't have to estimate intercept terms. So a model like this:\n",
    "\n",
    "$$\\textbf{y} \\sim \\beta_0 + \\beta_1 \\textbf{x} + \\textbf{e}$$\n",
    "\n",
    "just becomes\n",
    "\n",
    "$$\\textbf{y} \\sim \\beta \\textbf{x} + \\textbf{e}$$\n",
    "Similarly, assuming that there are no covariates, or that $y$ has already been corrected for any covariates, makes things a lot simpler as well.\n"
   ]
  },
  {
   "cell_type": "markdown",
   "id": "d12dfc88",
   "metadata": {},
   "source": [
    "### MAF estimate\n",
    "\n",
    "Here, we know what the true MAF is for each SNP ($p$), because we have simulated it, but in real data we will have to get an estimate based on a finite sample. For a diploid genome coded in 0 and 1, this estimate would just be the mean across individuals, but since we have a diploid genome, it is the mean divided by two.\n",
    "\n",
    "$$\\hat{p}_j = \\frac{\\bar{\\textbf{X}}_{012,j}}{2}$$"
   ]
  },
  {
   "cell_type": "code",
   "execution_count": null,
   "id": "fefd725e",
   "metadata": {
    "fig.cap": "**True (population) and estimated (sample) minor allele frequency**",
    "lines_to_next_cell": 0,
    "name": "meanx_example"
   },
   "outputs": [],
   "source": [
    "maf_est = colMeans(x012)/2\n",
    "qplot(maf, maf_est, col=maf) +\n",
    "  geom_abline() + xlab('p') + ylab(expression(hat(p)))"
   ]
  },
  {
   "cell_type": "markdown",
   "id": "04635e39",
   "metadata": {},
   "source": [
    "\n",
    "\n",
    "Strictly speaking, we are estimating the frequency of the alternative allele (the one coded as 2 when homozygous), but since we simulated MAFs in the range [0, 0.5], we can talk about the minor allele frequency."
   ]
  },
  {
   "cell_type": "markdown",
   "id": "757593d2",
   "metadata": {},
   "source": [
    "### Sampling variance of MAF estimates\n",
    "\n",
    "For most SNPs we get a reasonable MAF estimate. If we want to dig deeper, we can also quantify how close our MAF estimate is, on average, to the true value. So we want to know what $p_j - \\hat{p}_j$ is, on average. If we have an unbiased estimate, $p_j - \\hat{p}_j$ will be zero on average, but it is also interesting what the variance of this quantity is:\n",
    "$$SE^2_{\\hat{p}_j} = var(\\hat{p}_j \\mid p_j) = var(\\hat{p}_j - p_j)$$\n",
    "\n",
    "This is called the sampling variance, or the (squared) standard error. Very often when the standard error is mentioned, it is about the standard error of a mean estimate, which is\n",
    "$$SE^2_{\\bar{x}} = \\frac{var(x)}{N}$$\n",
    "\n",
    "However, any kind of estimate has a standard error, and it is not always as straight forward to calculate. In this case here, we want to know the sampling variance of the MAF estimate, which is in fact the standard error of a mean estimate, because the MAF estimate is the mean of the genotype values divided by two. So:\n",
    "\n",
    "$$SE^2_{\\hat{p}_j} = var(\\hat{p}_j - p_j) = \\frac{var(\\frac{\\textbf{X}_j}{2})}{N} = \\frac{var(\\textbf{X}_j)}{4N}$$\n",
    "\n",
    "Since it depends on a finite sample, the standard error is itself an estimate and should get a hat.\n",
    "\n",
    "$$\\hat{SE}^2_{\\hat{p}_j} = \\frac{var(\\textbf{X}_j)}{4N}$$\n",
    "\n",
    "But we're short on hats, so some quantities will be missing them even though they should have them.\n",
    "\n",
    "The variance of a genotype can be estimated as $var(\\textbf{X}_j) = 2p_j(1-p_j)$\n",
    "\n",
    "So the standard error of $\\hat{p}_j$ can be also estimated as\n",
    "\n",
    "$$\\hat{SE}^2_{\\hat{p}_j} = \\frac{\\hat{p}_j (1-\\hat{p}_j)}{2N}$$\n",
    "\n",
    "Let's see how this estimated standard error of $\\hat{p}_j$ compares to the actual fluctuation of $\\hat{p}_j$ around $p_j$. For this we have to group SNPs by MAF, because the standard error of $\\hat{p}_j$ depends on $p_j$.\n"
   ]
  },
  {
   "cell_type": "code",
   "execution_count": null,
   "id": "8a55c1d3",
   "metadata": {
    "fig.cap": "**MAF standard error estimate vs actual variance of the MAF estimate**",
    "name": "sampling_varx"
   },
   "outputs": [],
   "source": [
    "ss = .02\n",
    "sequ = seq(0, max(maf_est), ss)\n",
    "bins = cut(maf_est, sequ)\n",
    "binMeans = (sequ + ss/2)[-length(sequ)]\n",
    "dat = data.frame(observed=tapply(colMeans(x012)/2 - maf, bins, var),\n",
    "                expected=binMeans*(1-binMeans)/(2*n),\n",
    "                binNum=1:length(binMeans))\n",
    "\n",
    "ggplot(dat, aes(expected, observed)) +\n",
    "  geom_text(aes(label=binNum, col=binMeans)) +\n",
    "  geom_abline() +\n",
    "  xlab(expression(paste(hat(SE)[hat(p)]^2, \"  (\",hat(var),\"(\", hat(p), \" | p))\"))) +\n",
    "  ylab(expression(paste(\"var(\",hat(p),\" | p)\")))"
   ]
  },
  {
   "cell_type": "markdown",
   "id": "c6568733",
   "metadata": {},
   "source": [
    "So for the higher MAF bins the empirical $var(\\hat{p}_j - p_j)$ is not very well estimated by our estimate of $SE^2_{\\hat{p}_j}$. In other words, the standard error of the standard error estimate of $\\hat{p}_j$ gets larger with $p_j$. Determining $\\hat{SE}^2_{\\hat{SE}^2_{\\hat{p}_j}}$, or $var(\\hat{var}(\\hat{p}_j \\mid p_j) \\mid var(\\hat{p}_j \\mid p_j))$ is left as an exercise for the reader."
   ]
  },
  {
   "cell_type": "markdown",
   "id": "d29e518e",
   "metadata": {},
   "source": [
    "\n",
    "\n",
    "### Variance of a genotype\n",
    "\n",
    "I mentioned before that the variance of a genotype for a SNP can be estimated as\n",
    "\n",
    "$$var(x) = 2\\hat{p}(1-\\hat{p})$$\n",
    "\n",
    "This is simply the expected variance of a binomially distributed random variable.\n",
    "\n",
    "At the same time this is the expected frequency of heterozygous genotypes under Hardy-Weinberg equilibrium.\n"
   ]
  },
  {
   "cell_type": "code",
   "execution_count": null,
   "id": "0bc8e1b7",
   "metadata": {
    "fig.cap": "**Genotype variance**",
    "fig.height": 4,
    "fig.width": 8,
    "name": "varx"
   },
   "outputs": [],
   "source": [
    "varx = apply(x012, 2, var)\n",
    "p1 = qplot(2*maf*(1-maf), varx, col=maf) + geom_abline()\n",
    "# genotype frequencies\n",
    "p2 = ggplot(data.frame(x=c(0, 1)), aes(x)) +\n",
    "  stat_function(fun=function(x) 2*x*(1-x), col='red') +\n",
    "  stat_function(fun=function(x) x^2, col='green') +\n",
    "  stat_function(fun=function(x) (1-x)^2, col='blue') +\n",
    "  ylim(c(0,1)) +\n",
    "  xlab('allele frequency') +\n",
    "  ylab('genotype frequencies / variance of x (red)')\n",
    "grid.arrange(p1, p2, ncol=2)\n"
   ]
  },
  {
   "cell_type": "markdown",
   "id": "bc3ed674",
   "metadata": {},
   "source": [
    "The red curve shows the genotype variance / average heterozygosity as a function of $p$."
   ]
  },
  {
   "cell_type": "markdown",
   "id": "e64fe950",
   "metadata": {},
   "source": [
    "\n",
    "\n",
    "### Linkage disequilibrium (LD) Matrix\n",
    "\n",
    "SNPs are often correlated with one another. Especially when they are nearby, since recombination rarely breaks up any correlation between them. This correlation between a pair of SNPs (two columns in $\\textbf{X}$) is called linkage disequilibrium (LD) and can be estimated by calculating the correlation coefficient between the SNP genotypes.\n",
    "\n",
    "The LD matrix contains the correlations of all SNP pairs in the genotype matrix and has therefore dimensions $M \\times M$. Since correlation implicitly scales by the variance,\n",
    "\n",
    "$$cor(x,y) = \\frac{cov(x,y)}{\\sqrt{var(x)var(y)}}$$\n",
    "\n",
    "it doesn't matter whether the scaled or unscaled genotype matrix is used. Further, when $\\textbf{X}$ is already scaled, the covariance matrix is the same as the correlation matrix, so the LD matrix can be calculated as:\n",
    "\n",
    "$$\\textbf{L} = \\frac{\\textbf{X}^\\top\\textbf{X}}{N}$$ \n",
    "\n",
    "The following should all result in approximately the same LD matrices."
   ]
  },
  {
   "cell_type": "code",
   "execution_count": null,
   "id": "93b51ede",
   "metadata": {
    "name": "ld_matrix"
   },
   "outputs": [],
   "source": [
    "ld1 = cor(x012)\n",
    "ld2 = cor(x)\n",
    "ld3 = cov(x)\n",
    "ld4 = (t(x) %*% x) / n"
   ]
  },
  {
   "cell_type": "markdown",
   "id": "1f48f93f",
   "metadata": {},
   "source": [
    "The reason why the last one is slightly different is because ```cov``` (and ```var```) in ```R``` divide by (n - 1) rather than by n (see [Bessel's correction](https://en.wikipedia.org/wiki/Bessel's_correction)).\n",
    "\\ \n",
    "\n",
    "### LD scores\n",
    "\n",
    "For some applications, such as LD score regression, it is useful to calculate the LD score of a SNP. This is defined as the sum of squared correlations of a SNP $j$ with all other SNPs:\n",
    "\n",
    "$$l_j = \\sum_{k=1}^Mcor^2(\\textbf{X}_j, \\textbf{X}_k)$$\n",
    "Since $\\textbf{X}$ is standardized, we can just calculate the sum of the squared sample correlations like this:\n",
    "\n",
    "$$\\widetilde{l}_{j} = \\frac{1}{N^2}\\textbf{X}^\\top_j\\textbf{X}\\textbf{X}^\\top\\textbf{X}_j$$\n",
    "However, this is not an unbiased estimate. We can correct for the bias like this:\n",
    "\n",
    "$$l_j = \\frac{\\widetilde{l}_{j} N - M}{N + 1}$$\n",
    "\n"
   ]
  },
  {
   "cell_type": "code",
   "execution_count": null,
   "id": "4754cc6c",
   "metadata": {
    "fig.cap": "**LD scores before and after correcting for biased estimates**",
    "name": "ld_scores"
   },
   "outputs": [],
   "source": [
    "ldscores_sample = colSums(ld1^2)\n",
    "ldscores = (ldscores_sample*n - m) / (n + 1)\n",
    "\n",
    "qplot(ldscores, ldscores_sample, col=ldscores) +\n",
    "  xlim(c(min(ldscores), max(ldscores))) +\n",
    "  ylim(min(ldscores), max(ldscores_sample)) +\n",
    "  geom_abline() +\n",
    "  scale_colour_continuous(low='black', high='green')"
   ]
  },
  {
   "cell_type": "markdown",
   "id": "acaa6bf7",
   "metadata": {},
   "source": [
    "**In the simulations without LD, LD scores should be centered around one.**"
   ]
  },
  {
   "cell_type": "markdown",
   "id": "d585de10",
   "metadata": {},
   "source": [
    "\n",
    "\n",
    "### Genetic relatedness matrix (GRM)\n",
    "\n",
    "The genetic relatedness between two individuals (two rows in $\\textbf{X}$) can be estimated as the covariance of the genotypes for these individuals across all SNPs. The GRM contains estimates of the genetic similarity for all pairs of individuals and can be calculated as the covariance matrix of the transposed scaled genotype matrix.\n",
    "\n",
    "The GRM is actually a genetic similarity matrix. For a genotype in two individuals we want to know if it comes from the same ancestor (identity by descent (IBD)), but we can only measure if it is the same or not (identity by state (IBS)).\n",
    "\n",
    "It can be calculated as:\n",
    "\n",
    "$$\\textbf{A} = \\frac{\\textbf{X}\\textbf{X}^\\top}{M}$$"
   ]
  },
  {
   "cell_type": "markdown",
   "id": "5118a13c",
   "metadata": {},
   "source": [
    "This is very similar to the definition of the LD matrix, but will be a $N \\times N$ instead of a $M \\times M$ matrix. Also, since $\\textbf{X}$ is usually scaled to have equal variance across SNPs, not across individuals, the diagonal elements on the GRM usually differ from one.\n",
    "\n",
    "The similarity between the GRM ($\\approx \\textbf{X}\\textbf{X}^\\top$) and the LD matrix ($\\approx \\textbf{X}^\\top\\textbf{X}$) explains why models which depend on the GRM often have an equivalent form which depends on the LD matrix."
   ]
  },
  {
   "cell_type": "code",
   "execution_count": null,
   "id": "f02cd46c",
   "metadata": {
    "fig.cap": "**Histogram of GRM values**",
    "name": "grm"
   },
   "outputs": [],
   "source": [
    "grm = (x %*% t(x))/m\n",
    "grm2 = cov(t(x))\n",
    "\n",
    "p1 = ggplot(melt(grm), aes(value)) + geom_histogram(bins=100) \n",
    "p2 = ggplot(melt(grm), aes(value)) + geom_histogram(bins=100) +\n",
    "  coord_cartesian(ylim=c(0,n)) + theme(panel.background=element_blank())\n",
    "grid.arrange(p1, p2, layout_matrix=matrix(c(1,1,2,1), 2))"
   ]
  },
  {
   "cell_type": "markdown",
   "id": "d90079b6",
   "metadata": {},
   "source": [
    "Offdiagonal elements represent the relatedness between two individuals (in histogram the large peak centered at 0). Diagonal elements represent the relatedness of an individual with itself, which is the average homozygosity or the level of inbreeding (in histogram the small peak centered at 1). While the LD of a SNP with itself is 1 by definition, the genetic relatedness of an individual with itself can vary around one, because the genotype scaling is performed per SNP, not per individual.\n",
    "\\ \n",
    "\n",
    "### Genetic principal components\n",
    "\n",
    "The GRM can be used to calculate genetic principal components via singular value decomposition (SVD) of the mean-centered genotype matrix or via eigendecomposition of the GRM. ([Comparison of Eigendecomposition and SVD](http://stats.stackexchange.com/questions/134282/relationship-between-svd-and-pca-how-to-use-svd-to-perform-pca))\n",
    "\n",
    "Principal component analysis (PCA) can be used to rotate a matrix in such a way, that each column (principal component) is orthogonal to each other column and the columns are sorted by the amount of variance explained. In genome wide genetic data, the first principal components usually capture ancestry or population stratification and can therefore be used to correct for these confounding factors. "
   ]
  },
  {
   "cell_type": "code",
   "execution_count": null,
   "id": "53e19387",
   "metadata": {
    "name": "pca_1"
   },
   "outputs": [],
   "source": [
    "xt = scale(t(x), scale=F) # transpose and mean center across individuals\n",
    "\n",
    "principal_axes_eigen        = eigen(grm2)$vectors\n",
    "principal_axes_svd          = svd(xt)$v\n",
    "principal_axes_prcomp       = prcomp(xt)$rotation\n",
    "\n",
    "principal_components_eigen  = xt %*% eigen(grm2)$vectors\n",
    "principal_components_svd1   = xt %*% svd(xt)$v\n",
    "principal_components_svd2   = svd(xt)$u %*% diag(svd(xt)$d)\n",
    "principal_components_prcomp = prcomp(xt)$x"
   ]
  },
  {
   "cell_type": "markdown",
   "id": "378637ad",
   "metadata": {},
   "source": [
    "The above shows different ways to calculate genetic principal components. While the results are the same, the runtime can differ greatly."
   ]
  },
  {
   "cell_type": "code",
   "execution_count": null,
   "id": "31d5a25b",
   "metadata": {
    "name": "pca_2"
   },
   "outputs": [],
   "source": [
    "cor(principal_components_eigen[,1], principal_components_eigen[,2])"
   ]
  },
  {
   "cell_type": "markdown",
   "id": "f98923fc",
   "metadata": {},
   "source": [
    "All principal components are orthogonal to each other, so uncorrelated."
   ]
  },
  {
   "cell_type": "code",
   "execution_count": null,
   "id": "20f7b07e",
   "metadata": {
    "fig.cap": "**Genotype principal components**",
    "fig.height": 4,
    "fig.width": 8,
    "name": "pca_3"
   },
   "outputs": [],
   "source": [
    "p1 = qplot(1:min(n,m), prcomp(xt)$sdev^2) + xlab('rank') + ylab('eigenvalues')\n",
    "p2 = qplot(principal_components_eigen[,1], principal_components_eigen[,2]) +\n",
    "  xlab('PC1') + ylab('PC2')\n",
    "grid.arrange(p1, p2, ncol=2)"
   ]
  },
  {
   "cell_type": "markdown",
   "id": "9a4dc08d",
   "metadata": {},
   "source": [
    "**Left: The eigenvalues of the GRM indicate what proportion of variance in the genotype is explained by the corresponding genetic principal component. Eigenvectors are sorted by the order of their eigenvalues, so the first principal components always explain more variance than the subsequent ones. Right: No structure in the simulated genotype data.**"
   ]
  },
  {
   "cell_type": "markdown",
   "id": "d79aace0",
   "metadata": {},
   "source": [
    "### Simulating genotypes with LD\n",
    "\n",
    "Real genotype data has LD, and to demonstrate some concepts, we have to briefly leave our cozy fantasy world of only independent SNPs."
   ]
  },
  {
   "cell_type": "code",
   "execution_count": null,
   "id": "a2372c73",
   "metadata": {
    "fig.cap": "**LD matrix in data without and with LD.**",
    "fig.width": 8,
    "lines_to_next_cell": 0,
    "name": "simu_ld1"
   },
   "outputs": [],
   "source": [
    "x012ld = jitter(x012[,rep(1:m, 1:m)[1:m]], .03)\n",
    "xld = scale(x012ld)\n",
    "ldld = (t(xld) %*% xld)/n\n",
    "grmld = (xld %*% t(xld))/m\n",
    "ldscores_sampleld = colSums(ldld^2)\n",
    "ldscoresld = (ldscores_sampleld*n - m) / (n + 1)\n",
    "varxld = apply(x012ld, 2, var)\n",
    "\n",
    "greens = colorRampPalette(c('black', 'green'))(12)\n",
    "par(mfrow=c(1,2))\n",
    "image(ld1, col=greens)\n",
    "image(ldld, col=greens)\n",
    "par(mfrow=c(1,1))"
   ]
  },
  {
   "cell_type": "markdown",
   "id": "cb280df6",
   "metadata": {},
   "source": [
    "\n"
   ]
  },
  {
   "cell_type": "markdown",
   "id": "3e72315b",
   "metadata": {},
   "source": [
    "### Effective number of SNPs\n",
    "\n",
    "When there is LD between SNPs, it is useful to have a quantity that describes how many independent SNPs there are. This is the effective number of SNPs, markers or chromosome segments ($M_e$), and can be defined as\n",
    "\n",
    "$$M_{e} = \\frac{M}{\\bar{\\boldsymbol{l}}} = \\frac{M^2}{\\sum_j l_j}$$\n",
    "where $\\bar{\\boldsymbol{l}}$ denotes the mean LD score across all SNPs."
   ]
  },
  {
   "cell_type": "markdown",
   "id": "e3648726",
   "metadata": {},
   "source": [
    "In practice, LD scores are often calculated based on a limited number of SNPs (for example 2000 kb or 1 centimorgan), which makes them smaller, so they can't be used to calculate $M_{e}$.\n",
    "\n",
    "Because of the similarity of $\\textbf{A}$ and $\\textbf{L}$, $M_e$ can also be approximated as\n",
    "\n",
    "$$M_{e} \\approx \\frac{1}{\\mathbb{E}[\\textbf{A}^2_{i,j}]} \\approx \\frac{1}{var(\\textbf{A}_{i,j})}$$\n",
    "\n",
    "where $\\textbf{A}_{i, j}$ denotes all offdiagonal elements of $\\textbf{A}$."
   ]
  },
  {
   "cell_type": "code",
   "execution_count": null,
   "id": "bbe3ac59",
   "metadata": {
    "name": "meff2"
   },
   "outputs": [],
   "source": [
    "m\n",
    "(me = m/mean(ldscores))\n",
    "1/var(grm[upper.tri(grm)])\n",
    "(meld = m/mean(ldscoresld))\n",
    "1/var(grmld[upper.tri(grmld)])"
   ]
  },
  {
   "cell_type": "markdown",
   "id": "0ebde3b0",
   "metadata": {},
   "source": [
    "$M_e$ is smaller than the number of LD blocks in the data with LD. This is because larger blocks have higher weight.\n",
    "\n",
    "In an average European population of unrelated individuals $M_e$ is between 60,000 and 70,000.\n",
    "\n",
    "\n"
   ]
  },
  {
   "cell_type": "markdown",
   "id": "87a06afe",
   "metadata": {},
   "source": [
    "### Effective population size\n",
    "\n",
    "The effective population size ($N_e$) is the number of individuals that an idealized population would have to have to result in the parameters that are being observed in the real population and can be estimated in different ways, depending on what parameters are of interest.\n",
    "\n",
    "Due to the symmetry of $\\textbf{A}$ and $\\textbf{L}$, $N$ and $M$, one could expect that it can be simply estimated as $\\frac{1}{\\mathbb{E}[\\textbf{L}^2_{i,j}]}$, but it is in fact better approximated by:\n",
    "\n",
    "$$N_e \\approx \\frac{1}{4 c \\times \\mathbb{E}[\\textbf{L}^2_{i,j}]} \\approx \\frac{1}{4 c \\times var(\\textbf{L}_{i,j})}$$\n",
    "where $4$ accounts for the fact that humans have diploid, not haploid genomes and $c$ is the recombination rate. The absence of a term equivalent to $c$ in the estimation of $M_e$ reflects the assumption of random mating and thus an unstructured population."
   ]
  },
  {
   "cell_type": "code",
   "execution_count": null,
   "id": "38628f46",
   "metadata": {
    "lines_to_next_cell": 2,
    "name": "neff"
   },
   "outputs": [],
   "source": [
    "n\n",
    "1/var(ld1[upper.tri(ld1)])\n",
    "# estimate of recombination rate in this particular case\n",
    "recomb = sqrt(2*m)/m\n",
    "1/(var(ldld[upper.tri(ldld)]) * recomb)"
   ]
  },
  {
   "cell_type": "markdown",
   "id": "4118cb2d",
   "metadata": {},
   "source": [
    "Estimates of $N_e$ in human populations range from around 2,500 in European and Asian populations to around 6,000 in African populations, while $c$ is around 0.01 per Mb.\n",
    "\n"
   ]
  },
  {
   "cell_type": "markdown",
   "id": "8ca02264",
   "metadata": {},
   "source": [
    "----\n",
    "\n",
    "## SNP effects - basics\n",
    "\n",
    "While the previous parts have been fun, quantitative genetics really on becomes interesting when it is studied in combination with one or more phenotypes, for example to estimate the effect that a SNP has on a phenotype. Here I will first describe a model to simulate phenotypes from genotypes, and then talk about different ways to estimate SNP effects.\n",
    "\n",
    "### Modeling a phenotype\n",
    "\n",
    "A particular phenotype $y$ of an individual $i$ can be modeled as a combination of a genetic component, $g$, and an error component $e$:\n",
    "\n",
    "$$y_i = g_i + e_i$$\n",
    "\n",
    "Some researchers choose to focus on the $e$ component and distinguish between environmental effects and various sources of error, but we will focus on the $g$ component and model $e$ as a normally distributed random variable which is independent of $g$.\n",
    "\n",
    "Here, we set up a model which says that the similarity (or differences) between our $N$ individuals can be partitioned into a genetic component and an environmental / error component.\n",
    "$$\n",
    "Var[\\textbf{y}] = Var[\\textbf{g} + \\textbf{e}] = Var[\\textbf{g}] + Var[\\textbf{e}]\n",
    "$$\n",
    "\n",
    "$\\textbf{g}$ and $\\textbf{e}$ are independent by definiton, so the variance of the sum is the sum of the variances ([https://en.wikipedia.org/wiki/Variance#Basic_properties](otherwise there would be a covariance term))."
   ]
  },
  {
   "cell_type": "markdown",
   "id": "cf0933b7",
   "metadata": {},
   "source": [
    "$Var[\\textbf{y}]$, $Var[\\textbf{g}]$ and $Var[\\textbf{e}]$ are all $N \\times N$ variance-covariance matrices of the phenotypes, the genetic effects and the environmental effects.\n",
    "\n",
    "In contrast, the scalar variances $\\sigma^2_y$, $\\sigma^2_g$ and $\\sigma^2_e$, represent the variances of the phenotype, the total genetic effect and the environmental effect, respectively.\n",
    "\n",
    "$$\\sigma^2_y = \\sigma^2_g + \\sigma^2_e$$\n",
    "\n",
    "So what is Var[e]? If we assume that the error term is independent and identically distributed (i.i.d.) for each individual, then\n",
    "\n",
    "$$Var[\\textbf{e}] = \\sigma^2_e \\textbf{I}_N$$\n",
    "\n",
    "where $I_N$ is a $N \\times N$ identity matrix.\n",
    "\n",
    "What about $Var[\\textbf{g}]$? $g_j$ is the genetic part of the phenotype of an individual (also called genetic value or breeding value). The genotype of an individual is comprised of $M$ markers, each of which has a contribution proportional to the general effect size of this marker, $\\beta_j$, and the number of effect alleles (0, 1 or 2):\n",
    "\n",
    "$$g_i = \\sum_{j} X_{ij} \\beta_{j}$$\n",
    "\n",
    "Written in matrix notation for all individuals, this becomes\n",
    "\n",
    "$$g = \\textbf{X}^\\top \\boldsymbol{\\beta}$$\n",
    "\n",
    "So $Var[\\textbf{g}] = Var[\\textbf{X} \\boldsymbol{\\beta}]$. Part of our model assumption is that we see SNP effects as random (they are drawn from a probability distribution), but genotypes as fixed (even though we also drew genotypes from a probability distribution to simulate them). This allows to write\n",
    "\n",
    "$$Var[\\textbf{X} \\boldsymbol{\\beta}] = \\textbf{X} Var[\\boldsymbol{\\beta}] \\textbf{X}^\\top$$\n",
    "This is just a more general form of the rule $var(ax) = a^2 var(x)$, for a constant $a$ and random variable $x$.\n",
    "If we assume that the true SNP effects are all i.i.d., and that the variances of all SNP effects add up to $\\sigma^2_g$, then\n",
    "$$Var[\\boldsymbol{\\beta}] = \\frac{\\sigma^2_g}{M} \\textbf{I}_{M}$$\n",
    "and so\n",
    "\n",
    "$$Var[\\textbf{X} \\boldsymbol{\\beta}] = \\textbf{X} (\\frac{\\sigma^2_g}{M} \\textbf{I}_{M}) \\textbf{X}^\\top = \\frac{\\sigma^2_g}{M} \\textbf{X}\\textbf{X}^\\top$$\n",
    "\n",
    "$\\frac{\\textbf{X}\\textbf{X}^\\top}{M}$ is the GRM, so\n",
    "\n",
    "$$Var[\\textbf{g}] = \\sigma^2_g \\textbf{A} $$\n",
    "\n",
    "Putting it all together, we get\n",
    "$$ Var[\\textbf{y}] = \\sigma^2_g \\textbf{A} + \\sigma^2_e \\textbf{I}_N  $$\n",
    "\n",
    "This is the model on which our phenotype simulations will be based and it is also the model underlying many other quantitative genetics methods."
   ]
  },
  {
   "cell_type": "markdown",
   "id": "5f496b33",
   "metadata": {},
   "source": [
    "### Limitations of the model\n",
    "\n",
    "All models are wrong; some models are useful. Most of this document describes how the model specified above is useful, but it is important to keep in mind the extent to which it is wrong.\n",
    "\n",
    "#### No non-genetic effects\n",
    "\n",
    "Apart from the inclusion of fixed effects, which is omitted here for simplicity, the model doesn't account for environmental effects. Specifically, the equation $Var[\\textbf{y}] = \\sigma^2_g \\textbf{A} + \\sigma^2_e \\textbf{I}_N$ states that the phenotypic similarity among individuals is partly due to genetic factors, and that the GRM tells us who should be similar to whom, and partly due to other factors, which are unique for each individual, and independent of their genetic relatedness. This assumption would not be justified when working with close relatives - close relatives share environments as well as genes. It is less problematic in unrelated individuals.\n",
    "\n",
    "#### No dominance effects\n",
    "\n",
    "Another assumption of our model is that for each SNP the effect of having two copies of the alternative allele is twice that of having on copy. In other words, we assume complete additivity and no dominance effects. This is not as bad as it sounds because the dominance effect is only whatever is left after removing the additive effect, and empirical data suggests that this is usually not a lot.\n",
    "\n",
    "#### No epistasis\n",
    "\n",
    "Dominance can be seen as interaction effects of a SNP with itself, and epistasis describes interaction effects among different SNPs. For example if there is a SNP which leads to a gene knockout, the effect of another SNP which can lead to a knockout of the same gene will depend on the first SNP. It seems at first that these effects should be ubiquitous, but as with dominance effects, empirical evidence does not suggest that all epistatic effect together explain as much variance as the additive effects alone, partially because the interaction effects are again only what is left after accounting for additive effects.\n",
    "\n",
    "That's very useful, because the number of interactions among SNPs can grow very rapidly, which makes it hard to test them exhaustively. With $M$ SNPs, there are $\\frac{M(M-1)}{2}$ pairwise interactions, and pairwise interactions are only the simplest kind."
   ]
  },
  {
   "cell_type": "markdown",
   "id": "73b2d6a6",
   "metadata": {},
   "source": [
    "#### Effect size distribution\n",
    "\n",
    "Although so far we have not specified any distribution of effect sizes, in the next section we will do so by drawing effects from a normal distribution. This makes the model more tractable, but is not a good approximation for traits with a few loci of large effects. However, for many polygenic traits this does not impose a great limitation, even if the true effect size distribution is not exactly normal. There are many tools and methods which try to better model a wide range of traits by assuming a different distribution of SNP effect sizes.\n",
    "\n"
   ]
  },
  {
   "cell_type": "markdown",
   "id": "19346f82",
   "metadata": {},
   "source": [
    "### Simulating a phenotype\n",
    "\n",
    "According to the model described above we will simulate our phenotypes. Here we will assume that all SNPs have an effect and that their effect size follows a normal distribution."
   ]
  },
  {
   "cell_type": "code",
   "execution_count": null,
   "id": "687719f4",
   "metadata": {
    "name": "simulate_beta"
   },
   "outputs": [],
   "source": [
    "h2 = 0.5\n",
    "beta = rnorm(m, 0, sqrt(h2/m))\n",
    "beta_o = beta/sqrt(varx)\n",
    "g = x_o %*% beta_o\n",
    "# equivalent to g = x %*% beta\n",
    "e = rnorm(n, 0, sqrt(1-h2))\n",
    "y = g + e\n",
    "\n",
    "var(y) # should be around 1"
   ]
  },
  {
   "cell_type": "markdown",
   "id": "3034840a",
   "metadata": {},
   "source": [
    "Same for the data with LD:"
   ]
  },
  {
   "cell_type": "code",
   "execution_count": null,
   "id": "fc88f57b",
   "metadata": {
    "fig.width": 8,
    "lines_to_next_cell": 2,
    "name": "simu_ld2"
   },
   "outputs": [],
   "source": [
    "gld = xld %*% beta\n",
    "eld = rnorm(n, 0, sqrt(1-h2))\n",
    "yld = gld + eld"
   ]
  },
  {
   "cell_type": "markdown",
   "id": "a9a79f60",
   "metadata": {},
   "source": [
    "Here we assume that the (SNP-)heritability is 0.5, and that the effect that each SNP has on the (scaled) phenotype assuming scaled genotypes (effect of $\\boldsymbol{\\beta}$ on $\\textbf{y}$ assuming $\\textbf{X}$) is drawn from a normal distribution with mean 0 and variance $\\frac{h^2}{M}$.\n",
    "\n",
    "The effect of $\\boldsymbol{\\beta}$ given $\\textbf{X}$ is identical to the effect of $\\boldsymbol{\\beta}^*$ given $\\textbf{X}^*$:\n",
    "$$\\textbf{X}\\boldsymbol{\\beta} = \\textbf{X}^*\\boldsymbol{\\beta}^*$$\n",
    "because\n",
    "$$\\beta_j = \\beta^*_j \\times \\sqrt{var(\\textbf{X}_j)}$$\n",
    "and\n",
    "$$X_{ij} = \\frac{X^*_{ij}}{\\sqrt{var(\\textbf{X}_j)}}$$\n",
    "\n"
   ]
  },
  {
   "cell_type": "markdown",
   "id": "c84d3293",
   "metadata": {},
   "source": [
    "but by drawing $\\boldsymbol{\\beta}$ from a normal distribution, not $\\boldsymbol{\\beta}^*$, we ensure that $\\boldsymbol{\\beta}$ is independent of $p$, but $\\boldsymbol{\\beta}^*$ is not. Absolute values of $\\boldsymbol{\\beta}^*$ will be larger for rare SNPs (low $p$). This models the expectation from natural selection which predicts that common variants will on average have smaller effects than rare variants. The seemingly innocuous scaling of genotypes therefore has a profound impact on the way in which the phenotype is modeled. There is some debate over whether this model uses the right relation between minor allele frequency and effect size, but the fact remains that it is very convenient to assume that the variance explained per SNP is independent of minor allele frequency.\n"
   ]
  },
  {
   "cell_type": "code",
   "execution_count": null,
   "id": "3c7d4ebe",
   "metadata": {
    "fig.cap": "**Relation between MAF and effect size**",
    "fig.height": 4,
    "fig.width": 8,
    "name": "beta_u"
   },
   "outputs": [],
   "source": [
    "ma = function(x, n=10) stats::filter(x, rep(1/n, n), sides=2)\n",
    "p1 = qplot(maf, abs(beta), col=maf) +\n",
    "  geom_line(data=data.frame(maf=sort(maf), beta=ma(abs(beta)[order(maf)])),\n",
    "            col='red', size=1) +\n",
    "  xlab('p') + ylab(expression(beta)) +\n",
    "  theme(legend.position='none')\n",
    "p2 = qplot(maf, abs(beta_o), col=maf) +\n",
    "  geom_line(data=data.frame(maf=sort(maf), beta_o=ma(abs(beta_o)[order(maf)])),\n",
    "            col='red', size=1) +\n",
    "  xlab('p') + ylab(expression(paste(beta^\"*\"))) + theme(legend.position='none')\n",
    "grid.arrange(p1, p2, ncol=2)"
   ]
  },
  {
   "cell_type": "markdown",
   "id": "2a6a50ae",
   "metadata": {},
   "source": [
    "**$\\boldsymbol{\\beta}$ is independent of MAF, but $\\boldsymbol{\\beta}^*$ increases with smaller MAF.**"
   ]
  },
  {
   "cell_type": "markdown",
   "id": "e0b809ac",
   "metadata": {},
   "source": [
    "\n",
    "\n",
    "----\n",
    "\n",
    "## SNP effects - methods of estimation\n"
   ]
  },
  {
   "cell_type": "markdown",
   "id": "0257fb66",
   "metadata": {},
   "source": [
    "\n",
    "\n",
    "### OLS effect estimate for one SNP (simple linear regression, GWAS)\n",
    "\n",
    "The simplest way to estimate the effect of a SNP on a quantitative trait is simple regression through [OLS](https://en.wikipedia.org/wiki/Ordinary_least_squares). Simple regression usually means that it is univariate, or one SNP at a time. This is what is done in GWAS. To contrast this with multivariate regression through OLS, I call the (marginal) estimates from univariate OLS $\\hat{\\boldsymbol{\\beta}}_{GWAS}$ and the (conditional or joint) estimates from multivariate OLS $\\hat{\\boldsymbol{\\beta}}_{OLS}$.\n",
    "\n",
    "The effect estimate in a simple linear regression is defined as:\n",
    "\n",
    "$$\\hat{\\boldsymbol{\\beta}^*}_{j,GWAS} = \\frac{\\textbf{X}_{j}^{*\\top} \\textbf{y}}{\\textbf{X}_{j}^{*\\top}\\textbf{X}^*_{j}}$$\n",
    "\n",
    "Or for standardized effects:\n",
    "\n",
    "$$\\hat{\\boldsymbol{\\beta}}_{j,GWAS} = \\frac{\\textbf{X}^\\top_{j}\\textbf{y}}{\\textbf{X}^\\top_{j}\\textbf{X}_{j}} \\approx \\frac{\\textbf{X}^\\top_{j} \\textbf{y}}{N}$$"
   ]
  },
  {
   "cell_type": "code",
   "execution_count": null,
   "id": "ffe7daf9",
   "metadata": {
    "fig.cap": "**GWAS effect estimates**",
    "fig.height": 4,
    "fig.width": 8,
    "name": "ols_single"
   },
   "outputs": [],
   "source": [
    "beta_gwas = t(x) %*% y / diag(t(x) %*% x)\n",
    "beta_o_gwas = t(x_o) %*% y / diag(t(x_o) %*% x_o)\n",
    "\n",
    "beta_gwasld = (t(xld) %*% yld) / n\n",
    "beta_o_gwasld = beta_gwasld / sqrt(varxld)\n",
    "\n",
    "p1 = qplot(beta_o, beta_o_gwas, col=maf) + geom_abline() +\n",
    "  annotate('text', -Inf, Inf, hjust=-.2, vjust=1.2,\n",
    "           label=paste0('corr: ', round(cor(beta, beta_gwas), 3))) +\n",
    "  theme(legend.position='none') +\n",
    "  xlab(expression(paste(beta^\"*\"))) +\n",
    "  ylab(expression(hat(paste(beta^\"*\"))[GWAS]))\n",
    "\n",
    "# compare this with lm\n",
    "beta_o_gwas_lm = sapply(1:m, function(i) lm(y ~ x_o[,i])$coefficients[2])\n",
    "p2 = qplot(beta_o_gwas, beta_o_gwas_lm, col=maf) + geom_abline() +\n",
    "  theme(legend.position='none') +\n",
    "  xlab(expression(hat(paste(beta^\"*\"))[GWAS])) +\n",
    "  ylab(expression(hat(paste(beta^\"*\"))[GWAS]~(lm)))\n",
    "\n",
    "grid.arrange(p1, p2, ncol=2)"
   ]
  },
  {
   "cell_type": "markdown",
   "id": "20d69716",
   "metadata": {},
   "source": [
    "\n",
    "\n",
    "### OLS effect estimate for all SNPs (multiple regression, OLS)\n",
    "\n",
    "Rather than fitting one SNP at a time, we can also fit all SNPs at the same time. This will create effect estimates which are conditional on other SNPs."
   ]
  },
  {
   "cell_type": "markdown",
   "id": "aaa8a282",
   "metadata": {},
   "source": [
    "$$\\hat{\\boldsymbol{\\beta}}_{OLS} = (\\textbf{X}^\\top\\textbf{X})^{-1}\\textbf{X}^\\top \\textbf{y}$$\n",
    "\n"
   ]
  },
  {
   "cell_type": "code",
   "execution_count": null,
   "id": "8bf45d03",
   "metadata": {
    "fig.cap": "**True effects vs multiple regression (OLS) estimates**",
    "fig.height": 4,
    "fig.width": 8,
    "name": "ols_multiple"
   },
   "outputs": [],
   "source": [
    "\n",
    "if(n >= m) {\n",
    "  beta_ols = solve(t(x) %*% x) %*% t(x) %*% y\n",
    "} else {\n",
    "    # pseudo beta_ols\n",
    "  beta_ols =  solve(t(x) %*% x + diag(m)*1e-6) %*% t(x) %*% y\n",
    "}\n",
    "beta_o_ols = beta_ols / sqrt(varx)\n",
    "p1 = qplot(beta_o, beta_o_ols, col=maf) + geom_abline() +\n",
    "  annotate('text', -Inf, Inf, hjust=-.2, vjust=1.2,\n",
    "           label=paste0('corr: ', round(cor(beta_o, beta_o_ols), 3))) +\n",
    "  theme(legend.position='none') +\n",
    "  xlab(expression(hat(paste(beta^\"*\")))) +\n",
    "  ylab(expression(hat(paste(beta^\"*\"))[OLS]))\n",
    "\n",
    "# compare this with lm\n",
    "p2 = ggplot() + theme(panel.background = element_blank())\n",
    "if(n >= m) {\n",
    "  beta_o_ols_lm = lm(y ~ x_o)$coefficients[-1]\n",
    "  p2 = qplot(beta_o_ols, beta_o_ols_lm) + geom_abline()\n",
    "}\n",
    "grid.arrange(p1, p2, ncol=2)"
   ]
  },
  {
   "cell_type": "markdown",
   "id": "3fa4b316",
   "metadata": {},
   "source": [
    "So what's the difference between the marginal single SNP GWAS model and the conditional multiple SNP OLS model? Imagine two SNPs with large, opposite effect size are in high LD. To the first model, this LD information is inaccessible, and because it can't control for the effect of the other SNP, it will calculate for each SNP an estimate of the combined effect of all the SNPs on the same haplotype block. In this case it means that the effects of both SNP cancel each other out and the GWAS estimate will be very small.\n",
    "\n",
    "The conditional OLS estimate on the other hand will be able to differentiate between the effects of both SNP, given $N$ is large enough (unless the LD correlation is one). This property of multiple regression can lead to more accurate estimates of the true effects. In our genotype model, all SNPs are independent, so there is not a large difference between conditional and marginal effects. However, the small chance correlation between SNPs that arises through the sampling process is enough to make conditional effect estimates different from marginal effect estimates. On the other hand, conditional effect estimates may not always be what is desired. Let's assume that a haplotype block with many highly correlated SNPs contains only one SNP with a true, large effect. In a the marginal GWAS model, all correlated SNPs will pick up the signal from this one SNP. In the conditional OLS model, the effect may get smeared out over all correlated SNPs, if $N$ is not large enough to assign the effect to only the causal SNP. By smearing out the effect, none of the SNPs may be found to be significantly associated.\n",
    "\n",
    "There is also a computational difference between the two models: The multiple regression model is slower because the inversion of $\\textbf{X}^\\top\\textbf{X}$ can take time.\n",
    "\n",
    "Another problem with this model is that it is prone to overfitting the data, as $\\frac{M}{N}$ increases. This will lead to less accurate estimates of the true effect size. When $M > N$, it becomes impossible to apply this model, because $\\textbf{X}^\\top\\textbf{X}$ will become singular. This problem is being addressed by the BLUP model.\n",
    "\n",
    "\n",
    "\n",
    "### Best Linear Unbiased Prediction (BLUP)\n",
    "\n",
    "As mentioned before, the multiple regression OLS model above doesn't work if $M > N$. If $M > N$ the system of equations is underdetermined (there are infinitely many solutions for $\\hat{\\boldsymbol{\\beta}}$, $\\textbf{X}^\\top\\textbf{X}$ is not positive semidefinite and cannot be inverted). Adding even very small values to the diagonal of $\\textbf{X}^\\top\\textbf{X}$ will change that and lead to a unique solution for $\\hat{\\boldsymbol{\\beta}}$. This is called [Ridge regression](https://en.wikipedia.org/wiki/Tikhonov_regularization). The shrinkage parameter $\\lambda$ will make estimated effect sizes smaller and should be proportional to the amount of error in the model. In our case, the error is given by the non-genetic component of the phenotype ($\\sigma_e$ or $1 - h^2$ since we assume a phenotypic variance of 1) and $\\lambda$ is defined as\n",
    "$$\\lambda = M\\frac{1-h^2}{h^2}$$\n",
    "\n",
    "While OLS effects for standardized $\\textbf{X}$ and $\\hat{\\boldsymbol{\\beta}}$ are defined as\n",
    "\n",
    "$$\\hat{\\boldsymbol{\\beta}}_{OLS} = (\\textbf{X}^\\top\\textbf{X})^{-1}\\textbf{X}^\\top \\textbf{y}$$\n",
    "\n",
    "BLUP can be written as\n"
   ]
  },
  {
   "cell_type": "markdown",
   "id": "6ca059c3",
   "metadata": {},
   "source": [
    "$$\\hat{\\boldsymbol{\\beta}}_{BLUP} = (\\textbf{X}^\\top\\textbf{X} + \\lambda \\textbf{I}_M)^{-1}\\textbf{X}^\\top \\textbf{y}$$\n",
    "\n",
    "The equation above is equivalent to the following equation which is a function of the GRM, rather than the LD matrix:\n",
    "$$\\hat{\\boldsymbol{\\beta}}_{BLUP} = \\textbf{X}^\\top (\\textbf{X}\\textbf{X}^\\top + \\lambda \\textbf{I}_N)^{-1}\\textbf{y}$$\n",
    "\n",
    "This illustrates why it is equivalent to say that BLUP corrects for the LD between SNPs, and that it corrects for the genetic relatedness among individuals.\n",
    "\n",
    "The last equation can be rearranged to define BLUP as a function of the phenotypic variance-covariance matrix, $\\textbf{V}$:\n",
    "$$\\hat{\\boldsymbol{\\beta}}_{BLUP} = \\frac{h^2}{M} \\textbf{X}^\\top \\textbf{V}^{-1}\\textbf{y}$$\n",
    "\n",
    "where $\\textbf{V} = \\sigma_g \\textbf{A} + \\sigma_e \\textbf{I}_N = \\frac{h^2}{M} (\\textbf{X}\\textbf{X}^\\top + \\lambda \\textbf{I}_N)$."
   ]
  },
  {
   "cell_type": "markdown",
   "id": "ed84af22",
   "metadata": {},
   "source": [
    "Here BLUP is defined for standardized genotypes and SNP effects, because the phenotypic covariance matrix, $\\textbf{V}$, is defined based on standardized genotypes, but conversion between $\\boldsymbol{\\beta}$ and $\\boldsymbol{\\beta}^*$ is always simple:\n",
    "\n",
    "$$ \\hat{\\beta}^*_{j,BLUP} \\approx \\frac{\\hat{\\beta}_{j,BLUP}}{\\sqrt{2p_j(1-p_j)}}$$\n"
   ]
  },
  {
   "cell_type": "code",
   "execution_count": null,
   "id": "e127ee3d",
   "metadata": {
    "fig.cap": "**BLUP effect estimates**",
    "fig.width": 8,
    "name": "blup"
   },
   "outputs": [],
   "source": [
    "lambda = m*(1-h2)/h2\n",
    "\n",
    "beta_blup = solve(t(x) %*% x + diag(m)*lambda ) %*% t(x) %*% y\n",
    "beta_o_blup = beta_blup / sqrt(varx)\n",
    "\n",
    "beta_blupld = solve(t(xld) %*% xld + diag(m)*lambda ) %*% t(xld) %*% yld\n",
    "beta_o_blupld = beta_blupld / sqrt(varxld)\n",
    "\n",
    "p1 = qplot(beta_o, beta_o_blup, col=maf) + geom_abline() +\n",
    "  annotate('text', -Inf, Inf, hjust=-.2, vjust=1.2,\n",
    "           label=paste0('corr: ', round(cor(beta_o, beta_o_blup), 3))) +\n",
    "  xlab(expression(paste(beta^\"*\"))) +\n",
    "  ylab(expression(hat(paste(beta^\"*\"))[BLUP]))\n",
    "p2 = qplot(beta_o_gwasld, beta_o_blupld, col=ldscoresld) + geom_abline() +\n",
    "  scale_colour_continuous(low='black', high='green') +\n",
    "  xlab(expression(hat(paste(beta^\"*\"))[GWAS]~(LD))) +\n",
    "  ylab(expression(hat(paste(beta^\"*\"))[BLUP]~(LD)))\n",
    "grid.arrange(p1, p2, ncol=2)"
   ]
  },
  {
   "cell_type": "markdown",
   "id": "bd3f895f",
   "metadata": {},
   "source": [
    "**Left: Data without LD. BLUP estimates usually provide better estimates of the true effect size than GWAS estimates, so the correlation between $\\boldsymbol{\\beta}$ and $\\hat{\\boldsymbol{\\beta}}_{BLUP}$ should be a bit larger than between $\\boldsymbol{\\beta}$ and $\\hat{\\boldsymbol{\\beta}}_{GWAS}$.**\n",
    "**Right: Data with LD. Compared to GWAS estimates, BLUP estimates are shrunk, and the shrinkage is proportional to the LD score.**\n",
    "\n",
    "The shrinkage factor $\\lambda$ can vary between 0 and $\\infty$, as $h^2$ varies between 0 and 1. Consider what happens when $h^2$ becomes large: $\\lambda$ will go to 0 and $\\hat{\\boldsymbol{\\beta}}_{BLUP}$ will become equivalent to $\\hat{\\boldsymbol{\\beta}}_{OLS}$. The same happens when $M$ decreases (since $\\lambda = M \\frac{1-h^2}{h^2}$) and also as $N$ increases, since $\\lambda$ will be small relative to the values in the $\\textbf{X}^\\top\\textbf{X}$ matrix to which it is added.\n",
    "\n",
    "What happens in the opposite case, as $h^2$ and $N$ get smaller and $M$ becomes larger? The matrix $\\textbf{X}^\\top\\textbf{X} + \\lambda \\textbf{I}$ will become very heavy along its diagonal, so similar in structure to an identity matrix, but with large values. Consequently, $\\hat{\\boldsymbol{\\beta}}_{BLUP}$ will be shrunk very heavily towards 0, but become very similar to $\\hat{\\boldsymbol{\\beta}}_{GWAS}$.\n",
    "\n",
    "The importance of the shrinkage factor is not so much that it makes the effects smaller (although this can be useful as well, see winner's curse section). If we just wanted smaller effects, we could just divide GWAS estimates by some factor, but this wouldn't affect the correlation with the true effects.\n",
    "\n",
    "The reason why the shrinkage factor is important is because it prevents the estimation procedure from placing too much weight on the correlation structure among SNPs and instead to focus more on the marginal effect of each SNP. This is especially important when $M$ is large relative to $N$, because this makes it more difficult to estimate purely conditional effects accurately, while the estimability of each marginal effect only depends on $N$, not $M$.\n",
    "\n",
    "In the BLUP definition shown here, the amount of shrinkage for each SNP is independent of its allele frequency, because the diagonal elements of $\\textbf{X}^\\top\\textbf{X}$ are all $n - 1$ and the shrinkage factor $\\lambda$ is constant as well. However, another common definition on BLUP is\n",
    "\n",
    "$$\\hat{\\boldsymbol{\\beta}^*}_{BLUP} = (\\textbf{X}^{*\\top}\\textbf{X}^* + \\lambda \\textbf{I}_M)^{-1}\\textbf{X}^{*\\top} \\textbf{y}$$\n",
    "BLUP SNP effects in this way cannot be simply transformed to the $\\hat{\\boldsymbol{\\beta}}_{BLUP}$ defined earlier by multiplying by $\\sqrt{2p(1-p)}$, because the shrinkage factor affects SNPs differently here: Since the diagonal elements of $\\textbf{X}^{*\\top}\\textbf{X}^*$ are not constant, but depend on the allele frequency, rare SNPs with small variance (small elements on the diagonal) will be shrunk more, proportionally, than common SNPs with large variance (large elements on the diagonal)."
   ]
  },
  {
   "cell_type": "markdown",
   "id": "7e93ff8b",
   "metadata": {},
   "source": [
    "Notice that the BLUP models shown here assume that we know what $\\sigma^2_g$ and $\\sigma^2_e$ are (or just $h^2$ with $var(\\textbf{y}) = 1$). In practice, these parameters also have to be estimated from the data at the same time (see variance component estimation section).\n",
    "\n",
    "A practical tip for calculating BLUP solutions in R: Matrix multiplications are not commutative, but they are associative. That means the order can't change, but we can group them however we like, without changing the result. We can use this to greatly speed up the calculation of chained matrix multiplications, by forcing R to first evaluate the matrix - vector multiplications: "
   ]
  },
  {
   "cell_type": "code",
   "execution_count": null,
   "id": "8e036642",
   "metadata": {
    "name": "blup2"
   },
   "outputs": [],
   "source": [
    "invmat = solve(t(x) %*% x + diag(m)*lambda )\n",
    "\n",
    "system.time( invmat %*% t(x) %*% y )\n",
    "system.time( invmat %*% (t(x) %*% y) )"
   ]
  },
  {
   "cell_type": "code",
   "execution_count": null,
   "id": "504536e1",
   "metadata": {
    "name": "modified_scatter3d",
    "tags": [
     "remove_input"
    ]
   },
   "outputs": [],
   "source": [
    "\n",
    "# this is modified from the function lm.ridge in the package 'MASS'\n",
    "lm.ridge = function (formula, data, subset, na.action, lambda = 0, model = FALSE, \n",
    "    x = FALSE, y = FALSE, contrasts = NULL, ...) \n",
    "{\n",
    "    m <- match.call(expand.dots = FALSE)\n",
    "    m$model <- m$x <- m$y <- m$contrasts <- m$... <- m$lambda <- NULL\n",
    "    m[[1L]] <- quote(stats::model.frame)\n",
    "    m <- eval.parent(m)\n",
    "    Terms <- attr(m, \"terms\")\n",
    "    Y <- model.response(m)\n",
    "    X <- model.matrix(Terms, m, contrasts)\n",
    "    n <- nrow(X)\n",
    "    p <- ncol(X)\n",
    "    offset <- model.offset(m)\n",
    "    if (!is.null(offset)) \n",
    "        Y <- Y - offset\n",
    "    if (Inter <- attr(Terms, \"intercept\")) {\n",
    "        Xm <- colMeans(X[, -Inter, drop=F])\n",
    "        Ym <- mean(Y)\n",
    "        p <- p - 1\n",
    "        X <- X[, -Inter] - rep(Xm, rep(n, p))\n",
    "        Y <- Y - Ym\n",
    "    }\n",
    "    else Ym <- Xm <- NA\n",
    "    Xscale <- drop(rep(1/n, n) %*% X^2)^0.5\n",
    "    X <- X/rep(Xscale, rep(n, p))\n",
    "    Xs <- svd(X)\n",
    "    rhs <- t(Xs$u) %*% Y\n",
    "    d <- Xs$d\n",
    "    lscoef <- Xs$v %*% (rhs/d)\n",
    "    lsfit <- X %*% lscoef\n",
    "    resid <- Y - lsfit\n",
    "    s2 <- sum(resid^2)/(n - p - Inter)\n",
    "    HKB <- (p - 2) * s2/sum(lscoef^2)\n",
    "    LW <- (p - 2) * s2 * n/sum(lsfit^2)\n",
    "    k <- length(lambda)\n",
    "    dx <- length(d)\n",
    "    div <- d^2 + rep(lambda, rep(dx, k))\n",
    "    a <- drop(d * rhs)/div\n",
    "    dim(a) <- c(dx, k)\n",
    "    coef <- Xs$v %*% a\n",
    "    dimnames(coef) <- list(names(Xscale), format(lambda))\n",
    "    GCV <- colSums((Y - X %*% coef)^2)/(n - colSums(matrix(d^2/div, \n",
    "        dx)))^2\n",
    "    res <- list(coef = drop(coef), scales = Xscale, Inter = Inter, \n",
    "        lambda = lambda, ym = Ym, xm = Xm, GCV = GCV, kHKB = HKB, \n",
    "        kLW = LW)\n",
    "    class(res) <- \"ridgelm\"\n",
    "    res\n",
    "}\n",
    "\n",
    "# this is modified from the function scatter3d in the package 'car'\n",
    "scatter3d <- function(x, ...){\n",
    "    if (!requireNamespace(\"rgl\")) stop(\"rgl package missing\")\n",
    "    UseMethod(\"scatter3d\")\n",
    "}\n",
    "\n",
    "scatter3d.formula <- function(formula, data, subset, radius, xlab, ylab, zlab, labels, ...){\n",
    "    na.save <- options(na.action=na.omit)\n",
    "    on.exit(options(na.save))\n",
    "    m <- match.call(expand.dots=FALSE)\n",
    "    if (is.matrix(eval(m$data, sys.frame(sys.parent())))) \n",
    "        m$data <- as.data.frame(data)\n",
    "    m$na.action <- na.pass\n",
    "    m$labels <- m$xlab <- m$ylab <- m$zlab <- m$... <- NULL\n",
    "    m[[1]] <- as.name(\"model.frame\")\n",
    "    formula <- as.character(c(formula))\n",
    "    formula <- as.formula(sub(\"\\\\|\", \"+\", formula))\n",
    "    m$formula <- formula\n",
    "    X <- eval(m, parent.frame())\n",
    "    if (\"(radius)\" %in% names(X)){\n",
    "        radius <- X[, \"(radius)\"]\n",
    "        X <- X[, names(X) != \"(radius)\"]\n",
    "    }\n",
    "    else radius <- 1\n",
    "    names <- names(X)\n",
    "    if (missing(xlab)) xlab <- names[2]\n",
    "    if (missing(ylab)) ylab <- names[1]\n",
    "    if (missing(zlab)) zlab <- names[3]\n",
    "    if (missing(labels)) labels <- rownames(X)\n",
    "    if (ncol(X) == 3) \n",
    "        scatter3d(X[,2], X[,1], X[,3], xlab=xlab, ylab=ylab, zlab=zlab, labels=labels, radius=radius, ...)\n",
    "    else if (ncol(X) == 4) \n",
    "        scatter3d(X[,2], X[,1], X[,3], groups=X[,4], xlab=xlab, ylab=ylab, zlab=zlab, labels=labels, radius=radius, ...)\n",
    "    else stop(\"incorrect scatter3d formula\")\n",
    "}\n",
    "\n",
    "scatter3d.default <- function(x, y, z,\n",
    "    xlab=deparse(substitute(x)), ylab=deparse(substitute(y)),\n",
    "    zlab=deparse(substitute(z)), axis.scales=TRUE, axis.ticks=FALSE,\n",
    "    revolutions=0, bg.col=c(\"white\", \"black\"),\n",
    "    axis.col=if (bg.col == \"white\") c(\"darkmagenta\", \"black\", \"darkcyan\")\n",
    "    else c(\"darkmagenta\", \"white\", \"darkcyan\"),\n",
    "    surface.col=c(\"blue\", \"green\", \"orange\", \"magenta\", \"cyan\", \"red\", \"yellow\", \"gray\"),\n",
    "    surface.alpha=0.5,\n",
    "    neg.res.col=\"red\", pos.res.col=\"green\",\n",
    "    square.col=if (bg.col == \"white\") \"black\" else \"gray\", point.col=\"yellow\",\n",
    "    text.col=axis.col, grid.col=if (bg.col == \"white\") \"blue\" else \"gray\",\n",
    "    fogtype=c(\"exp2\", \"linear\", \"exp\", \"none\"),\n",
    "    residuals=(length(fit) == 1), surface=TRUE, fill=TRUE, grid=TRUE, grid.lines=26,\n",
    "    df.smooth=NULL, df.additive=NULL,\n",
    "    sphere.size=1, radius=1, threshold=0.01, speed=1, fov=60, \n",
    "    fit=\"linear\", groups=NULL, parallel=TRUE, ellipsoid=FALSE, level=0.5, ellipsoid.alpha=0.1,\n",
    "    id.method=c(\"mahal\", \"xz\", \"y\", \"xyz\", \"identify\", \"none\"), \n",
    "    id.n=if (id.method == \"identify\") Inf else 0,\n",
    "    labels=as.character(seq(along=x)), offset = ((100/length(x))^(1/3)) * 0.02,\n",
    "    model.summary=FALSE, lambda=10, ...){\n",
    "    if (!requireNamespace(\"rgl\")) stop(\"rgl package missing\")\n",
    "    if (!requireNamespace(\"mgcv\")) stop(\"mgcv package missing\")\n",
    "    id.method <- match.arg(id.method)\n",
    "    if (residuals == \"squares\"){\n",
    "        residuals <- TRUE\n",
    "        squares <- TRUE\n",
    "    }\n",
    "    else squares <- FALSE\n",
    "    summaries <- list()\n",
    "    if ((!is.null(groups)) && (nlevels(groups) > length(surface.col)))\n",
    "        stop(sprintf(\"Number of groups (%d) exceeds number of colors (%d)\",\n",
    "            nlevels(groups), length(surface.col)))\n",
    "    if ((!is.null(groups)) && (!is.factor(groups))) stop(\"groups variable must be a factor\")\n",
    "    counts <- table(groups)\n",
    "    if (any(counts == 0)){\n",
    "        levels <- levels(groups)\n",
    "        warning(\"the following groups are empty: \", paste(levels[counts == 0], collapse=\", \"))\n",
    "        groups <- factor(groups, levels=levels[counts != 0])\n",
    "    }\n",
    "    bg.col <- match.arg(bg.col)\n",
    "    fogtype <- match.arg(fogtype)\n",
    "    if ((length(fit) > 1) && residuals && surface)\n",
    "        stop(\"cannot plot both multiple surfaces and residuals\")\n",
    "    xlab  # cause these arguments to be evaluated\n",
    "    ylab\n",
    "    zlab\n",
    "    rgl::next3d()\n",
    "    rgl::rgl.viewpoint(fov=fov)\n",
    "    rgl::rgl.bg(color=bg.col, fogtype=fogtype)\n",
    "    if (id.method == \"identify\"){\n",
    "        xg <- x\n",
    "        yg <- y\n",
    "        zg <- z\n",
    "        ggroups <- groups\n",
    "        glabels <- labels\n",
    "    }\n",
    "    valid <- if (is.null(groups)) complete.cases(x, y, z)\n",
    "    else complete.cases(x, y, z, groups)\n",
    "    x <- x[valid]\n",
    "    y <- y[valid]\n",
    "    z <- z[valid]\n",
    "    labels <- labels[valid]\n",
    "    minx <- min(x)\n",
    "    maxx <- max(x)\n",
    "    miny <- min(y)\n",
    "    maxy <- max(y)\n",
    "    minz <- min(z)\n",
    "    maxz <- max(z)\n",
    "    if (axis.scales){\n",
    "        lab.min.x <- nice(minx)\n",
    "        lab.max.x <- nice(maxx)\n",
    "        lab.min.y <- nice(miny)\n",
    "        lab.max.y <- nice(maxy)\n",
    "        lab.min.z <- nice(minz)\n",
    "        lab.max.z <- nice(maxz)\n",
    "        minx <- min(lab.min.x, minx)\n",
    "        maxx <- max(lab.max.x, maxx)\n",
    "        miny <- min(lab.min.y, miny)\n",
    "        maxy <- max(lab.max.y, maxy)\n",
    "        minz <- min(lab.min.z, minz)\n",
    "        maxz <- max(lab.max.z, maxz)\n",
    "        min.x <- (lab.min.x - minx)/(maxx - minx)\n",
    "        max.x <- (lab.max.x - minx)/(maxx - minx)\n",
    "        min.y <- (lab.min.y - miny)/(maxy - miny)\n",
    "        max.y <- (lab.max.y - miny)/(maxy - miny)\n",
    "        min.z <- (lab.min.z - minz)/(maxz - minz)\n",
    "        max.z <- (lab.max.z - minz)/(maxz - minz)\n",
    "        if (axis.ticks){\n",
    "            if (axis.scales) {\n",
    "                x.labels <-  seq(lab.min.x, lab.max.x, \n",
    "                    by=diff(range(lab.min.x, lab.max.x))/4)\n",
    "                x.at <- seq(min.x, max.x, by=nice(diff(range(min.x, max.x))/4))\n",
    "                rgl::rgl.texts(x.at, -0.05, 0, x.labels, col = axis.col[1])\n",
    "                \n",
    "                z.labels <-  seq(lab.min.z, lab.max.z, \n",
    "                    by=diff(range(lab.min.z, lab.max.z))/4)\n",
    "                z.at <- seq(min.z, max.z, by=diff(range(min.z, max.z))/4)\n",
    "                rgl::rgl.texts(0, -0.1, z.at, z.labels, col = axis.col[3])\n",
    "                \n",
    "                y.labels <-  seq(lab.min.y, lab.max.y, \n",
    "                    by=diff(range(lab.min.y, lab.max.y))/4)\n",
    "                y.at <- seq(min.y, max.y, by=diff(range(min.y, max.y))/4)\n",
    "                rgl::rgl.texts(-0.05, y.at, -0.05, y.labels, col = axis.col[2])\n",
    "            }\n",
    "        }\n",
    "        else {\n",
    "            rgl::rgl.texts(min.x, -0.05, 0, lab.min.x, col=axis.col[1])\n",
    "            rgl::rgl.texts(max.x, -0.05, 0, lab.max.x, col=axis.col[1])\n",
    "            rgl::rgl.texts(0, -0.1, min.z, lab.min.z, col=axis.col[3])\n",
    "            rgl::rgl.texts(0, -0.1, max.z, lab.max.z, col=axis.col[3])\n",
    "            rgl::rgl.texts(-0.05, min.y, -0.05, lab.min.y, col=axis.col[2])\n",
    "            rgl::rgl.texts(-0.05, max.y, -0.05, lab.max.y, col=axis.col[2])\n",
    "        }\n",
    "    }\n",
    "    if (!is.null(groups)) groups <- groups[valid]\n",
    "    x <- (x - minx)/(maxx - minx)\n",
    "    y <- (y - miny)/(maxy - miny)\n",
    "    z <- (z - minz)/(maxz - minz)\n",
    "    size <- sphere.size*((100/length(x))^(1/3))*0.015\n",
    "    radius <- radius/median(radius)\n",
    "    if (is.null(groups)){\n",
    "        if (size > threshold) rgl::rgl.spheres(x, y, z, color=point.col, radius=size*radius)\n",
    "        else rgl::rgl.points(x, y, z, color=point.col)\n",
    "    }\n",
    "    else {\n",
    "        if (size > threshold) rgl::rgl.spheres(x, y, z, color=surface.col[as.numeric(groups)], radius=size*radius)\n",
    "        else rgl::rgl.points(x, y, z, color=surface.col[as.numeric(groups)])\n",
    "    }\n",
    "    if (!axis.scales) axis.col[1] <- axis.col[3] <- axis.col[2]\n",
    "    rgl::rgl.lines(c(0,1), c(0,0), c(0,0), color=axis.col[1])\n",
    "    rgl::rgl.lines(c(0,0), c(0,1), c(0,0), color=axis.col[2])\n",
    "    rgl::rgl.lines(c(0,0), c(0,0), c(0,1), color=axis.col[3])\n",
    "    rgl::rgl.texts(1, 0, 0, xlab, adj=1, color=axis.col[1])\n",
    "    rgl::rgl.texts(0, 1.05, 0, ylab, adj=1, color=axis.col[2])\n",
    "    rgl::rgl.texts(0, 0, 1, zlab, adj=1, color=axis.col[3])\n",
    "    # if (axis.scales){\n",
    "    #     rgl::rgl.texts(min.x, -0.05, 0, lab.min.x, col=axis.col[1])\n",
    "    #     rgl::rgl.texts(max.x, -0.05, 0, lab.max.x, col=axis.col[1])\n",
    "    #     rgl::rgl.texts(0, -0.1, min.z, lab.min.z, col=axis.col[3])\n",
    "    #     rgl::rgl.texts(0, -0.1, max.z, lab.max.z, col=axis.col[3])\n",
    "    #     rgl::rgl.texts(-0.05, min.y, -0.05, lab.min.y, col=axis.col[2])\n",
    "    #     rgl::rgl.texts(-0.05, max.y, -0.05, lab.max.y, col=axis.col[2])\n",
    "    # }\n",
    "    if (ellipsoid) {\n",
    "        dfn <- 3\n",
    "        if (is.null(groups)){\n",
    "            dfd <- length(x) - 1\n",
    "            ell.radius <- sqrt(dfn * qf(level, dfn, dfd))\n",
    "            ellips <- ellipsoid(center=c(mean(x), mean(y), mean(z)),\n",
    "                shape=cov(cbind(x,y,z)), radius=ell.radius)\n",
    "            if (fill) rgl::shade3d(ellips, col=surface.col[1], alpha=ellipsoid.alpha, lit=FALSE)\n",
    "            if (grid) rgl::wire3d(ellips, col=surface.col[1], lit=FALSE)\n",
    "        }\n",
    "        else{\n",
    "            levs <- levels(groups)\n",
    "            for (j in 1:length(levs)){\n",
    "                group <- levs[j]\n",
    "                select.obs <- groups == group\n",
    "                xx <- x[select.obs]\n",
    "                yy <- y[select.obs]\n",
    "                zz <- z[select.obs]\n",
    "                dfd <- length(xx) - 1\n",
    "                ell.radius <- sqrt(dfn * qf(level, dfn, dfd))\n",
    "                ellips <- ellipsoid(center=c(mean(xx), mean(yy), mean(zz)),\n",
    "                    shape=cov(cbind(xx,yy,zz)), radius=ell.radius)\n",
    "                if (fill) rgl::shade3d(ellips, col=surface.col[j], alpha=ellipsoid.alpha, lit=FALSE)\n",
    "                if (grid) rgl::wire3d(ellips, col=surface.col[j], lit=FALSE)\n",
    "                coords <- ellips$vb[, which.max(ellips$vb[1,])]\n",
    "                if (!surface) rgl::rgl.texts(coords[1] + 0.05, coords[2], coords[3], group,\n",
    "                    col=surface.col[j])\n",
    "            }\n",
    "        }\n",
    "    }\n",
    "    if (surface){\n",
    "        vals <- seq(0, 1, length.out=grid.lines)\n",
    "        dat <- expand.grid(x=vals, z=vals)\n",
    "        for (i in 1:length(fit)){\n",
    "            f <- match.arg(fit[i], c(\"linear\", \"quadratic\", \"smooth\", \"additive\", \"ridge\"))\n",
    "            if (is.null(groups)){\n",
    "                mod <- switch(f,\n",
    "                    linear = lm(y ~ x + z),\n",
    "                    ridge = lm.ridge(y ~ x + z, lambda=lambda),\n",
    "                    quadratic = lm(y ~ (x + z)^2 + I(x^2) + I(z^2)),\n",
    "                    smooth = if (is.null(df.smooth)) mgcv::gam(y ~ s(x, z))\n",
    "                    else mgcv::gam(y ~ s(x, z, fx=TRUE, k=df.smooth)),\n",
    "                    additive = if (is.null(df.additive)) mgcv::gam(y ~ s(x) + s(z))\n",
    "                    else mgcv::gam(y ~ s(x, fx=TRUE, k=df.additive[1]+1) +\n",
    "                            s(z, fx=TRUE, k=(rev(df.additive+1)[1]+1)))\n",
    "                )\n",
    "                if (model.summary) summaries[[f]] <- summary(mod)\n",
    "                if(f == 'ridge') {\n",
    "                            yhat <- matrix(as.matrix(cbind(const=1,cbind(dat))) %*% coef(mod), grid.lines, grid.lines)\n",
    "                        } else {\n",
    "                            yhat <- matrix(predict(mod, newdata=cbind(dat)), grid.lines, grid.lines)\n",
    "                        }\n",
    "                if (fill) rgl::rgl.surface(vals, vals, yhat, color=surface.col[i], alpha=surface.alpha, lit=FALSE)\n",
    "                if(grid) rgl::rgl.surface(vals, vals, yhat, color=if (fill) grid.col\n",
    "                    else surface.col[i], alpha=1, lit=FALSE, front=\"lines\", back=\"lines\")\n",
    "                if (residuals){\n",
    "                    n <- length(y)\n",
    "                    if(f == 'ridge') {\n",
    "                        fitted <- c(as.matrix(cbind(const=1,x,z)) %*% coef(mod))\n",
    "                    } else {\n",
    "                        fitted <- fitted(mod)\n",
    "                    }\n",
    "                    colors <- ifelse(residuals(mod) > 0, pos.res.col, neg.res.col)\n",
    "                    colors <- pos.res.col\n",
    "                    rgl::rgl.lines(as.vector(rbind(x,x)), as.vector(rbind(y,fitted)), as.vector(rbind(z,z)),\n",
    "                        color=as.vector(rbind(colors,colors)))\n",
    "                    # surface dots\n",
    "                    rgl::rgl.lines(as.vector(rbind(x,x)), as.vector(rbind(fitted+1e-2,fitted-1e-2)), as.vector(rbind(z,z)), col='black')\n",
    "                    # projection lines\n",
    "                    #rgl::rgl.lines(as.vector(rbind(0,x)), as.vector(rbind(y,y)), as.vector(rbind(z,z)), col='lightgray')\n",
    "                    #rgl::rgl.lines(as.vector(rbind(x,x)), as.vector(rbind(y,y)), as.vector(rbind(0,z)), col='lightgray')\n",
    "                    # marginal effect lines\n",
    "                    if(f == 'ridge') {\n",
    "                            modmar = lm.ridge(y ~ x, lambda=lambda)\n",
    "                            yhatmar <- c(as.matrix(cbind(const=1, 0:1)) %*% coef(modmar))\n",
    "                            rgl::rgl.lines(0:1, yhatmar, 0:0, col='purple')\n",
    "                            modmar = lm.ridge(y ~ z, lambda=lambda)\n",
    "                            yhatmar <- c(as.matrix(cbind(const=1, 0:1)) %*% coef(modmar))\n",
    "                            rgl::rgl.lines(0:0, yhatmar, 0:1, col='purple')\n",
    "                    } else {\n",
    "                      rgl::rgl.lines(0:1, predict(lm(y ~ x), newdata = data.frame(x=0:1)), 0:0, col='purple')\n",
    "                      rgl::rgl.lines(0:0, predict(lm(y ~ z), newdata = data.frame(z=0:1)), 0:1, col='purple')\n",
    "                    }\n",
    "                    if (squares){\n",
    "                        res <- y - fitted\n",
    "                        xx <- as.vector(rbind(x, x, x + res, x + res))\n",
    "                        yy <- as.vector(rbind(y, fitted, fitted, y))\n",
    "                        zz <- as.vector(rbind(z, z, z, z))\n",
    "                        rgl::rgl.quads(xx, yy, zz, color=square.col, alpha=surface.alpha, lit=FALSE)\n",
    "                        rgl::rgl.lines(xx, yy, zz, color=square.col)\n",
    "                    }\n",
    "                }\n",
    "            }\n",
    "            else{\n",
    "                if (parallel){\n",
    "                    mod <- switch(f,\n",
    "                        linear = lm(y ~ x + z + groups),\n",
    "                        ridge = lm.ridge(y ~ x + z, lambda=lambda),\n",
    "                        quadratic = lm(y ~ (x + z)^2 + I(x^2) + I(z^2) + groups),\n",
    "                        smooth = if (is.null(df.smooth)) mgcv::gam(y ~ s(x, z) + groups)\n",
    "                        else mgcv::gam(y ~ s(x, z, fx=TRUE, k=df.smooth) + groups),\n",
    "                        additive = if (is.null(df.additive)) mgcv::gam(y ~ s(x) + s(z) + groups)\n",
    "                        else mgcv::gam(y ~ s(x, fx=TRUE, k=df.additive[1]+1) +\n",
    "                                s(z, fx=TRUE, k=(rev(df.additive+1)[1]+1)) + groups)\n",
    "                    )\n",
    "                    if (model.summary) summaries[[f]] <- summary(mod)\n",
    "                    levs <- levels(groups)\n",
    "                    for (j in 1:length(levs)){\n",
    "                        group <- levs[j]\n",
    "                        select.obs <- groups == group\n",
    "                        if(f == 'ridge') {\n",
    "                            yhat <- matrix(as.matrix(cbind(const=1,cbind(dat, groups=group))) %*% coef(mod), grid.lines, grid.lines)\n",
    "                        } else {\n",
    "                            yhat <- matrix(predict(mod, newdata=cbind(dat, groups=group)), grid.lines, grid.lines)\n",
    "                        }\n",
    "                        if (fill) rgl::rgl.surface(vals, vals, yhat, color=surface.col[j], alpha=surface.alpha, lit=FALSE)\n",
    "                        if (grid) rgl::rgl.surface(vals, vals, yhat, color=if (fill) grid.col\n",
    "                            else surface.col[j], alpha=surface.alpha, lit=FALSE, front=\"lines\", back=\"lines\")\n",
    "                        #rgl::rgl.texts(1, predict(mod, newdata=data.frame(x=1, z=1, groups=group)), 1,\n",
    "                        #    paste(group, \" \"), adj=1, color=surface.col[j])\n",
    "                        if (residuals){\n",
    "                            yy <- y[select.obs]\n",
    "                            xx <- x[select.obs]\n",
    "                            zz <- z[select.obs]\n",
    "                            fitted <- fitted(mod)[select.obs]\n",
    "                            res <- yy - fitted\n",
    "                            rgl::rgl.lines(as.vector(rbind(xx,xx)), as.vector(rbind(yy,fitted)), as.vector(rbind(zz,zz)),\n",
    "                                col=surface.col[j])\n",
    "                            if (squares) {\n",
    "                                xxx <- as.vector(rbind(xx, xx, xx + res, xx + res))\n",
    "                                yyy <- as.vector(rbind(yy, fitted, fitted, yy))\n",
    "                                zzz <- as.vector(rbind(zz, zz, zz, zz))\n",
    "                                rgl::rgl.quads(xxx, yyy, zzz, color=surface.col[j], alpha=surface.alpha, lit=FALSE)\n",
    "                                rgl::rgl.lines(xxx, yyy, zzz, color=surface.col[j])\n",
    "                            }\n",
    "                        }\n",
    "                    }\n",
    "                }\n",
    "                else {\n",
    "                    levs <- levels(groups)\n",
    "                    for (j in 1:length(levs)){\n",
    "                        group <- levs[j]\n",
    "                        select.obs <- groups == group\n",
    "                        mod <- switch(f,\n",
    "                            linear = lm(y ~ x + z, subset=select.obs),\n",
    "                            ridge = lm.ridge(y ~ x + z, lambda=lambda),\n",
    "                            quadratic = lm(y ~ (x + z)^2 + I(x^2) + I(z^2), subset=select.obs),\n",
    "                            smooth = if (is.null(df.smooth)) mgcv::gam(y ~ s(x, z), subset=select.obs)\n",
    "                            else mgcv::gam(y ~ s(x, z, fx=TRUE, k=df.smooth), subset=select.obs),\n",
    "                            additive = if (is.null(df.additive)) mgcv::gam(y ~ s(x) + s(z), subset=select.obs)\n",
    "                            else mgcv::gam(y ~ s(x, fx=TRUE, k=df.additive[1]+1) +\n",
    "                                    s(z, fx=TRUE, k=(rev(df.additive+1)[1]+1)), subset=select.obs)\n",
    "                        )\n",
    "                        if (model.summary) summaries[[paste(f, \".\", group, sep=\"\")]] <- summary(mod)\n",
    "                        if(f == 'ridge') {\n",
    "                            yhat <- matrix(as.matrix(cbind(const=1,cbind(dat, groups=group))) %*% coef(mod), grid.lines, grid.lines)\n",
    "                        } else {\n",
    "                            yhat <- matrix(predict(mod, newdata=cbind(dat, groups=group)), grid.lines, grid.lines)\n",
    "                        }\n",
    "                        if (fill) rgl::rgl.surface(vals, vals, yhat, color=surface.col[j], alpha=surface.alpha, lit=FALSE)\n",
    "                        if (grid) rgl::rgl.surface(vals, vals, yhat, color=if (fill) grid.col\n",
    "                            else surface.col[j], alpha=surface.alpha, lit=FALSE, front=\"lines\", back=\"lines\")\n",
    "\n",
    "                        if (residuals){\n",
    "                            yy <- y[select.obs]\n",
    "                            xx <- x[select.obs]\n",
    "                            zz <- z[select.obs]\n",
    "                            fitted <- fitted(mod)\n",
    "                            res <- yy - fitted\n",
    "                            \n",
    "                            rgl::rgl.lines(as.vector(rbind(xx,xx)), as.vector(rbind(yy,fitted)), as.vector(rbind(zz,zz)),\n",
    "                                col=surface.col[j])\n",
    "                            if (squares) {\n",
    "                                xxx <- as.vector(rbind(xx, xx, xx + res, xx + res))\n",
    "                                yyy <- as.vector(rbind(yy, fitted, fitted, yy))\n",
    "                                zzz <- as.vector(rbind(zz, zz, zz, zz))\n",
    "                                rgl::rgl.quads(xxx, yyy, zzz, color=surface.col[j], alpha=surface.alpha, lit=FALSE)\n",
    "                                rgl::rgl.lines(xxx, yyy, zzz, color=surface.col[j])\n",
    "                            }\n",
    "                        }\n",
    "                    }\n",
    "                }\n",
    "            }\n",
    "        }\n",
    "    }\n",
    "    else levs <- levels(groups)\n",
    "    if (id.method == \"identify\"){\n",
    "        Identify3d(xg, yg, zg, axis.scales=axis.scales, groups=ggroups, labels=glabels, \n",
    "            col=surface.col, offset=offset)\n",
    "    }\n",
    "    else if (id.method != \"none\"){\n",
    "        if (is.null(groups)) \n",
    "            showLabels3d(x, y, z, labels, id.method=id.method, id.n=id.n, col=surface.col[1])\n",
    "        else {\n",
    "            for (j in 1:length(levs)){\n",
    "                group <- levs[j]\n",
    "                select.obs <- groups == group\n",
    "                showLabels3d(x[select.obs], y[select.obs], z[select.obs], labels[select.obs], \n",
    "                    id.method=id.method, id.n=id.n, col=surface.col[j])\n",
    "            }\n",
    "        }\n",
    "    }\n",
    "    if (revolutions > 0) {\n",
    "        for (i in 1:revolutions){\n",
    "            for (angle in seq(1, 360, length.out=360/speed)) rgl::rgl.viewpoint(-angle, fov=fov)\n",
    "        }\n",
    "    }\n",
    "    if (model.summary) return(summaries) else return(invisible(NULL))\n",
    "}\n",
    "\n",
    "showLabels3d <- function(x, y, z, labels,\n",
    "    id.method = \"identify\", id.n=length(x), col=c(\"blue\"), \n",
    "    res=y - mean(y), range.x=range(x), range.z=range(z), \n",
    "    offset = ((100/length(x))^(1/3)) * 0.02) {\n",
    "    if (!requireNamespace(\"rgl\")) stop(\"rgl package is missing\")\n",
    "    if (id.method == \"none\") return(NULL)\n",
    "    if(id.n > 0L) {\n",
    "        if (missing(labels))\n",
    "            labels <- as.character(seq(along=x))\n",
    "        getPoints <- function(w) {\n",
    "            names(w) <- labels\n",
    "            iid <- seq(length=id.n)\n",
    "            ws <- w[order(-w)[iid]]\n",
    "            match(names(ws), labels)\n",
    "        }\n",
    "        ind <-  switch(id.method,\n",
    "            xz = getPoints(rowSums(qr.Q(qr(cbind(1, x, z))) ^ 2)),\n",
    "            y = getPoints(abs(res)),\n",
    "            xyz = union(getPoints(abs(x - mean(x))), union(abs(z - mean(z)),\n",
    "                getPoints(abs(res)))),\n",
    "            mahal= getPoints(rowSums(qr.Q(qr(cbind(1, x, y, z))) ^ 2)))\n",
    "        rgl::rgl.texts(x[ind], y[ind] + offset, z[ind], labels[ind],\n",
    "            color = col)\n",
    "        return(labels[ind])\n",
    "    } \n",
    "}\n"
   ]
  },
  {
   "cell_type": "markdown",
   "id": "d9cb69e7",
   "metadata": {},
   "source": [
    "BLUP only has an advantage over OLS in two or more dimensions:"
   ]
  },
  {
   "cell_type": "code",
   "execution_count": null,
   "id": "55129c1a",
   "metadata": {
    "fig.width": 8,
    "name": "blup3",
    "rgl": true,
    "webgl": true
   },
   "outputs": [],
   "source": [
    "# if(is.null(out_type)) out_type = ''\n",
    "out_type = ''\n",
    "if(out_type != 'html') knit_hooks$set(rgl = hook_rgl, webgl = hook_webgl)\n",
    "sam = 5\n",
    "x1 = rbinom(sam, 2, .45)\n",
    "x2 = rbinom(sam, 2, .43)\n",
    "z = rnorm(sam) - x2\n",
    "dat = data.frame(x1, x2 , z)\n",
    "mfrow3d(nr = 1, nc = 2, sharedMouse = TRUE)\n",
    "scatter3d(z ~ x1 + x2, data=dat, xlab='x1', ylab='y', zlab='x2', axis.scales=F,\n",
    "          fill=out_type=='html', grid.lines=3, fit='linear')\n",
    "scatter3d(z ~ x1 + x2, data=dat, xlab='x1', ylab='y', zlab='x2', axis.scales=F,\n",
    "          fill=out_type=='html', grid.lines=3, fit='ridge', lambda=5)\n",
    "fn = spin3d(axis = c(0, 1, 0))\n",
    "rglwidget() %>%\n",
    "  playwidget(controls=par3dinterpControl(fn, 0, 100, steps = 100,\n",
    "            subscene=subsceneList()[[1]]), step=0, components=c('Play')) %>%\n",
    "  playwidget(controls=par3dinterpControl(fn, 0, 100, steps = 100,\n",
    "            subscene=subsceneList()[[2]]), step=0, components=c('Play'))"
   ]
  },
  {
   "cell_type": "markdown",
   "id": "7d245c04",
   "metadata": {},
   "source": [
    "**Left: OLS; right: BLUP**\n",
    "\n",
    "**Each dot represents an individual with two SNPs (x1 and x2) and a phenotype (y). The surface on the left is the OLS fit to the data, which minimizes the sum of the squared residuals. The slope along the dimensions x1 and x2 represents $\\hat{\\beta}_1$ and $\\hat{\\beta}_2$. Here, N is large relative to M (2). If that were not the case, the OLS model could easily overfit the data. To prevent that, BLUP softens the objective of minimizing the squared residuals (green segments), by modeling the y-values not as fixed values, but as measurements with a normally distributed error. The BLUP objective function is then to minimize the sum of squared residuals, while at the same time limiting the estimated beta values (preventing the surface from becoming too steep). The purple lines are the marginal effects for the two SNPs. On the left, they are just GWAS effects and on the right, they are shrunk marginal effects. BLUP effects should be closer to the marginal effects than OLS effects are to marginal effects.**\n",
    "\n"
   ]
  },
  {
   "cell_type": "markdown",
   "id": "e9484f4c",
   "metadata": {},
   "source": [
    "\n",
    "\n",
    "### Mixed linear model association (MLMA)\n",
    "\n",
    "In a standard GWAS setting, the first 10 or 20 principal components are often fitted as covariates to correct for population stratification. A different approach is to run a mixed linear model association analysis, which is sometimes said to be similar to fitting all principal components, as it fits the whole GRM, which contains the same information as all principal components.\n",
    "\n",
    "While GWAS estimates are based on [ordinary least squares](https://en.wikipedia.org/wiki/Ordinary_least_squares) (OLS), MLMA estimates are based on [generalized least squares](https://en.wikipedia.org/wiki/Generalized_least_squares) (GLS).\n",
    "\n",
    "The GWAS association statistic is based on univariate [OLS](https://en.wikipedia.org/wiki/Ordinary_least_squares) and is\n",
    "\n",
    "$$\\hat{\\beta}_{j,GWAS} = \\frac{\\textbf{X}_{j}^\\top \\textbf{y}}{\\textbf{X}_{j}^\\top\\textbf{X}_{j}}$$\n",
    "\n",
    "and the MLMA association statistic is based on univariate [GLS](https://en.wikipedia.org/wiki/Generalized_least_squares) and is\n",
    "\n",
    "$$\\hat{\\beta}_{j,MLMA} = \\frac{\\textbf{X}_{j}^\\top \\textbf{V}^{-1}\\textbf{y}}{\\textbf{X}_{j}^\\top \\textbf{V}^{-1}\\textbf{X}_{j}}$$\n",
    "where $\\textbf{V}$ is the phenotypic variance covariance matrix:\n",
    "\n",
    "$$ \\textbf{V} = Var[\\textbf{y}] = \\sigma^2_g \\textbf{A} + \\sigma^2_e \\textbf{I} = \\frac{h^2}{M} (\\textbf{X}\\textbf{X}^\\top + \\lambda \\textbf{I}_N)$$\n",
    "\n",
    "Strictly speaking, the $\\textbf{V}$ matrix should be based on a GRM which includes all SNPs except the SNP for which the association statistic is calculated, so that this SNP is not fitted twice in the model. This is impractical because it would require to compute a different GRM for each SNP. What is therefore often done in practice is to have 23 GRMs, where each chromosome is left out in one of them, and each SNP is modelled with the GRM that doesn't include that SNP (GCTA MLMA-LOCO).\n",
    "\n",
    "When we compare the definition of $\\hat{\\beta}_{j,MLMA}$ here to $\\hat{\\beta}_{j,BLUP}$, we see that they are closely related. In fact, $\\hat{\\beta}_{j,MLMA}$ can be expressed like this:\n",
    "\n",
    "$$\\hat{\\beta}_{j,MLMA} = \\frac{M}{h^2} \\frac{\\hat{\\beta}_{j,BLUP}}{\\textbf{X}_{j}^\\top \\textbf{V}^{-1}\\textbf{X}_{j}}$$\n",
    "\n",
    "The un-standardized MLMA effects can be obtained like this:\n",
    "\n",
    "$$\\hat{\\beta^*}_{j,MLMA} = \\frac{\\textbf{X}_{j}^{*\\top} \\textbf{V}^{-1}\\textbf{y}}{\\textbf{X}_{j}^{*\\top} \\textbf{V}^{-1}\\textbf{X}^*_{j}} \\approx \\frac{\\hat{\\beta}_{j,MLMA}}{\\sqrt{(2p_j(1-p_j))}}$$\n",
    "\n"
   ]
  },
  {
   "cell_type": "code",
   "execution_count": null,
   "id": "e74417cf",
   "metadata": {
    "fig.cap": "**MLMA estimates compared to other estimates in data without LD**",
    "fig.width": 8,
    "name": "mlma1"
   },
   "outputs": [],
   "source": [
    "V = h2*grm + (1-h2)*diag(n)\n",
    "Vi = solve(V)\n",
    "beta_o_mlma = (t(x_o) %*% Vi %*% y) / diag(t(x_o) %*% Vi %*% x_o)\n",
    "beta_mlma = beta_o_mlma * sqrt(varx)\n",
    "\n",
    "p1 = qplot(beta_o_gwas, beta_o_mlma, col=ldscores) + geom_abline() + theme() +\n",
    "  annotate('text', -Inf, Inf, hjust=-.2, vjust=1.2,\n",
    "           label=paste0('corr: ', round(cor(beta_gwas, beta_mlma), 3))) +\n",
    "  scale_colour_continuous(low='black', high='green') +\n",
    "  xlab(expression(hat(paste(beta^\"*\"))[GWAS])) +\n",
    "  ylab(expression(hat(paste(beta^\"*\"))[MLMA]))\n",
    "p2 = qplot(beta_o_blup, beta_o_mlma, col=ldscores) + geom_abline() + theme() +\n",
    "  annotate('text', -Inf, Inf, hjust=-.2, vjust=1.2,\n",
    "           label=paste0('corr: ', round(cor(beta_o_blup, beta_o_mlma), 3))) +\n",
    "  scale_colour_continuous(low='black', high='green') +\n",
    "  xlab(expression(hat(paste(beta^\"*\"))[BLUP])) +\n",
    "  ylab(expression(hat(paste(beta^\"*\"))[MLMA]))\n",
    "grid.arrange(p1, p2, ncol=2)"
   ]
  },
  {
   "cell_type": "markdown",
   "id": "72955693",
   "metadata": {},
   "source": [
    "**MLMA estimates are not shrunk and therefore about as large as GWAS estimates.**\n",
    "\n",
    "Let's see what this comparison looks like in data with a wider range in LD scores.\n"
   ]
  },
  {
   "cell_type": "code",
   "execution_count": null,
   "id": "30f18b8f",
   "metadata": {
    "fig.cap": "**MLMA estimates compared to other estimates in data with LD**",
    "fig.width": 8,
    "name": "mlma3"
   },
   "outputs": [],
   "source": [
    "Vld = h2*grmld + (1-h2)*diag(n)\n",
    "Vild = solve(Vld)\n",
    "beta_o_mlmald = (t(xld) %*% Vild %*% yld) / diag(t(xld) %*% Vild %*% xld) / sqrt(varxld)\n",
    "beta_mlmald = beta_o_mlmald * sqrt(varxld)\n",
    "\n",
    "p1 = qplot(beta_o_gwasld, beta_o_mlmald, col=ldscoresld) + geom_abline() +\n",
    "  annotate('text', -Inf, Inf, hjust=-.2, vjust=1.2,\n",
    "           label=paste0('corr: ', round(cor(beta_o_gwasld, beta_o_mlmald), 3))) +\n",
    "  scale_colour_continuous(low='black', high='green') +\n",
    "  xlab(expression(hat(paste(beta^\"*\"))[GWAS]~(LD))) +\n",
    "  ylab(expression(hat(paste(beta^\"*\"))[MLMA]~(LD)))\n",
    "p2 = qplot(beta_o_blupld, beta_o_mlmald, col=ldscoresld) +\n",
    "  geom_point() + geom_abline() + theme() +\n",
    "  annotate('text', -Inf, Inf, hjust=-.2, vjust=1.2,\n",
    "           label=paste0('corr: ', round(cor(beta_o_blupld, beta_o_mlmald), 3))) +\n",
    "  scale_colour_continuous(low='black', high='green') +\n",
    "  xlab(expression(hat(paste(beta^\"*\"))[BLUP]~(LD))) +\n",
    "  ylab(expression(hat(paste(beta^\"*\"))[MLMA]~(LD)))\n",
    "grid.arrange(p1, p2, ncol=2)"
   ]
  },
  {
   "cell_type": "markdown",
   "id": "ec87dab4",
   "metadata": {},
   "source": [
    "**In data with more variable LD between SNPs, MLMA estimates are more similar to the marginal GWAS estimates than to the conditional BLUP estimates. Conditioned on LD score, BLUP estimates are proportional to MLMA estimates.**"
   ]
  },
  {
   "cell_type": "markdown",
   "id": "34d39d67",
   "metadata": {},
   "source": [
    "<!-- In real data with more LD between SNPs, MLMA estimates would be more similar to GWAS estimates than to BLUP estimates. -->\n",
    "\n",
    "<!-- Just like BLUP estimates, MLMA estimates neither represent purely marginal effects (like GWAS) nor purely conditional effects (like multiple regression OLS). How similar the estimates are to marginal or to conditional effects depends on the parameters $N$, $M$ and $h^2$. Larger $N$ and $h^2$, and lower $M$ will reduce the error in the model and make the estimates more accurate and more like conditional effects. -->\n"
   ]
  },
  {
   "cell_type": "markdown",
   "id": "3ce81a74",
   "metadata": {},
   "source": [
    "### Comparison of the models\n",
    "\n",
    "$$\\hat{\\beta}_{j,GWAS} = \\frac{\\color{lightgray}{(\\lambda_M \\textbf{I} + \\textbf{X}^\\top \\textbf{X})^{-1}_j} \\color{black}{\\textbf{X}_{j}^\\top \\textbf{y}}} {\\color{lightgray}{(\\lambda_M \\textbf{I} + \\textbf{X}^\\top \\textbf{X})^{-1}_j} \\color{black}{\\textbf{X}_{j}^\\top \\textbf{X}_{j}}}$$\n",
    "\n",
    "The covariance of SNP and phenotype, scaled by the variance of the SNP.\n",
    "\n",
    "\n"
   ]
  },
  {
   "cell_type": "markdown",
   "id": "bd5a6718",
   "metadata": {},
   "source": [
    "$$\\hat{\\beta}_{j,OLS} = \\frac{(\\color{lightgray}{\\lambda_M \\textbf{I}} \\color{lightgray}{+} \\color{black}{\\textbf{X}^\\top \\textbf{X})^{-1}_j \\textbf{X}_{j}^\\top \\textbf{y}}} {\\color{lightgray}{(\\lambda_M \\textbf{I} + \\textbf{X}^\\top \\textbf{X})^{-1}_j  \\textbf{X}_{j}^\\top \\textbf{X}_{j}}}$$\n",
    "\n",
    "The covariance of SNP and phenotype, scaled by the covariance structure of all SNPs.\n"
   ]
  },
  {
   "cell_type": "markdown",
   "id": "eecf0dc2",
   "metadata": {},
   "source": [
    "$$\\hat{\\beta}_{j,BLUP} = \\frac{(\\lambda_M \\textbf{I} + \\textbf{X}^\\top \\textbf{X})^{-1}_j \\textbf{X}_{j}^\\top \\textbf{y}} {\\color{lightgray}{(\\lambda_M \\textbf{I} + \\textbf{X}^\\top \\textbf{X})^{-1}_j  \\textbf{X}_{j}^\\top \\textbf{X}_{j}}}$$\n",
    "\n",
    "The covariance of SNP and phenotype, scaled by the covariance structure of all SNPs, without overemphasizing the covariances among SNPs.\n",
    "\n"
   ]
  },
  {
   "cell_type": "markdown",
   "id": "18d9927b",
   "metadata": {},
   "source": [
    "$$\\hat{\\beta}_{j,MLMA} = \\frac{(\\lambda_M \\textbf{I} + \\textbf{X}^\\top \\textbf{X})^{-1}_j \\textbf{X}_{j}^\\top \\textbf{y}} {(\\lambda_M \\textbf{I} + \\textbf{X}^\\top \\textbf{X})^{-1}_j  \\textbf{X}_{j}^\\top \\textbf{X}_{j}}$$\n",
    "\n",
    "Like $\\hat{\\beta}_{j,BLUP}$, but scaled back so that effects are not shrunk if they are in LD with many other SNPs."
   ]
  },
  {
   "cell_type": "markdown",
   "id": "a973b1a7",
   "metadata": {},
   "source": [
    " \n",
    "\n",
    "----\n",
    "\n",
    "## SNP effects - precision of estimates\n",
    "\n",
    "\n",
    "\n",
    "Almost as important as the estimate itself is the standard error of the estimate. This quantifies the variability of the estimate that is due to the sampling process and thus the precision of the estimate. The standard error of an estimate is the basis for other statistics like p-values and confidence intervals and is defined as\n",
    "\n",
    "$$SE^2_{\\hat{\\beta}} = var(\\hat{\\beta} \\mid \\beta) = var(\\hat{\\beta} - \\beta)$$\n",
    "We don't usually know $\\beta$, but we can still estimate what the standard error of an effect estimate is."
   ]
  },
  {
   "cell_type": "markdown",
   "id": "708e857d",
   "metadata": {},
   "source": [
    "### Sampling variance of GWAS estimates\n",
    "\n",
    "The standard error of the GWAS estimate of the effect size of a SNP is:\n",
    "\n",
    "$$SE^2_{\\hat{\\beta^*}_{j,GWAS}} = var(\\hat{\\beta^*}_{j,GWAS} \\mid \\beta^*_j) = \\frac{var(\\textbf{y}) - var(\\textbf{X}^*_j) \\hat{\\beta^*}^2_{j,GWAS}  }{N \\times var(\\textbf{X}^*_j)}$$\n",
    "\n",
    "Here the numerator represents the variance in the phenotype that is not explained by this SNP. Since under a polygenic model, each SNP explains almost no variance ($var(\\textbf{X}^*_j) \\hat{\\beta^*}^2_{j,GWAS}$ is close to 0), and $var(\\textbf{y})$ is often one, the numerator is often approximated as one:"
   ]
  },
  {
   "cell_type": "markdown",
   "id": "b0a1fbcb",
   "metadata": {},
   "source": [
    "$$SE^2_{\\hat{\\beta^*}_{j,GWAS}} = var(\\hat{\\beta^*}_{j,GWAS} \\mid \\beta^*_j) \\approx \\frac{1}{N \\times var(\\textbf{X}^*_j)} = \\frac{1}{N \\times 2p_j(1-p_j)}$$"
   ]
  },
  {
   "cell_type": "markdown",
   "id": "f1c1a700",
   "metadata": {},
   "source": [
    "It gets even simpler when switching to standardized genotypes and effect sizes: Since $var(\\textbf{X}_j) = 1$ for every SNP $j$, the sampling variance of $\\hat{\\beta}_{j,GWAS}$ is\n",
    "\n",
    "$$SE^2_{\\hat{\\beta}_{j,GWAS}} = var(\\hat{\\beta}_{j,GWAS} \\mid \\beta) \\approx \\frac{1}{N}$$\n",
    "\n",
    "Let's see how the expected sampling variance compares to the observed sampling variance, stratified by MAF:"
   ]
  },
  {
   "cell_type": "code",
   "execution_count": null,
   "id": "defcf115",
   "metadata": {
    "fig.cap": "**The standard error of $\\\\hat{\\\\boldsymbol{\\\\beta}}_{GWAS}$ is higher for rare SNPs.**",
    "lines_to_next_cell": 0,
    "name": "beta_SE"
   },
   "outputs": [],
   "source": [
    "beta_se = sqrt(1/(n*varx))\n",
    "observed_beta_sampling_variance = tapply(beta_o_gwas - beta_o, bins, var)\n",
    "expected_beta_sampling_variance = tapply(beta_se^2, bins, mean)\n",
    "\n",
    "dat = data.frame(binNum=1:length(binMeans),\n",
    "                 expected_beta_sampling_variance,\n",
    "                 observed_beta_sampling_variance)\n",
    "ggplot(dat, aes(expected_beta_sampling_variance, observed_beta_sampling_variance)) +\n",
    "  geom_text(aes(label=binNum, col=binMeans)) +\n",
    "  scale_x_log10() + scale_y_log10() +\n",
    "  geom_abline() +\n",
    "  xlab(expression(paste(hat(SE)[hat(beta^'*')]^2,\n",
    "                        '  (',hat(var),'(',hat(beta^'*'),' | ',beta^'*','))'))) +\n",
    "  ylab(expression(paste('var(',hat(beta^'*'),' | ',beta^'*',')')))"
   ]
  },
  {
   "cell_type": "markdown",
   "id": "31aba287",
   "metadata": {},
   "source": [
    "\n",
    "\n",
    "\n"
   ]
  },
  {
   "cell_type": "markdown",
   "id": "404fdfac",
   "metadata": {},
   "source": [
    "### Sampling variance of MLMA estimates\n",
    "\n",
    "If $var(\\textbf{y} = 1)$ and if each SNP explains only very little variance, the sampling variance of $\\hat{\\beta^*}_{j,GWAS}$ can be approximated as\n",
    "\n",
    "$$SE^2_{\\hat{\\beta^*}_{j,GWAS}} \\approx \\frac{1}{N \\times var(\\textbf{X}^*_j)} = \\frac{1}{\\textbf{X}_j^{*\\top} \\textbf{X}^*_j}$$\n",
    "\n",
    "Similarly, the standard error for MLMA estimates can be approximated as\n",
    "\n",
    "$$SE^2_{\\hat{\\beta^*}_{j,MLMA}} \\approx \\frac{1}{\\textbf{X}_j^{*\\top} \\textbf{V}^{-1} \\textbf{X}^*_j}$$"
   ]
  },
  {
   "cell_type": "markdown",
   "id": "460d780b",
   "metadata": {},
   "source": [
    "### z-scores\n",
    "\n",
    "z-scores are defined as\n",
    "$$z = \\frac{x-\\mathbb{E}[x]}{\\sigma(x)}$$\n",
    "\n",
    "where $\\sigma(x)$ is the standard deviation of $x$. It quantifies how far a statistic is from its expectation in standard deviation units and it should follow a standard normal distribution. We can calculate the z-score of an effect estimate under the null hypothesis ($\\mathbb{E}[\\hat{\\boldsymbol{\\beta}}] = 0$)\n",
    "\n",
    "$$z_j = \\frac{\\hat{\\beta^*}_j}{SE_{\\hat{\\beta^*}_j}}$$\n",
    "\n",
    "Since the $\\chi^2_{k}$ distribution with $k$ degrees of freedom is the same as a sum of $k$ independent standard normal distributions, z-scores are closely related to $\\chi^2$ values with degree of freedom of 1:\n",
    "$$z^2 = \\chi^2_1$$\n",
    "Strictly speaking, $\\frac{\\hat{\\beta^*}_j}{SE_{\\hat{\\beta^*}_j}}$ follows a t-distribution with $N - 1$ degrees of freedom, not a standard normal distribution, but for large $N$ the difference becomes negligible."
   ]
  },
  {
   "cell_type": "markdown",
   "id": "fae287ae",
   "metadata": {},
   "source": [
    "### p-value of GWAS estimates\n",
    "\n",
    "The z-score tells us where on the null distribution our effect estimate lies. It can therefore be converted into a (two-sided) p-value, which is the probability of observing an effect at least as extreme as the one estimated, under the null distribution.\n",
    "\n",
    "$$\n",
    "\\begin{aligned}\n",
    "\\text{p-value}_{\\hat{\\beta^*}_j} &= 2 \\times min\\{Pr(\\hat{\\beta^*} \\geq \\hat{\\beta^*}_j \\mid \\beta^* = 0), Pr(\\hat{\\beta^*} \\leq \\hat{\\beta^*}_j \\mid \\beta^* = 0)\\} \\\\\n",
    "                             &= 2\\Phi(-\\frac{|\\hat{\\beta^*}_j|}{SE_{\\hat{\\beta^*_j}}}) \\\\\n",
    "                             &= 2\\Phi(-|\\hat{z}|)\n",
    "\\end{aligned}\n",
    "$$\n",
    "\n",
    "where $\\Phi(x)$ is the probability distribution function of the standard normal distribution at $x$ (```pnorm```) and $\\hat{\\beta^*}$ denotes the random variable rather than the concrete estimate of $\\hat{\\beta^*}_j$.\n",
    "\n",
    "To go from two-sided p-values to z-scores:\n",
    "\n",
    "$$ z = \\Phi^{-1}(\\frac{\\text{p-value}}{2}) $$\n",
    "\n",
    "where $\\Phi^{-1}(x)$ is the quantile function of the standard normal distribution at $x$ (```qnorm```)."
   ]
  },
  {
   "cell_type": "code",
   "execution_count": null,
   "id": "942a37b6",
   "metadata": {
    "echo": true,
    "fig.cap": "**z-score and p-value**",
    "name": "pval1"
   },
   "outputs": [],
   "source": [
    "lim = 3\n",
    "z = 1.5\n",
    "ggplot(data.frame(x=c(-lim, lim)), aes(x)) + stat_function(fun=dnorm) +\n",
    "  stat_function(fun=dnorm, geom='area', xlim=c(z, lim), fill='purple', alpha = 0.2) +\n",
    "  stat_function(fun=dnorm, geom='area', xlim=c(-lim, -z), fill='purple', alpha = 0.2) +\n",
    "  geom_vline(xintercept=z, linetype=2) +\n",
    "  annotate('text', z+.11, .2,\n",
    "           label=as.character(expression(paste(\"z=\",frac(hat(beta),SE[beta])))),\n",
    "           parse=T, hjust=0) +\n",
    "  ylab(expression(phi(x)))\n"
   ]
  },
  {
   "cell_type": "markdown",
   "id": "83e044bc",
   "metadata": {},
   "source": [
    "The vertical line represents a z-score. The total area of the shaded segments represents the p-value."
   ]
  },
  {
   "cell_type": "code",
   "execution_count": null,
   "id": "758e8075",
   "metadata": {
    "lines_to_next_cell": 2,
    "name": "pval2",
    "tags": [
     "remove_input"
    ]
   },
   "outputs": [],
   "source": [
    "qqPlot = function (pval, main='', ...) {\n",
    "  pval <- -log10(sort(pval))\n",
    "  n <- length(pval)\n",
    "  a <- 1:n\n",
    "  b <- a/n\n",
    "  upper <- qbeta(0.025, a, rev(a))\n",
    "  lower <- qbeta(0.975, a, rev(a))\n",
    "  x <- -log10(b)\n",
    "  char <- rep(1, n)\n",
    "  ylm <- NULL\n",
    "  ylb <- substitute(paste(-log[10], \"(observed P)\"))\n",
    "\n",
    "  plot(x, pval, type = \"n\", ylim = ylm, ylab = ylb, xlab = substitute(paste(-log[10], \n",
    "                                                                            \"(expected P)\")), main=main, ...)\n",
    "  polygon(-log10(c(b, rev(b))), -log10(c(upper, rev(lower))), \n",
    "          density = NA, col = \"gray\")\n",
    "  points(x, pval, pch = char, ...)\n",
    "  abline(0, 1, col = \"red\")\n",
    "}"
   ]
  },
  {
   "cell_type": "code",
   "execution_count": null,
   "id": "7f51e4fc",
   "metadata": {
    "fig.cap": "**Different ways to visualize p-values**",
    "fig.height": 3,
    "fig.width": 12,
    "name": "p_value"
   },
   "outputs": [],
   "source": [
    "par(mfrow=c(1,4))\n",
    "z = beta_gwas/beta_se\n",
    "pval = 2*pnorm(-abs(z))\n",
    "\n",
    "plot(beta_gwas, -log10(pval), main='Volcano plot')\n",
    "hist(pval, 100, col='black')\n",
    "qqPlot(pval, main='qq-plot')\n",
    "plot(-log10(pval), main='Manhattan plot')\n",
    "par(mfrow=c(1,1))"
   ]
  },
  {
   "cell_type": "markdown",
   "id": "07eb1a75",
   "metadata": {},
   "source": [
    "**Most are based on negative $log_{10}$ transformed p-values, to better highlight the more interesting small p-values. Volcano plots illustrate that SNPs with larger absolute $\\hat{\\boldsymbol{\\beta^*}}$ values tend to have lower p-values. Histograms of p-values are useful, because under the null hypothesis, p-values will follow a uniform distribution between 0 and 1. QQ-plots can also highlight an overall inflation of p-values, but with better resolution at the lower end. Manhattan plots from GWAS p-values usually show peaks of multiple SNPs with low p-values, because of LD.**\n"
   ]
  },
  {
   "cell_type": "markdown",
   "id": "4da2d0ba",
   "metadata": {},
   "source": [
    "### Re-estimating GWAS statistics\n",
    "\n",
    "The equations above can be rearranged to estimate various statistics. To keep things simpler, in this section $SE^2$ refers to $SE^2_{\\beta^*_{j,GWAS}}$ and $\\beta$ refers to $\\hat{\\beta^*_j}$. The approximations assume that $2p(1-p) \\beta^2$ is close to zero.\n",
    "\n",
    "$$SE^2 = \\frac{var(\\textbf{y}) - 2p(1-p) \\beta^2  }{N \\times 2p(1-p)} \\approx \\frac{var(\\textbf{y})}{N \\times 2p(1-p)}$$\n"
   ]
  },
  {
   "cell_type": "markdown",
   "id": "cd201888",
   "metadata": {},
   "source": [
    "$$N = \\frac{var(\\textbf{y}) - 2p(1-p) \\beta^2  }{SE^2 \\times 2p(1-p)} \\approx \\frac{var(\\textbf{y})}{SE^2 \\times 2p(1-p)}$$\n"
   ]
  },
  {
   "cell_type": "markdown",
   "id": "b4249198",
   "metadata": {},
   "source": [
    "$$ var(\\textbf{y}) = 2p(1-p) (N \\times SE^2 + \\beta^2) \\approx 2p(1-p) \\times N \\times SE^2$$\n",
    "\n"
   ]
  },
  {
   "cell_type": "markdown",
   "id": "c170bc2d",
   "metadata": {},
   "source": [
    "$$\\beta^2 = \\frac{var(\\textbf{y})}{2p(1-p)} - N \\times SE^2$$\n",
    "\n",
    "This one doesn't tell us about the sign of $\\beta$, however.\n",
    "\n",
    "\n",
    "\n",
    "$$p(1-p) = \\frac{var(\\textbf{y})}{2 (N \\times SE^2 + \\beta^2)}$$"
   ]
  },
  {
   "cell_type": "markdown",
   "id": "55a2f885",
   "metadata": {},
   "source": [
    "The last one can be solved for p, and only leaves two options which center around 0.5.\n",
    "\n",
    "When working with GWAS summary statistics, all of these quantities except $var(\\textbf{y})$ are usually known. When $var(\\textbf{y})$ can be assumed to be one, sample size or standard error can be re-estimated from the other quantities. When $\\beta$ refers to standardized $\\beta$, $2p(1-p)$ should be set to 1."
   ]
  },
  {
   "cell_type": "markdown",
   "id": "8352b36f",
   "metadata": {},
   "source": [
    "### Confidence intervals and power\n",
    "\n",
    "While p-values are widely used, they often draw criticism for their potential to be misused. An alternative to reporting p-values can be to report confidence intervals, which describe the range in which the estimated value would fall with a certain probability, if the sampling process was repeated. If the sampling distribution is normal, the 95% confidence interval can be estimated as $\\hat{\\boldsymbol{\\beta}} \\pm 1.96 \\times SE_{\\boldsymbol{\\beta}}$  (because $1-2\\Phi(-1.96) \\approx 0.95$). A 95% confidence interval that does not include 0 is equivalent to a p-value smaller than 0.05 for an effect being different from 0.\n"
   ]
  },
  {
   "cell_type": "code",
   "execution_count": null,
   "id": "5f80f612",
   "metadata": {
    "lines_to_next_cell": 0,
    "name": "power1",
    "tags": [
     "remove_input"
    ]
   },
   "outputs": [],
   "source": [
    "\n",
    "plot_power = function(n, reps, b, alpha=NA, show_points=TRUE, show_se=TRUE, annot=TRUE, xlim=NULL, ylim=NULL) {\n",
    "\n",
    "  if(is.na(alpha)) {\n",
    "    alpha = 1\n",
    "    show_power = FALSE\n",
    "  } else{\n",
    "    show_power = TRUE\n",
    "  }\n",
    "\n",
    "  e = 1-b^2\n",
    "  z = abs(qnorm(alpha/2))*sqrt(1/n)\n",
    "\n",
    "  x0 = matrix(rnorm(n * reps), n)\n",
    "  y0 = x0 * b + matrix(rnorm(n * reps, 0, sqrt(e)), n)\n",
    "  ynull = matrix(rnorm(n * reps), n)\n",
    "\n",
    "  lmh1 = t(sapply(1:reps, function(i) summary(lm(y0[,i] ~ x0[,i]))$coefficients[2,1:2] ))\n",
    "  bh1_est = lmh1[,1]\n",
    "  seh1_est = lmh1[,2]\n",
    "\n",
    "  lmh0 = t(sapply(1:reps, function(i) summary(lm(ynull[,i] ~ x0[,i]))$coefficients[2,1:2] ))\n",
    "  bh0_est = lmh0[,1]\n",
    "  seh0_est = lmh0[,2]\n",
    "\n",
    "  f = 1\n",
    "  cross0h1 = bh1_est+f*seh1_est > 0 & bh1_est-f*seh1_est < 0\n",
    "  cross0h0 = bh0_est+f*seh0_est > 0 & bh0_est-f*seh0_est < 0\n",
    "  crossbh1 = bh1_est+f*seh1_est > b & bh1_est-f*seh1_est < b\n",
    "  crossbh0 = bh0_est+f*seh0_est > b & bh0_est-f*seh0_est < b\n",
    "  yph0 = sapply(1:reps, function(i) runif(1, 0, dnorm(bh0_est[i], 0, sqrt(1/n))))\n",
    "  yph1 = sapply(1:reps, function(i) runif(1, 0, dnorm(bh1_est[i], b, sqrt(e/n))))\n",
    "\n",
    "  dat = rbind(data.frame(hyp='h1', x=bh1_est, se=seh1_est, cross0=cross0h1, crossb=crossbh1, y=yph1),\n",
    "              data.frame(hyp='h0', x=bh0_est, se=seh0_est, cross0=cross0h0, crossb=crossbh0, y=yph0))\n",
    "\n",
    "  xmax = max(xlim[2], max(dat$x)+min(dat$se))\n",
    "  xmin = min(xlim[1], min(dat$x)-max(dat$se))\n",
    "\n",
    "  mypal2 = c(hcl(h=seq(15, 375, length=4), l=65, c=100)[1:3], 'goldenrod1')[c(3,2,1,4)]\n",
    "\n",
    "  if(show_power) {\n",
    "    col = \"interaction(factor(x > z, levels=c(T,F)), factor(hyp, levels=c('h1', 'h0')))\"\n",
    "  } else {\n",
    "    col = \"factor(ifelse(cross0 & hyp=='h0', 4, ifelse(crossb & hyp=='h1', 1, ifelse(!cross0 & hyp=='h0', 3, 2))))\"\n",
    "  }\n",
    "\n",
    "  p = ggplot(dat, aes(x, y)) +\n",
    "    geom_segment(x=0, xend=0, y=0, yend=dnorm(0, 0, sqrt(1/n)), linetype=2) +\n",
    "    geom_segment(x=b, xend=b, y=0, yend=dnorm(b, b, sqrt(e/n)), linetype=1) +\n",
    "    stat_function(fun=dnorm, args=list(b, sqrt(e/n)), col='black', xlim=c(xmin, xmax)) +\n",
    "    stat_function(fun=dnorm, args=list(0, sqrt(1/n)), col='black', linetype=2, xlim=c(xmin, xmax)) +\n",
    "    xlab('effect size') + ylab('') + theme(legend.position = 'none') +\n",
    "    coord_cartesian(xlim=xlim, ylim=ylim)\n",
    "\n",
    "  if(show_points) {\n",
    "      p = p + geom_point(aes_string(shape='hyp', col=col), size=2) +\n",
    "        scale_shape_manual(values=c(16,1)) +\n",
    "        scale_colour_manual(values=mypal2, drop=!show_power)\n",
    "      if(show_se) {\n",
    "        p = p + geom_errorbarh(aes_string(xmin='x-se*f', xmax='x+se*f', col=col))\n",
    "      }\n",
    "  }\n",
    "  if(show_power) {\n",
    "    p = p + stat_function(fun=dnorm, args=list(0, sqrt(1/n)), geom='area', fill=mypal2[3], alpha=.2, xlim=c(xmin, -z)) +\n",
    "        stat_function(fun=dnorm, args=list(0, sqrt(1/n)), geom='area', fill=mypal2[3], alpha=.2, xlim=c(z, xmax)) +\n",
    "        stat_function(fun=dnorm, args=list(b, sqrt(e/n)), geom='area', fill=mypal2[1], alpha=.2, xlim=c(z, xmax)) +\n",
    "        stat_function(fun=dnorm, args=list(b, sqrt(e/n)), geom='area', fill=mypal2[2], alpha=.2, xlim=c(xmin, z)) +\n",
    "        stat_function(fun=dnorm, args=list(0, sqrt(1/n)), geom='area', fill='lightgoldenrodyellow', alpha=.2, xlim=c(-z, z)) +\n",
    "        geom_vline(xintercept=z, linetype=3)\n",
    "  }\n",
    "  if(annot) {\n",
    "    sds = .3\n",
    "    p = p + annotate('text', sqrt(1/n)*sds, dnorm(sqrt(1/n)*sds, 0, sqrt(1/n)), hjust=-0.1, vjust=0, label=as.character(expression(H[0])), parse=T) +\n",
    "      annotate('text', b+sqrt(e/n)*sds, dnorm(b+sqrt(e/n)*sds, b, sqrt(e/n)), hjust=-0.1, vjust=0, label=as.character(expression(H[1])), parse=T) +\n",
    "      annotate('text', b, 0, hjust=.5, vjust=1.2, label='true effect')\n",
    "    if(show_power) {\n",
    "      p = p + annotate('text', z, Inf, hjust=1.1, vjust=1.2, label=as.character(expression(paste(` ` %<-% ' don\\'t reject ', H[0]))), parse=T) +\n",
    "        annotate('text', z, Inf, hjust=-0.1, vjust=1.2, label=as.character(expression(paste('reject ',H[0] %->% ` `))), parse=T)\n",
    "    }\n",
    "  }\n",
    "  p\n",
    "\n",
    "}\n"
   ]
  },
  {
   "cell_type": "markdown",
   "id": "c28dc526",
   "metadata": {},
   "source": [
    "\n"
   ]
  },
  {
   "cell_type": "code",
   "execution_count": null,
   "id": "b3cd00e3",
   "metadata": {
    "fig.cap": "**Draws from the sampling distribution and from the null distribution**",
    "name": "power2"
   },
   "outputs": [],
   "source": [
    "plot_power(n=200, reps=30, b=0.2, xlim=c(-.25,.5), ylim=c(0,6))"
   ]
  },
  {
   "cell_type": "markdown",
   "id": "d66b240d",
   "metadata": {},
   "source": [
    "**This plot shows a number of draws from the null distribution and the same number of draws from the sampling distribution of the effect estimate. The horizontal bars are standard errors, and are like a 68% confidence interval (because $1-2\\Phi(-1) \\approx 0.68$). Each standard error represents an estimate of what the (square root of the) variance of the sampling distribution is.**\n",
    "\n",
    "An important question in hypothesis testing is this: What is the probability that we will be able to reject the null hypothesis ($\\hat{\\boldsymbol{\\beta}} = 0$), if there is a true effect of a certain magnitude? This probability depends at least on the sample size and on how willing we are to mistake a null effect for a true effect (type I error, $\\alpha$). Not rejecting the null hypothesis when there is a true effect is called a type II error and is the opposite of power. This means that being strict in controlling the type I error rate (small $\\alpha$) will reduce power.\n",
    "\n"
   ]
  },
  {
   "cell_type": "code",
   "execution_count": null,
   "id": "9d26ace7",
   "metadata": {
    "fig.cap": "**Power visualized**",
    "name": "power3"
   },
   "outputs": [],
   "source": [
    "plot_power(n=200, reps=30, b=0.2, alpha=0.05, show_points=F, xlim=c(-.25,.5), ylim=c(0,6))"
   ]
  },
  {
   "cell_type": "markdown",
   "id": "8d2fe01b",
   "metadata": {},
   "source": [
    "**In this plot $\\alpha$ is the red area (as a proportion of the area under the null distribution ($H_0$)), and the power is the blue area (as a proportion of the area under the true effect sampling distribution ($H_1$)). Power is also $1-\\boldsymbol{\\beta}$, where $\\boldsymbol{\\beta}$ is the type II error rate (green area).**\n",
    "\n",
    "\n"
   ]
  },
  {
   "cell_type": "code",
   "execution_count": null,
   "id": "7bdf7839",
   "metadata": {
    "fig.cap": "**The effect of sample size on power**",
    "name": "power4"
   },
   "outputs": [],
   "source": [
    "plot_power(n=40, reps=30, b=0.2, alpha=0.05, show_points=F, xlim=c(-.25,.5), ylim=c(0,6))"
   ]
  },
  {
   "cell_type": "markdown",
   "id": "c2784b47",
   "metadata": {},
   "source": [
    "**Lowering sample size will widen both distributions, and thereby increases the threshold at which an estimated effect can be considered significant at the same level of $\\alpha$, thus lowering power.**\n",
    "\n",
    "\n"
   ]
  },
  {
   "cell_type": "code",
   "execution_count": null,
   "id": "63a45dce",
   "metadata": {
    "fig.cap": "**Power determines the proportion of true positive results**",
    "name": "power5"
   },
   "outputs": [],
   "source": [
    "plot_power(n=40, reps=100, b=0.2, alpha=0.05, show_points=T, show_se=F,\n",
    "           xlim=c(-.25,.5), ylim=c(0,6))"
   ]
  },
  {
   "cell_type": "markdown",
   "id": "467f2ca1",
   "metadata": {},
   "source": [
    "**Evaluating in which of the four quadrants estimated effects fall, allows to estimate the numbers of true and false positives and negatives, and many statistics derived from these values, such as the area under the ROC curve (AUC).**"
   ]
  },
  {
   "cell_type": "markdown",
   "id": "1ec9edbd",
   "metadata": {},
   "source": [
    "Here, the null distribution and the sampling distribution of the true effect both follow normal distributions (t-distributions actually, but we ignore that). When the null distribution is a $\\chi^2$ distribution instead, the true effect distribution will follow a [non-central $\\chi^2$ distribution](https://en.wikipedia.org/wiki/Noncentral_chi-squared_distribution).\n"
   ]
  },
  {
   "cell_type": "markdown",
   "id": "eedba4e3",
   "metadata": {},
   "source": [
    "### Prediction error variance (PEV) of BLUP estimates"
   ]
  },
  {
   "cell_type": "markdown",
   "id": "37a74cbe",
   "metadata": {},
   "source": [
    "The precision of BLUP estimates is usually given as a variance-covariance matrix, rather than as a scalar number and is usually defined for the genetic effects rather than the SNP effects, which is why it is called prediction error variance, but here we define it for the SNP effects:\n",
    "\n",
    "$$\n",
    "\\begin{aligned}\n",
    "Var[\\hat{\\boldsymbol{\\beta}}_{BLUP} \\mid \\boldsymbol{\\beta}] &= Var[\\hat{\\boldsymbol{\\beta}}_{BLUP} - \\boldsymbol{\\beta}] \\\\\n",
    "\\\\ \n",
    "&= Var[\\boldsymbol{\\beta}] + Var[\\hat{\\boldsymbol{\\beta}}_{BLUP}] - 2 Cov[\\boldsymbol{\\beta}, \\hat{\\boldsymbol{\\beta}}_{BLUP}]\\\\\n",
    "\\\\ \n",
    "&= Var[\\boldsymbol{\\beta}] + Var[\\hat{\\boldsymbol{\\beta}}_{BLUP}] - 2 Var[\\hat{\\boldsymbol{\\beta}}_{BLUP}] && \\text{see section about unbiasedness for why this is valid}\\\\\n",
    "\\\\ \n",
    "&= Var[\\boldsymbol{\\beta}] - Var[\\hat{\\boldsymbol{\\beta}}_{BLUP}]\n",
    "\\end{aligned}\n",
    "$$\n",
    "\n"
   ]
  },
  {
   "cell_type": "markdown",
   "id": "82bf7936",
   "metadata": {},
   "source": [
    "Notice that while $var(\\hat{\\boldsymbol{\\beta}}_{GWAS}) > var(\\boldsymbol{\\beta})$, $var(\\hat{\\boldsymbol{\\beta}}_{BLUP}) <var(\\boldsymbol{\\beta})$.\n",
    "\n",
    "From before, we know that $Var[\\boldsymbol{\\beta}] = \\frac{h^2}{M} \\textbf{I}_M$\n",
    "\n",
    "Recall that the BLUP solution can be written as:\n",
    "\n",
    "$$\\hat{\\boldsymbol{\\beta}}_{BLUP} = \\frac{h^2}{M} \\textbf{X}^\\top \\textbf{V}^{-1}\\textbf{y}$$\n",
    "\n",
    "The variance of that is:\n",
    "\n",
    "$$\n",
    "\\begin{aligned}\n",
    "Var[\\hat{\\boldsymbol{\\beta}}_{BLUP}] &= Var[\\frac{h^2}{M} \\textbf{X}^\\top \\textbf{V}^{-1} \\textbf{y}] \\\\\n",
    "\\\\\n",
    "                                 &= (\\frac{h^2}{M})^2 \\textbf{X}^\\top \\textbf{V}^{-1} \\textbf{X} \\\\\n",
    "\\end{aligned}\n",
    "$$\n",
    "\n",
    "Therefore,\n",
    "\n",
    "$$\n",
    "\\begin{aligned}\n",
    "Var[\\boldsymbol{\\beta} - \\hat{\\boldsymbol{\\beta}}_{BLUP}] &= Var[\\boldsymbol{\\beta}] - Var[\\hat{\\boldsymbol{\\beta}}_{BLUP}] \\\\\n",
    "\\\\\n",
    "                                                  &= \\frac{h^2}{M} (\\textbf{I}_M - \\frac{h^2}{M} \\textbf{X}^\\top \\textbf{V}^{-1} \\textbf{X}) \\\\\n",
    "\\end{aligned}\n",
    "$$\n",
    "\n",
    "The diagonal elements of this matrix should be similar to $var(\\boldsymbol{\\beta} - \\hat{\\boldsymbol{\\beta}}_{BLUP})$."
   ]
  },
  {
   "cell_type": "code",
   "execution_count": null,
   "id": "8ec6dca3",
   "metadata": {
    "name": "pev1"
   },
   "outputs": [],
   "source": [
    "beta_blup_se2 = var(beta_blup - beta)\n",
    "pev = (h2/m) * (diag(m) - (h2/m) * t(x) %*% Vi %*% x)\n",
    "\n",
    "c(beta_blup_se2, mean(diag(pev)))\n"
   ]
  },
  {
   "cell_type": "markdown",
   "id": "e2242f89",
   "metadata": {},
   "source": [
    "However, this is not as useful as the standard error estimates given above, because it is a function of the data, not just of the parameters. The section on the expected accuracy of a BLUP predictor has an expression which serves at the same time as an estimate of the BLUP PEV as a function of the parameters:\n",
    "\n",
    "$$cor^2(\\textbf{y}, \\hat{\\textbf{g}}) = var(\\hat{\\textbf{g}}) = R^2 = \\frac{h^2}{1 + \\frac{M_e (1-R^2)}{N h^2}}$$\n",
    "\n",
    "$$\n",
    "\\begin{aligned}\n",
    "var(\\boldsymbol{\\beta} - \\hat{\\boldsymbol{\\beta}}_{BLUP}) &= var(\\boldsymbol{\\beta}) - var(\\hat{\\boldsymbol{\\beta}}_{BLUP}) \\\\\n",
    "\\\\\n",
    "                                                  &= \\frac{h^2}{M} - \\frac{R^2}{M} \\\\\n",
    "                                                  \\\\\n",
    "                                                  &= \\frac{h^2 - R^2}{M}\n",
    "\\end{aligned}\n",
    "$$\n"
   ]
  },
  {
   "cell_type": "code",
   "execution_count": null,
   "id": "2752b391",
   "metadata": {
    "name": "pev2"
   },
   "outputs": [],
   "source": [
    "R2_BLUP = function(m, n, h2) {\n",
    "  k = m/n\n",
    "  ( (k + h2) - sqrt( (k+h2)^2 - 4*k*h2^2) ) / (2*k)\n",
    "}\n",
    "\n",
    "c(beta_blup_se2, mean(diag(pev)), (h2 - R2_BLUP(m, n, h2))/m)"
   ]
  },
  {
   "cell_type": "markdown",
   "id": "3ff6095f",
   "metadata": {},
   "source": [
    "The BLUP PEV is substantially lower than the standard errors of the GWAS effect estimate. This is only partially due to the higher accuracy of BLUP estimates and mostly reflects the downward bias of BLUP estimates.\n",
    "\n",
    "\n",
    "\n",
    "----\n",
    "\n",
    "## SNP effects - further topics"
   ]
  },
  {
   "cell_type": "markdown",
   "id": "b83304cd",
   "metadata": {},
   "source": [
    "### Winner's curse and unbiasedness\n",
    "\n",
    "When the SNP with the largest effect is being selected from a GWAS, its estimated effect size is likely going to be larger than its true effect size. This phenomenon is called winner's curse. If we estimated the effect of the same SNP again in and independent cohort, we would likely get a smaller estimate in the new cohort. This closely related effect is called regression to the mean and is just a consequence of how we selected the SNP and the imperfect correlation between the true and the estimated effect size.\n",
    "\n",
    "If we estimated the effect for this same SNP many times in independent cohorts, the effect estimates will center around the SNP's true effect size. GWAS estimates are therefore unbiased in the sense that conditioned on the true effect, the estimated effect will in expectation be the same as the true effect: $$\\mathbb{E}[\\hat{\\beta} \\mid \\beta] = \\beta$$\n",
    "\n",
    "However, when we select the SNP with the largest estimated effect size, we don't condition on the true effect, we condition on the estimated effect. So we know the estimated effect, and ideally we would like an estimate that tells us what the true effect size is, in expectation. It's therefore often handy to have another definition of unbiasedness, which says that the estimated effect is equal to the expectation of the true effect, conditioned on the estimated effect: $$\\mathbb{E}[\\beta \\mid \\hat{\\beta}] = \\hat{\\beta}$$\n",
    "\n",
    "GWAS estimates (OLS, which is a BLUE, best linear unbiased estimators) are unbiased in the first sense, but biased in the second (they suffer from winner's curse but are not shrunk), whereas BLUP (best linear unbiased prediction) estimates are biased in the first sense but unbiased in the second (they don't suffer from winner's curse but are shrunk).\n",
    "\n"
   ]
  },
  {
   "cell_type": "code",
   "execution_count": null,
   "id": "15a41c67",
   "metadata": {
    "fig.cap": "**Two definitions of unbiasedness visualized**",
    "fig.height": 6,
    "fig.width": 12,
    "lines_to_next_cell": 2,
    "name": "winner1",
    "tags": [
     "remove_input"
    ]
   },
   "outputs": [],
   "source": [
    "ptgr = qplot(1:m, (beta_o_gwas - beta_o)[order(beta_o)]) + geom_abline(slope=0) + xlab(expression(paste(beta, ' rank'))) + ylab(expression(paste(hat(beta)[GWAS]-beta))) +\n",
    "  annotate('text', -Inf, Inf, hjust=-.2, vjust=1.2, label=as.character(expression(paste(\"E[\",hat(beta), \"|\", beta,\"] = \", beta))), parse=T) + geom_smooth(method='lm', se=TRUE)\n",
    "ptbr = qplot(1:m, (beta_o_blup - beta_o)[order(beta_o)]) + geom_abline(slope=0) + xlab(expression(paste(beta, ' rank'))) + ylab(expression(paste(hat(beta)[BLUP]-beta))) + annotate('text', -Inf, Inf, hjust=-.2, vjust=1.2, label=as.character(expression(paste(\"E[\",hat(beta), \"|\", beta,\"]\",` `!=beta))), parse=T) + geom_smooth(method='lm', se=TRUE)\n",
    "pegr = qplot(1:m, (beta_o - beta_o_gwas)[order(beta_o_gwas)]) + geom_abline(slope=0) + xlab(expression(paste(hat(beta)[GWAS], ' rank'))) + ylab(expression(paste(beta-hat(beta)[GWAS]))) + annotate('text', -Inf, Inf, hjust=-.2, vjust=1.2, label=as.character(expression(paste(\"E[\",beta, \"|\", hat(beta),\"]\",` `!=hat(beta)))), parse=T) + geom_smooth(method='lm', se=TRUE)\n",
    "pebr = qplot(1:m, (beta_o - beta_o_blup)[order(beta_o_blup)]) + geom_abline(slope=0) + xlab(expression(paste(hat(beta)[BLUP], ' rank'))) + ylab(expression(paste(beta-hat(beta)[BLUP]))) + annotate('text', -Inf, Inf, hjust=-.2, vjust=1.2, label=as.character(expression(paste(\"E[\",beta, \"|\", hat(beta),\"] = \", hat(beta)))), parse=T) + geom_smooth(method='lm', se=TRUE)\n",
    "\n",
    "lim = quantile(abs(beta_o_gwas), .98)\n",
    "ptg = qplot(beta_o, beta_o_gwas) + geom_point() + geom_abline() + geom_smooth(method='lm', se=TRUE) + coord_cartesian(xlim=c(-lim, lim), ylim=c(-lim, lim)) + xlab(expression(paste(beta))) + ylab(expression(paste(hat(beta)[GWAS])))\n",
    "ptb = qplot(beta_o, beta_o_blup) + geom_point() + geom_abline() + geom_smooth(method='lm', se=TRUE) + coord_cartesian(xlim=c(-lim, lim), ylim=c(-lim, lim)) + xlab(expression(paste(beta))) + ylab(expression(paste(hat(beta)[BLUP])))\n",
    "peg = qplot(beta_o_gwas, beta_o) + geom_point() + geom_abline() + geom_smooth(method='lm', se=TRUE) + coord_cartesian(xlim=c(-lim, lim), ylim=c(-lim, lim)) + xlab(expression(paste(hat(beta)[GWAS]))) + ylab(expression(paste(beta)))\n",
    "peb = qplot(beta_o_blup, beta_o) + geom_point() + geom_abline() + geom_smooth(method='lm', se=TRUE) + coord_cartesian(xlim=c(-lim, lim), ylim=c(-lim, lim)) + xlab(expression(paste(hat(beta)[BLUP]))) + ylab(expression(paste(beta)))\n",
    "\n",
    "\n",
    "p = arrangeGrob(grobs=list(ptg, ptgr, ptb, ptbr, peg, pegr, peb, pebr), ncol=4)\n",
    "p = arrangeGrob(textGrob(paste('GWAS', paste(rep(' ', 80), collapse=''), 'BLUP'), gp=gpar(fontsize=16)), heights=unit.c(unit(24, \"points\"), unit(1, \"npc\") - unit(24, \"points\")), p)\n",
    "grid.draw(p)"
   ]
  },
  {
   "cell_type": "markdown",
   "id": "54690177",
   "metadata": {},
   "source": [
    "**First row: conditioning on true effects. Second row: conditioning on estimated effects.**\n",
    "\n",
    "Both meanings of unbiasedness have an implication on what the covariance between true and estimated effect sizes is. For unbiasedness in the first (OLS) sense:\n",
    "\n",
    "$$cov(\\beta, \\hat{\\beta}_{GWAS}) = var(\\beta)$$\n",
    "and for unbiasedness in the second (BLUP) sense:\n",
    "\n",
    "$$cov(\\beta, \\hat{\\beta}_{BLUP}) = var(\\hat{\\beta}_{BLUP})$$\n",
    "\n",
    "This is why the regression slopes in the above plots are around one, if the unbiasedness condition is met ($\\text{slope of y ~ x} = \\frac{cov(x,y)}{var(x)}$)."
   ]
  },
  {
   "cell_type": "markdown",
   "id": "6690a562",
   "metadata": {},
   "source": [
    "\n",
    "### Fixed effects vs random effects\n",
    "\n",
    "By now the terms fixed effects and random effects have been mentioned a few times without having been defined. If you, as I have, looked online what the definition of fixed and random effects is, chances are you are a bit confused at this point. There are many different definitons of these terms that have little in common with one another. One thing that everyone can agree on is that a mixed effects model gets its name from having both fixed and random effects.\n",
    "\n",
    "Here is how the terms fixed and random effects are used in the present context: SNP effects are modeled as random effects, everything else (age, sex, a couple of principal components, cohort) is modeled as a fixed effects (here, we don't have any fixed effects for simplicity). In concrete terms that means that in a mixed effects model OLS or [GLS (generalized least squares)](https://en.wikipedia.org/wiki/Generalized_least_squares) is used to estimate fixed effects (without shrinkage) and BLUP is used to estimate random effects (with shrinkage). Both can be estimated simultaneously in a mixed effects model to account for the covariance between fixed and random effects (see Henderson's mixed model equation). Usually the fixed effects are much smaller in number than the random effect (SNPs). That means that there is a practical reason for modelling SNPs as random: With $M > N$ it is impossible to estimate the effect of each SNP without shrinkage.\n",
    "\n",
    "Sometimes you will also hear that random effects are modelled as coming from a random distribution, whereas fixed effects are not. This is equivalent to the above statement about shrinking effect sizes, because BLUP can be viewed as a Bayesian method which assumes that the SNP effects come from a normal prior distribution with a mean of 0 and a variance that is determined by $h^2$: Low $h^2$ means the prior distribution will have a small variance, so all effects will be shrunk heavily towards 0. A large $h^2$ means that the prior distribution will have a large variance, and so it will be less informative and will have a smaller effect on the posterior distribution of effect sizes (the BLUP estimates), so that the effects will be shrunk less. A fixed effect is thus equivalent to a random effect with a prior distribution that has infinite variance and will not be shrunk at all. Growing sample size will not affect the absolute value of the shrinkage factor $\\lambda$, but it will make it smaller relative to the diagonal elements in $\\textbf{X}^\\top \\textbf{X}$, so the prior distribution will have less effect on the posterior distribution.\n"
   ]
  },
  {
   "cell_type": "code",
   "execution_count": null,
   "id": "5f9f5609",
   "metadata": {
    "fig.cap": "**Distribution of true and estimated effect sizes**",
    "lines_to_next_cell": 2,
    "name": "bayesian_blup",
    "tags": [
     "remove_input"
    ]
   },
   "outputs": [],
   "source": [
    "dat = rbind(data.frame(type='blup', values=beta_blup),\n",
    "            data.frame(type='gwas', values=beta_gwas),\n",
    "            data.frame(type='true', values=beta))\n",
    "\n",
    "ggplot(dat, aes(values, linetype=type)) +\n",
    "  stat_function(fun=dnorm, geom='area', fill='#33cc33', alpha=.1, args=list(0, sqrt(h2/m))) +\n",
    "  geom_density() +\n",
    "  xlab('effect size') + ylab('density') +\n",
    "  annotate('text', sd(beta), dnorm(sd(beta), 0, sd(beta)), hjust=-0.5, vjust=0, label=as.character(expression(beta)), parse=T) +\n",
    "  annotate('text', sd(beta_blup), dnorm(sd(beta_blup), 0, sd(beta_blup)), hjust=-0.5, vjust=0, label=as.character(expression(hat(beta)[BLUP])), parse=T) +\n",
    "  annotate('text', sd(beta_gwas), dnorm(sd(beta_gwas), 0, sd(beta_gwas)), hjust=-0.5, vjust=0, label=as.character(expression(hat(beta)[GWAS])), parse=T) +\n",
    "  theme(legend.position='none')"
   ]
  },
  {
   "cell_type": "markdown",
   "id": "22471a7e",
   "metadata": {},
   "source": [
    "**The green shaded area represents the prior distribution for the BLUP effect size estimation and should closely follow the distribution of the true effect sizes. The \"prior distribution\" of the GWAS effect estimates has infinite variance.**"
   ]
  },
  {
   "cell_type": "markdown",
   "id": "ca281503",
   "metadata": {},
   "source": [
    "This is in contrast with another definition of random effects, which occurs in the context of hierarchical models with multiple observations in different groupings, for example multiple observations per individual. According to this definition, the effect of an individual would be treated as a random, if the people on which data have been collected were of no particular interest, and if those people are rather seen as random sample of a bigger population. \n",
    "\n",
    "The SNP model is an adaptation from the earlier pedigree model which was used to estimate breeding values of cows and other animals. This pedigree model does indeed have a hierarchical, nested structure in which multiple cows belonging to the same family are being grouped together. A random effect in the pedigree model is a random effect according to both definitions. With the introduction of SNP genotyping arrays, the model has been adapted so that relationships between cows were not modeled anymore by grouping them into families, but by treating them all as unrelated and calculating their genetic similarity using genome wide SNP data. The pedigree based relatedness matrix has been replaced by the GRM, and the term random effects for breeding values / genetic effects is still used, but the term random effects now only refers to the first definition."
   ]
  },
  {
   "cell_type": "markdown",
   "id": "fe7b905e",
   "metadata": {},
   "source": [
    "### Meta-analysis\n",
    "\n",
    "Often GWAS are performed on smaller cohorts. The summary statistics ($\\hat{\\beta}_{GWAS}$ and $SE_{\\hat{\\beta}_{GWAS}}$) of multiple smaller GWAS can be combined to increase power. This is in contrast to a Mega-analysis in which individual level genotype data from multiple small cohorts is combined.\n",
    "\n",
    "In this and the next section, $\\hat{\\beta}$ is short for $\\hat{\\beta}_{j,GWAS}$ and can also refer to the non-standardized version of the effect estimate ($\\hat{\\beta^*}_{j,GWAS}$).\n",
    "\n",
    "Meta analysed $\\hat{\\beta}$ values over $c$ cohorts can be obtained as:\n",
    "\n",
    "$$\\hat{\\beta}_{META} = \\frac{\\sum_c \\frac{\\hat{\\beta}_{c}}{SE^2_{\\hat{\\beta}_{c}}}}{\\sum_c \\frac{1}{SE^2_{\\hat{\\beta}_{c}}}} \\qquad\n",
    "SE_{\\hat{\\beta}_{META}} = \\sqrt{\\frac{1}{\\sum_c \\frac{1}{SE^2_{\\hat{\\beta}_{c}}}}}\n",
    "$$\n"
   ]
  },
  {
   "cell_type": "markdown",
   "id": "1cd2bd9a",
   "metadata": {},
   "source": [
    "Let's get meta-analyzed summary statistics first."
   ]
  },
  {
   "cell_type": "code",
   "execution_count": null,
   "id": "4d4c72f3",
   "metadata": {
    "name": "meta1"
   },
   "outputs": [],
   "source": [
    "cohort_stats = list()\n",
    "num = 10\n",
    "first = floor(seq(1, n+1, len=num+1))\n",
    "last = first[-1]-1\n",
    "for(i in 1:num) {\n",
    "  nc = last[i] - first[i]\n",
    "  x_oc = x_o[first[i]:last[i],]\n",
    "  yc = y[first[i]:last[i],]\n",
    "  beta_oc = t(x_oc) %*% yc / diag(t(x_oc) %*% x_oc)\n",
    "  sec = sqrt(1/(varx*nc))\n",
    "  cohort_stats[[i]] = data.frame(beta_oc, sec)\n",
    "}"
   ]
  },
  {
   "cell_type": "markdown",
   "id": "8515c802",
   "metadata": {},
   "source": [
    "And now meta-analyze them, one cohort at a time."
   ]
  },
  {
   "cell_type": "code",
   "execution_count": null,
   "id": "f10f1301",
   "metadata": {
    "fig.cap": "**Effect estimates from a meta-analysis and a mega-analysis**",
    "name": "meta2"
   },
   "outputs": [],
   "source": [
    "numer_one_cohort = lapply(cohort_stats, function(x) x$beta_oc/x$sec^2)\n",
    "denom_one_cohort = lapply(cohort_stats, function(x) 1/x$sec^2)\n",
    "numer_sums = do.call('cbind', Reduce(`+`, numer_one_cohort, accumulate = TRUE))\n",
    "denom_sums = do.call('cbind', Reduce(`+`, denom_one_cohort, accumulate = TRUE))\n",
    "beta_o_meta = numer_sums/denom_sums\n",
    "\n",
    "dat = data.frame(maf, beta_o_gwas, beta_o_meta=beta_o_meta[,num])\n",
    "ggplot(dat, aes(beta_o_gwas, beta_o_meta, col=log10(maf))) +\n",
    "  geom_point() + geom_abline() +\n",
    "  xlab(expression(hat(paste(beta^\"*\"))[GWAS])) +\n",
    "  ylab(expression(hat(paste(beta^\"*\"))[META]))\n",
    "  "
   ]
  },
  {
   "cell_type": "markdown",
   "id": "6ff19546",
   "metadata": {},
   "source": [
    "**Low MAF SNPs are more likely to be outliers.**\n"
   ]
  },
  {
   "cell_type": "code",
   "execution_count": null,
   "id": "e110ce1e",
   "metadata": {
    "fig.cap": "**Sequentially adding more cohorts to a meta-analysis**",
    "name": "meta3"
   },
   "outputs": [],
   "source": [
    "minmaf = .1\n",
    "cor_mega = cor(beta_o[maf > minmaf], beta_o_gwas[maf > minmaf])\n",
    "corrs = sapply(1:num, function(i) cor(beta_o[maf > minmaf], beta_o_meta[maf > minmaf, i]))\n",
    "\n",
    "dat = data.frame(name=c(num+1, 1:num), corr=c(cor_mega, corrs))\n",
    "ggplot(dat, aes(as.factor(name), corr, fill=corr)) +\n",
    "  geom_col() +\n",
    "  scale_x_discrete(labels=c(1:num, 'mega')) +\n",
    "  xlab('number of cohorts in meta-analysis') +\n",
    "  ylab('correlation between meta-analysed and true effects') +\n",
    "  scale_fill_gradient(low='black', high='purple')"
   ]
  },
  {
   "cell_type": "markdown",
   "id": "7185ace2",
   "metadata": {},
   "source": [
    "### De-meta-analysis\n",
    "\n",
    "It is also possible to exclude the effects of one cohort from GWAS summary statistics, using a de-meta-analysis:\n",
    "\n",
    "$$\\hat{\\beta}_{DE-META} = \\hat{\\beta}_{META} - SE^2_{\\hat{\\beta}_{DE-META}}  \\sum_c \\frac{\\hat{\\beta}_{c} - \\hat{\\beta}_{META} }{SE^2_{\\hat{\\beta}_{c}}}$$\n",
    "\n",
    "\n",
    "\n",
    "$$\n",
    "SE_{\\hat{\\beta}_{DE-META}}  = \\sqrt{\\frac{1}{\\frac{1}{SE^2_{\\hat{\\beta}_{META}}}-\\sum_c \\frac{1}{SE^2_{\\hat{\\beta}_{c}}}}}\n",
    "$$\n",
    "\n"
   ]
  },
  {
   "cell_type": "markdown",
   "id": "dda03a5a",
   "metadata": {},
   "source": [
    "\n",
    "\n",
    "### Variance of GWAS estimates\n",
    "\n",
    "We have previously looked at the sampling variance of a SNP effect estimate, $var(\\hat{\\beta}_{j,GWAS} \\mid \\beta_j)$. Often variance of a SNP effect estimate, $var(\\hat{\\beta}_{j,GWAS})$, is also of interest.  While $var(\\hat{\\beta}_{j,GWAS} \\mid \\beta_j)$ estimates the variance of $\\hat{\\beta}_{j,GWAS}$, assuming that the true effect size is kept constant but the sampling process is repeated, $var(\\hat{\\beta}_{j,GWAS})$ estimates the variance of $\\hat{\\beta}_{j,GWAS}$ assuming that both the assignment of a true effect and the sampling process are repeated.\n",
    "\n",
    "If $var(\\hat{\\beta}_{j,GWAS})$ is i.i.d. for all SNPs $j$, $var(\\hat{\\beta}_{j,GWAS})$ will be equal to the variance across all SNPs, $var(\\hat{\\boldsymbol{\\beta}}_{GWAS})$. The true effect sizes here are i.i.d., and this is why $var(\\beta_j) = var(\\boldsymbol{\\beta}) = \\frac{h^2}{M}$.\n",
    "\n",
    "\n",
    "\n",
    "#### Variance of standardized GWAS estimates\n",
    "\n",
    "From an earlier section we know that if $var(\\textbf{y}) = 1$ and the variance explained per SNP is small,\n",
    "\n",
    "$$var(\\hat{\\beta}_{j,GWAS} \\mid \\beta_j) = var(\\hat{\\beta}_{j,GWAS} - \\beta_j) = \\frac{1}{N}$$\n",
    "\n",
    "We also know that\n",
    "$$var(\\beta_j) = \\frac{h^2}{M}$$\n"
   ]
  },
  {
   "cell_type": "markdown",
   "id": "41b182f2",
   "metadata": {},
   "source": [
    "From this we are able to get $var(\\hat{\\beta}_{j,GWAS})$.\n",
    "\n",
    "[Wikipedia tells us](https://en.wikipedia.org/wiki/Variance#Basic_properties) that $var(X - Y) = var(X) + var(Y) - 2\\times cov(X,Y)$, so:\n",
    "\n",
    "$$var(\\hat{\\beta}_j - \\beta_j) = var(\\hat{\\beta}_j) + var(\\beta_j) - 2 \\times cov(\\hat{\\beta}_j, \\beta_j)$$\n",
    "\n",
    "OLS estimates are unbiased, in the sense that $\\mathbb{E}[\\hat{\\beta}_j \\mid \\beta_j] = \\beta_j$. This implies that $cov(\\beta_j, \\hat{\\beta}_j) = var(\\beta_j)$.\n",
    "\n",
    "From this it follows that\n",
    "\n",
    "$$\n",
    "\\begin{aligned}\n",
    "var(\\hat{\\boldsymbol{\\beta}}_{GWAS}) &= \\\\\n",
    "\\\\\n",
    "var(\\hat{\\beta}_{j,GWAS}) &= var(\\beta_j) + var(\\hat{\\beta}_{j,GWAS} - \\beta_j) \\\\\n",
    "\\\\\n",
    "             &= \\frac{h^2}{M} + \\frac{1}{N}\n",
    "\\end{aligned}\n",
    "$$"
   ]
  },
  {
   "cell_type": "markdown",
   "id": "f659ba11",
   "metadata": {},
   "source": [
    "#### The effect of LD on the variance of GWAS estimates"
   ]
  },
  {
   "cell_type": "markdown",
   "id": "d5fd8899",
   "metadata": {},
   "source": [
    "The derivation above uses the unbiasedness property of OLS estimates. However, the unbiasedness and consistency of OLS estimates depends on [certain assumptions](https://en.wikipedia.org/wiki/Ordinary_least_squares#Assumptions), which are not all met in a GWAS setting. Specifically, the model is not correctly specified, if the model doesn't include important explanatory factors for $\\textbf{y}$ that are correlated with $\\textbf{X}_j$ (SNPs in LD with SNP $j$). Not including these other SNPs can lead to [omitted-variable bias](https://en.wikipedia.org/wiki/Omitted-variable_bias). It's easy to see that this will create bias when you consider only two SNPs which are highly correlated and together explain most of the variance. Including only one of them in the model will induce a correlation between the error term and $\\textbf{X}_j$ and lead to a biased estimate, where the bias depends on the LD between the two SNPs.\n",
    "\n",
    "In a polygenic setting, this bias will not be very large, but can still be noticeable, especially if LD is widespread and $N$ is large compared to $M$. In this case, a better approximation of $var(\\hat{\\beta}_{j,GWAS})$ is\n",
    "\n",
    "$$var(\\hat{\\beta}_{j,GWAS}) = l_j \\frac{h^2}{M} + \\frac{1}{N}$$\n",
    "where $l_j$ is the LD-score of SNP $j$.\n",
    "\n",
    "The LD score regression method is based on this observation.\n",
    "\n",
    "Averaged over all SNPs, this becomes\n",
    "\n",
    "$$var(\\hat{\\boldsymbol{\\beta}}_{GWAS}) = \\frac{h^2}{M_e} + \\frac{1}{N}$$\n"
   ]
  },
  {
   "cell_type": "code",
   "execution_count": null,
   "id": "3527dfe4",
   "metadata": {
    "fig.cap": "**Expected and observed beta variance**",
    "name": "var_beta_gwas"
   },
   "outputs": [],
   "source": [
    "dat = data.frame(type1=c('observed', 'observed', 'expected', 'expected', 'observed', 'expected'),\n",
    "                type2=c('true_effects', 'estimated_effects', 'true_effects',\n",
    "                        'estimated_effects', 'estimated_effects_ld', 'estimated_effects_ld'),\n",
    "                value=c(var(beta), var(beta_gwas), h2/m, h2/m + 1/n,\n",
    "                        var(beta_gwasld), h2/meld + 1/n  ))\n",
    "dat$type2 = factor(dat$type2, levels=levels(factor(dat$type2))[c(3,1,2)])\n",
    "\n",
    "ggplot(dat, aes(type1, value, fill=type1)) +\n",
    "  geom_col() +\n",
    "  facet_wrap(~ type2, scales='free_x') +\n",
    "  xlab('') +\n",
    "  ylab(expression(paste(\"var(\",hat(beta),\") / var(\",beta,\")\"))) +\n",
    "  theme(legend.position = 'none')"
   ]
  },
  {
   "cell_type": "markdown",
   "id": "266f80d8",
   "metadata": {},
   "source": [
    "**For the genotypes without LD, the variance across all estimates is well approximated by $\\frac{h^2}{M} + \\frac{1}{N}$, for the genotypes with LD, the variance across all estimates is better approximated by $\\frac{h^2}{M_e} + \\frac{1}{N}$**"
   ]
  },
  {
   "cell_type": "markdown",
   "id": "fa1bb1aa",
   "metadata": {},
   "source": [
    "<!-- In the above taking the mean across all LD scores doesn't have to result in the right answer. It's better to stratify by LD scores: -->\n",
    "\n",
    "<!-- ```{r var_beta_gwas2} -->\n",
    "<!-- ss = 5 -->\n",
    "<!-- sequ = seq(0, max(ldscoresld), ss) -->\n",
    "<!-- bins = cut(ldscoresld, sequ) -->\n",
    "<!-- binMeans = (sequ + ss/2)[-length(sequ)] -->\n",
    "<!-- dat = data.frame(observed=tapply(beta01_gwasld, bins, var), -->\n",
    "<!--                 expected=binMeans * h2/m + 1/n, -->\n",
    "<!--                 binNum=1:length(binMeans)) -->\n",
    "\n",
    "<!-- ggplot(dat, aes(expected, observed, col=binMeans)) + -->\n",
    "<!--   geom_text(aes(label=binNum)) + geom_abline() + -->\n",
    "<!--   scale_colour_continuous(low='black', high='green') + -->\n",
    "<!--   xlab(expression(paste(bar(l)[bin] %.% frac(h^2, M) + frac(1, N)))) + -->\n",
    "<!--   ylab(expression(paste(var(hat(beta))))) -->\n",
    "<!-- ``` -->\n",
    "\n",
    "<!-- **Observed and expected variance of $\\hat{\\beta}_{GWAS}$ stratified by LD score. At small sample sizes and SNP numbers, the relation between LD scores and $var(\\hat{\\beta})$ may not be obvious.** -->\n",
    "\n",
    "\n",
    "\n"
   ]
  },
  {
   "cell_type": "markdown",
   "id": "94d73844",
   "metadata": {},
   "source": [
    "#### Variance of un-standardized GWAS estimates\n",
    "\n",
    "$var(\\hat{\\beta}_{j,GWAS})$ is identically distributed for each SNP for each SNP, if $\\beta_j$ is identically distributed for each SNP. But the same is not true for $\\hat{\\beta^*}_{j,GWAS}$, which is $\\hat{\\beta^*}_{j,GWAS} = \\frac{\\hat{\\beta}_{j,GWAS}}{\\sqrt{2p_j (1-p_j)}}$. Here, the variance of rare SNPs is larger than that of common SNPs. A SNP with MAF zero has infinite variance, and this makes the expectation of $var(\\hat{\\boldsymbol{\\beta}^*}_{GWAS})$ infinte too, for a MAF range beginning at zero."
   ]
  },
  {
   "cell_type": "markdown",
   "id": "c1302234",
   "metadata": {},
   "source": [
    "<!-- If we just estimated $var(\\hat{\\beta^*}_{j,GWAS})$, we would get a different estimate for each SNP, depending on its allele frequency. So how can we get an estimate across all SNPs? -->\n",
    "\n",
    "<!-- $var(\\hat{\\beta}^*_{GWAS}) = var(\\frac{\\hat{\\beta}_{GWAS}}{\\sqrt{2p (1-p)}})$ and we know that $\\hat{\\beta}_{GWAS}$ is independent of $\\sqrt{2p (1-p)}$, so we can treat this as the product of two independent random variables $X$ and $Y$: -->\n",
    "\n",
    "<!-- $$var(XY) = \\mathbb{E}[X^2Y^2] - (\\mathbb{E}[XY])^2 = var(X)var(Y) + var(X) (\\mathbb{E}[Y])^2 + var(Y) (\\mathbb{E}[X])^2$$ -->\n",
    "\n",
    "<!-- where $X := \\hat{\\beta}_{GWAS}$ and $Y := \\frac{1}{\\sqrt{2p (1-p)}}$ -->\n",
    "\n",
    "<!-- So -->\n",
    "\n",
    "<!-- $$ -->\n",
    "<!-- \\begin{aligned} -->\n",
    "<!-- var(\\frac{\\hat{\\beta}_{GWAS}}{\\sqrt{2p (1-p)}}) &= var(\\hat{\\beta}_{GWAS}) var(\\frac{1}{\\sqrt{2p (1-p)}}) + var(\\hat{\\beta}_{GWAS}) (\\mathbb{E}[\\frac{1}{\\sqrt{2p (1-p)}}])^2 + var(\\frac{1}{\\sqrt{2p (1-p)}}) (\\mathbb{E}[\\hat{\\beta}_{GWAS}])^2 \\\\ -->\n",
    "<!-- \\\\ -->\n",
    "<!-- &= var(\\hat{\\beta}_{GWAS}) var(\\frac{1}{\\sqrt{2p (1-p)}}) + var(\\hat{\\beta}_{GWAS}) (\\mathbb{E}[\\frac{1}{\\sqrt{2p (1-p)}}])^2\\\\ -->\n",
    "<!-- \\end{aligned} -->\n",
    "<!-- $$ -->\n",
    "\n",
    "<!-- and -->\n",
    "\n",
    "<!-- $$var(\\frac{1}{\\sqrt{2p (1-p)}}) = \\mathbb{E}[\\frac{1}{2p (1-p)}] - (\\mathbb{E}[\\frac{1}{\\sqrt{2p (1-p)}}])^2$$ -->\n",
    "\n",
    "<!-- If we assume that $p$ is uniformly distributed between 0 and 0.5 and apply the [law of the unconscious statistician](https://en.wikipedia.org/wiki/Law_of_the_unconscious_statistician) to $\\mathbb{E}[\\frac{1}{2p (1-p)}]$ and $(\\mathbb{E}[\\frac{1}{\\sqrt{2p (1-p)}}])^2$, we find that $var(\\frac{1}{\\sqrt{2p (1-p)}})$ does not result in a finite value. So if we assume a uniform distribution of $p$, the expectation for $var(\\hat{\\beta^*}_{GWAS})$ depends on the range of allele frequencies considered and only has a finite value if the lower end of the range is larger than zero. -->\n",
    "\n",
    "\n"
   ]
  },
  {
   "cell_type": "markdown",
   "id": "1a40989a",
   "metadata": {},
   "source": [
    "### Comparison between different BLUP formulations\n",
    "\n",
    "The BLUP equation here looks very different from more common formulations of the BLUP model, for example in the animal breeding literature. This is partly due to different notation and partly because the animal model is a pedigree model in which different individuals are modeled as being part of different families. In the model that is used here, there is no such hierarchical structure, which simplifies the model. Lynch and Walsh (Eq. 26.4) defines BLUP (individual effects) as follows:\n",
    "\n",
    "$$\\hat{\\textbf{u}} = \\textbf{GZ}^\\top\\textbf{V}^{-1}(y-\\textbf{X}\\hat{\\boldsymbol{\\beta}})$$"
   ]
  },
  {
   "cell_type": "markdown",
   "id": "4e0b9b14",
   "metadata": {},
   "source": [
    "After substituting L&W terminology with the terminology used here, the equation above can be rewritten as"
   ]
  },
  {
   "cell_type": "markdown",
   "id": "9cfcb135",
   "metadata": {},
   "source": [
    "$$\n",
    "\\begin{aligned}\n",
    "\\hat{\\textbf{g}} &= \\textbf{X}^* \\hat{\\boldsymbol{\\beta}^*}_{BLUP} = \\textbf{X} \\hat{\\boldsymbol{\\beta}}_{BLUP} \\\\\n",
    "                     \\\\\n",
    "                     &= h^2 \\frac{\\textbf{X}\\textbf{X}^\\top}{M} (h^2 \\frac{\\textbf{X}\\textbf{X}^\\top}{M} + (1-h^2) \\textbf{I}_N)^{-1} \\textbf{y} \\\\\n",
    "                     \\\\\n",
    "                     &= \\textbf{X}\\textbf{X}^\\top (\\textbf{X}\\textbf{X}^\\top + \\frac{M(1-h^2)}{h^2} \\textbf{I}_N)^{-1} \\textbf{y} \\\\\n",
    "                     \\\\\n",
    "                     &= \\textbf{X}(\\textbf{X}^\\top\\textbf{X} + \\frac{M(1-h^2)}{h^2} \\textbf{I}_M)^{-1} \\textbf{X}^\\top \\textbf{y} \\\\\n",
    "                     \\\\\n",
    "                     &= \\textbf{X}(\\textbf{X}^\\top\\textbf{X} + \\lambda \\textbf{I}_M)^{-1} \\textbf{X}^\\top \\textbf{y}\n",
    "\\end{aligned}\n",
    "$$\n",
    "\n",
    "From this, it follows that\n",
    "\n",
    "$$\\hat{\\boldsymbol{\\beta}}_{BLUP} = (\\textbf{X}^\\top\\textbf{X} + \\lambda \\textbf{I}_M)^{-1} \\textbf{X}^\\top \\textbf{y}$$\n",
    "and so the two models are identical if we assume the absence of fixed effects.\n",
    "\n"
   ]
  },
  {
   "cell_type": "markdown",
   "id": "b499f56a",
   "metadata": {},
   "source": [
    "----\n",
    "\n",
    "## Prediction\n",
    "\n",
    "Estimated SNP effects ($\\hat{\\boldsymbol{\\beta}}$) can easily be converted into predictors of genetic effects for individuals ($\\hat{\\textbf{g}}$):\n",
    "\n",
    "$$\\hat{g_i} = \\sum_j X_{ij} \\hat{\\beta_j}$$\n",
    "\n",
    "In matrix notation:\n",
    "\n",
    "$$\\hat{\\textbf{g}} = \\textbf{X} \\hat{\\boldsymbol{\\beta}}$$\n",
    "Unless we have a prediction model that incorporates nongenetic factors, this is also our phenotype predictor:\n",
    "\n",
    "$$\\hat{\\textbf{y}} = \\hat{\\textbf{g}} = \\textbf{X} \\hat{\\boldsymbol{\\beta}}$$\n",
    "Generally, more accurate $\\hat{\\boldsymbol{\\beta}}$ will result in more accurate $\\hat{\\textbf{g}}$.\n"
   ]
  },
  {
   "cell_type": "markdown",
   "id": "156cc054",
   "metadata": {},
   "source": [
    "### The importance of an independent test set\n",
    "\n",
    "The first rule of any kind of prediction is that the training set, which is used to train a predictor, has to be strictly separated from the testing set, which is used to evaluate the predictor. Otherwise the accuracy of the predictor will be highly overestimated.\n",
    "\n",
    "That is why we will first create an independent test set of equal size and equal allele frequencies, and then use the true effect sizes to again simulate phenotypes in this independent set."
   ]
  },
  {
   "cell_type": "code",
   "execution_count": null,
   "id": "b474df12",
   "metadata": {
    "name": "prediction1"
   },
   "outputs": [],
   "source": [
    "x012test = apply(x012, 2, sample)\n",
    "x_otest = scale(x012test, scale=FALSE)\n",
    "xtest = scale(x012test, scale=TRUE)\n",
    "\n",
    "\n",
    "# simulate test set phenotypes\n",
    "gtest = xtest %*% beta\n",
    "etest = rnorm(n, 0, sqrt(1-h2))\n",
    "ytest = gtest + etest\n",
    "\n",
    "\n",
    "# same for data with LD\n",
    "x012ldtest = jitter(x012test[,rep(1:m, 1:m)[1:m]], .03)\n",
    "xldtest = scale(x012ldtest)\n",
    "\n",
    "gldtest = xldtest %*% beta\n",
    "eldtest = rnorm(n, 0, sqrt(1-h2))\n",
    "yldtest = gldtest + eldtest"
   ]
  },
  {
   "cell_type": "markdown",
   "id": "362f9bce",
   "metadata": {},
   "source": [
    "Creating individual predictors from SNP effects is very simple. Apart from scaling, the following is equivalent to ```plink --score```."
   ]
  },
  {
   "cell_type": "code",
   "execution_count": null,
   "id": "fd5d3c98",
   "metadata": {
    "lines_to_next_cell": 2,
    "name": "prediction2"
   },
   "outputs": [],
   "source": [
    "ghat_train_gwas = x %*% beta_gwas\n",
    "ghat_test_gwas = xtest %*% beta_gwas\n",
    "\n",
    "# for data with LD\n",
    "ghat_test_gwasld = xldtest %*% beta_gwasld"
   ]
  },
  {
   "cell_type": "code",
   "execution_count": null,
   "id": "10c9ae4a",
   "metadata": {
    "echo": true,
    "fig.cap": "**Prediction accuracy if training and test set are not independent**",
    "lines_to_next_cell": 2,
    "name": "prediction3"
   },
   "outputs": [],
   "source": [
    "# confounded data set\n",
    "xconf = rbind(x, xtest[1:floor(n/10),])\n",
    "yconf = c(y, ytest[1:floor(n/10)])\n",
    "beta_gwas_conf = t(xconf) %*% yconf / diag(t(xconf) %*% xconf)\n",
    "\n",
    "ghat_conf_gwas = xtest %*% beta_gwas_conf\n",
    "\n",
    "ghat_train_blup = x %*% beta_blup\n",
    "ghat_test_blup = xtest %*% beta_blup\n",
    "\n",
    "dat = data.frame(predictor=c('training', 'test', 'test_confounded_10%'),\n",
    "                 corr=c(cor(y, ghat_train_gwas),\n",
    "                        cor(ytest, ghat_test_gwas),\n",
    "                        cor(ytest, ghat_conf_gwas)))\n",
    "ggplot(dat, aes(predictor, corr, fill=predictor)) +\n",
    "  geom_col() +\n",
    "  xlab('') + ylab('correlation') +\n",
    "  theme(legend.position='none')\n"
   ]
  },
  {
   "cell_type": "markdown",
   "id": "32639083",
   "metadata": {},
   "source": [
    "**The red bar represents prediction accuracy in an independent set. The green bar is prediction accuracy in an independent set, but 10% of the independent set went into the training set, so it's not independent anymore. The blue bar represent accuracy in the same sample that was used to estimate SNP effects. Only the red bar is a useful measure of prediction accuracy.** "
   ]
  },
  {
   "cell_type": "markdown",
   "id": "eacbc5a5",
   "metadata": {},
   "source": [
    "\n",
    "\n",
    "### Accuracy of a GWAS predictor\n",
    "\n",
    "The expected accuracy of a GWAS predictor, measured as the correlation between predicted breeding value and the phenotype in an independent sample, is given by:\n",
    "\n",
    "$$cor^2(\\textbf{y}, \\hat{\\textbf{g}}_{GWAS}) = \\frac{h^2}{1+\\frac{M_e}{N h^2}}$$\n",
    "\n",
    "In case you wonder why:\n",
    "\n",
    "$$\n",
    "\\begin{aligned}\n",
    "cor^2(\\textbf{y}, \\hat{\\textbf{g}}_{GWAS}) &= \\frac{cov^2(\\textbf{y}, \\hat{\\textbf{g}}_{GWAS})}{var(\\textbf{y})var(\\hat{\\textbf{g}}_{GWAS})} && \\text{definition of correlation} \\\\\n",
    "                     \\\\\n",
    "                     &= \\frac{cov^2(\\textbf{g} + \\textbf{e}, \\hat{\\textbf{g}}_{GWAS})}{var(\\hat{\\textbf{g}}_{GWAS})} && var(\\textbf{y})=1 \\text{, definition of } \\textbf{y} \\\\\n",
    "                     \\\\\n",
    "                     &= \\frac{cov^2(\\sum_j \\textbf{X}_j  \\beta_j, \\sum_j \\textbf{X}_j  \\hat{\\beta}_{j,GWAS})}{var(\\sum_j \\textbf{X}_j  \\hat{\\beta}_{j,GWAS})} && \\textbf{g} \\text{ and } \\textbf{e} \\text{ are uncorrelated, definition of } \\textbf{g},~ \\hat{\\textbf{g}}_{GWAS} \\\\\n",
    "                     \\\\\n",
    "                     &= \\frac{M^2 \\times cov^2(\\beta_j, \\hat{\\beta}_{j,GWAS})}{M \\times var(\\hat{\\beta}_{j,GWAS})} && \\text{assuming SNPs are independent} \\\\\n",
    "                     \\\\\n",
    "                     &= \\frac{M \\times cov^2(\\beta, \\hat{\\beta}_{GWAS})}{var(\\hat{\\beta}_{GWAS})} && \\beta \\text{ are i.i.d.} \\\\\n",
    "                     \\\\\n",
    "                     &= \\frac{M \\times var^2(\\beta)}{var(\\hat{\\beta}_{GWAS})} && \\text{follows from OLS unbiasedness} \\\\\n",
    "                     \\\\\n",
    "                     &= \\frac{M (\\frac{h^2}{M})^2}{\\frac{h^2}{M} + \\frac{1}{N}} && \\text{derived in earlier sections} \\\\\n",
    "                     \\\\\n",
    "                     &= \\frac{h^2}{1 + \\frac{M}{N h^2}} && \\text{rearrange} \\\\\n",
    "\\end{aligned}\n",
    "$$\n",
    "\n",
    "This derivation assumes independent markers, which means that $M = M_e$. In order for the equation to be applicable to data sets with non-independent markers, $M$ has to be replaced by $M_e$."
   ]
  },
  {
   "cell_type": "markdown",
   "id": "df98dff4",
   "metadata": {},
   "source": [
    "\n",
    "\n",
    "### Accuracy of a BLUP predictor\n",
    "\n",
    "In the derivation above, we used an estimate of $var(\\hat{\\beta}_{GWAS})$ of $\\frac{h2}{M_e} + \\frac{1}{N}$, where $\\frac{1}{N}$ is the standard error of the estimate. In a model that fits all SNPs at the same time, the standard error is better estimated as $\\frac{1-R^2}{N}$, where $R^2$ is the variance explained by all SNP effect estimates. This is at the same time the expected accuracy of our predictor, and is smaller than an estimate of the variance explained by all SNPs (SNP-heritability), because each SNP has an estimation error. If we use this estimate of the standard error, then the expected prediction accuracy becomes:\n",
    "$$cor^2(\\textbf{y}, \\hat{\\textbf{g}}) = R^2 = \\frac{h^2}{1 + \\frac{M_e (1-R^2)}{N h^2}}$$\n",
    "\n",
    "This doesn't account for the overfitting problem that $\\hat{\\beta}_{OLS}$ estimates have, so it is not a good estimate of the accuracy of a predictor based on $\\hat{\\beta}_{OLS}$, but it is a good estimator of the accuracy of a $\\hat{\\beta}_{BLUP}$ based predictor."
   ]
  },
  {
   "cell_type": "markdown",
   "id": "535d6564",
   "metadata": {},
   "source": [
    "$R^2$ occurs on both sides of the equation, but we can solve for $R^2$:\n",
    "\n",
    "$$cor^2(\\textbf{y}, \\hat{\\textbf{g}}_{BLUP}) = R^2 = \\frac{k + h^2 - \\sqrt{(k+h^2)^2 - 4kh^2}}{2k}$$\n",
    "\n",
    "where $k = \\frac{M_e}{N}$\n",
    "\n",
    "Note that $cor^2(\\textbf{g}, \\hat{\\textbf{g}})$ will always be larger than $cor^2(\\textbf{y}, \\hat{\\textbf{g}})$ by a factor of $\\frac{1}{h^2}$, because $\\textbf{g}$ doesn't contain the error component of $\\textbf{y}$:\n",
    "\n",
    "$$cor^2(\\textbf{g}, \\hat{\\textbf{g}}_{BLUP}) = \\frac{1}{1 + \\frac{M_e (1-R^2)}{N h^2}}$$\n",
    "\n"
   ]
  },
  {
   "cell_type": "code",
   "execution_count": null,
   "id": "afd3c83a",
   "metadata": {
    "lines_to_next_cell": 2,
    "name": "gwas_predictor_accuracy1"
   },
   "outputs": [],
   "source": [
    "R2_GWAS = function(m, n, h2) {\n",
    "  h2 / (1 + (m / (n*h2)))\n",
    "}\n",
    "\n",
    "R2_BLUP = function(m, n, h2) {\n",
    "  k = m/n\n",
    "  ( (k + h2) - sqrt( (k+h2)^2 - 4*k*h2^2) ) / (2*k)\n",
    "}"
   ]
  },
  {
   "cell_type": "code",
   "execution_count": null,
   "id": "3fc55f0f",
   "metadata": {
    "echo": true,
    "fig.cap": "**Expected and observed prediction accuracy**",
    "name": "gwas_predictor_accuracy2"
   },
   "outputs": [],
   "source": [
    "cor.test.plus = function(x, y, ...) {\n",
    "  # like cor.test, but also returns se of correlation\n",
    "  corr = cor.test(x, y, ...)\n",
    "  corr$se = unname(sqrt((1 - corr$estimate^2)/corr$parameter))\n",
    "  corr\n",
    "}\n",
    "\n",
    "ghat_test_mlma = xtest %*% beta_mlma\n",
    "ghat_test_mlmald = xldtest %*% beta_mlmald\n",
    "ghat_test_blup = xtest %*% beta_blup\n",
    "ghat_test_blupld = xldtest %*% beta_blupld\n",
    "\n",
    "cornold = t(sapply(list(ghat_test_gwas, ghat_test_mlma, ghat_test_blup),\n",
    "         function(x) {corr = cor.test.plus(ytest, x); c(corr$estimate, corr$se)}))\n",
    "corld = t(sapply(list(ghat_test_gwasld, ghat_test_mlmald, ghat_test_blupld),\n",
    "         function(x) {corr = cor.test.plus(yldtest, x); c(corr$estimate, corr$se)}))\n",
    "dat = data.frame(type=rep(c('GWAS', 'MLMA', 'BLUP'), 2),\n",
    "                 ld = c(rep(' without LD', 3), rep('with LD', 3)),\n",
    "                 n=n,\n",
    "                 corr=c(cornold[,1], corld[,1]),\n",
    "                 se=c(cornold[,2], corld[,2]))\n",
    "dat$type = factor(dat$type, levels=levels(factor(dat$type))[c(2,3,1)])\n",
    "\n",
    "nlim = c(ceiling(n/10000), n*300)\n",
    "mypal = rev(c('seagreen4', 'royalblue4'))\n",
    "ggplot(dat[dat$type != 'MLMA',], aes(n, corr, col=type)) +\n",
    "  stat_function(fun=function(...) sqrt(R2_GWAS(...)), args=list(h2=h2, m=me), col=mypal[1]) +\n",
    "  stat_function(fun=function(...) sqrt(R2_BLUP(...)), args=list(h2=h2, m=me), col=mypal[2]) +\n",
    "  stat_function(fun=function(...) sqrt(R2_GWAS(...)), args=list(h2=h2, m=meld), col=mypal[1], linetype=2) +\n",
    "  stat_function(fun=function(...) sqrt(R2_BLUP(...)), args=list(h2=h2, m=meld), col=mypal[2], linetype=2) +\n",
    "  scale_x_log10(limits=c(nlim[1], nlim[2])) +\n",
    "  geom_point(size=2) +\n",
    "  geom_errorbar(aes(ymin=corr-se, ymax=corr+se, linetype=ld), width=.1) +\n",
    "  scale_colour_manual(values=mypal) + xlab('sample size') + ylab('correlation') +\n",
    "  geom_hline(yintercept = sqrt(h2), linetype=2)\n"
   ]
  },
  {
   "cell_type": "markdown",
   "id": "03712db0",
   "metadata": {},
   "source": [
    "**Prediction accuracy +/- SE of the GWAS and BLUP predictor. Lines show expected accuracy for a range of $N$. The horizontal line represents $\\sqrt{h^2}$, which is the upper limit for an (additive) genetic predictor. Dashed lines show accuracies for data with LD. $\\beta$ estimates are not more accurate in data without LD, but the combined effect estimate of each LD block is more accurate, since it is averaged over many SNPs. This is why prediction accuracy is higher in data with LD, if the LD structure is the same in the test set. The standard errors of the point estimates are underestimated for the simulations with LD, because the SE estimate assumes that all individual predictors are independent. However, they are not independent because they depend on correlated $\\beta$ estimates.**"
   ]
  },
  {
   "cell_type": "markdown",
   "id": "3c5b5930",
   "metadata": {},
   "source": [
    "From the unbiasedness of BLUP predictors, it follows that $R^2$ is at the same time the expected variance of a BLUP predictor: \n",
    "\n",
    "$$R^2 = cor^2(\\textbf{y}, \\hat{\\textbf{g}}_{BLUP}) = \\frac{cov^2(\\textbf{y}, \\hat{\\textbf{g}}_{BLUP})}{var(\\hat{\\textbf{g}}_{BLUP})} = var(\\hat{\\textbf{g}}_{BLUP})$$\n",
    "\n",
    "\n",
    "\n",
    "<!-- What if we made predictors from MLMA estimates? -->\n",
    "\n",
    "<!-- ```{r mlma_predictor_accuracy1} -->\n",
    "<!-- ggplot(dat, aes(type, corr, fill=type)) + -->\n",
    "<!--   geom_bar(stat='identity', position='dodge') + -->\n",
    "<!--   facet_wrap(~ ld) + -->\n",
    "<!--   geom_errorbar(aes(ymin=corr-se, ymax=corr+se), width=.1) + -->\n",
    "<!--   xlab('') + ylab('correlation') -->\n",
    "<!-- ``` -->\n",
    "\n",
    "<!-- **In data with LD, MLMA based predictors are no better than GWAS predictors.** -->"
   ]
  },
  {
   "cell_type": "markdown",
   "id": "2bd9511a",
   "metadata": {},
   "source": [
    "### SNP selection\n",
    "\n",
    "The predictors so far have been based on all SNPs. In practice people often select SNPs based on their LD with other SNPs or based on their p-value.\n",
    "\n",
    "The motivation behind selecting SNPs based on LD with other SNPs is that GWAS estimates are marginal effect estimates and so regions with high LD will influence the predictor too much.\n",
    "\n",
    "The motivation behind selecting SNPs based on p-value, is that SNPs with low p-value are more likely to be truly associated with the trait, and so the signal to noise ratio of the SNP effects that go into the predictor will increase. This is especially true in well powered studies, where the p-value better separates the causal SNPs from the rest.\n",
    "\n",
    "Since we simulate SNP effects from a normal distribution, all SNPs will have some effect, but even here, selecting based on p-value can slightly increase accuracy."
   ]
  },
  {
   "cell_type": "code",
   "execution_count": null,
   "id": "dae55719",
   "metadata": {
    "echo": true,
    "fig.cap": "**Selecting SNPs based on p-value**",
    "name": "snpselection1"
   },
   "outputs": [],
   "source": [
    "ghatmat = t(t(xtest) * beta_gwas[,1])\n",
    "ghatmat_pval = ghatmat[,order(pval)]\n",
    "ghatmat_cumsum = t(apply(ghatmat_pval, 1, cumsum))\n",
    "corrs = sapply(1:m, function(i) cor(ytest[,1], ghatmat_cumsum[,i]))\n",
    "\n",
    "reps = 5\n",
    "corrs_rand = replicate(reps, {\n",
    "  ghatmat_pval = ghatmat[,sample(1:m)]\n",
    "  ghatmat_cumsum = t(apply(ghatmat_pval, 1, cumsum))\n",
    "  sapply(1:m, function(i) cor(ytest[,1], ghatmat_cumsum[,i]))\n",
    "})\n",
    "\n",
    "dat = rbind(data.frame(snp=1:m, rep=reps+1, corr=corrs),\n",
    "            melt(corrs_rand) %>% rename(snp=Var1, rep=Var2, corr=value))\n",
    "maxx = which.max(dat$corr[dat$rep==reps+1])\n",
    "maxcor = dat[maxx, 'corr']\n",
    "bestsnp = dat[maxx, 'snp']\n",
    "p_opt = sort(pval)[bestsnp]\n",
    "\n",
    "ggplot(dat, aes(snp, corr, col=as.factor(rep))) +\n",
    "  geom_line() +\n",
    "  geom_hline(yintercept=maxcor, linetype=2) +\n",
    "  geom_vline(xintercept=bestsnp, linetype=3) +\n",
    "  xlab('number of SNPs included in predictor') +\n",
    "  ylab('correlation') +\n",
    "  scale_color_manual(values=c(rep('grey', reps), 'navy')) +\n",
    "  theme(legend.position='none') +\n",
    "  annotate('text', bestsnp, 0, label=paste0('p-value = ', round(p_opt, 2)), hjust=1.1)\n"
   ]
  },
  {
   "cell_type": "markdown",
   "id": "afabf7bd",
   "metadata": {},
   "source": [
    "**The blue line represent predictors based on an increasing number of SNPs, where SNPs are ordered from lowest to highest p-value from left to right. In comparison the grey lines represent predictors based on increasing numbers of SNPs when the SNPs are randomly selected.**\n",
    "\n",
    "As the plot above illustrates, prediction accuracy randomly fluctuates with inclusion of more or fewer SNPs, so selecting a predictor based on the best p-value threshold can lead to inflated estimates of accuracy."
   ]
  },
  {
   "cell_type": "markdown",
   "id": "511b5f42",
   "metadata": {},
   "source": [
    "### Bias-variance tradeoff\n",
    "\n",
    "You would think the words \"bias\" and \"variance\" are already overloaded enough, but in this section they will get yet another set of meanings. From [Wikipedia](https://en.wikipedia.org/wiki/Bias%E2%80%93variance_tradeoff):\n",
    "\n",
    "> In statistics and machine learning, the bias-variance tradeoff (or dilemma) is the problem of simultaneously minimizing two sources of error that prevent supervised learning algorithms from generalizing beyond their training set:\n",
    ">\n",
    "> * The bias is error from erroneous assumptions in the learning algorithm. High bias can cause an algorithm to miss the relevant relations between features and target outputs (underfitting).\n",
    ">\n",
    "> * The variance is error from sensitivity to small fluctuations in the training set. High variance can cause overfitting: modeling the random noise in the training data, rather than the intended outputs."
   ]
  },
  {
   "cell_type": "markdown",
   "id": "ac88bb2b",
   "metadata": {},
   "source": [
    "So that's another perspective on why BLUP predictors are more accurate than GWAS or OLS predictors: BLUP finds the right balance between the simple GWAS model which only considers one SNP at a time, and the complex multiple regression OLS model, which considers all SNPs at the same time without any safeguard against overfitting the data. The heritability quantifies how much error is in the model and therefore how close BLUP can go towards fully conditional OLS effects, without overfitting the data."
   ]
  },
  {
   "cell_type": "code",
   "execution_count": null,
   "id": "4804a6e4",
   "metadata": {
    "fig.cap": "**Model complexity of GWAS, BLUP and multiple regression OLS estimates**",
    "fig.height": 6,
    "fig.width": 6,
    "name": "biasvariance1",
    "tags": [
     "remove_input"
    ]
   },
   "outputs": [],
   "source": [
    "fac = 100\n",
    "lambdas = 10^seq(log10(lambda/fac), log10(lambda*fac), len=20 )\n",
    "dat = data.frame(lambda=lambda,\n",
    "                 type=c('train', 'test'),\n",
    "                 corr=c(sqrt(mean((y - ghat_train_blup)^2)), test=sqrt(mean((ytest - ghat_test_blup)^2))))\n",
    "                 #corr=c(cor(y, ghat_train_blup), test=cor(ytest, ghat_test_blup)))\n",
    "\n",
    "for(lam in lambdas) {\n",
    "  bl = solve(t(x) %*% x + diag(m)*lam ) %*% t(x) %*% y\n",
    "  gh_train = x %*% bl\n",
    "  gh_test = xtest %*% bl\n",
    "  dat = rbind(dat, data.frame(lambda=lam,\n",
    "                              type=c('train', 'test'),\n",
    "                              corr=c(sqrt(mean((y - gh_train)^2)), test=sqrt(mean((ytest - gh_test)^2)))))\n",
    "                              #corr=c(cor(y, gh_train), test=cor(ytest, gh_test))))\n",
    "}\n",
    "dat$type = factor(dat$type, levels=c('train', 'test'))\n",
    "\n",
    "\n",
    "sp = paste(rep(' ', 4), collapse='')\n",
    "ggplot(dat, aes(lambda, corr)) +\n",
    "  geom_line(aes(col=type)) +\n",
    "  geom_point(aes(col=type)) +\n",
    "  scale_x_continuous(trans=trans_new('', function(x) -log10(x), inverse=function(x) 10^-x, log_breaks(base = 10), domain=c(1e-100, Inf))) +\n",
    "  #facet_wrap(~ type, scales='free_y', ncol=1) +\n",
    "  geom_vline(xintercept=lambda, linetype=3) +\n",
    "  ylab('prediction error (RMSE)') +\n",
    "  xlab(expression(paste(atop(atop(lambda,\n",
    "                                  ` ` %<-% 'GWAS (marginal effects)                          BLUP                      OLS (conditional effects)' %->% ` `),\n",
    "                             atop(` ` %<-% 'too simple (high bias, low variance)                     too complex (low bias, high variance)' %->% ` `, ''))))) +\n",
    "  theme(axis.title.x = element_text(size=14))\n",
    "\n"
   ]
  },
  {
   "cell_type": "markdown",
   "id": "7b330b63",
   "metadata": {},
   "source": [
    "**The lowest prediction error in the test set is achieved when the model is neither too simple nor too complex. Note that even at equal values of root mean square error (RMSE), predictions into the training set have much higher accuracy than predictions into the test set.**"
   ]
  },
  {
   "cell_type": "markdown",
   "id": "952c2503",
   "metadata": {},
   "source": [
    "----\n",
    "\n"
   ]
  },
  {
   "cell_type": "markdown",
   "id": "0ef49ab6",
   "metadata": {},
   "source": [
    "## Estimation of variance components"
   ]
  },
  {
   "cell_type": "markdown",
   "id": "22f03190",
   "metadata": {},
   "source": [
    "Our model assumes that the phenotypic variance is composed of a genetic component and the rest (environment + error).\n",
    "\n",
    "$$\\sigma^2_y = \\sigma^2_g + \\sigma^2_e$$\n",
    "\n",
    "In practice, we can only measure $\\sigma^2_y$, and have to estimate the other components. This is equivalent to estimating the heritability (SNP-heritability, but here we don't make this distinction), since\n",
    "\n",
    "$$h^2 = \\frac{\\sigma^2_g}{\\sigma^2_y}$$\n",
    "\n",
    "If we had an infinite sample size, then $\\hat{\\beta}_{j,OLS}$ would be the same as $\\beta_j$ and we could simply estimate $\\sigma^2_g$ as the sum of the variances explained by each SNP:\n",
    "\n",
    "$$\\sigma^2_g = \\sum_j \\beta^{*2}_j var(\\textbf{X}^*_j) = \\sum_j \\beta^2_j$$"
   ]
  },
  {
   "cell_type": "code",
   "execution_count": null,
   "id": "2249547f",
   "metadata": {
    "name": "varcomp1"
   },
   "outputs": [],
   "source": [
    "c(h2, sum(beta^2))"
   ]
  },
  {
   "cell_type": "markdown",
   "id": "b5c96072",
   "metadata": {},
   "source": [
    "We can't do the same with finite sample size OLS estimates of $\\beta$. Even though they are unbiased in the sense that $\\mathbb{E}[\\hat{\\beta}_{OLS} \\mid \\beta] = \\beta$, when we take the square of $\\hat{\\beta}_{OLS}$, it will be inflated by the estimation error, and so the $\\sigma^2_g$ or $h^2$ estimate will be too large:"
   ]
  },
  {
   "cell_type": "code",
   "execution_count": null,
   "id": "202ff5c5",
   "metadata": {
    "name": "varcomp2"
   },
   "outputs": [],
   "source": [
    "c(h2, sum(beta_ols^2))"
   ]
  },
  {
   "cell_type": "markdown",
   "id": "34930375",
   "metadata": {},
   "source": [
    "What if we had infinite sample size GWAS estimates of $\\beta$? We still couldn't estimate $\\sigma^2_g$ as $\\sum_j \\hat{\\beta}^2_{j,GWAS}$, because GWAS estimates are marginal effect estimates, so if two SNPs are in high LD, their effect would be counted twice, whereas OLS estimates are conditional on all other SNPs, so their effect wouldn't be counted twice. In other words, $\\hat{\\beta}_{GWAS}$ is not an unbiased estimator of $\\beta$ (see section about variance of GWAS effects).\n",
    "\n",
    "\n",
    "\n",
    "Another way to look at $h^2$ is as the variance in $y$ that is explained by $g$. For any two variables, the variance explained in one by the other is given by $R^2$, or the squared correlation coefficient. For $g$ and $y$ this is defined as\n",
    "\n",
    "$$ h^2 = R^2_{\\textbf{g},\\textbf{y}} = \\frac{cov^2(\\textbf{g}, \\textbf{y})}{var(\\textbf{g})var(\\textbf{y})} $$\n",
    "\n",
    "$cov(\\textbf{g}, \\textbf{y})$ is the same as $cov(\\textbf{g}, \\textbf{g} + \\textbf{e})$. [Wikipedia](https://en.wikipedia.org/wiki/Covariance#Properties) tells us that this is the same as $cov(\\textbf{g}, \\textbf{g}) + cov(\\textbf{g}, \\textbf{e})$.\n",
    "$cov(\\textbf{g}, \\textbf{g})$ is the same as $var(\\textbf{g})$, and our model assumes that $\\textbf{g}$ and $\\textbf{e}$ are uncorrelated, so $cov(\\textbf{g}, \\textbf{e}) = 0$. Therefore,\n",
    "$$cov(\\textbf{g}, \\textbf{y}) = var(\\textbf{g})$$\n",
    "and the equation above simplifies to\n",
    "\n",
    "$$ h^2 = R^2_{\\textbf{g},\\textbf{y}} = \\frac{var(\\textbf{g})}{var(\\textbf{y})} = \\frac{cov(\\textbf{g}, \\textbf{y})}{var(\\textbf{y})} $$\n",
    "Since the regression slope of $y$ on $x$ is defined as $\\frac{cov(x,y)}{var(x)}$, the heritability is the same as the slope in a regression of $\\textbf{g}$ on $\\textbf{y}$. This is true by definition, but doesn't help us in estimating $h^2$ because we don't know $cov(\\textbf{g}, \\textbf{y})$ any more than we know $var(\\textbf{g})$.\n",
    "\n",
    "However, $var(\\textbf{g})$ can be estimated by looking at close relatives. The first attempt at estimating heritability was a regression of height measurements for a number of individuals on the average height of the parents of those individuals. A problem with this method is that it cannot distinguish between genetic and shared environmental effects. There are many other methods to estimate heritability that are based on close relatives, but here we will focus on methods that utilize unrelated individuals."
   ]
  },
  {
   "cell_type": "markdown",
   "id": "45ff7281",
   "metadata": {},
   "source": [
    "### Variance explained per SNP\n",
    "\n",
    "The genetic variance can be further partitioned into the variances explained by each SNP:\n",
    "\n",
    "$$ var(\\textbf{y}) = var(\\textbf{g}_j + \\textbf{g}_{rest} + \\textbf{e}) = var(\\textbf{X}_j\\beta_j + \\textbf{g}_{rest} + \\textbf{e}) $$"
   ]
  },
  {
   "cell_type": "markdown",
   "id": "18be3451",
   "metadata": {},
   "source": [
    "If we assume that not only $g$ and $e$ are uncorrelated, but also $g_{j1}$ and $g_{j2}$ (which we can, because we assume that all $\\beta_j$ are i.i.d.), then the variance explained by a particular SNP is\n",
    "\n",
    "$$ cor^2(\\textbf{g}_j, \\textbf{y}) = var(\\textbf{g}_j) = var(\\textbf{X}_j\\beta_j) = \\beta^2_j var(\\textbf{X}_j) = \\beta_j^2 = \\beta_j^{*2} \\times 2p_j(1-p_j) $$\n",
    "\n"
   ]
  },
  {
   "cell_type": "markdown",
   "id": "2dae30a2",
   "metadata": {},
   "source": [
    "The next parts present different methods to estimate $h^2$. Haseman-Elston regression and GREML require a GRM and phenotype data, whereas LD score regression requires GWAS effect estimates and LD scores."
   ]
  },
  {
   "cell_type": "markdown",
   "id": "dbc4d319",
   "metadata": {},
   "source": [
    "### Haseman-Elston regression\n",
    "\n",
    "One simple way to estimate $h^2$ is to regress pairwise similarities of phenotypes on pairwise similarities of genotypes. For $N$ individuals, there are $N \\times (N-1)$ such pairs.\n",
    "\n",
    "The genetic similarity for two individuals $i1$ and $i2$ is usually calculated as $\\frac{\\textbf{X}_{i1}\\textbf{X}^\\top_{i2}}{M}$, which are elements of the GRM.\n",
    "\n",
    "There are two versions of HE-regression, with two different ways to calculate the phenotypic similarity. The first is to take the (negative) squared difference between phenotypes in the two individuals $(y_{i1} - y_{i2})^2$, the other is to take the product of the phenotypes ($y_{i1} \\times y_{i2}$)."
   ]
  },
  {
   "cell_type": "code",
   "execution_count": null,
   "id": "31ee7360",
   "metadata": {
    "name": "haseman1"
   },
   "outputs": [],
   "source": [
    "\n",
    "\n",
    "he_regression_v1 = function(A, y) {\n",
    "  # estimates h2\n",
    "  # A: GRM\n",
    "  # y: phenotypes\n",
    "  pairs = t(combn(1:length(y), 2))\n",
    "  phenosim = y[pairs[,1]] * y[pairs[,2]]\n",
    "  genosim = A[lower.tri(A)]\n",
    "  unname(lm(phenosim ~ genosim)$coefficients[2])\n",
    "}\n",
    "\n",
    "he_regression_v2 = function(A, y) {\n",
    "  # estimates h2\n",
    "  # A: GRM\n",
    "  # y: phenotypes\n",
    "  pairs = t(combn(1:length(y), 2))\n",
    "  phenosim = -(y[pairs[,1]] - y[pairs[,2]])^2\n",
    "  genosim = A[lower.tri(A)]\n",
    "  reg = lm(phenosim ~ genosim)$coefficients\n",
    "  unname(-reg[2]/reg[1])\n",
    "}\n",
    "\n",
    "\n",
    "\n",
    "h2_he_prod = he_regression_v1(grm, y)\n",
    "h2_he_diff = he_regression_v2(grm, y)\n",
    "\n",
    "c(h2, h2_he_prod, h2_he_diff)\n"
   ]
  },
  {
   "cell_type": "code",
   "execution_count": null,
   "id": "31243735",
   "metadata": {
    "echo": false,
    "fig.cap": "**Two version of Haseman-Elston regression**",
    "fig.height": 4,
    "fig.width": 8,
    "lines_to_next_cell": 0,
    "name": "haseman2"
   },
   "outputs": [],
   "source": [
    "\n",
    "pairs = t(combn(1:length(y), 2))\n",
    "df = data.frame(g=grm[lower.tri(grm)], p=y[pairs[,1]] * y[pairs[,2]])\n",
    "val = round(he_regression_v1(grm, y), 2)\n",
    "p1 = ggplot(df, aes(g,p)) +\n",
    "  geom_point(alpha=.2, size=.1) +\n",
    "  geom_smooth(method='lm', formula=y~x) +\n",
    "  xlab('genetic similarity') +\n",
    "  ylab('phenotypic similarity') +\n",
    "  annotate('text', Inf, Inf, hjust=1.2, vjust=1.2, label=as.character(paste0(bquote(hat(h^2)~\": \"~ ~.(val)), collapse='')), parse=T)\n",
    "\n",
    "df = data.frame(g=grm[lower.tri(grm)], p=(y[pairs[,1]] - y[pairs[,2]])^2)\n",
    "val = round(he_regression_v2(grm, y), 2)\n",
    "p2 = ggplot(df, aes(g,p)) +\n",
    "  geom_point(alpha=.2, size=.1) +\n",
    "  geom_smooth(method='lm', formula=y~x) +\n",
    "  xlab('genetic similarity') +\n",
    "  ylab('squared phenotypic difference') +\n",
    "  annotate('text', Inf, Inf, hjust=1.2, vjust=1.2, label=as.character(paste0(bquote(hat(h^2)~\": \"~ ~.(val)), collapse='')), parse=T)\n",
    "grid.arrange(p1, p2, ncol=2)"
   ]
  },
  {
   "cell_type": "markdown",
   "id": "2ac59881",
   "metadata": {},
   "source": [
    "### GREML\n",
    "\n",
    "HE regression is quick and simple, but suffers from large standard errors, so the estimates will often not be very accurate. A better way to estimate variance components is through GRM residual maximum likelihood estimation (GREML).\n",
    "\n",
    "GREML directly builds on the phenotype model specified earlier:\n",
    "\n",
    "$$ Var[\\textbf{y}] = \\textbf{V} = \\sigma^2_g \\textbf{A} + \\sigma^2_e \\textbf{I}_N  $$\n",
    "\n",
    "It runs an optimization algorithm finds the values of $\\sigma^2_g$ and $\\sigma^2_e$ that maximize the likelihood of this model. The likelihood of a model with specific parameters ($\\sigma^2_g$ and $\\sigma^2_e$) is defined as the probability of the data ($\\textbf{A}$ and $\\textbf{y}$) under this model :"
   ]
  },
  {
   "cell_type": "markdown",
   "id": "7499e363",
   "metadata": {},
   "source": [
    "$$\\mathcal{L}(\\sigma^2_g, \\sigma^2_e \\mid \\textbf{A}, \\textbf{y}) = P(\\textbf{A}, \\textbf{y} \\mid \\sigma^2_g, \\sigma^2_e)$$\n",
    "\n",
    "Maximizing the likelihood is equivalent to maximizing the logarithm of the likelihood, because the logarithm is a monotonically increasing function. The log likelihood of our model is:\n",
    "\n",
    "$$ log \\mathcal{L}(\\sigma^2_g, \\sigma^2_e \\mid \\textbf{A}, \\textbf{y}) = -\\frac{1}{2}(const + log|\\textbf{V}| + log|\\textbf{1} \\textbf{V}^{-1}\\textbf{1}^\\top| + \\textbf{y}^\\top \\textbf{Py}) $$\n",
    "\n",
    "where $|\\textbf{V}|$ is the determinant of $\\textbf{V}$ and $\\textbf{P}$ is a projection matrix defined as\n",
    "\n",
    "$$ \\textbf{P} = \\textbf{V}^{-1} - \\textbf{V}^{-1}\\textbf{1} (\\textbf{1}^\\top \\textbf{V}^{-1} \\textbf{1})^{-1} \\textbf{1}^\\top \\textbf{V}^{-1} $$\n",
    "\n",
    "Bear in mind that the description here is simplified a lot because we assume that there are no fixed effects.\n",
    "\n",
    "Here, our model only consists of the two variance components $\\sigma^2_g$ and $\\sigma^2_e$, so the likelihood can be visualized as a heat map:"
   ]
  },
  {
   "cell_type": "code",
   "execution_count": null,
   "id": "8c1bfc5d",
   "metadata": {
    "name": "likelihood1"
   },
   "outputs": [],
   "source": [
    "loglikelihood = function(sigma_g, sigma_e, grm, y, reml=TRUE) {\n",
    "  V = sigma_g*grm + sigma_e*diag(nrow(grm))\n",
    "  Vi = solve(V)\n",
    "  if(reml) {\n",
    "    P = Vi - (colSums(Vi) %*% t(colSums(Vi))) / sum(Vi)\n",
    "  } else {\n",
    "    P = Vi\n",
    "  }\n",
    "  -0.5*(log(det(V)) + log(sum(Vi)) + t(y) %*% P %*% y)\n",
    "}"
   ]
  },
  {
   "cell_type": "code",
   "execution_count": null,
   "id": "616d3887",
   "metadata": {
    "fig.cap": "**The log likelihood function as a heat map**",
    "fig.height": 4,
    "fig.width": 6,
    "name": "likelihood2",
    "tags": [
     "remove_input"
    ]
   },
   "outputs": [],
   "source": [
    "# resolution = 300\n",
    "resolution = 50\n",
    "params = expand.grid(seq(0.001,.999,len=resolution), seq(0.001,.999,len=resolution))\n",
    "if(file.exists('ll.RData')) {\n",
    "  load('ll.RData')\n",
    "} else {\n",
    "  ll = data.frame(params, Vectorize(loglikelihood, vectorize.args=c('sigma_g', 'sigma_e'))(params[,1], params[,2], grm, y, reml=TRUE))\n",
    "}\n",
    "names(ll) = c('sigma_g', 'sigma_e', 'log_likelihood')\n",
    "ll$log_likelihood[!is.finite(ll$log_likelihood)] = NA\n",
    "\n",
    "mypal = colorRampPalette(brewer.pal(11, \"Spectral\"))(20)\n",
    "heat = ggplot(ll, aes(sigma_g, sigma_e, fill=log_likelihood)) + geom_tile() +\n",
    "  scale_fill_gradientn(colours=rep(rev(mypal), (length(mypal):1)^2),\n",
    "                       limits=c(min(ll$log_likelihood, na.rm=TRUE), max(ll$log_likelihood, na.rm=TRUE))) +\n",
    "  xlab(expression(sigma[g]^2)) + ylab(expression(sigma[e]^2)) +\n",
    "  coord_cartesian(xlim=c(0,1), ylim=c(0,1), expand=FALSE) +\n",
    "  geom_point(data=data.frame(sigma_g=h2, sigma_e=1-h2, log_likelihood=NA), pch=3, col='white', fill='white')\n",
    "heat"
   ]
  },
  {
   "cell_type": "markdown",
   "id": "790a07c2",
   "metadata": {},
   "source": [
    "To find the values of $\\sigma^2_g$ and $\\sigma^2_e$ that maximize the log likelihood function, we can use the Newton optimization method. This method requires first order and second order derivatives of the likelihood function to iteratively calculate $\\delta$ values, so that the new estimates $\\sigma^2_g + \\delta_g$ and $\\sigma^2_e + \\delta_e$ have a higher likelihood than the present estimates $\\sigma^2_g$ and $\\sigma^2_e$.\n",
    "\n",
    "The computation of the second order derivative matrix (the Hessian matrix) is expensive, but it can be approximated by the average information matrix, which is why the procedure below is called the average information (AI) algorithm.\n",
    "\n",
    "The difference between REML and normal maximum likelihood estimation lies in the definition of the likelihood function. When using the normal maximum likelihood function, the inclusion of fixed effects will lead to biased estimates of the variance components. Since we don't model any fixed effects here, we wouldn't see a big difference here between ML and REML.\n",
    "\n",
    "Below is a very simple example of this method based on stripped down GCTA code, which uses the average information algorithm for optimization. It iteratively updates estimates of $\\sigma^2_g$ and $\\sigma^2_e$ until it converges (or until this case, for a fixed number of iterations)."
   ]
  },
  {
   "cell_type": "code",
   "execution_count": null,
   "id": "0f068575",
   "metadata": {
    "lines_to_next_cell": 2,
    "name": "reml1"
   },
   "outputs": [],
   "source": [
    "\n",
    "greml = function(A, y, varcmp=c(.95, .05), itermax=25) {\n",
    "  # estimates g and e variance components\n",
    "  # A: GRM\n",
    "  # y: phenotypes\n",
    "  out = varcmp\n",
    "  for(iter in 1:itermax) {\n",
    "    V = varcmp[1]*A + varcmp[2]*diag(nrow(A))\n",
    "    Vi = solve(V)\n",
    "    P = Vi - (colSums(Vi) %*% t(colSums(Vi))) / sum(Vi)\n",
    "    \n",
    "    Py = P %*% y\n",
    "    APy = A %*% Py\n",
    "    PPy = P %*% Py\n",
    "    \n",
    "    H = diag(2)\n",
    "    H[1,1] = t(APy) %*% P %*% APy\n",
    "    H[2,2] = t(Py) %*% PPy\n",
    "    H[1,2] = H[2,1] = t(APy) %*% PPy\n",
    "    Hi = solve(H + diag(2)*1e-6)\n",
    "    \n",
    "    R1 = t(Py) %*% APy - sum(P * A)\n",
    "    R2 = t(Py) %*% Py - sum(diag(P))\n",
    "    \n",
    "    delta = Hi %*% c(R1, R2)\n",
    "    varcmp = varcmp + 0.316*delta\n",
    "    varcmp = pmax(1e-3, varcmp) # avoid negative var component\n",
    "    out = rbind(out, varcmp)\n",
    "      \n",
    "    cat(paste0('Iteration ', iter, ': sigma_g = ', round(varcmp[1], 3),\n",
    "               ', sigma_e = ', round(varcmp[2], 3),\n",
    "               ', h2 = ', round(varcmp[1]/sum(varcmp), 3), '\\n' ))\n",
    "  }\n",
    "  colnames(out) = c('sigma_g', 'sigma_e')\n",
    "  out\n",
    "}\n",
    "\n",
    "varcmp = greml(grm, y)\n"
   ]
  },
  {
   "cell_type": "code",
   "execution_count": null,
   "id": "1e9e8af6",
   "metadata": {
    "fig.cap": "**GREML finds the maximum in the log likelihood function**",
    "fig.height": 4,
    "fig.width": 6,
    "name": "reml2"
   },
   "outputs": [],
   "source": [
    "dat = data.frame(varcmp, log_likelihood=mean(ll[,3],na.rm=TRUE),\n",
    "                 step=1:nrow(varcmp), row.names=NULL)\n",
    "val = round(varcmp[nrow(varcmp), 1]/sum(varcmp[nrow(varcmp),]), 2)\n",
    "heat + geom_point(data=dat[1:(nrow(dat)-10),], size=.5) +\n",
    "  geom_path(data=dat,\n",
    "            aes(sigma_g, sigma_e), colour='grey20', size=.1,\n",
    "            arrow = arrow(angle = 25, ends = \"last\", type = \"closed\", length=unit(5, 'mm'))) +\n",
    "  annotate('text', -Inf, Inf, hjust=-.2, vjust=1.2,\n",
    "           label=as.character(paste0(bquote(hat(h^2)~\": \"~ ~.(val)), collapse='')), parse=T)"
   ]
  },
  {
   "cell_type": "markdown",
   "id": "0bddb5e6",
   "metadata": {},
   "source": [
    "### LD score regression\n",
    "\n",
    "We have previously stated that the variance of $\\hat{\\beta}_{j,GWAS}$ can be approximated as\n",
    "\n",
    "$$var(\\hat{\\beta}_{j,GWAS}) = l_j \\frac{h^2}{M} + \\frac{1}{N}$$\n",
    "Because $var(X) = \\mathbb{E}[X^2] - (\\mathbb{E} [X])^2$ and $\\mathbb{E} [\\hat{\\beta}_{j,GWAS}] = 0$, $var(\\hat{\\beta}_{j,GWAS}) = \\mathbb{E} [\\hat{\\beta}^2_{j,GWAS}]$ and so\n",
    "\n",
    "$$\\mathbb{E} [\\hat{\\beta}^2_{j,GWAS}] = l_j \\frac{h^2}{M} + \\frac{1}{N}$$\n",
    "\n",
    "Since $\\hat{\\chi}^2_j = \\hat{z}_j^2 = N \\hat{\\beta}^2_{j,GWAS}$, it follows that\n",
    "\n",
    "$$\\mathbb{E}[\\chi^2_j] = \\frac{N h^2}{M} l_j + 1$$\n",
    "\n"
   ]
  },
  {
   "cell_type": "markdown",
   "id": "4282422f",
   "metadata": {},
   "source": [
    "Intuitively, this is because GWAS estimates are marginal effect estimates and this means that SNPs in high LD will have similar effect estimates, even if their true effect sizes are very different. A single large effect SNP within a group of correlated SNPs can give each of the correlated SNPs a large effect estimate. If a SNP is in high LD with many other SNPs, its chances of picking up the signal of another SNP are increased. This means that a SNP's LD score should be correlated to its GWAS effect estimate, and the correlation should be proportional to the heritability of the trait in question.\n",
    "\n"
   ]
  },
  {
   "cell_type": "markdown",
   "id": "6cf68c62",
   "metadata": {},
   "source": [
    "From this it follows that $h^2$ can be estimated as the slope in a regression of $\\hat{\\chi}^2_j$ on $l_j$:\n",
    "\n",
    "$$\\hat{h^2} = \\frac{cov(\\hat{\\boldsymbol{\\chi}}^2, \\boldsymbol{l})}{var(\\boldsymbol{l})} \\frac{M}{N}$$"
   ]
  },
  {
   "cell_type": "markdown",
   "id": "9f775dd2",
   "metadata": {},
   "source": [
    "What is not shown here, is that the intercept in this regression is informative as well, because it will be higher when the effect estimates are inflated due to population stratification rather than real effects.\n",
    "\n",
    "The regression estimate can be made more efficient by constraining the intercept (if we assume there is no population stratification) and by weighting the regression by the inverse of the LD scores.\n"
   ]
  },
  {
   "cell_type": "code",
   "execution_count": null,
   "id": "3bd97b44",
   "metadata": {
    "name": "ldsc0"
   },
   "outputs": [],
   "source": [
    "ldsc = function(ldscores, beta_gwas, n) {\n",
    "  m = length(ldscores)\n",
    "  chi2 = beta_gwas^2 * n\n",
    "  summary(lm(chi2-1 ~ ldscores + 0, weights=1/ldscores))$coefficients[1,1] * m/n\n",
    "}\n",
    "\n",
    "ldsc(ldscores, beta_gwas, n)\n",
    "ldsc(ldscoresld, beta_gwasld, n)"
   ]
  },
  {
   "cell_type": "markdown",
   "id": "70735383",
   "metadata": {},
   "source": [
    "This probably didn't give a great estimates of heritability, because this is based on a very small sample size, and in the first case, almost no variance among the LD scores for different SNPs. Let's try it again with a larger data set with LD:\n",
    "\n"
   ]
  },
  {
   "cell_type": "code",
   "execution_count": null,
   "id": "8e75aee9",
   "metadata": {
    "name": "ldsc1"
   },
   "outputs": [],
   "source": [
    "\n",
    "mm = 20000\n",
    "nn = 5000\n",
    "mmunique = sqrt(mm*2)\n",
    "maf_block = runif(mmunique, 0, .5)\n",
    "x012_block = t(replicate(nn, rbinom(2*mmunique, 2, c(maf_block, maf_block))))\n",
    "polymorphic = apply(x012_block, 2, var) > 0\n",
    "x012_block = x012_block[,polymorphic][,1:mmunique]\n",
    "maf_block = c(maf_block, maf_block)[polymorphic][1:mmunique]\n",
    "\n",
    "# create haplotype blocks, so there is some variance in ld-scores\n",
    "x012_block = jitter(x012_block[,rep(1:mmunique,1:mmunique)[1:mm]], .4)\n",
    "x_block = scale(x012_block)\n",
    "\n",
    "# we can approximate ld-scores from how we simulated LD\n",
    "ldscores_block = rep(1:mmunique,1:mmunique)[1:mm]\n",
    "\n",
    "m_block = ncol(x_block)\n",
    "beta_block = rnorm(m_block, 0, sqrt(h2/m_block))\n",
    "g_block = x_block %*% beta_block\n",
    "y_block = g_block + rnorm(nn, 0, sqrt(1-h2))\n",
    "\n",
    "beta_gwas_block = t(x_block) %*% y_block / nn\n",
    "\n",
    "h2_est = ldsc(ldscores_block, beta_gwas_block, nn)\n",
    "h2_est"
   ]
  },
  {
   "cell_type": "markdown",
   "id": "2b407d9f",
   "metadata": {},
   "source": [
    "This should be closer to the true value of $h^2$. While this may not be as precise as the estimates from the other methods, LD score regression has the advantage of requiring only summary statistics data (effect estimates), not individual level genotype data. The LD scores can be estimated in a reference population.\n"
   ]
  },
  {
   "cell_type": "code",
   "execution_count": null,
   "id": "b36ce3ee",
   "metadata": {
    "fig.cap": "**LD score regression visualized**",
    "fig.height": 4,
    "fig.width": 8,
    "name": "ldsc2"
   },
   "outputs": [],
   "source": [
    "\n",
    "chi2 = beta_gwas_block^2 * nn\n",
    "sl = summary(lm(chi2-1 ~ ldscores_block + 0, weights=1/ldscores_block))$coefficients[1,1]\n",
    "\n",
    "dat = data.frame(x=ldscores_block, y=chi2,\n",
    "                 gr=cut(ldscores_block, seq(min(ldscores_block), max(ldscores_block), length=30)))\n",
    "dat_groupmean = group_by(dat, gr) %>% summarise(x=mean(x), y=mean(y))\n",
    "\n",
    "val = round(h2_est, 2)\n",
    "layers = list(geom_abline(intercept=1, slope=sl, col='blue', size=1.0),\n",
    "              xlab('LD scores'),\n",
    "              ylab(expression(Chi^2)),\n",
    "              scale_colour_continuous(low='black', high='green'),\n",
    "              theme(legend.position = 'none'),\n",
    "              annotate('text', -Inf, Inf, hjust=-.2, vjust=1.2,\n",
    "                       label=as.character(paste0(bquote(hat(h^2)~\": \"~ ~.(val)),\n",
    "                                                 collapse='')), parse=T))\n",
    "p1 = ggplot(dat, aes(x, y, col=x)) + geom_point(size=.01) + layers\n",
    "p2 = ggplot(dat_groupmean, aes(x, y, col=x)) + geom_point() + layers\n",
    "\n",
    "grid.arrange(p1, p2, ncol=2)\n"
   ]
  },
  {
   "cell_type": "markdown",
   "id": "4d1effc3",
   "metadata": {},
   "source": [
    "**The left panel shows the LD score regression for all SNPs. The right panel groups SNPs by LD score and shows the mean $\\chi^2$ value in each bin.**"
   ]
  }
 ],
 "metadata": {
  "jupytext": {
   "cell_metadata_filter": "fig.cap,fig.height,tags,webgl,name,echo,rgl,fig.width,-all",
   "main_language": "R",
   "notebook_metadata_filter": "-all"
  },
  "kernelspec": {
   "display_name": "R",
   "language": "R",
   "name": "ir"
  },
  "language_info": {
   "codemirror_mode": "r",
   "file_extension": ".r",
   "mimetype": "text/x-r-source",
   "name": "R",
   "pygments_lexer": "r",
   "version": "4.2.3"
  }
 },
 "nbformat": 4,
 "nbformat_minor": 5
}
