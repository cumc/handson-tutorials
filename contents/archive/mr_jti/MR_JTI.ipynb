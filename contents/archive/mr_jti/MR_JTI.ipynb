{
 "cells": [
  {
   "cell_type": "markdown",
   "id": "e1d98372-0bdc-4523-9d0a-07306b1305bd",
   "metadata": {
    "kernel": "SoS",
    "tags": []
   },
   "source": [
    "# Multivariate TWAS using joint-tissue imputation with Mendelian Randomization"
   ]
  },
  {
   "cell_type": "markdown",
   "id": "041e63d2-6792-47c8-b57a-8476816985f3",
   "metadata": {
    "kernel": "SoS",
    "tags": []
   },
   "source": [
    "## Introduction\n",
    "\n",
    "This notebook shows the workflow for `MR.MASH`, which utilizes imputation to perform trait prediction according to multi-tissue relationship gene expression. `MR.MASH` acheives a higher prediction accuracy by leveraging multi-tissue information and also performes Causal Inference on trait and gene expression.\n",
    "\n",
    "> \n",
    "\n",
    "We use data previously contributed to this course by Dr. Dan Zhou from Eric R. Gamazon's lab. For those interested in alternative multivariate TWAS methods, you may find the following references helpful. \n",
    "\n",
    "> Zhou, Dan, et al. \"A unified framework for joint-tissue transcriptome-wide association and Mendelian randomization analysis.\" Nature Genetics (2020)\n",
    "\n",
    "> Alvaro N., et al. \"Exploring the phenotypic consequences of tissue specific gene expression variation inferred from GWAS summary statistics.\" Nature communications (2018)\n",
    "\n",
    "> Gamazon, Eric R., et al. \"A gene-based association method for mapping traits using reference transcriptome data.\" Nature genetics (2015)"
   ]
  },
  {
   "cell_type": "markdown",
   "id": "fea83ca1-1446-4d20-b40d-dc44fee19554",
   "metadata": {
    "kernel": "SoS",
    "tags": []
   },
   "source": [
    "## Analysis outline\n",
    "\n",
    "1. Build multi-tissue gene expression prediction model \n",
    "2. Imputation / prediction of gene expression for each tissue\n",
    "3. Perform association testing with imputed expression for each tissue\n",
    "4. Causal Inference between Trait and imputed Gene Expression\n",
    "\n",
    "## Step 1: Prediction model training (Joint-Tissue Imputation, JTI)\n",
    "\n",
    "## 1. Input files preparing\n",
    "### 1.1 Genotype data preparing (similar with GWAS)\n",
    "QC and filtering: MAF, HWE, call rate, R2(imputation quality), etc.\n",
    "\n",
    "Example file: `jti_example_geno.bed/bim/fam`\n",
    "\n",
    "### 1.2 Expression data preparing\n",
    "Expression normalization and residualization (age, gender, PCs, PEERs, etc.)\n",
    "\n",
    "Example file: `jti_example_exp.txt`\n",
    "\n",
    "### 1.3 Tissue-tissue similarity estimation\n",
    "Expression, DHS, etc.\n",
    "\n",
    "Example file: `jti_example_exp.txt`\n",
    "\n",
    "### 1.4 Gene annotation file\n",
    "An annotation \n",
    "\n",
    "Example file: `gencode.v32.GRCh37.txt`\n",
    "\n",
    "## 2. Software and input Options\n",
    "### 2.1 Script\n",
    "https://github.com/gamazonlab/MR-JTI/blob/master/model_training/JTI/JTI.r\n",
    "\n",
    "### 2.2 Input Options\n",
    "* `--tissue`, target tissue name \n",
    "* `--geneid`, gene id The ENSG gene ID. Provide the real ENSG gene ID which will be used to find the chromosome and position for the gene.\n",
    "* `--genotype_path`, Genotype file in plink bfile format `.bed/.bim/.fam`, used for data preprocessing in QC, filtering, calculating MAF, call rate, and R-sq,\n",
    "it contains a snp matrix for snp name and family information. The example file here is like:  {genotype_path}.bed/fam/bim\n",
    "\n",
    "      jti_example_geno.bed\n",
    "      jti_example_geno.bim\n",
    "      jti_example_geno.fam\n",
    "* `--expression_path`, expression data that will be used to normalize and residulize for age, gender, PCs, PEERs, and so on. It contains tissue name, sample id and expression level\n",
    "* `--gencode_path`, gene annotation file in .txt format, includes each gene's gene id, name, strand and so on. We use the colum 'geneid' as the list to iterate our workflow through all the genes.\n",
    "* `--plink_path`, the path to plink software. It's been implanted in the docker image.\n",
    "\n",
    "## 3. An usage example\n",
    "\n",
    "Let do the Joint-Tissue Imputation for tissue \"Adipose_Subcutaneous\" and gene \"ENSG00000182957\""
   ]
  },
  {
   "cell_type": "code",
   "execution_count": null,
   "id": "76e6d618-5596-4f1f-9e09-b5e5d9c35d01",
   "metadata": {
    "kernel": "Bash",
    "tags": []
   },
   "outputs": [],
   "source": [
    "mkdir result"
   ]
  },
  {
   "cell_type": "code",
   "execution_count": null,
   "id": "af14ce26-54b1-4b7c-9bc5-9f6e934f0280",
   "metadata": {
    "kernel": "Bash"
   },
   "outputs": [],
   "source": [
    "Rscript /opt/MR_JTI/JTI.r \\\n",
    "    --tissue Adipose_Subcutaneous \\\n",
    "    --geneid ENSG00000182957 \\\n",
    "    --genotype_path data/jti_example_geno \\\n",
    "    --expression_path data/jti_example_exp.txt \\\n",
    "    --gencode_path data/gencode.v32.GRCh37.txt \\\n",
    "    --tmp_folder tmp \\\n",
    "    --plink_path /usr/local/bin/plink \\\n",
    "    --out_path result"
   ]
  },
  {
   "cell_type": "markdown",
   "id": "b322b191-ee69-40da-9ed8-9cd2f538b995",
   "metadata": {
    "kernel": "Bash"
   },
   "source": [
    "## 4. Output\n",
    "\n",
    "The output file (weight file) `{out_path}/{_geneid}_{tissue}.txt`contains the following columns\n",
    "* gene: geneid\n",
    "* rsid: snpid\n",
    "* chr_bp: chromosome_position\n",
    "* ref_allele: reference allele (uncounted allele when generating the dosage file.)\n",
    "* counted_allele: counted_allele (counted allele when generating the dosage file.)\n",
    "* weight: weight for each counted allele\n",
    "* r2: cross-validation r2. The square of the correlation between the predicted and observed expression levels.\n",
    "* p: cross-validation p-value. The significance of the correlation test (correlation between the predicted and observed expression levels)\n",
    "* lambda: The final hyperparameter."
   ]
  },
  {
   "cell_type": "code",
   "execution_count": null,
   "id": "0de8785a-1ded-4650-a326-d247674152e3",
   "metadata": {
    "kernel": "Bash"
   },
   "outputs": [],
   "source": [
    "cat result/ENSG00000182957_Adipose_Subcutaneous.txt"
   ]
  },
  {
   "cell_type": "markdown",
   "id": "cb276d4d-0772-4228-9c6e-b8a4aa585d71",
   "metadata": {
    "kernel": "Bash"
   },
   "source": [
    "## Step 2: Association test\n",
    "\n",
    "MetaXcan is concerned with obtaining gene-level association tests from ordinary GWAS data. Let's use MetaXcan to do a summary statistics based gene-level association test\n",
    "\n",
    "## 1. Input files\n",
    "### 1.1 Prediction model\n",
    "Prediction model includes the genetic variants and their effect allele, reference allele, and weight. It usually packaged into SQLitle file with postfix ‘.db’.\n",
    "\n",
    "Example file `JTI_Liver.db`\n",
    "https://zenodo.org/record/3842289/files/JTI_Liver.db\n",
    "\n",
    "Connect to a local SQLitle database like this"
   ]
  },
  {
   "cell_type": "code",
   "execution_count": null,
   "id": "1f85ad03-631e-4113-987a-5f2f475a013a",
   "metadata": {
    "kernel": "R",
    "tags": []
   },
   "outputs": [],
   "source": [
    "library(RSQLite)\n",
    "con <- dbConnect(RSQLite::SQLite(), dbname='data/JTI_Liver.db')             #establish connections\n",
    "dbListTables(con)  #datasets\n",
    "dbListFields(con, 'weights')   #cols\n",
    "weights = dbReadTable(con,\"weights\")\n",
    "dbDisconnect(con) #disconnect"
   ]
  },
  {
   "cell_type": "markdown",
   "id": "c1d340eb-38f6-4f76-87c0-0c0878748644",
   "metadata": {
    "kernel": "R"
   },
   "source": [
    "### 1.2 SNP-SNP covariance matrix\n",
    "SNP-SNP covariance matrix is always estimated from a reference dataset (e.g., 1000g, GTEx). The covariance matrix is needed for association test using GWAS summary statistics.\n",
    "\n",
    "Example file `JTI_Liver.txt.gz`\n",
    "https://zenodo.org/record/3842289/files/JTI_Liver.txt.gz\n",
    "\n",
    "\n",
    "### 1.3 Pre-trained prediction models\n",
    "https://zenodo.org/record/3842289\n",
    "\n",
    "\n",
    "### 1.4 GWAS summary statistics\n",
    "For each variant, the rsid, effect allele, reference allele, estimated effect size (beta) and its standard error are needed. Z-score, p-value, and se are convertible from one to the others.\n",
    "\n",
    "Example file `LDLq.txt.gz`\n",
    "(GWAS for LDL-C from UK Biobank, generated by Ben Neale Lab http://www.nealelab.is/uk-biobank)\n",
    "Dropbox link: https://www.dropbox.com/sh/i9elg3m4wav4o5g/AAABdxZbVyBclbfa_1KKVftDa?dl=0\n",
    "\n",
    "\n",
    "### 1.5 Individual level genotype data, phenotype data, and covariates\n",
    "The genotype file should be converted to dosage format (coded as 0, 1, 2). Covariates may include age, gender, PCs, batch, etc.\n",
    "\n",
    "Example file `jti_example_geno.bed/bim/fam`(1000g project phase 1, 1.2Gb)\n",
    "https://www.dropbox.com/s/k9ptc4kep9hmvz5/1kg_phase1_all.tar.gz\n",
    "\n",
    "use the following command to covert the binary file to dosage format.\n",
    "Reference: https://github.com/hakyimlab/PrediXcan"
   ]
  },
  {
   "cell_type": "code",
   "execution_count": null,
   "id": "796f6e39-8233-4eec-b3ed-35447c1b752f",
   "metadata": {
    "kernel": "Bash",
    "tags": []
   },
   "outputs": [],
   "source": [
    "plink --bfile data/jti_example_geno --recode A --out result/dosage"
   ]
  },
  {
   "cell_type": "markdown",
   "id": "4be5ed0a-9d52-4f6c-83cc-8598a4d0bdf2",
   "metadata": {
    "kernel": "Bash"
   },
   "source": [
    "## 2. Software and input Options\n",
    "### 2.1 Script\n",
    "https://github.com/hakyimlab/MetaXcan/tree/v0.5.0/software/MetaXcan.py\n",
    "\n",
    "### 2.2 Input Options\n",
    "\n",
    "* `--model_db_path` Path to tissue transriptome model\n",
    "* `--covariance` Path to file containing covariance information. This covariance should have information related to the tissue transcriptome model.\n",
    "* `--gwas_folder` Folder containing GWAS summary statistics data.\n",
    "* `--beta_column` Tells the program the name of a column containing -phenotype beta data for each SNP- in the input GWAS files.\n",
    "* `--pvalue_column `Tells the program the name of a column containing -PValue for each SNP- in the input GWAS files.\n",
    "* `--output_file` Path where results will be saved to.\n",
    "\n",
    "## 3. An example running"
   ]
  },
  {
   "cell_type": "code",
   "execution_count": null,
   "id": "0b7a1360-74b0-4820-bdbf-54557982ad5f",
   "metadata": {
    "kernel": "Bash"
   },
   "outputs": [],
   "source": [
    "python /opt/MR_JTI/MetaXcan/software/MetaXcan.py \\\n",
    "    --model_db_path data/JTI_Liver.db \\\n",
    "    --covariance data/JTI_Liver.txt.gz \\\n",
    "    --gwas_file data/LDLq.txt.gz \\\n",
    "    --snp_column rsid \\\n",
    "    --effect_allele_column eff_allele \\\n",
    "    --non_effect_allele_column ref_allele \\\n",
    "    --beta_column beta \\\n",
    "    --se_column se \\\n",
    "    --output_file result/LDLq_JTI_Liver.csv"
   ]
  },
  {
   "cell_type": "markdown",
   "id": "c2d70739-7937-461a-a7bf-e0394f9b9db8",
   "metadata": {
    "kernel": "Bash"
   },
   "source": [
    "### Output\n",
    "The output file `{out_path}/{trait}_{model}_{tissue}.csv`contains the following columns\n",
    "* gene: a gene's id: as listed in the Tissue Transcriptome model. Ensemble Id for some, while some others (mainly DGN Whole Blood) provide Genquant's gene name\n",
    "* gene_name: gene name as listed by the Transcriptome Model, generally extracted from Genquant\n",
    "* zscore: MetaXcan's association result for the gene\n",
    "* effect_size: MetaXcan's association effect size for the gene\n",
    "* pvalue: P-value of the aforementioned statistic.\n",
    "* pred_perf_r2: R2 of tissue model's correlation to gene's measured transcriptome (prediction performance)\n",
    "* pred_perf_pval: pval of tissue model's correlation to gene's measured transcriptome (prediction performance)\n",
    "* pred_perf_qval: qval of tissue model's correlation to gene's measured transcriptome (prediction performance)\n",
    "* n_snps_used: number of snps from GWAS that got used in MetaXcan analysis\n",
    "* n_snps_in_cov: number of snps in the covariance matrix\n",
    "* n_snps_in_model: number of snps in the model\n",
    "* var_g: variance of the gene expression, calculated as W' * G * W (where W is the vector of SNP weights in a gene's model, W' is its transpose, and G is the covariance matrix)\n",
    "\n",
    "Show the top 10 genes in the MetaXcan's association test"
   ]
  },
  {
   "cell_type": "code",
   "execution_count": null,
   "id": "cb2faa74-0b05-4ecf-9a10-b55e948a6361",
   "metadata": {
    "kernel": "R",
    "tags": []
   },
   "outputs": [],
   "source": [
    "asso_stat = read.csv(\"result/LDLq_JTI_Liver.csv\", header = T) \n",
    "head(asso_stat,10)"
   ]
  },
  {
   "cell_type": "markdown",
   "id": "baecb60b-e6ec-478c-b3ca-5452517957fa",
   "metadata": {
    "kernel": "Bash"
   },
   "source": [
    "## Step 3: Mendelian Randomization (MR-JTI)\n",
    "\n",
    "### 1. Input files\n",
    "A dataframe of GWAS and eQTL summary statistics from step 2\n",
    "\n",
    "Example file `mrjti_example.txt`\n",
    "https://github.com/gamazonlab/MR-JTI/blob/master/mr/mrjti_example.txt\n",
    "\n",
    "\n",
    "## 2. Software and packages for this step\n",
    "### 2.1 Script\n",
    "https://github.com/gamazonlab/MR-JTI/blob/master/mr/MR-JTI.r\n",
    "\n",
    "### 2.3 Input options\n",
    "* `--df_path`, Path to dataframe of GWAS and eQTL summary statistics. This input file contains six elements, as listed below (The headers are required)\n",
    "    * rsid: rsid. SNPs need to be clumped (plink --clump) before running MR-JTI. \n",
    "    * effect_allele: The effect allele. Harmonization needs to be performed to make sure the effect alleles of eQTL and GWAS are correctly aligned.\n",
    "    * ldscore: The LD score of each SNP. GCTA could be used to generate LD score based on reference dataset (e.g. 1000g, GTEx). gcta64 --bfile test --ld-score --ld-wind 1000 --ld-rsq-cutoff 0.01 --out test\n",
    "    * eqtl_beta: the marginal effect of SNP. Available on GTEx portal\n",
    "    * eqtl_se: SE of eQTL effect size\n",
    "    * eqtl_p: eQTL p-value\n",
    "    * gwas_beta: GWAS effect size\n",
    "    * gwas_p: GWAS p-value\n",
    "* `--n_genes` Total number of genes tested (Bonferroni correction will be applied). n_genes=1 denotes user requires only nominal significance level (i.e., p<0.05 will be considered as significant). \n",
    "* `--out_path` Output path. \n",
    "\n",
    "\n",
    "## 3. A typical run"
   ]
  },
  {
   "cell_type": "code",
   "execution_count": null,
   "id": "8e85043f-c21e-4462-8706-ccdaed66dd1c",
   "metadata": {
    "kernel": "Bash"
   },
   "outputs": [],
   "source": [
    "Rscript  /opt/MR_JTI/MR-JTI.r \\\n",
    "    --df_path data/mrjti_example.txt \\\n",
    "    --n_genes 1 \\\n",
    "    --out_path result/mrjti_example.csv"
   ]
  },
  {
   "cell_type": "markdown",
   "id": "d23d53e2-454a-4fe6-930d-3a7bdda3c9d4",
   "metadata": {
    "kernel": "Bash"
   },
   "source": [
    "### Output\n",
    "MR-JTI generates the upper and lower estimates of the gene's effect on GWAS trait as well as the heterogeneity estimates.\n",
    "\n",
    "The output file `{out_path}/*.csv` contains the following columns\n",
    "* variable: Variables including the gene's effect and the heterogeneity effects\n",
    "* beta: Point estimate of the effect size\n",
    "* beta_CI_lower: Bonferroni adjusted confidence interval (CI), lower\n",
    "* beta_CI_upper: Bonferroni adjusted CI, upper\n",
    "* CI_significance: Significant if the CI does not overlap the null hypothesis (i.e., 0)."
   ]
  },
  {
   "cell_type": "code",
   "execution_count": null,
   "id": "459e9c32-fb05-40bd-9265-3eec68532638",
   "metadata": {
    "kernel": "R",
    "tags": []
   },
   "outputs": [],
   "source": [
    "mrjti_stat = read.csv(\"result/mrjti_example.csv\", header = T) \n",
    "head(mrjti_stat)"
   ]
  },
  {
   "cell_type": "code",
   "execution_count": null,
   "id": "93267ad8-a18c-41ca-8d51-e46ac3c35991",
   "metadata": {
    "kernel": "R",
    "tags": []
   },
   "outputs": [],
   "source": [
    "mrjti_stat[mrjti_stat$CI_significance==\"sig\",]"
   ]
  },
  {
   "cell_type": "markdown",
   "id": "5d43069d-3090-48ba-9b6e-ed13c47891b3",
   "metadata": {
    "kernel": "Bash"
   },
   "source": [
    "Note: MR-JTI performs causal inference by modeling the heterogeneity (extra effect) which mainly due to horizontal pleiotropy and unobserved confounding factors. The output of 'CI_significant' tells you whether it is significant ('sig' or 'nonsig'). Here, the significance is not defined by p-value but by the confidence interval (CI) estimated from the bootstrap in a non-parametric way. The Bonferroni-adjusted CI includes 0 mean not significant. 'Bonferroni-adjusted CI' means, when 100 genes were tested, 1-0.05/100 CI (99.95% CI) is applied.\n",
    "\n",
    "The significance of \"expression\" (2nd row in result file) is the primary result of MR-JTI, indicating the significance of the causality between the gene expression and trait.The ld-score is considered as a covariate here.\n",
    "\n",
    "The significance for each IV (SNP) indicates whether the 'extra effect' of the IVs is significantly different from 0. The 'extra effect' denotes the effect from IV to trait but not mediated by the target gene's expression."
   ]
  }
 ],
 "metadata": {
  "kernelspec": {
   "display_name": "SoS",
   "language": "sos",
   "name": "sos"
  },
  "language_info": {
   "codemirror_mode": "sos",
   "file_extension": ".sos",
   "mimetype": "text/x-sos",
   "name": "sos",
   "nbconvert_exporter": "sos_notebook.converter.SoS_Exporter",
   "pygments_lexer": "sos"
  },
  "sos": {
   "kernels": [
    [
     "Bash",
     "Bash",
     "#E6EEFF",
     ""
    ],
    [
     "R",
     "ir",
     "R",
     "#DCDCDA",
     ""
    ]
   ],
   "version": "0.24.3"
  }
 },
 "nbformat": 4,
 "nbformat_minor": 5
}
