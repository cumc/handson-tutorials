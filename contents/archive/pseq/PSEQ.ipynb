{
 "cells": [
  {
   "cell_type": "markdown",
   "metadata": {
    "kernel": "SoS"
   },
   "source": [
    "# Association Analysis of Sequence Data using PLINK/SEQ (PSEQ)\n",
    "\n",
    "Copyright (c) 2019 Stanley Hooker, Biao Li, Di Zhang and Suzanne M. Leal"
   ]
  },
  {
   "cell_type": "markdown",
   "metadata": {
    "kernel": "SoS"
   },
   "source": [
    "**Purpose**\n",
    "\n",
    "PLINK/SEQ (PSEQ) is an open-source C/C++ library for working with human\n",
    "genetic variation data. The specific focus is to provide a platform for\n",
    "analytic tool development for variation data from large-scale\n",
    "resequencing and genotyping projects, particularly whole-exome and\n",
    "whole-genome studies. PSEQ is independent of, but designed to be\n",
    "complementary to, the existing PLINK (Purcell *et al.*, 2007) package.\n",
    "Here we give an overview of analysis of exome sequence data using PSEQ.\n",
    "\n",
    "**Software Resource**\n",
    "\n",
    "This tutorial was completed with PSEQ 0.10, (released on 14-Jul-2014)\n",
    "available from https://atgu.mgh.harvard.edu/plinkseq/download.shtml.\n",
    "Links to PSEQ documentation can also be found on the webpage. Below is\n",
    "an outline of what PSEQ documentation offers:\n",
    "\n",
    "-   Basic Syntax and Conventions\n",
    "\n",
    "-   Project Management\n",
    "\n",
    "-   Data Input\n",
    "\n",
    "-   Attaching Auxiliary Data\n",
    "\n",
    "-   Viewing Data\n",
    "\n",
    "-   Data Output\n",
    "\n",
    "-   Summary Statistics\n",
    "\n",
    "-   Association Analysis\n",
    "\n",
    "-   Locus Database Operations\n",
    "\n",
    "-   Reference Database Operations\n",
    "\n",
    "-   Miscellaneous commands\n",
    "\n",
    "**Exercise Genotype Data**\n",
    "\n",
    "Autosomal exome genotype data was downloaded from the 1000 Genomes pilot\n",
    "data July 2010 release for both the CEU (Utah residents with Northern\n",
    "and Western European ancestry) and YRI (Yoruba in Ibadan, Nigeria)\n",
    "populations. The data sets (CEU.exon.201003.genotypes.vcf.gz and\n",
    "YRI.exon.201003.genotypes.vcf.gz) are available from:\n",
    "\n",
    "ftp://ftp.1000genomes.ebi.ac.uk/vol1/ftp/pilot_data/release/2010_07/exon/snps\n",
    "\n",
    "The genomic co-ordinate for this data set is hg18 based. To use the PSEQ\n",
    "annotation data source which is hg19 based, you will lift over this data\n",
    "set to use hg19 co-ordinate. Since PSEQ does not provide a liftover\n",
    "feature therefore the data has already been lifted over for you using\n",
    "Variant Association Tools. The resulting data files,\n",
    "**CEU.exon.201003.genotypes.hg19.vcf.gz** and\n",
    "**YRI.exon.201003.genotypes.hg19.vcf.gz**, will be used for this\n",
    "exercise. One data set contains exome data for European-Americans (CEU)\n",
    "from 1000 Genomes while the other for Yoruba (YRI). The liftover feature\n",
    "may also have to be used with your data set as new hg coordinates become\n",
    "available. For additional information see\n",
    "http://varianttools.sourceforge.net/Vtools/Liftover\n",
    "\n",
    "**Phenotype Data**\n",
    "\n",
    "To demonstrate performing an association analysis, we simulated a\n",
    "quantitative trait phenotype (BMI). Please note that these phenotypes\n",
    "are ***NOT*** from the 1000 genomes project. The phenotype data for the\n",
    "exercise can be found in the text file **phenotype.phe.** This phenotype\n",
    "file contains data for 202 individuals from both the CEU and YRI\n",
    "populations.\n",
    "\n",
    "**Computation Resources**\n",
    "\n",
    "The following tutorial uses a small data set so that the association\n",
    "analysis can be completed in a short period-of-time. Large\n",
    "next-generation sequenced data sets require a reasonably powerful\n",
    "machine with a high-speed internet connection.\n",
    "\n",
    "**Data Cleaning and Variant/Sample Selection**\n",
    "\n",
    "**Getting Started**\n",
    "\n",
    "To get a list of PSEQ subcommands use:"
   ]
  },
  {
   "cell_type": "code",
   "execution_count": 1,
   "metadata": {
    "kernel": "Bash"
   },
   "outputs": [
    {
     "name": "stdout",
     "output_type": "stream",
     "text": [
      "\n",
      "usage:\tpseq {project-file|VCF|-|.} {command} {--options}\n",
      "\n",
      "\tCommand groups\n",
      "\t---------------------------------------------------------\n",
      "\tinput\t\t\tData input\n",
      "\toutput\t\t\tVariant data output\n",
      "\tproject\t\t\tProject functions\n",
      "\tstats\t\t\tVariant summary statistics\n",
      "\ttests\t\t\tGenotype-phenotype association tests\n",
      "\tqc\t\t\tQuality control metrics and tests\n",
      "\tviews\t\t\tViewing variant and other data\n",
      "\tannot\t\t\tAnnotation functions\n",
      "\tvarop\t\t\tVariant database operations\n",
      "\tlocop\t\t\tLocus database operations\n",
      "\tseqop\t\t\tSequence database operations\n",
      "\trefop\t\t\tReference database operations\n",
      "\tindop\t\t\tIndividual database operations\n",
      "\tibd\t\t\tIBD analysis\n",
      "\tnet\t\t\tNetwork-based analysis\n",
      "\tprot\t\t\tProtein domain/feature annotation\n",
      "\tmisc\t\t\tMisc.\n",
      "\n",
      "\tMask groups\n",
      "\t---------------------------------------------------------\n",
      "\tannotation\t\tMasks based on LOCDB transcript annotation (under revision)\n",
      "\tcase-control\t\tIndividual masks based on a disease phenotype from INDDB\n",
      "\tfiles\t\t\tInclude/exclude variants based on presence in one or more files\n",
      "\tfilters\t\t\tMasks based on the FILTER and QUAL fields\n",
      "\tfrequency\t\tMasks based on variant allele frequency\n",
      "\tgenotype\t\tPer-genotype masks and behaviours\n",
      "\tlocus-groups\t\tInterval-based masks involving LOCDB\n",
      "\tlocus-set-groups\tMasks based on sets of loci from a LOCDB\n",
      "\tmisc-masks\t\tVarious other masks\n",
      "\tphenotype\t\tIndividual masks based on phenotypes from INDDB\n",
      "\tref-variants\t\tMasks based on REFDB variants\n",
      "\tregions\t\t\tInterval-based masks specified on the command line\n",
      "\tsamples\t\t\tInclude/exclude individuals/files\n",
      "\tskip\t\t\tOptions to skip reading certain things (improves speed)\n",
      "\tvmeta\t\t\tMasks based on a variant's meta-information (INFO field)\n",
      "\n",
      "pseq help all\n",
      "pseq help {group}\n",
      "pseq help {command}\n",
      "\n"
     ]
    }
   ],
   "source": [
    "pseq help"
   ]
  },
  {
   "cell_type": "markdown",
   "metadata": {
    "kernel": "SoS"
   },
   "source": [
    "Or,"
   ]
  },
  {
   "cell_type": "code",
   "execution_count": 2,
   "metadata": {
    "kernel": "Bash"
   },
   "outputs": [
    {
     "name": "stdout",
     "output_type": "stream",
     "text": [
      "\n",
      "usage:\tpseq {project-file|VCF} {command} {--options}\n",
      "\n",
      "Commands\n",
      "---------------------------------------------------------\n",
      "\n",
      "\ta-list\t\t\talternate site list, one row per allele\n",
      "\n",
      "\tallelic-balance\t\tallelic balance from genotype AD and GT fields\n",
      "\t  --name { str-list }\tgeneric name(s) variable\n",
      "\n",
      "\tappend\t\t\tadd a file to the project\n",
      "\t  --file { str-list }\tgeneric input file(s)\n",
      "\t  --name { str-list }\tgeneric name(s) variable\n",
      "\t  --type { str }\ttype of project entry\n",
      "\n",
      "\tassoc\t\t\tgene-based association tests\n",
      "\t  --carriers { flag }\toutput who carriers of ALT alleles are in .assoc.det\n",
      "\t  --dump-null-matrix { flag }\toutput (null) gene-based statistics in matrix form\n",
      "\t  --fix-null { flag }\texclude individuals with null genotypes\n",
      "\t  --info { flag }\treport ISTAT in association test\n",
      "\t  --midpoint { flag }\treport interval BP mid-point in output\n",
      "\t  --perm { int }\tnumber of permutations\n",
      "\t  --phenotype { str }\tphenotype specification\n",
      "\t  --tests { keyword }\tgene-based tests\n",
      "\t\tburden { flag }               basic burden test                       \n",
      "\t\tburden1 { flag }              burden test, collapsed per individual   \n",
      "\t\tcalpha { flag }               c-alpha test                            \n",
      "\t\tfw { flag }                   frequency-weighted test                 \n",
      "\t\tguniq { flag }                gene-level case-unique variant burden   \n",
      "\t\tsigned-burden { flag }        2013_12_23 **** DO NOT USE **** burden test, where statistics can take on negative values (for control > cases)\n",
      "\t\tskat { flag }                 SKAT test                               \n",
      "\t\tskato { flag }                Optimal SKAT test                       \n",
      "\t\tsumstat { flag }              sum-statistic test                      \n",
      "\t\ttwo-hit { flag }              Recessive/compound-het test             \n",
      "\t\tuniq { flag }                 burden of case-unique variants          \n",
      "\t\tvt { flag }                   variable threshold test                 \n",
      "\n",
      "\tattach-meta\t\tload meta-information for existing VARDB variants\n",
      "\t  --file { str-list }\tgeneric input file(s)\n",
      "\t  --group { str-list }\tgeneric group label(s)\n",
      "\t  --id { int-list }\tgeneric numeric IDs\n",
      "\n",
      "\tclusters\t\t.\n",
      "\n",
      "\tcnv-denovo\t\tfilter for de-novo CNV mutations\n",
      "\t  --allowDeNovoWithoutDiscoveryInChild { flag }\tTry to call de novo CNV in child even in instances where that CNV is not marked as having been discovered in that child\n",
      "\t  --allowTransmissionWithoutDiscoveryInParent { flag }\tAssess transmission from parents even in instances where that CNV is not marked as having been discovered in that parent\n",
      "\t  --minChildNQ { int }\tMinimum NQ score for ruling out a CNV (in children); applied on top of minNQ\n",
      "\t  --minChildSQ { int }\tMinimum SQ score for calling a CNV (in children); applied on top of minSQ\n",
      "\t  --minNQ { int }\tMinimum NQ score for ruling out a CNV (in BOTH children and parents); applied on top of minChildNQ and minParNQ\n",
      "\t  --minParNQ { int }\tMinimum NQ score for ruling out a CNV (in parents); applied on top of minNQ\n",
      "\t  --minParSQ { int }\tMinimum SQ score for calling a CNV (in parents); applied on top of minSQ\n",
      "\t  --minSQ { int }\tMinimum SQ score for calling a CNV (in BOTH children and parents); applied on top of minChildSQ and minParSQ\n",
      "\n",
      "\tcommands\t\tlist commands/groups\n",
      "\n",
      "\tconcordance\t\tgenotypic concordance checks\n",
      "\t  --report-all { flag }\t.\n",
      "\n",
      "\tcounts\t\t\tsummary/count statistics\n",
      "\t  --annotate { str }\tannotate variants\n",
      "\t  --full-annotate { str }\tfull-annotate variants\n",
      "\t  --meta\t.\n",
      "\t  --name { str-list }\tgeneric name(s) variable\n",
      "\t  --output-vcf { flag }\tsummary counts in VCF format\n",
      "\t  --phenotype { str }\tphenotype specification\n",
      "\t  --show-filters { flag }\tshow filters\n",
      "\n",
      "\tdelete-meta\t\tremove meta-information\n",
      "\t  --all { flag }\tgeneric group label(s)\n",
      "\t  --group { str-list }\tgeneric group label(s)\n",
      "\n",
      "\tdenovo\t\t\tfilter for de-novo mutations and transmitted variants (SNPs and indels)\n",
      "\t  --allowDoubleAltDeNovos { flag }\tInclude de novos that consist of two alternate alleles in child\n",
      "\t  --minChildDP { int }\tMinimum child depth\n",
      "\t  --minChildPL { float }\tMinimum child PL (genotype likelihood) for non-called genotype\n",
      "\t  --minHet_AB_alt { float }\tMinimum AB-ALT (% of reads with ALT allele) for heterozygous individual\n",
      "\t  --minHet_AB_ref { float }\tMinimum AB-REF (% of reads with REF allele) for heterozygous individual\n",
      "\t  --minHomAlt_AB_alt { float }\tMinimum AB-ALT (% of reads with ALT allele) for homozygous alternate individual\n",
      "\t  --minHomRef_AB_ref { float }\tMinimum AB-REF (% of reads with REF allele) for homozygous reference individual\n",
      "\t  --minMQ { float }\tMinimum MQ (read mapping quality)\n",
      "\t  --minParDP { int }\tMinimum parental depth\n",
      "\t  --minParPL { float }\tMinimum parental PL (genotype likelihood) for non-called genotype\n",
      "\t  --printTransmission { flag }\tParent variants will be printed with transmission status\n",
      "\n",
      "\tdrop\t\t\tdrop a file from the project\n",
      "\t  --file { str-list }\tgeneric input file(s)\n",
      "\t  --name { str-list }\tgeneric name(s) variable\n",
      "\t  --type { str }\ttype of project entry\n",
      "\n",
      "\tfile-summary\t\tsummary of project files\n",
      "\t  --ugly { flag }\tdo not format summary output\n",
      "\n",
      "\tg-counts\t\tgenotype summary/count statistics\n",
      "\t  --name { str-list }\tgeneric name(s) variable\n",
      "\t  --output-vcf { flag }\tsummary counts in VCF format\n",
      "\n",
      "\tg-list\t\t\talternate gene list, one row per gene per individual\n",
      "\n",
      "\tg-matrix\t\twrite a matix of gene-based allele counts\n",
      "\t  --collapse { flag }\t.\n",
      "\t  --hide-invariant { flag }\t.\n",
      "\n",
      "\tg-meta-matrix\t\tmatix of gene-based per-individual meta-information\n",
      "\t  --name { str-list }\tgeneric name(s) variable\n",
      "\n",
      "\tg-stats\t\t\tgene-based summary statistics\n",
      "\t  --stats { keyword }\tquantities calculated under (v|g|i)-stats\n",
      "\n",
      "\tg-view\t\t\tview variants grouped by gene\n",
      "\t  --geno { flag }\tshow genotypes\n",
      "\t  --gmeta { flag }\tshow genotype meta-information\n",
      "\t  --phenotype { str }\tphenotype specification\n",
      "\t  --rarelist { flag }\trare-list mode for v-view\n",
      "\t  --transpose { flag }\ttransposed g-view output\n",
      "\t  --verbose { flag }\tverbose output\n",
      "\t  --vmeta { flag }\tshow variant meta-information\n",
      "\n",
      "\tglm\t\t\tgeneral linear models\n",
      "\t  --covar { str-list }\tcovariate(s)\n",
      "\t  --file { str-list }\tgeneric input file(s)\n",
      "\t  --perm { int }\tnumber of permutations\n",
      "\t  --phenotype { str }\tphenotype specification\n",
      "\t  --residuals { str-list }\tresidualize phenotype by these covariates\n",
      "\t  --show-covar { flag }\tlist coefficients for covariates\n",
      "\t  --show-intercept { flag }\tlist coefficients for b0 term in GLM\n",
      "\t  --use-dosages { str }\tgenotypes are dosages in specified tag\n",
      "\t  --use-postprobs { str }\tgenotype are posterior probabilities in specified tag\n",
      "\t  --vmeta { flag }\tshow variant meta-information\n",
      "\n",
      "\tgroup-comparison\tOUT:group.comparison\n",
      "\n",
      "\tgs-view\t\t\tview gene variants in sequence\n",
      "\t  --domain { str-list }\tprotein domain group from PROTDB\n",
      "\t  --gene { str-list }\tgene-group gene1 gene2 ...\n",
      "\t  --plot { flag }\tmake R plotting script from gs-view\n",
      "\t  --protdb { str }\tprotein domain/feature database\n",
      "\t  --ref { str-list }\treference-variant group\n",
      "\t  --variant { str }\tshow specific variant (v-view)\n",
      "\n",
      "\tgtf-check\t\tcheck a .GTF (i.e. prior to loc-load'ing\n",
      "\t  --add-frame { flag }\tadd frame to a GTF during gtf-check\n",
      "\t  --file { str-list }\tgeneric input file(s)\n",
      "\n",
      "\thotnet\t\t\tapply HotNet algorithm given a seed list\n",
      "\t  --delta { float }\tdelta parameter for net-subnets\n",
      "\t  --influence-matrix { str }\tinfluence matrix for subnetwork enrichment test\n",
      "\t  --matdb { str }\tmatrix database location\n",
      "\t  --netdb { str }\tnetwork database location\n",
      "\t  --seeds { str-list }\tseed genes (or from @file)\n",
      "\n",
      "\thotnet-delta\t\tfor null data, search effect of delta on subnetworks\n",
      "\t  --delta-max { float }\tmax delta, for hotnet-delta\n",
      "\t  --delta-min { float }\tmin delta, for hotnet-delta\n",
      "\t  --delta-step { float }\tstep delta, for hotnet-delta\n",
      "\t  --influence-matrix { str }\tinfluence matrix for subnetwork enrichment test\n",
      "\t  --matdb { str }\tmatrix database location\n",
      "\t  --netdb { str }\tnetwork database location\n",
      "\t  --null-seeds { str-list }\tnull seed genes (or from @file) for hotnet-delta\n",
      "\n",
      "\ti-matrix\t\tindividual phenotype matrix\n",
      "\t  --phenotype { str }\tphenotype specification\n",
      "\n",
      "\ti-pop\t\t\tindividual posterior population probabilities\n",
      "\t  --file { str-list }\tgeneric input file(s)\n",
      "\n",
      "\ti-stats\t\t\tper-individual statistics\n",
      "\t  --stats { keyword }\tquantities calculated under (v|g|i)-stats\n",
      "\n",
      "\ti-view\t\t\tindividuals in project/file\n",
      "\t  --from-vardb { flag }\tlist individuals from VARDB, not INDDB\n",
      "\t  --phenotype { str }\tphenotype specification\n",
      "\n",
      "\tibs-matrix\t\tIBS matrix calculation\n",
      "\t  --long-format { flag }\toutput one row per line (instead of n-by-n matrix)\n",
      "\t  --two-counts { flag }\tonly consider variants seen twice in the sample\n",
      "\n",
      "\tind-summary\t\tsummary of INDDB\n",
      "\t  --ugly { flag }\tdo not format summary output\n",
      "\n",
      "\tindex-vcf\t\tadd index to VARDB for a BGZF-compressed VCF\n",
      "\t  --vcf { str-list }\tVCF file locations\n",
      "\n",
      "\tindiv-enrich\t\ttest per individual for greater-than-expected burden of variants per set\n",
      "\t  --loc { str-list }\ttranscript group\n",
      "\t  --loc.ex\t.\n",
      "\t  --locset { str-list }\tlocus-set group\n",
      "\t  --perm { int }\tnumber of permutations\n",
      "\t  --phenotype { str }\tphenotype specification\n",
      "\t  --reg.ex\t.\n",
      "\n",
      "\tload-dosage\t\tload dosage data\n",
      "\t  --check-reference { flag }\tloading/indexing VCFs, report if REF != SEQDB\n",
      "\t  --file { str-list }\tgeneric input file(s)\n",
      "\t  --file-list { str }\tfile to specify a list of files\n",
      "\t  --format { keyword }\t.\n",
      "\t\tallele-map { flag }           dosage map only contains a1/a2          \n",
      "\t\tas-dosage { flag }            store as dosage                         \n",
      "\t\tas-posteriors { flag }        store as 3 posterior probailities       \n",
      "\t\tdose1 { flag }                dosage data 0..1                        \n",
      "\t\tdose2 { flag }                dosage data 0..2                        \n",
      "\t\tposition-map { flag }         dosage map only contains chr/bp         \n",
      "\t\tprob2 { flag }                2 posterior probabilities               \n",
      "\t\tprob3 { flag }                3 posterior probabilities               \n",
      "\t\tskip-header { flag }          ignore header in dosage file(s)         \n",
      "\t\tspace-delimited { flag }      use spaces, not tabs, as delimiters in dosag file(s)\n",
      "\t  --hard-call-threshold { float }\thard-call threshold\n",
      "\t  --id { int-list }\tgeneric numeric IDs\n",
      "\t  --mac { int }\tminimum minor allele count to load a dosage entry\n",
      "\t  --maf { float }\tminimum alternate allele frequency to load a dosage entry\n",
      "\t  --name { str-list }\tgeneric name(s) variable\n",
      "\n",
      "\tload-pedigree\t\tload pedigree information into INDDB\n",
      "\t  --file { str-list }\tgeneric input file(s)\n",
      "\n",
      "\tload-pheno\t\tload phenotypes into INDB\n",
      "\t  --file { str-list }\tgeneric input file(s)\n",
      "\n",
      "\tload-plink\t\tload a PLINK binary PED file (BED)\n",
      "\t  --check-reference { flag }\tloading/indexing VCFs, report if REF != SEQDB\n",
      "\t  --fid { flag }\tuse FID as ID when reading PLINK files\n",
      "\t  --file { str-list }\tgeneric input file(s)\n",
      "\t  --fix-strand { flag }\tfix strand given a SEQDB when loading a PLINK GWAS file\n",
      "\t  --id { int-list }\tgeneric numeric IDs\n",
      "\t  --iid { flag }\tuse IID as ID when reading PLINK files\n",
      "\n",
      "\tload-vcf\t\tload all VCF files not already in VARDB\n",
      "\t  --exclude-meta\t.\n",
      "\t  --file { str-list }\tgeneric input file(s)\n",
      "\t  --filter { str }\tloading VCF, only load variants in specified LOCDB group\n",
      "\t  --include-meta\t.\n",
      "\t  --vcf { str-list }\tVCF file locations\n",
      "\n",
      "\tloc-annotate\t\tannotate loci\n",
      "\t  --group { str-list }\tgeneric group label(s)\n",
      "\t  --show-subregions:OUT:loci\t.\n",
      "\n",
      "\tloc-delete\t\tremove a LOCDB group\n",
      "\t  --group { str-list }\tgeneric group label(s)\n",
      "\n",
      "\tloc-delete-alias\tremove gene-alias table\n",
      "\n",
      "\tloc-delete-special\tremove all special variables from a LOCDB\n",
      "\n",
      "\tloc-get-special\t\tget special variable(s) from a LOCDB\n",
      "\t  --key { str }\tkey of key-value pair\n",
      "\n",
      "\tloc-intersect\t\tintersect locus groups\n",
      "\t  --file { str-list }\tgeneric input file(s)\n",
      "\t  --group { str-list }\tgeneric group label(s)\n",
      "\n",
      "\tloc-load\t\tload from a .GTF or .REG file into LOCDB\n",
      "\t  --file { str-list }\tgeneric input file(s)\n",
      "\t  --group { str-list }\tgeneric group label(s)\n",
      "\t  --keep-unmerged { flag }\tretain unmerged region group when loading GTF\n",
      "\n",
      "\tloc-load-alias\t\tload a gene-alias table\n",
      "\t  --file { str-list }\tgeneric input file(s)\n",
      "\n",
      "\tloc-merge\t\tmerge a LOCDB group\n",
      "\t  --group { str-list }\tgeneric group label(s)\n",
      "\n",
      "\tloc-set-special\t\tset special variable in a LOCDB\n",
      "\t  --key { str }\tkey of key-value pair\n",
      "\t  --value { str-list }\tvalue(s) of key-value pair\n",
      "\n",
      "\tloc-stats\t\tlocus-based stats\n",
      "\t  --group { str-list }\tgeneric group label(s)\n",
      "\t  --no-subregions { flag }\tmodifies loc-view output\n",
      "\t  --ref { str-list }\treference-variant group\n",
      "\t  --show-subregions { flag }\tmodifies loc-view output\n",
      "\n",
      "\tloc-summary\t\tsummary of LOCDB\n",
      "\t  --ugly { flag }\tdo not format summary output\n",
      "\n",
      "\tloc-swap-actual-names\tswap LOCDB actual names ('transcripts')\n",
      "\t  --file { str-list }\tgeneric input file(s)\n",
      "\t  --group { str-list }\tgeneric group label(s)\n",
      "\n",
      "\tloc-swap-names\t\tswap LOCDB alternate names ('gene name of transcript')\n",
      "\t  --alternate-name { flag }\tuse LOCDB alternate name (e.g. gene symbol)\n",
      "\t  --file { str-list }\tgeneric input file(s)\n",
      "\t  --group { str-list }\tgeneric group label(s)\n",
      "\n",
      "\tloc-transcribe\t\tmRNA sequence of loci\n",
      "\n",
      "\tloc-translate\t\tAA sequence of loci\n",
      "\n",
      "\tloc-update-name-table\tupdate LOCDB name table\n",
      "\t  --alternate-name { flag }\tuse LOCDB alternate name (e.g. gene symbol)\n",
      "\t  --group { str-list }\tgeneric group label(s)\n",
      "\t  --index-name { flag }\tuse LOCDB primary/index name (e.g. transcript ID)\n",
      "\n",
      "\tloc-view\t\tshow all loci in a LOCDB group\n",
      "\t  --alias { str-list }\tlocus alias group(s)\n",
      "\t  --group { str-list }\tgeneric group label(s)\n",
      "\t  --no-meta { flag }\tdo not show locus meta-information\n",
      "\t  --show-subregions { flag }\tmodifies loc-view output\n",
      "\n",
      "\tlocset-load\t\tload a locus-set\n",
      "\t  --alternate-name { flag }\tuse LOCDB alternate name (e.g. gene symbol)\n",
      "\t  --file { str-list }\tgeneric input file(s)\n",
      "\t  --group { str-list }\tgeneric group label(s)\n",
      "\t  --name { str-list }\tgeneric name(s) variable\n",
      "\n",
      "\tlookup\t\t\tlookup various annotatations for a list of positions\n",
      "\t  --alias { str-list }\tlocus alias group(s)\n",
      "\t  --annotate { str }\tannotate variants\n",
      "\t  --baseContextLength { int }\tLength of *GENOMIC* base context to output (e.g., 3 is tri-nucleotide context)\n",
      "\t  --flanking { int }\tflanking sequence\n",
      "\t  --loc { str-list }\ttranscript group\n",
      "\t  --protdb { str }\tprotein domain/feature database\n",
      "\t  --ref { str-list }\treference-variant group\n",
      "\t  --ref-allelic { str-list }\treference-variant group\n",
      "\t  --titv { flag }\tannotate locus as being transition, transversion, or neither\n",
      "\t  --transcriptBaseContextLength { int }\tLength of *SPLICED TRANSCRIPT* base context to output (e.g., 3 is tri-nucleotide context)\n",
      "\t  --worstAnnotationPriorities { str }\tFile containing an ordering of the 'worst' annotations chosen to be output by lookup\n",
      "\t  --worstByAlias { str-list }\tlocus alias group(s) for which to split out worst annotations\n",
      "\n",
      "\tmasks\t\t\tlist mask options\n",
      "\n",
      "\tmat-load\t\tload a matrix to MATDB\n",
      "\t  --file { str-list }\tgeneric input file(s)\n",
      "\t  --matdb { str }\tmatrix database location\n",
      "\t  --symmetric { flag }\tstore as a symmertix matrix in MATDB\n",
      "\n",
      "\tmat-view\t\tprint a matrix from a MATDB\n",
      "\t  --matdb { str }\tmatrix database location\n",
      "\n",
      "\tmeans\t\t\tsummary QT means per variant\n",
      "\t  --annotate { str }\tannotate variants\n",
      "\t  --full-annotate { str }\tfull-annotate variants\n",
      "\t  --meta\t.\n",
      "\t  --phenotype { str }\tphenotype specification\n",
      "\t  --show-filters { flag }\tshow filters\n",
      "\n",
      "\tmeta-matrix\t\twrite a matrix of variant meta-information\n",
      "\n",
      "\tmeta-summary\t\tsummary of variant meta-information\n",
      "\t  --ugly { flag }\tdo not format summary output\n",
      "\n",
      "\tmrv-view\t\tview multiple rare variants\n",
      "\n",
      "\tmv-view\t\t\tview multiple variants\n",
      "\n",
      "\tnet-assoc\t\tnetwork-based gene-association\n",
      "\t  --file { str-list }\tgeneric input file(s)\n",
      "\t  --mask { str-list }\tmask specification\n",
      "\t  --netdb { str }\tnetwork database location\n",
      "\t  --outfile\t.\n",
      "\t  --pheno\t.\n",
      "\n",
      "\tnet-influence-matrix\tcalculate influence matrix from network\n",
      "\t  --exclude-from-net { str-list }\texclude gene list from the network\n",
      "\t  --gamma\t.\n",
      "\t  --netdb { str }\tnetwork database location\n",
      "\n",
      "\tnet-laplacian\t\tdump network laplacian matrix\n",
      "\t  --netdb { str }\tnetwork database location\n",
      "\n",
      "\tnet-load\t\tpopulate a NETDB\n",
      "\t  --file { str-list }\tgeneric input file(s)\n",
      "\t  --netdb { str }\tnetwork database location\n",
      "\n",
      "\tnet-nodes\t\tdisplay node labels, same order as Laplacian or adjacency matrix\n",
      "\t  --netdb { str }\tnetwork database location\n",
      "\n",
      "\tnet-similarity-matrix\tcalcualte similarity matrix from network\n",
      "\t  --exclude-from-net { str-list }\texclude gene list from the network\n",
      "\t  --gamma\t.\n",
      "\t  --netdb { str }\tnetwork database location\n",
      "\n",
      "\tnet-stats\t\tnetwork connectivity tests\n",
      "\t  --allow-cseed-cseed-or-seed-seed-in-cross { flag }\tin the cross-comparisons, allow cseed-cseed or seed-seed interactions, in addition to strictly defined seed-cseed links (i.e., for mutually exclusive genes)\n",
      "\t  --background { str-list }\tbackground gene list\n",
      "\t  --bin-on-neighb-degree { flag }\tsub-bin on degree distribution of neighboring nodes\n",
      "\t  --bin-on-neighb-degree-statistic { str }\tHow should neighboring node degree distributions be summarized for binning to achieve matched permutation? Valid options are: sum, median\n",
      "\t  --count-within-locus-edges { flag }\tDo not exclude from statistics edges between genes within the same (c)seed locus\n",
      "\t  --cross-locus-edges { str }\tHow should multiple edges spanning a pair of loci be handled? Valid options are: sum, max, mean\n",
      "\t  --cseeds { str-list }\tcomparator seed genes (or from @file)\n",
      "\t  --degree-merge-bin { int }\tminimum bin size to define 'within-degree' bins\n",
      "\t  --edge-perm { flag }\tuse edge permutation\n",
      "\t  --edge-weights { flag }\tuse edge weights from NETDB\n",
      "\t  --exclude-from-net { str-list }\texclude gene list from the network\n",
      "\t  --file { str-list }\tgeneric input file(s)\n",
      "\t  --netdb { str }\tnetwork database location\n",
      "\t  --no-ci { flag }\tdo not calculate common interactor statistics\n",
      "\t  --no-general { flag }\tdo not calculate general connectivity\n",
      "\t  --no-genic { flag }\tdo not calculate genic scores\n",
      "\t  --no-indirect { flag }\tdo not calculate indirect connectivity\n",
      "\t  --permute-cseeds { flag }\twhen running with --cseeds, permute those (node permutation only)\n",
      "\t  --seed-perm { str }\tpre-permuted gene lists\n",
      "\t  --seeds { str-list }\tseed genes (or from @file)\n",
      "\n",
      "\tnet-view\t\tview gene connections in a NETDB\n",
      "\t  --group { str-list }\tgeneric group label(s)\n",
      "\t  --name { str-list }\tgeneric name(s) variable\n",
      "\t  --netdb { str }\tnetwork database location\n",
      "\n",
      "\tnew-project\t\tset a new project\n",
      "\t  --inddb { str }\tindividual database location\n",
      "\t  --locdb { str }\tlocus database location\n",
      "\t  --metameta { str }\tmeta-information meta-information\n",
      "\t  --output { keyword }\tgeneral output format modifiers\n",
      "\t  --refdb { str }\treference database location\n",
      "\t  --resources { str }\tcentral resource folder\n",
      "\t  --scratch { str }\tscratch folder\n",
      "\t  --seqdb { str }\tsequence database location\n",
      "\t  --vardb { str }\tvariant database location\n",
      "\t  --vcf { str-list }\tVCF file locations\n",
      "\n",
      "\tprot-load\t\tpopulate a PROTDB\n",
      "\t  --file { str-list }\tgeneric input file(s)\n",
      "\t  --group { str-list }\tgeneric group label(s)\n",
      "\t  --protdb { str }\tprotein domain/feature database\n",
      "\n",
      "\tprot-summary\t\tsummary of a PROTDB\n",
      "\t  --protdb { str }\tprotein domain/feature database\n",
      "\n",
      "\tprot-view\t\tview entries from a PROTDB\n",
      "\t  --domain { str-list }\tprotein domain group from PROTDB\n",
      "\t  --group { str-list }\tgeneric group label(s)\n",
      "\t  --name { str-list }\tgeneric name(s) variable\n",
      "\t  --protdb { str }\tprotein domain/feature database\n",
      "\n",
      "\tproximity-scan\t\tVCF\n",
      "\t  --distance { flag }\t.\n",
      "\n",
      "\tref-load\t\tload data (VCF or flat-file) into REFDB\n",
      "\t  --file { str-list }\tgeneric input file(s)\n",
      "\t  --group { str-list }\tgeneric group label(s)\n",
      "\t  --vcf { str-list }\tVCF file locations\n",
      "\n",
      "\tref-summary\t\tsummary of REFDB\n",
      "\t  --ugly { flag }\tdo not format summary output\n",
      "\n",
      "\tref-view\t\tview a group from a REFDB\n",
      "\t  --group { str-list }\tgeneric group label(s)\n",
      "\t  --verbose { flag }\tverbose output\n",
      "\t  --vmeta { flag }\tshow variant meta-information\n",
      "\n",
      "\treindex\t\t\tdrop then remake VARDB indices\n",
      "\n",
      "\trv-view\t\t\tview rare alleles\n",
      "\t  --pheno\t.\n",
      "\n",
      "\tseg-load\t\tinput segment data to SEGDB\n",
      "\n",
      "\tseg-summary\t\tsummary of SEQDB\n",
      "\t  --ugly { flag }\tdo not format summary output\n",
      "\n",
      "\tseg-view\t\tindividual segments\n",
      "\t  --group { str-list }\tgeneric group label(s)\n",
      "\n",
      "\tseq-load\t\tload FASTA into SEQDB\n",
      "\t  --.\t.\n",
      "\t  --description { str }\tfile description\n",
      "\t  --file { str-list }\tgeneric input file(s)\n",
      "\t  --format { keyword }\t.\n",
      "\t\tbuild { str }                 .                                       \n",
      "\t\tiupac { flag }                .                                       \n",
      "\t\trepeat-mode { str }           .                                       \n",
      "\t  --name { str-list }\tgeneric name(s) variable\n",
      "\n",
      "\tseq-summary\t\tsummary of SEQDB\n",
      "\t  --ugly { flag }\tdo not format summary output\n",
      "\n",
      "\tseq-view\t\tview regions of sequence from SEQDB\n",
      "\t  --compact { flag }\tcompact seq-view output\n",
      "\t  --region { str-list }\tregion(s) \n",
      "\n",
      "\tset-matrix\t\tindividual by geneset burden\n",
      "\n",
      "\tsummary\t\t\tsummary of all databases\n",
      "\t  --ugly { flag }\tdo not format summary output\n",
      "\n",
      "\tswap-ids\t\tswap individual IDs in the VARDB and INDDB\n",
      "\t  --file { str-list }\tgeneric input file(s)\n",
      "\n",
      "\ttag-file\t\tadd file-tags to VARDB\n",
      "\t  --id { int-list }\tgeneric numeric IDs\n",
      "\t  --name { str-list }\tgeneric name(s) variable\n",
      "\n",
      "\tunique\t\t\tview variants specific to individual groups\n",
      "\t  --allow { int }\tallow N individuals without variant\n",
      "\t  --indiv { str-list }\tspecify individual(s)\n",
      "\t  --require { int }\trequire N individuals with variant\n",
      "\n",
      "\tv-assoc\t\t\tsingle-variant association\n",
      "\t  --fix-null { flag }\texclude individuals with null genotypes\n",
      "\t  --info { flag }\treport ISTAT in association test\n",
      "\t  --perm { int }\tnumber of permutations\n",
      "\t  --phenotype { str }\tphenotype specification\n",
      "\t  --separate-chr-bp { flag }\treport CHR-tab-BP not chr:BP\n",
      "\t  --vmeta { flag }\tshow variant meta-information\n",
      "\n",
      "\tv-dist\t\t\tcomparison of rare-variant group distributions\n",
      "\t  --perm { int }\tnumber of permutations\n",
      "\t  --whole-sample-counts { flag }\t.\n",
      "\n",
      "\tv-freq\t\t\tvariant frequency data\n",
      "\t  --em { float }\tEM calculation of P(geno|data) from GL or PL\n",
      "\n",
      "\tv-matrix\t\twrite a matrix of allele counts\n",
      "\n",
      "\tv-meta-matrix\t\twrite a matrix of individual genotype meta-information\n",
      "\t  --name { str-list }\tgeneric name(s) variable\n",
      "\n",
      "\tv-stats\t\t\tvariant statistics\n",
      "\t  --stats { keyword }\tquantities calculated under (v|g|i)-stats\n",
      "\t\tcount { str-list }            arbirary tag range counts               \n",
      "\t\tdp { int-range-vector }       variant read-depth counts               \n",
      "\t\tgcount { str-list }           genotype tag range counts               \n",
      "\t\tgmean { str-list }            genotype tag means                      \n",
      "\t\thwe { float-range-vector }    HWE test p-values                       \n",
      "\t\tmac { int-range-vector }      MAC range counts                        \n",
      "\t\tmaf { float-range-vector }    MAF range counts                        \n",
      "\t\tmean { str-list }             arbitrary mean tag values               \n",
      "\t\tqual { float-range-vector }   QUAL range counts                       \n",
      "\n",
      "\tv-view\t\t\tview variant data\n",
      "\t  --geno { flag }\tshow genotypes\n",
      "\t  --gmeta { flag }\tshow genotype meta-information\n",
      "\t  --hide-null { flag }\t.\n",
      "\t  --only-alt { flag }\t.\n",
      "\t  --only-minor { flag }\t.\n",
      "\t  --pheno\t.\n",
      "\t  --samples { flag }\tshow each specific sample variant\n",
      "\t  --simple { flag }\tsimple variant format, POS RET ALT\n",
      "\t  --verbose { flag }\tverbose output\n",
      "\t  --vmeta { flag }\tshow variant meta-information\n",
      "\n",
      "\tvacuum\t\t\tclean-up unused disk-space in VARDB\n",
      "\n",
      "\tvar-delete\t\tremove file from VARDB\n",
      "\t  --id { int-list }\tgeneric numeric IDs\n",
      "\n",
      "\tvar-drop-all-sets\tdrop all sets from a VARDB\n",
      "\n",
      "\tvar-drop-all-supersets\tdrop all supersets from a VARDB\n",
      "\n",
      "\tvar-drop-set\t\tdrop a set from a VARDB\n",
      "\n",
      "\tvar-drop-superset\tdrop a superset from a VARDB\n",
      "\n",
      "\tvar-set\t\t\tadd a variant-set to a VARDB\n",
      "\t  --file { str-list }\tgeneric input file(s)\n",
      "\t  --group { str-list }\tgeneric group label(s)\n",
      "\n",
      "\tvar-summary\t\tsummary of VARDB\n",
      "\t  --ugly { flag }\tdo not format summary output\n",
      "\n",
      "\tvar-superset\t\tadd a super-set to a VARDB\n",
      "\t  --file { str-list }\tgeneric input file(s)\n",
      "\t  --group { str-list }\tgeneric group label(s)\n",
      "\t  --members { str-list }\tsuper-set members\n",
      "\n",
      "\tversion\t\t\tdisplay version information\n",
      "\n",
      "\twrite-lik\t\twrite a BEALGE likelihood file\n",
      "\n",
      "\twrite-ped\t\twrite a new PLINK TPED fileset\n",
      "\t  --name { str-list }\tgeneric name(s) variable\n",
      "\t  --use-family-id\t.\n",
      "\n",
      "\twrite-phe\t\tdump phenotypes in .phe file format\n",
      "\t  --name { str-list }\tgeneric name(s) variable\n",
      "\n",
      "\twrite-vardb\t\twrite a new VARDB\n",
      "\t  --new-project { str }\tnew project specification filename\n",
      "\t  --new-vardb { str }\tnew VARDB name, for write-vardb\n",
      "\n",
      "\twrite-vcf\t\twrite a new VCF file\n",
      "\n",
      "\n",
      "\n",
      "Mask groups\n",
      "---------------------------------------------------------\n",
      "\n",
      "\tannotation\t\tMasks based on LOCDB transcript annotation (under revision)\n",
      "\t---------------------------------------------------------\n",
      "\tannot.append { str }\t\tappend annotations\n",
      "\n",
      "\tcase-control\t\tIndividual masks based on a disease phenotype from INDDB\n",
      "\t---------------------------------------------------------\n",
      "\tcase.control { int-range-list }\tinclude variants with alt-alleles [n-m] cases and [i-j] controls\n",
      "\tcase.uniq { int-range }\t\tinclude variants with alt-alleles in [n-m] cases, no controls\n",
      "\tcontrol.uniq { int-range }\tinclude variants with alt-alleles in [n-m] controls, no cases\n",
      "\n",
      "\tfiles\t\t\tInclude/exclude variants based on presence in one or more files\n",
      "\t---------------------------------------------------------\n",
      "\tobs.file { str-list }\t\tinclude variants observed in file(s)\n",
      "\tobs.file.req { str-list }\trequire variants observed in file(s)\n",
      "\tobs.file.ex { str-list }\texclude variants observed in file(s)\n",
      "\tobs.nfile { int-range }\t\tinclude if observed in [n-m] files\n",
      "\talt.nfile { int-range }\t\tinclude if alt-allele present in [n-m] files\n",
      "\tfail.nfile { int-range }\tinclude if variant FILTERed in [n-m] files\n",
      "\talt.file { str-list }\t\tinclude variants with alt-alleles in file(s)\n",
      "\talt.file.req { str-list }\trequire variants have alt-alleles in file(s)\n",
      "\talt.file.ex { str-list }\texclude variants with alt-alleles in file(s)\n",
      "\n",
      "\tfilters\t\t\tMasks based on the FILTER and QUAL fields\n",
      "\t---------------------------------------------------------\n",
      "\tqual { float-range }\t\tinclude variants with QUAL in [n-m]\n",
      "\tfilter { str-list }\t\tinclude variants meeting at least one FILTER criterion\n",
      "\tfilter.ex { str-list }\t\texclude variants meeting at least one FILTER criterion\n",
      "\tfilter.req { str-list }\t\tinclude variants meeting all FILTER criteria\n",
      "\tany.filter\t\t\tinclude variants with any non-PASS FILTER\n",
      "\tany.filter.ex\t\t\texclude variants with any non-PASS FILTER\n",
      "\tany.filter.req\t\t\tinclude only variants with all non-PASS FILTERs\n",
      "\tfail.single.file\t\tonly include variants PASSing in all files it is observed in\n",
      "\n",
      "\tfrequency\t\tMasks based on variant allele frequency\n",
      "\t---------------------------------------------------------\n",
      "\tmac { int-range }\t\tinclude variants with minor allele counts between [n-m]\n",
      "\tmaf { float-range }\t\tinclude variants with minor allele frequency in [n-m]\n",
      "\taac { int-range }\t\tinclude variants with alternate allele counts between [n-m]\n",
      "\taaf { float-range }\t\tinclude variants with alternate allele frequency in [n-m]\n",
      "\tmonomorphic\t\t\tinclude only monomorphic sites\n",
      "\tmonomorphic.ex\t\t\texclude monomorphic sites\n",
      "\thwe { float-range }\t\tinclude variants with HWE p-value in [n-m]\n",
      "\tindel\t\t\t\tonly consider indels\n",
      "\tindel.ex\t\t\texclude indels\n",
      "\tmnp\t\t\t\tonly consider multinucleotide polymorphisms (exc. indels)\n",
      "\tmnp.ex\t\t\t\texclude multinucleotide polymorphisms (exc. indels)\n",
      "\tsnp\t\t\t\tonly consider single nucleotide polymorphisms\n",
      "\tsnp.ex\t\t\t\texclude single nucleotide polymorphisms\n",
      "\tbiallelic\t\t\tinclude only biallelic sites\n",
      "\tbiallelic.ex\t\t\texclude biallelic sites\n",
      "\tallele { str-list }\t\tinclude only variants that match pattern\n",
      "\tallele.ex { str-list }\t\texclude variants that match pattern\n",
      "\tnovel\t\t\t\tonly novel SNPs (ID '.')\n",
      "\tnovel.ex\t\t\texclude novel SNPs (ID '.')\n",
      "\n",
      "\tgenotype\t\tPer-genotype masks and behaviours\n",
      "\t---------------------------------------------------------\n",
      "\tgeno { str-list }\t\tretain genotypes passing any meta-field criterion\n",
      "\tgeno.req { str-list }\t\tretain genotypes passing all meta-field criteria\n",
      "\tnull { int-range }\t\tinclude variants with number of null genotypes in [n-m]\n",
      "\tnull.prop { float-range }\tinclude variants with proportion of null genotypes in [n-m]\n",
      "\tassume-ref\t\t\tassume null/missing genotypes are reference\n",
      "\tsoft-ref\t\t\t0/REF allele initially implies only absence of ALT\n",
      "\thard-ref\t\t\t0/REF allele always implies presence of REF allele\n",
      "\tfix-xy { str }\t\t\tfix X/Y genotypes when loading a VCF\n",
      "\tgenotype-model { str }\t\tset genotype scoring model\n",
      "\thard-call { float-range-list }\thard-call genotypes from soft-calls\n",
      "\tseg { str-list }\t\tinclude segment mask(s)\n",
      "\tseg.req { str-list }\t\trequire segment mask(s)\n",
      "\tseg.ex { str-list }\t\texclude segment mask(s)\n",
      "\n",
      "\tlocus-groups\t\tInterval-based masks involving LOCDB\n",
      "\t---------------------------------------------------------\n",
      "\tloc { str-list }\t\tincluded loci\n",
      "\tloc.group { str }\t\tgroup variants by locus group\n",
      "\tloc.subset { str-list }\t\tsubsetted loci\n",
      "\tloc.skip { str-list }\t\tskipped loci\n",
      "\tloc.ex { str-list }\t\texcluded loci\n",
      "\tloc.req { str-list }\t\trequired loci\n",
      "\tloc.border { float-list }\t3' and 5' borders, bases\n",
      "\tgene { str-list }\t\tincluded genes\n",
      "\tloc.append { str-list }\t\tappend meta-information from LOCDB groups\n",
      "\n",
      "\tlocus-set-groups\tMasks based on sets of loci from a LOCDB\n",
      "\t---------------------------------------------------------\n",
      "\tlocset { str-list }\t\tincluded locus-sets\n",
      "\tlocset.group { str }\t\tgroup variants by locus-set group\n",
      "\tlocset.subset { str-list }\tsubsetted locus-sets\n",
      "\tlocset.skip { str-list }\tskipped locus-sets\n",
      "\tlocset.ex { str-list }\t\texcluded locus-sets\n",
      "\tlocset.req { str-list }\t\trequired locus-sets\n",
      "\tlocset.append { str-list }\tappend meta-information from LOCDB locus-sets\n",
      "\n",
      "\tmisc-masks\t\tVarious other masks\n",
      "\t---------------------------------------------------------\n",
      "\tem { float }\t\t\tapply GL/PL-based EM; keep genotypes with prob > n\n",
      "\tall.group\t\t\tall filtered variants as a single group\n",
      "\tempty.group\t\t\tin group-iteration, include groups with no variants\n",
      "\tlimit { int }\t\t\tlimit iteration to first n results\n",
      "\tdowncode\t\t\tdo not downcode multi-allelic variants as k-1 biallelic variants\n",
      "\tcollapse\t\t\trepresent multi-allelic variants as one REF/non-REF variant\n",
      "\tno-merge\t\t\tdo not merge any sites at all\n",
      "\texact-merge\t\t\tonly merge variants with same REF/ALT alleles\n",
      "\tany-merge\t\t\tcombine overlapping variants\n",
      "\n",
      "\tphenotype\t\tIndividual masks based on phenotypes from INDDB\n",
      "\t---------------------------------------------------------\n",
      "\tphe { str-list }\t\tinclude individuals meeting at least one phenotype criterion\n",
      "\tphe.ex { str-list }\t\texclude individuals meeting at least one phenotype criterion\n",
      "\tphe.req { str-list }\t\trequire individuals meet all phenotype criteria\n",
      "\tphe.allow.missing\t\tdo not exclude individuals with missing --pheno\n",
      "\n",
      "\tref-variants\t\tMasks based on REFDB variants\n",
      "\t---------------------------------------------------------\n",
      "\tref { str-list }\t\tinclude variants in reference variant groups\n",
      "\tref.ex { str-list }\t\texclude variants in reference variant groups\n",
      "\tref.req { str-list }\t\tinclude only variants in all listed reference variant groups\n",
      "\tref.append { str-list }\t\tappend meta-information from REFDB groups\n",
      "\tref.allelic\t\t\tALT allele specific REFDB matching (biallelic sites only)\n",
      "\n",
      "\tregions\t\t\tInterval-based masks specified on the command line\n",
      "\t---------------------------------------------------------\n",
      "\treg { str-list }\t\tinclude region(s)\n",
      "\treg.ex { str-list }\t\trequire regions(s)\n",
      "\treg.req { str-list }\t\texclude regions(s)\n",
      "\treg.group { str-list }\t\tgroup variants by list of regions (not implemented)\n",
      "\tereg { str-list }\t\tinclude exact region(s)\n",
      "\tereg.ex { str-list }\t\trequire exact regions(s)\n",
      "\tereg.req { str-list }\t\texclude exact regions(s)\n",
      "\n",
      "\tsamples\t\t\tInclude/exclude individuals/files\n",
      "\t---------------------------------------------------------\n",
      "\tfile { str-list }\t\tfiles included\n",
      "\tfile.ex { str-list }\t\tfiles excluded\n",
      "\tindiv { str-list }\t\tinclude only these individuals\n",
      "\tindiv.ex { str-list }\t\texclude these individuals\n",
      "\n",
      "\tskip\t\t\tOptions to skip reading certain things (improves speed)\n",
      "\t---------------------------------------------------------\n",
      "\tno-vmeta\t\t\tskip all variant meta-data\n",
      "\tno-geno\t\t\t\tskip all genotype data\n",
      "\tno-gmeta\t\t\tskip all genotype meta-data\n",
      "\tload-vmeta { str-list }\t\tload only these variant meta-fields\n",
      "\tload-gmeta { str-list }\t\tload only these genotype meta-fields\n",
      "\n",
      "\tvmeta\t\t\tMasks based on a variant's meta-information (INFO field)\n",
      "\t---------------------------------------------------------\n",
      "\tinclude { expr }\t\tfilter sample-variants based on logical expression\n",
      "\teval { expr }\t\t\tevaluate sample-variants expression\n",
      "\tv-include { expr }\t\tfilter variants based on logical expression\n",
      "\tmeta { str-list }\t\tinclude variants passing any meta-field criterion\n",
      "\tmeta.req { str-list }\t\trequire variants passing all meta-field criteria\n",
      "\tmeta.attach { str-list }\tattach meta-fields uploaded to VARDB\n",
      "\tmeta.file { str-list }\t\ton-the-fly append meta-fields directly from a file\n",
      "\n",
      "\n",
      "pseq help {group}\n",
      "pseq help {command}\n",
      "\n"
     ]
    }
   ],
   "source": [
    "pseq help all"
   ]
  },
  {
   "cell_type": "markdown",
   "metadata": {
    "kernel": "SoS"
   },
   "source": [
    "**Create a new project**"
   ]
  },
  {
   "cell_type": "code",
   "execution_count": 3,
   "metadata": {
    "kernel": "Bash"
   },
   "outputs": [],
   "source": [
    "cd ~/work\n",
    "# to change directory to pseq folder"
   ]
  },
  {
   "cell_type": "code",
   "execution_count": 5,
   "metadata": {
    "kernel": "Bash"
   },
   "outputs": [
    {
     "name": "stdout",
     "output_type": "stream",
     "text": [
      "Creating new project specification file [ myproj.pseq ]\n"
     ]
    }
   ],
   "source": [
    "pseq myproj new-project --resources hg19"
   ]
  },
  {
   "cell_type": "markdown",
   "metadata": {
    "kernel": "SoS"
   },
   "source": [
    "Creating new project specification file \\[ myproj.pseq \\]\n",
    "\n",
    "The “--resources” flag tells **pseq** where your supporting databases\n",
    "are located. For this exercise the necessary databases have already been\n",
    "created and are within your exercise directory. Instructions on how to\n",
    "create these databases is located at:\n",
    "\n",
    "*http://atgu.mgh.harvard.edu/plinkseq/resources.shtml*.\n",
    "\n",
    "**Load variant data**\n",
    "\n",
    "Import all vcf files under the current directory:"
   ]
  },
  {
   "cell_type": "code",
   "execution_count": 6,
   "metadata": {
    "kernel": "Bash"
   },
   "outputs": [
    {
     "name": "stdout",
     "output_type": "stream",
     "text": [
      "loading : /home/jovyan/work/CEU.exon.2010_03.genotypes.hg19.vcf.gz ( 90 individuals )\n",
      "parsed 3000 rows        \n",
      "loading : /home/jovyan/work/YRI.exon.2010_03.genotypes.hg19.vcf.gz ( 112 individuals )\n",
      "parsed 5000 rows        \n",
      "/home/jovyan/work/CEU.exon.2010_03.genotypes.hg19.vcf.gz : inserted 3489 variants\n",
      "/home/jovyan/work/YRI.exon.2010_03.genotypes.hg19.vcf.gz : inserted 5175 variants\n"
     ]
    }
   ],
   "source": [
    "pseq myproj load-vcf --vcf CEU.exon.2010_03.genotypes.hg19.vcf.gz YRI.exon.2010_03.genotypes.hg19.vcf.gz"
   ]
  },
  {
   "cell_type": "markdown",
   "metadata": {
    "kernel": "SoS"
   },
   "source": [
    "Note CEU are European-Americans and YRI are Yoruba from Nigeria.\n",
    "\n",
    "**Load phenotype data**"
   ]
  },
  {
   "cell_type": "code",
   "execution_count": 7,
   "metadata": {
    "kernel": "Bash"
   },
   "outputs": [
    {
     "name": "stdout",
     "output_type": "stream",
     "text": [
      "Processed 202 rows\n"
     ]
    }
   ],
   "source": [
    "pseq myproj load-pheno --file phenotype.phe"
   ]
  },
  {
   "cell_type": "markdown",
   "metadata": {
    "kernel": "SoS"
   },
   "source": [
    "The “phenotype.phe” file contains phenotypes for SEX, BMI and RACE (BMI\n",
    "is body mass index, males are denoted by a 1 and females by 2).\n",
    "Instruction on formatting .phe file can be found at\n",
    "*https://atgu.mgh.harvard.edu/plinkseq/input.shtml\\#phe*.\n",
    "\n",
    "**View variants and samples**\n",
    "\n",
    "To view variant sites info:"
   ]
  },
  {
   "cell_type": "code",
   "execution_count": 8,
   "metadata": {
    "kernel": "Bash"
   },
   "outputs": [
    {
     "name": "stdout",
     "output_type": "stream",
     "text": [
      "chr1:1115461\t.\tC/T\t.\t1\tPASS\n",
      "chr1:1115503\t.\tT/C\t.\t1\tSBFilter\n",
      "chr1:1115510\t.\tC/T\t.\t1\tPASS\n",
      "chr1:1115548\t.\tG/A\t.\t1\tPASS\n",
      "chr1:1115604\t.\tC/A\t.\t1\tPASS\n",
      "chr1:1118275\trs61733845\tC/T\t.\t2\tPASS\n",
      "chr1:1119399\t.\tC/T\t.\t1\tPASS\n",
      "chr1:1119434\t.\tC/A\t.\t1\tPASS\n",
      "chr1:1120370\t.\tC/G\t.\t1\tPASS\n",
      "chr1:1120377\t.\tT/A\t.\t1\tPASS\n"
     ]
    }
   ],
   "source": [
    "pseq myproj v-view | head"
   ]
  },
  {
   "cell_type": "markdown",
   "metadata": {
    "kernel": "SoS"
   },
   "source": [
    "v-view command outputs a per-variant level view of a project, with the\n",
    "above fields: chromosome (base-position); variant-ID (or ‘.’ If novel);\n",
    "ref/alt alleles; a sample/file identifier (or ‘.’ If consensus variant);\n",
    "\\# of samples the variant observed in; filter values for samples (here\n",
    "‘PASS’ means that the variant site passes all filter and ‘SBFilter’\n",
    "means that the variant site fails to pass the strand bias (SB) filter).\n",
    "More details about v-view command can be found at\n",
    "*https://atgu.mgh.harvard.edu/plinkseq/view.shtml\\#var*\n",
    "\n",
    "To view samples and phenotypes:"
   ]
  },
  {
   "cell_type": "code",
   "execution_count": 9,
   "metadata": {
    "kernel": "Bash"
   },
   "outputs": [
    {
     "name": "stdout",
     "output_type": "stream",
     "text": [
      "#BMI (Float) \"BMI\"\n",
      "#RACE (String) \"RACE\"\n",
      "#SEX (Integer) \"SEX\"\n",
      "#PHE\t.\n",
      "#STRATA\t.\n",
      "#ID\tFID\tIID\tMISS\tSEX\tPAT\tMAT\tMETA\n",
      "NA06984\t.\t.\t0\t0\t.\t.\tBMI=36.353;RACE=CEU;SEX=1\n",
      "NA06985\t.\t.\t0\t0\t.\t.\tBMI=21.415;RACE=CEU;SEX=2\n",
      "NA06986\t.\t.\t0\t0\t.\t.\tBMI=26.898;RACE=CEU;SEX=1\n",
      "NA06989\t.\t.\t0\t0\t.\t.\tBMI=25.015;RACE=CEU;SEX=2\n"
     ]
    }
   ],
   "source": [
    "# i-view command writes to standard output to view individuals’ phenotype information\n",
    "pseq myproj i-view | head"
   ]
  },
  {
   "cell_type": "markdown",
   "metadata": {
    "kernel": "SoS"
   },
   "source": [
    "There are 3 fields, BMI, RACE and SEX contained in the input phenotype\n",
    "file, phenotype.phe. The headers are \\#ID – main unique individual ID;\n",
    "FID – optional family ID; IID: optional individual ID; MISS – a flag to\n",
    "indicate missing data; SEX – sex; PAT – paternal ID; MAT – maternal ID;\n",
    "META – meta information of fields from input phenotype file. More\n",
    "details about i-view command outputs can be found at\n",
    "*<https://atgu.mgh.harvard.edu/plinkseq/view.shtml#ind>.*\n",
    "\n",
    "**Summary**\n",
    "\n",
    "To view a summary of the complete project"
   ]
  },
  {
   "cell_type": "code",
   "execution_count": 10,
   "metadata": {
    "kernel": "Bash"
   },
   "outputs": [
    {
     "name": "stdout",
     "output_type": "stream",
     "text": [
      "\n",
      "---Variant DB summary---\n",
      "\n",
      "6987 unique variants\n",
      "File tag : 1 (3489 variants, 90 individuals)\n",
      "File tag : 2 (5175 variants, 112 individuals)\n",
      "\n",
      "---Individual DB summary---\n",
      "\n",
      "202 unique individuals\n",
      "Phenotype : BMI (Float) \"BMI\"\n",
      "Phenotype : RACE (String) \"RACE\"\n",
      "Phenotype : SEX (Integer) \"SEX\"\n",
      "\n",
      "---Locus DB summary---\n",
      "\n",
      "Group : refseq (81714 entries) n/a\n",
      "\n",
      "---Reference DB summary---\n",
      "\n",
      "(empty)\n",
      "\n",
      "---File-index summary---\n",
      "\n",
      "Core project specification index : myproj.pseq\n",
      "Core OUTPUT file : /home/jovyan/work/myproj_out/\n",
      "Core RESOURCES file : /home/jovyan/work/hg19/\n",
      "Core LOCDB file : /home/jovyan/work/hg19/locdb\n",
      "Core INDDB file : /home/jovyan/work/myproj_out/inddb\n",
      "Core VARDB file : /home/jovyan/work/myproj_out/vardb\n",
      "Core LOG file : /home/jovyan/work/myproj_out/log.txt\n",
      "Core SEQDB file : /home/jovyan/work/hg19/seqdb\n",
      "Core REFDB file : /home/jovyan/work/hg19/refdb\n",
      "Added VCF : /home/jovyan/work/CEU.exon.2010_03.genotypes.hg19.vcf.gz\n",
      "Added VCF : /home/jovyan/work/YRI.exon.2010_03.genotypes.hg19.vcf.gz\n",
      "Added PHE : /home/jovyan/work/phenotype.phe\n",
      "\n",
      "---Meta-information summary---\n",
      "\n",
      "AA : Ancestral Allele, ftp://ftp.1000genomes.ebi.ac.uk/vol1/ftp/pilot_data/technical/reference/ancestral_alignments/README (Variants, String)\n",
      "AC : total number of alternate alleles in called genotypes (Variants, Integer)\n",
      "AN : total number of alleles in called genotypes (Variants, Integer)\n",
      "DP : Total Depth (Variants, Integer)\n",
      "HM2 : HapMap2 membership (Variants, Flag)\n",
      "HM3 : HapMap3 membership (Variants, Flag)\n",
      "PASS : Passed variant FILTERs (Filters, Flag)\n",
      "SBFilter : \"Some Filter\" (Filters, Flag)\n",
      "DP : Read Depth from MOSAIK BAM (Genotypes, Integer)\n",
      "BMI : \"BMI\" (Individuals, Float)\n",
      "RACE : \"RACE\" (Individuals, String)\n",
      "SEX : \"SEX\" (Individuals, Integer)\n",
      "\n"
     ]
    }
   ],
   "source": [
    "pseq myproj summary"
   ]
  },
  {
   "cell_type": "markdown",
   "metadata": {
    "kernel": "SoS"
   },
   "source": [
    "Command above will generate a long list of output. To view summaries of\n",
    "portions of the project, i.e., variant data, phenotype data, locus data,\n",
    "reference data, sequence data, input files and meta data:"
   ]
  },
  {
   "cell_type": "code",
   "execution_count": 11,
   "metadata": {
    "kernel": "Bash"
   },
   "outputs": [
    {
     "name": "stdout",
     "output_type": "stream",
     "text": [
      "---Variant DB summary---\n",
      "\n",
      "6987 unique variants\n",
      "File tag : 1 (3489 variants, 90 individuals)\n",
      "File tag : 2 (5175 variants, 112 individuals)\n",
      "\n"
     ]
    }
   ],
   "source": [
    "pseq myproj var-summary"
   ]
  },
  {
   "cell_type": "code",
   "execution_count": 12,
   "metadata": {
    "kernel": "Bash"
   },
   "outputs": [
    {
     "name": "stdout",
     "output_type": "stream",
     "text": [
      "---Individual DB summary---\n",
      "\n",
      "202 unique individuals\n",
      "Phenotype : BMI (Float) \"BMI\"\n",
      "Phenotype : RACE (String) \"RACE\"\n",
      "Phenotype : SEX (Integer) \"SEX\"\n",
      "\n"
     ]
    }
   ],
   "source": [
    "pseq myproj ind-summary"
   ]
  },
  {
   "cell_type": "code",
   "execution_count": 13,
   "metadata": {
    "kernel": "Bash"
   },
   "outputs": [
    {
     "name": "stdout",
     "output_type": "stream",
     "text": [
      "---Locus DB summary---\n",
      "\n",
      "Group : refseq (81714 entries) n/a\n",
      "\n"
     ]
    }
   ],
   "source": [
    "pseq myproj loc-summary"
   ]
  },
  {
   "cell_type": "code",
   "execution_count": 14,
   "metadata": {
    "kernel": "Bash"
   },
   "outputs": [
    {
     "name": "stdout",
     "output_type": "stream",
     "text": [
      "---Reference DB summary---\n",
      "\n",
      "(empty)\n",
      "\n"
     ]
    }
   ],
   "source": [
    "pseq myproj ref-summary"
   ]
  },
  {
   "cell_type": "code",
   "execution_count": 15,
   "metadata": {
    "kernel": "Bash"
   },
   "outputs": [],
   "source": [
    "pseq myproj seq-summary"
   ]
  },
  {
   "cell_type": "code",
   "execution_count": 16,
   "metadata": {
    "kernel": "Bash"
   },
   "outputs": [
    {
     "name": "stdout",
     "output_type": "stream",
     "text": [
      "---File-index summary---\n",
      "\n",
      "Core project specification index : myproj.pseq\n",
      "Core OUTPUT file : /home/jovyan/work/myproj_out/\n",
      "Core RESOURCES file : /home/jovyan/work/hg19/\n",
      "Core LOCDB file : /home/jovyan/work/hg19/locdb\n",
      "Core INDDB file : /home/jovyan/work/myproj_out/inddb\n",
      "Core VARDB file : /home/jovyan/work/myproj_out/vardb\n",
      "Core LOG file : /home/jovyan/work/myproj_out/log.txt\n",
      "Core SEQDB file : /home/jovyan/work/hg19/seqdb\n",
      "Core REFDB file : /home/jovyan/work/hg19/refdb\n",
      "Added VCF : /home/jovyan/work/CEU.exon.2010_03.genotypes.hg19.vcf.gz\n",
      "Added VCF : /home/jovyan/work/YRI.exon.2010_03.genotypes.hg19.vcf.gz\n",
      "Added PHE : /home/jovyan/work/phenotype.phe\n",
      "\n"
     ]
    }
   ],
   "source": [
    "pseq myproj file-summary"
   ]
  },
  {
   "cell_type": "code",
   "execution_count": 17,
   "metadata": {
    "kernel": "Bash"
   },
   "outputs": [
    {
     "name": "stdout",
     "output_type": "stream",
     "text": [
      "---Meta-information summary---\n",
      "\n",
      "AA : Ancestral Allele, ftp://ftp.1000genomes.ebi.ac.uk/vol1/ftp/pilot_data/technical/reference/ancestral_alignments/README (Variants, String)\n",
      "AC : total number of alternate alleles in called genotypes (Variants, Integer)\n",
      "AN : total number of alleles in called genotypes (Variants, Integer)\n",
      "DP : Total Depth (Variants, Integer)\n",
      "HM2 : HapMap2 membership (Variants, Flag)\n",
      "HM3 : HapMap3 membership (Variants, Flag)\n",
      "PASS : Passed variant FILTERs (Filters, Flag)\n",
      "SBFilter : \"Some Filter\" (Filters, Flag)\n",
      "DP : Read Depth from MOSAIK BAM (Genotypes, Integer)\n",
      "BMI : \"BMI\" (Individuals, Float)\n",
      "RACE : \"RACE\" (Individuals, String)\n",
      "SEX : \"SEX\" (Individuals, Integer)\n",
      "\n"
     ]
    }
   ],
   "source": [
    "pseq myproj meta-summary"
   ]
  },
  {
   "cell_type": "markdown",
   "metadata": {
    "kernel": "SoS"
   },
   "source": [
    "More details about viewing summary information for project databases can\n",
    "be found at *https://atgu.mgh.harvard.edu/plinkseq/proj.shtml\\#summ*\n",
    "\n",
    "Based on the “pseq myproj var-summary” command there are 6987 unique\n",
    "variant sites for CEU and YRI, with the CEU sample having 3489 variant\n",
    "sites and the YRI sample 5175 variant sites. .\n",
    "\n",
    "For an overview of variant summary statistics:"
   ]
  },
  {
   "cell_type": "code",
   "execution_count": 18,
   "metadata": {
    "kernel": "Bash"
   },
   "outputs": [
    {
     "name": "stdout",
     "output_type": "stream",
     "text": [
      "NVAR\t6987\n",
      "RATE\t0.568384\n",
      "MAC\t19.8557\n",
      "MAF\t0.0691347\n",
      "SING\t2064\n",
      "MONO\t30\n",
      "TITV\t3.57264\n",
      "TITV_S\t3.77778\n",
      "DP\t8426.74\n",
      "QUAL\tNA\n",
      "PASS\t0.999857\n",
      "FILTER|PASS\t0.999857\n",
      "FILTER|SBFilter\t0.000143123\n",
      "PASS_S\t1\n"
     ]
    }
   ],
   "source": [
    "pseq myproj v-stats"
   ]
  },
  {
   "cell_type": "markdown",
   "metadata": {
    "kernel": "SoS"
   },
   "source": [
    "v-stats command obtains summary statistics across variants. Output\n",
    "statistics are NVAR – total number of variants; RATE – average call\n",
    "rate; MAC – mean minor allele count; MAF – mean minor allele frequency;\n",
    "SING – number of singletons; MONO – number of monomorphic sites; TITV –\n",
    "transition/transversion (Ti/Tv) ratio; TITV\\_S – Ti/Tv ratio for\n",
    "singletons; DP – mean variant read depth; QUAL – mean QUAL score from\n",
    "VCF; PASS – proportion of variants that PASS all FILTERS; FILTER|PASS –\n",
    "proportion of variants that pass all filters; FILTER|SBFilter –\n",
    "proportion of variants that fail to pass SB filter. More details about\n",
    "v-stats command outputs can be found at\n",
    "*https://atgu.mgh.harvard.edu/plinkseq/stats.shtml\\#var*\n",
    "\n",
    "For individual level summary statistics:"
   ]
  },
  {
   "cell_type": "code",
   "execution_count": 19,
   "metadata": {
    "kernel": "Bash"
   },
   "outputs": [
    {
     "name": "stdout",
     "output_type": "stream",
     "text": [
      "ID\tNALT\tNMIN\tNHET\tNVAR\tRATE\tSING\tTITV\tPASS\tPASS_S\tQUAL\tDP\n",
      "NA06984\t719\t568\t480\t3162\t0.452555\t8\t3.61789\t568\t8\tNA\t13489\n",
      "NA06985\t655\t531\t420\t3144\t0.449979\t10\t3.5\t531\t10\tNA\t13530.3\n",
      "NA06986\t773\t643\t503\t3437\t0.491914\t22\t3.69343\t643\t22\tNA\t12535.8\n",
      "NA06989\t699\t532\t469\t3130\t0.447975\t8\t3.22222\t532\t8\tNA\t13549.7\n",
      "NA06994\t591\t464\t377\t3002\t0.429655\t3\t3.59406\t464\t3\tNA\t13923.8\n",
      "NA07000\t802\t613\t517\t3388\t0.484901\t10\t3.67939\t613\t10\tNA\t12292.6\n",
      "NA07037\t800\t631\t512\t3374\t0.482897\t4\t3.60584\t631\t4\tNA\t12357.4\n",
      "NA07048\t817\t675\t607\t3373\t0.482754\t15\t3.29936\t675\t15\tNA\t12909.5\n",
      "NA07051\t825\t637\t507\t3451\t0.493917\t13\t3.05732\t637\t13\tNA\t11929\n"
     ]
    }
   ],
   "source": [
    "pseq myproj i-stats | head"
   ]
  },
  {
   "cell_type": "markdown",
   "metadata": {
    "kernel": "SoS"
   },
   "source": [
    "i-stats command obtains a matrix of summary statistics for every\n",
    "individual in a project. Output statistics are ID – individual ID; NALT\n",
    "– number of non-reference genotypes; NMIN – number of genotypes with a\n",
    "minor allele; NHET – number of heterozygous genotypes for individual;\n",
    "NVAR – total number of called variants for individual; RATE – genotyping\n",
    "rate for individual; SING – number of singletons individuals has; TITV –\n",
    "mean Ti/Tv for variants for which individual has a nonreference\n",
    "genotype; PASS – number of variants passing for which individual has a\n",
    "nonreference genotype; PASS\\_S - number of singletons passing for which\n",
    "individual has a (singleton) nonreference genotype; QUAL - mean QUAL for\n",
    "variants for which individual has a nonreference genotype; DP - mean\n",
    "variant DP for variants for which individual has a nonreference\n",
    "genotype. More details about i-stats command output can be found at\n",
    "*https://atgu.mgh.harvard.edu/plinkseq/stats.shtml\\#ind*\n",
    "\n",
    "The file tags (listed at the top of the “pseq myproj var-summary”\n",
    "results as “1” for the CEU imported VCF file and “2” for YRI imported\n",
    "VCF file) can be changed to more identifiable names using the commands:"
   ]
  },
  {
   "cell_type": "code",
   "execution_count": 20,
   "metadata": {
    "kernel": "Bash"
   },
   "outputs": [],
   "source": [
    "pseq myproj tag-file --id 1 --name CEU"
   ]
  },
  {
   "cell_type": "code",
   "execution_count": 21,
   "metadata": {
    "kernel": "Bash"
   },
   "outputs": [],
   "source": [
    "pseq myproj tag-file --id 2 --name YRI"
   ]
  },
  {
   "cell_type": "markdown",
   "metadata": {
    "kernel": "SoS"
   },
   "source": [
    "To view changes use the command:"
   ]
  },
  {
   "cell_type": "code",
   "execution_count": 22,
   "metadata": {
    "kernel": "Bash"
   },
   "outputs": [
    {
     "name": "stdout",
     "output_type": "stream",
     "text": [
      "---Variant DB summary---\n",
      "\n",
      "6987 unique variants\n",
      "File tag : CEU (3489 variants, 90 individuals)\n",
      "File tag : YRI (5175 variants, 112 individuals)\n",
      "\n"
     ]
    }
   ],
   "source": [
    "pseq myproj var-summary"
   ]
  },
  {
   "cell_type": "markdown",
   "metadata": {
    "kernel": "SoS"
   },
   "source": [
    "This will help us later for viewing population specific data as well as\n",
    "filtering and analyzing data based on population.\n",
    "\n",
    "**Variant statistics**\n",
    "\n",
    "Variant statistics such as Hardy-Weinberg equilibrium, minor allele\n",
    "count, and minor allele frequency can be output using the “v-freq”\n",
    "command:"
   ]
  },
  {
   "cell_type": "code",
   "execution_count": 23,
   "metadata": {
    "kernel": "Bash"
   },
   "outputs": [
    {
     "name": "stdout",
     "output_type": "stream",
     "text": [
      "VAR\tCHR\tPOS\tREF\tALT\tFILTER\tQUAL\tTI\tGENO\tMAC\tMAF\tREFMIN\tHWE\tHET\tNSNP\n",
      "chr1:1115461\t1\t1115461\tC\tT\tPASS\t.\t1\t0.311881\t4\t0.031746\t0\t1\t0.0634921\t3\n",
      "chr1:1115503\t1\t1115503\tT\tC\tSBFilter\t.\t1\t0.282178\t4\t0.0350877\t0\t1\t0.0701754\t2\n",
      "chr1:1115510\t1\t1115510\tC\tT\tPASS\t.\t1\t0.331683\t2\t0.0149254\t0\t1\t0.0298507\t2\n",
      "chr1:1115548\t1\t1115548\tG\tA\tPASS\t.\t1\t0.262376\t1\t0.00943396\t0\t1\t0.0188679\t1\n",
      "chr1:1115604\t1\t1115604\tC\tA\tPASS\t.\t0\t0.287129\t3\t0.0258621\t0\t1\t0.0517241\t0\n",
      "chr1:1118275\t1\t1118275\tC\tT\tPASS\t.\t1\t0.579208\t45\t0.192308\t0\t0.367544\t0.282051\t0\n",
      "chr1:1119399\t1\t1119399\tC\tT\tPASS\t.\t1\t0.49505\t3\t0.015\t0\t1\t0.03\t1\n",
      "chr1:1119434\t1\t1119434\tC\tA\tPASS\t.\t0\t0.49505\t1\t0.005\t0\t1\t0.01\t0\n",
      "chr1:1120370\t1\t1120370\tC\tG\tPASS\t.\t0\t0.49505\t16\t0.08\t0\t0.478564\t0.14\t2\n"
     ]
    }
   ],
   "source": [
    "pseq myproj v-freq | head"
   ]
  },
  {
   "cell_type": "markdown",
   "metadata": {
    "kernel": "SoS"
   },
   "source": [
    "Please note that it is not valid to filter for deviation from HWE using\n",
    "the entire project since there are two populations, instead the HWE much\n",
    "be examined for each individual project.\n",
    "\n",
    "For population specific variant statistics use the “--mask” flag with\n",
    "the “file” option:"
   ]
  },
  {
   "cell_type": "code",
   "execution_count": 24,
   "metadata": {
    "kernel": "Bash"
   },
   "outputs": [
    {
     "name": "stdout",
     "output_type": "stream",
     "text": [
      "VAR\tCHR\tPOS\tREF\tALT\tFILTER\tQUAL\tTI\tGENO\tMAC\tMAF\tREFMIN\tHWE\tHET\tNSNP\n",
      "chr1:1115503\t1\t1115503\tT\tC\tSBFilter\t0\t1\t0.633333\t4\t0.0350877\t0\t1\t0.0701754\t1\n",
      "chr1:1115548\t1\t1115548\tG\tA\tPASS\t0\t1\t0.588889\t1\t0.00943396\t0\t1\t0.0188679\t0\n",
      "chr1:1118275\t1\t1118275\tC\tT\tPASS\t0\t1\t0.677778\t3\t0.0245902\t0\t1\t0.0491803\t0\n",
      "chr1:1120377\t1\t1120377\tT\tA\tPASS\t0\t0\t0.988889\t1\t0.00561798\t0\t1\t0.011236\t1\n",
      "chr1:1120431\t1\t1120431\tG\tA\tPASS\t0\t1\t0.855556\t6\t0.038961\t0\t1\t0.0779221\t0\n",
      "chr1:3548136\t1\t3548136\tT\tC\tPASS\t0\t1\t0.811111\t18\t0.123288\t1\t1\t0.219178\t0\n",
      "chr1:3548832\t1\t3548832\tG\tC\tPASS\t0\t0\t0.988889\t13\t0.0730337\t0\t1\t0.146067\t0\n",
      "chr1:3551737\t1\t3551737\tC\tT\tPASS\t0\t1\t0.988889\t1\t0.00561798\t0\t1\t0.011236\t1\n",
      "chr1:3551792\t1\t3551792\tG\tA\tPASS\t0\t1\t1\t8\t0.0444444\t0\t1\t0.0888889\t0\n"
     ]
    }
   ],
   "source": [
    "pseq myproj v-freq --mask file=CEU | head"
   ]
  },
  {
   "cell_type": "markdown",
   "metadata": {
    "kernel": "SoS"
   },
   "source": [
    "As you see, the “--mask” flag is used to set conditions for the viewing\n",
    "or filtering variants or individuals. More details about “v-freq”\n",
    "command can be found at\n",
    "\n",
    "*https://atgu.mgh.harvard.edu/plinkseq/tutorial.shtml*\n",
    "\n",
    "**Data Cleaning**\n",
    "\n",
    "**Removal of low quality variants**\n",
    "\n",
    "To view the number of variants that passed all quality filters:"
   ]
  },
  {
   "cell_type": "code",
   "execution_count": 25,
   "metadata": {
    "kernel": "Bash"
   },
   "outputs": [
    {
     "name": "stdout",
     "output_type": "stream",
     "text": [
      "chr1:1115461\t.\tC/T\t.\t1\tPASS\n",
      "chr1:1115510\t.\tC/T\t.\t1\tPASS\n",
      "chr1:1115548\t.\tG/A\t.\t1\tPASS\n",
      "chr1:1115604\t.\tC/A\t.\t1\tPASS\n",
      "chr1:1118275\trs61733845\tC/T\t.\t2\tPASS\n",
      "chr1:1119399\t.\tC/T\t.\t1\tPASS\n",
      "chr1:1119434\t.\tC/A\t.\t1\tPASS\n",
      "chr1:1120370\t.\tC/G\t.\t1\tPASS\n",
      "chr1:1120377\t.\tT/A\t.\t1\tPASS\n",
      "chr1:1120431\trs1320571\tG/A\t.\t2\tPASS\n"
     ]
    }
   ],
   "source": [
    "pseq myproj v-view --mask any.filter.ex | head"
   ]
  },
  {
   "cell_type": "code",
   "execution_count": 26,
   "metadata": {
    "kernel": "Bash"
   },
   "outputs": [
    {
     "name": "stdout",
     "output_type": "stream",
     "text": [
      "6986\n"
     ]
    }
   ],
   "source": [
    "pseq myproj v-view --mask any.filter.ex | wc -l"
   ]
  },
  {
   "cell_type": "markdown",
   "metadata": {
    "kernel": "SoS"
   },
   "source": [
    "There are 6986 unique variant sites that have passed the quality\n",
    "filters. The “--mask” flag gives the condition(s) that must be met for\n",
    "the variant to be listed. Here “any.filter.ex” tells **pseq** to remove\n",
    "any variants that failed 1 or more quality filters. Only variants that\n",
    "have a ‘PASS’ value in the FILTER field of the vcf file will be\n",
    "selected. More details about filtering variants on FILTER field can be\n",
    "found at *https://atgu.mgh.harvard.edu/plinkseq/masks.shtml\\#filter*\n",
    "\n",
    "To view the number of variants that failed any quality filter:"
   ]
  },
  {
   "cell_type": "code",
   "execution_count": 27,
   "metadata": {
    "kernel": "Bash"
   },
   "outputs": [
    {
     "name": "stdout",
     "output_type": "stream",
     "text": [
      "1\n"
     ]
    }
   ],
   "source": [
    "pseq myproj v-view --mask any.filter | wc -l"
   ]
  },
  {
   "cell_type": "markdown",
   "metadata": {
    "kernel": "SoS"
   },
   "source": [
    "One variant failed the filter. To select only variants that passed all\n",
    "quality filters:"
   ]
  },
  {
   "cell_type": "code",
   "execution_count": 28,
   "metadata": {
    "kernel": "Bash"
   },
   "outputs": [],
   "source": [
    "pseq myproj var-set --group pass --mask any.filter.ex"
   ]
  },
  {
   "cell_type": "code",
   "execution_count": 29,
   "metadata": {
    "kernel": "Bash"
   },
   "outputs": [
    {
     "name": "stdout",
     "output_type": "stream",
     "text": [
      "---Variant DB summary---\n",
      "\n",
      "6987 unique variants\n",
      "File tag : CEU (3489 variants, 90 individuals)\n",
      "File tag : YRI (5175 variants, 112 individuals)\n",
      "\n",
      "Set pass containing 8663 variants\n",
      "\n"
     ]
    }
   ],
   "source": [
    "pseq myproj var-summary"
   ]
  },
  {
   "cell_type": "markdown",
   "metadata": {
    "kernel": "SoS"
   },
   "source": [
    "The “var-set” option tells **pseq** that we will be creating a new set\n",
    "of variants, the input following the “--group” flag gives the name of\n",
    "the new variant set, and the input following the “--mask” flag gives the\n",
    "condition(s) that must be met for the variant to be included in the new\n",
    "variant set.\n",
    "\n",
    "If we consider variant sites with a read depth &lt; 15 as low quality\n",
    "variant sites and we want to remove variants that did not meet this\n",
    "threshold. Note that ‘DP’, which denotes total read depth of a variant\n",
    "site, is contained in the INFO field of vcf file."
   ]
  },
  {
   "cell_type": "code",
   "execution_count": 30,
   "metadata": {
    "kernel": "Bash"
   },
   "outputs": [],
   "source": [
    "pseq myproj var-set --group pass_DP15 --mask include=\"DP>14\" var=pass"
   ]
  },
  {
   "cell_type": "code",
   "execution_count": 31,
   "metadata": {
    "kernel": "Bash"
   },
   "outputs": [
    {
     "name": "stdout",
     "output_type": "stream",
     "text": [
      "---Variant DB summary---\n",
      "\n",
      "6987 unique variants\n",
      "File tag : CEU (3489 variants, 90 individuals)\n",
      "File tag : YRI (5175 variants, 112 individuals)\n",
      "\n",
      "Set pass containing 8663 variants\n",
      "Set pass_DP15 containing 8662 variants\n",
      "\n"
     ]
    }
   ],
   "source": [
    "pseq myproj var-summary"
   ]
  },
  {
   "cell_type": "markdown",
   "metadata": {
    "kernel": "Bash"
   },
   "source": [
    "Only one variant site is removed. The “var=allpass” option allows us to\n",
    "use a previously defined variant set as a reference for additional\n",
    "filtering of a previously filtered variant set. By using various\n",
    "“--mask” commands you can filter out variants that are not useful for\n",
    "your particular study.\n",
    "\n",
    "**Filter data by genotype read depth 10**"
   ]
  },
  {
   "cell_type": "code",
   "execution_count": 32,
   "metadata": {
    "kernel": "Bash"
   },
   "outputs": [],
   "source": [
    "pseq myproj var-set --group pass_DP15_DPgeno10 --mask geno=DP:ge:11 var=pass_DP15"
   ]
  },
  {
   "cell_type": "code",
   "execution_count": 33,
   "metadata": {
    "kernel": "Bash"
   },
   "outputs": [
    {
     "name": "stdout",
     "output_type": "stream",
     "text": [
      "---Variant DB summary---\n",
      "\n",
      "6987 unique variants\n",
      "File tag : CEU (3489 variants, 90 individuals)\n",
      "File tag : YRI (5175 variants, 112 individuals)\n",
      "\n",
      "Set pass containing 8663 variants\n",
      "Set pass_DP15 containing 8662 variants\n",
      "Set pass_DP15_DPgeno10 containing 8662 variants\n",
      "\n"
     ]
    }
   ],
   "source": [
    "pseq myproj var-summary"
   ]
  },
  {
   "cell_type": "markdown",
   "metadata": {
    "kernel": "Bash"
   },
   "source": [
    "This command sets all genotypes with a sequencing depth (DP) &lt; 11 to\n",
    "null using the option “geno=DP:ge:11”. In the vcf file, genotype level\n",
    "DP information is contained in the genotype columns, present under each\n",
    "individual ID and is specific to every individual’s genotype. Available\n",
    "genotype level information is denoted by FORMAT column in the vcf file.\n",
    "\n",
    "**Association Tests for a Quantitative Trait**\n",
    "\n",
    "*NOTE: From this step forward the association tests will be performed\n",
    "for the CEU population only. The “file=YRI” tag can be used to perform\n",
    "the same tests on the YRI data.*\n",
    "\n",
    "**Select CEU variant sites**"
   ]
  },
  {
   "cell_type": "code",
   "execution_count": 34,
   "metadata": {
    "kernel": "Bash"
   },
   "outputs": [],
   "source": [
    "pseq myproj var-set --group pass_DP15_DPgeno10_CEU --mask file=CEU var=pass_DP15_DPgeno10"
   ]
  },
  {
   "cell_type": "code",
   "execution_count": 35,
   "metadata": {
    "kernel": "Bash"
   },
   "outputs": [
    {
     "name": "stdout",
     "output_type": "stream",
     "text": [
      "---Variant DB summary---\n",
      "\n",
      "6987 unique variants\n",
      "File tag : CEU (3489 variants, 90 individuals)\n",
      "File tag : YRI (5175 variants, 112 individuals)\n",
      "\n",
      "Set pass containing 8663 variants\n",
      "Set pass_DP15 containing 8662 variants\n",
      "Set pass_DP15_DPgeno10 containing 8662 variants\n",
      "Set pass_DP15_DPgeno10_CEU containing 3488 variants\n",
      "\n"
     ]
    }
   ],
   "source": [
    "pseq myproj var-summary"
   ]
  },
  {
   "cell_type": "markdown",
   "metadata": {
    "kernel": "Bash"
   },
   "source": [
    "Set pass\\_DP15\\_DPgeno10\\_CEU containing 3488 variants\n",
    "\n",
    "There are 3488 variant sites that can be found in CEU population dataset\n",
    "after QC.\n",
    "\n",
    "**Exclude variant sites with HWE p-value &lt; 5.7e-7**"
   ]
  },
  {
   "cell_type": "code",
   "execution_count": 36,
   "metadata": {
    "kernel": "Bash"
   },
   "outputs": [],
   "source": [
    "pseq myproj var-set --group pass_DP15_DPgeno10_CEU_HWE --mask hwe=5.7e-7:1 var=pass_DP15_DPgeno10_CEU"
   ]
  },
  {
   "cell_type": "code",
   "execution_count": 37,
   "metadata": {
    "kernel": "Bash"
   },
   "outputs": [
    {
     "name": "stdout",
     "output_type": "stream",
     "text": [
      "---Variant DB summary---\n",
      "\n",
      "6987 unique variants\n",
      "File tag : CEU (3489 variants, 90 individuals)\n",
      "File tag : YRI (5175 variants, 112 individuals)\n",
      "\n",
      "Set pass containing 8663 variants\n",
      "Set pass_DP15 containing 8662 variants\n",
      "Set pass_DP15_DPgeno10 containing 8662 variants\n",
      "Set pass_DP15_DPgeno10_CEU containing 3488 variants\n",
      "Set pass_DP15_DPgeno10_CEU_HWE containing 3479 variants\n",
      "\n"
     ]
    }
   ],
   "source": [
    "pseq myproj var-summary"
   ]
  },
  {
   "cell_type": "markdown",
   "metadata": {
    "kernel": "Bash"
   },
   "source": [
    "Set pass\\_DP15\\_DPgeno10\\_CEU containing 3479 variants\n",
    "\n",
    "There are 3479 variant sites that are in HWE (Hardy-Weinberg\n",
    "equilibrium) in CEU population. Details about tests for deviation from\n",
    "HWE can be found at\n",
    "[http://en.wikipedia.org/wiki/Hardy–Weinberg\\_principle](http://en.wikipedia.org/wiki/Hardy–Weinberg_principle)*.*\n",
    "Here we use a p-value cutoff of 5.7e-7 to exclude variant sites, for\n",
    "more details see reference\n",
    "http://www.nature.com/nature/journal/v447/n7145/full/nature05911.html\n",
    "\n",
    "**Filter variants by minor allele frequency (MAF)**\n",
    "\n",
    "We wish to analyze variant sites with different allele frequencies. In\n",
    "order to obtain the different data sets the following commands are used.\n",
    "\n",
    "To extract variant sites with MAF ≥ 0.05:"
   ]
  },
  {
   "cell_type": "code",
   "execution_count": 38,
   "metadata": {
    "kernel": "Bash"
   },
   "outputs": [],
   "source": [
    "pseq myproj var-set --group pass_DP15_DPgeno10_CEU_HWE_MAFgt05 --mask maf=0.05:0.5 var=pass_DP15_DPgeno10_CEU_HWE"
   ]
  },
  {
   "cell_type": "code",
   "execution_count": 39,
   "metadata": {
    "kernel": "Bash"
   },
   "outputs": [
    {
     "name": "stdout",
     "output_type": "stream",
     "text": [
      "---Variant DB summary---\n",
      "\n",
      "6987 unique variants\n",
      "File tag : CEU (3489 variants, 90 individuals)\n",
      "File tag : YRI (5175 variants, 112 individuals)\n",
      "\n",
      "Set pass containing 8663 variants\n",
      "Set pass_DP15 containing 8662 variants\n",
      "Set pass_DP15_DPgeno10 containing 8662 variants\n",
      "Set pass_DP15_DPgeno10_CEU containing 3488 variants\n",
      "Set pass_DP15_DPgeno10_CEU_HWE containing 3479 variants\n",
      "Set pass_DP15_DPgeno10_CEU_HWE_MAFgt05 containing 1429 variants\n",
      "\n"
     ]
    }
   ],
   "source": [
    "pseq myproj var-summary"
   ]
  },
  {
   "cell_type": "markdown",
   "metadata": {
    "kernel": "Bash"
   },
   "source": [
    "Set pass\\_DP15\\_DPgeno10\\_CEU\\_HWE\\_MAFgt05 containing 1429 variants\n",
    "\n",
    "There are 1429 variant sites in the CEU data set that pass QC with a MAF\n",
    "≥ 0.05. These variant sites are saved to the variant table;\n",
    "pass\\_DP15\\_DPgeno10\\_CEU\\_HWE\\_MAFgt05.\n",
    "\n",
    "To extract variant sites with MAF ≤ 0.01:\n"
   ]
  },
  {
   "cell_type": "code",
   "execution_count": 40,
   "metadata": {
    "kernel": "Bash"
   },
   "outputs": [],
   "source": [
    "pseq myproj var-set --group pass_DP15_DPgeno10_CEU_HWE_MAFlt01 --mask \"mac=1 maf=0.01\" var=pass_DP15_DPgeno10_CEU_HWE"
   ]
  },
  {
   "cell_type": "code",
   "execution_count": 41,
   "metadata": {
    "kernel": "Bash"
   },
   "outputs": [
    {
     "name": "stdout",
     "output_type": "stream",
     "text": [
      "---Variant DB summary---\n",
      "\n",
      "6987 unique variants\n",
      "File tag : CEU (3489 variants, 90 individuals)\n",
      "File tag : YRI (5175 variants, 112 individuals)\n",
      "\n",
      "Set pass containing 8663 variants\n",
      "Set pass_DP15 containing 8662 variants\n",
      "Set pass_DP15_DPgeno10 containing 8662 variants\n",
      "Set pass_DP15_DPgeno10_CEU containing 3488 variants\n",
      "Set pass_DP15_DPgeno10_CEU_HWE containing 3479 variants\n",
      "Set pass_DP15_DPgeno10_CEU_HWE_MAFgt05 containing 1429 variants\n",
      "Set pass_DP15_DPgeno10_CEU_HWE_MAFlt01 containing 1083 variants\n",
      "\n"
     ]
    }
   ],
   "source": [
    "pseq myproj var-summary"
   ]
  },
  {
   "cell_type": "markdown",
   "metadata": {
    "kernel": "Bash"
   },
   "source": [
    "Set pass\\_DP15\\_DPgeno10\\_CEU\\_HWE\\_MAFlt01 containing 1083 variants\n",
    "\n",
    "There are 1083 variant sites in the CEU dataset which pass QC with a MAF\n",
    "≤ 0.01. The variant sites are saved to the variant table;\n",
    "pass\\_DP15\\_DPgeno10\\_CEU\\_HWE\\_MAFlt01. Note that condition “mac=1”\n",
    "excludes monomorphic sites.\n",
    "\n",
    "More details about --mask options on filtering variants on sample\n",
    "polymorphism can be found at\n",
    "*https://atgu.mgh.harvard.edu/plinkseq/masks.shtml\\#maf*\n",
    "\n",
    "**Analysis of common variants (MAF ≥ 0.05)**\n",
    "\n",
    "To run a linear or logistic regression on each single variant, use the\n",
    "glm command. The type of test will depend on the phenotype (quantitative\n",
    "trait or dichotomous disease trait).\n",
    "\n",
    "To detect single variant association between quantitative phenotype BMI,\n",
    "controlling for sex and a group of variants, contained in variant table\n",
    "pass\\_DP15\\_DPgeno10\\_CEU\\_HWE\\_MAFgt05, filtered using each of the\n",
    "previous filtering conditions:\n"
   ]
  },
  {
   "cell_type": "code",
   "execution_count": 42,
   "metadata": {
    "kernel": "Bash"
   },
   "outputs": [],
   "source": [
    "pseq myproj glm --phenotype BMI --covar SEX --mask var=pass_DP15_DPgeno10_CEU_HWE_MAFgt05> SNV_CEU.result"
   ]
  },
  {
   "cell_type": "code",
   "execution_count": 43,
   "metadata": {
    "kernel": "Bash"
   },
   "outputs": [
    {
     "name": "stdout",
     "output_type": "stream",
     "text": [
      "VAR\tREF\tALT\tN\tF\tBETA\tSE\tSTAT\tP\n",
      "chr1:3548136\tT\tC\t73\t0.876712\t-1.53374\t1.85033\t-0.828897\t0.40998\n",
      "chr1:3548832\tG\tC\t89\t0.0730337\t1.13049\t2.26738\t0.49859\t0.619341\n",
      "chr1:6524501\tT\tC\t86\t0.0697674\t0.433904\t2.49357\t0.174009\t0.862282\n",
      "chr1:6524688\tT\tC\t88\t0.0511364\t-1.86795\t2.70494\t-0.690568\t0.491718\n",
      "chr1:11710561\tT\tG\t47\t0.117021\t-0.347495\t1.92692\t-0.180337\t0.857716\n",
      "chr1:17914057\tG\tA\t86\t0.0755814\t-1.59486\t2.34734\t-0.679432\t0.498754\n",
      "chr1:17914122\tG\tA\t85\t0.0823529\t2.61561\t2.1748\t1.20269\t0.232558\n",
      "chr1:17961345\tC\tT\t68\t0.110294\t2.99054\t2.00047\t1.49492\t0.139775\n",
      "chr1:17981184\tA\tC\t80\t0.15\t-1.83108\t1.63531\t-1.11972\t0.266315\n"
     ]
    }
   ],
   "source": [
    "head SNV_CEU.result"
   ]
  },
  {
   "cell_type": "markdown",
   "metadata": {
    "kernel": "Bash"
   },
   "source": [
    "The output statistics are VAR – variant identifier; REF – reference\n",
    "allele; ALT – alternate allele(s); N – number of individuals included in\n",
    "analysis; F – frequency of the alternate allele(s); BETA – regression\n",
    "coefficient; SE – standard error of estimate; STAT – test statistic; P –\n",
    "asymptotic p-value. More details about linear and logistic regression\n",
    "models can be found at\n",
    "*https://atgu.mgh.harvard.edu/plinkseq/assoc.shtml#glm*\n",
    "\n",
    "To view the results sorted by p-value:"
   ]
  },
  {
   "cell_type": "code",
   "execution_count": 44,
   "metadata": {
    "kernel": "Bash"
   },
   "outputs": [
    {
     "name": "stdout",
     "output_type": "stream",
     "text": [
      "VAR\tREF\tALT\tN\tF\tBETA\tSE\tSTAT\tP\n",
      "chr11:108383676\tA\tG\t90\t0.138889\t6.36308\t1.60942\t3.95365\t0.000156342\n",
      "chr19:16008388\tA\tC\t53\t0.122642\t6.88317\t1.73915\t3.95778\t0.000239339\n",
      "chr19:16006413\tG\tA\t80\t0.1\t6.31788\t1.78167\t3.54604\t0.000669193\n",
      "chr14:39901157\tC\tA\t36\t0.0555556\t10.8531\t3.12283\t3.47542\t0.00144933\n",
      "chr16:57735900\tG\tC\t80\t0.29375\t-4.18114\t1.43663\t-2.91039\t0.004718\n",
      "chr2:49189921\tC\tT\t90\t0.588889\t-3.345\t1.17772\t-2.84025\t0.0056123\n",
      "chr7:156742501\tC\tG\t9\t0.277778\t-12.1592\t2.89402\t-4.20149\t0.00567644\n",
      "chr2:49191041\tC\tT\t89\t0.58427\t-3.36254\t1.19515\t-2.81348\t0.00607226\n",
      "chr15:25926204\tC\tG\t83\t0.0783133\t5.79532\t2.13611\t2.71302\t0.00816109\n",
      "grep: write error: Broken pipe\n"
     ]
    }
   ],
   "source": [
    "cat SNV_CEU.result | awk '{if(FNR==1) print $0; if(NR>1) print $0 | \"sort -k9\"}' | grep -v \"NA\\s\\+NA\\s\\+NA\" | head"
   ]
  },
  {
   "cell_type": "markdown",
   "metadata": {
    "kernel": "Bash"
   },
   "source": [
    "\n",
    "**Analysis of rare variants (MAF *&lt;*0.01)**\n",
    "\n",
    "PSEQ has a collection of gene-based tests, *see\n",
    "<https://atgu.mgh.harvard.edu/plinkseq/assoc.shtml#genic>* for details.\n",
    "\n",
    "*However,* *Currently only the SKAT and SKAT-O can be used to analyze\n",
    "quantitative traits so the SKAT test will be used in the following rare\n",
    "variant burden analysis (if we choose to use other tests, e.g. WSS –\n",
    "frequency-weighted test, VT – variable threshold test, etc., the\n",
    "following error will be returned.*"
   ]
  },
  {
   "cell_type": "code",
   "execution_count": 45,
   "metadata": {
    "kernel": "Bash"
   },
   "outputs": [
    {
     "name": "stdout",
     "output_type": "stream",
     "text": [
      "pseq error : only SKAT/SKAT-O can handle quantitative traits\n"
     ]
    },
    {
     "ename": "",
     "evalue": "1",
     "output_type": "error",
     "traceback": []
    }
   ],
   "source": [
    "pseq myproj assoc --tests fw vt --phenotype BMI"
   ]
  },
  {
   "cell_type": "markdown",
   "metadata": {
    "kernel": "Bash"
   },
   "source": [
    "To perform SKAT, where rare variants aggregated across a gene region, a\n",
    "group-by mask is required. Here we use loc.group=refseq, where refseq\n",
    "denotes NCBI Reference Sequence Database. More details about grouping\n",
    "variants can be found at\n",
    "[*https://atgu.mgh.harvard.edu/plinkseq/masks.shtml\\#groups*](https://atgu.mgh.harvard.edu/plinkseq/masks.shtml#groups).\n",
    "More details about refseq can be found at\n",
    "<http://www.ncbi.nlm.nih.gov/refseq/>\n",
    "\n",
    "When performing single variant analysis data QC can be performed and\n",
    "then variant table containing selected variants can be analyzed. If a\n",
    "rare variant aggregate association test is being performed it is not\n",
    "possible using PSEQ to specify the name of the variant table, instead\n",
    "all of the QC parameters must be included in the command line in\n",
    "addition to the association test parameters.\n",
    "\n",
    "Running the SKAT test using the variant table results in an error:"
   ]
  },
  {
   "cell_type": "code",
   "execution_count": 46,
   "metadata": {
    "kernel": "Bash"
   },
   "outputs": [
    {
     "name": "stdout",
     "output_type": "stream",
     "text": [
      "pseq error : you cannot specify other includes in the mask with loc.group\n"
     ]
    },
    {
     "ename": "",
     "evalue": "1",
     "output_type": "error",
     "traceback": []
    }
   ],
   "source": [
    "pseq myproj assoc --tests skat --phenotype BMI --covar SEX --mask var=pass_DP15_DPgeno10_CEU_HWE_MAFlt01 loc.group=refseq > SKAT_CEU.result"
   ]
  },
  {
   "cell_type": "markdown",
   "metadata": {
    "kernel": "Bash"
   },
   "source": [
    "Additional details can be found at\n",
    "<https://atgu.mgh.harvard.edu/plinkseq/whatisnew.shtml>),\n",
    "\n",
    "Although we use the most recent version pseq-0.10 in this exercise (for\n",
    "which there is no updated documentation), the error still remains\n",
    "unresolved. Therefore, we have to redo cleaning on original data by\n",
    "re-specifying each filtering condition and run SKAT using one command as\n",
    "below:"
   ]
  },
  {
   "cell_type": "code",
   "execution_count": 47,
   "metadata": {
    "kernel": "Bash"
   },
   "outputs": [],
   "source": [
    "pseq myproj assoc --tests skat --phenotype BMI --covar SEX --mask include=\"DP>14\" geno=DP:ge:11 file=CEU hwe=5.7e-7:1 \"mac=1 maf=0.01\" loc.group=refseq > SKAT_CEU.result"
   ]
  },
  {
   "cell_type": "code",
   "execution_count": 48,
   "metadata": {
    "kernel": "Bash"
   },
   "outputs": [
    {
     "name": "stdout",
     "output_type": "stream",
     "text": [
      "LOCUS\tPOS\tALIAS\tNVAR\tTEST\tP\tI\tDESC\n",
      "NM_000055\tchr3:165548187\tG/A\tW=1\t0:0\n",
      "NM_000055\tchr3:165548187..165548187\tBCHE\t1\tSKAT\t0.237374\t.\t.\n",
      "NM_000112\tchr5:149359938\tC/G\tW=1\t0:0\n",
      "NM_000112\tchr5:149360143\tT/C\tW=1\t0:0\n",
      "NM_000112\tchr5:149360212\tA/G\tW=1\t0:0\n",
      "NM_000112\tchr5:149360215\tT/C\tW=1\t0:0\n",
      "NM_000112\tchr5:149361245\tG/A\tW=1\t0:0\n",
      "NM_000112\tchr5:149359938..149361245\tSLC26A2\t5\tSKAT\t0.293096\t.\t.\n",
      "NM_000119\tchr15:43498537\tC/T\tW=1\t0:0\n",
      "NM_000119\tchr15:43499436\tG/A\tW=1\t0:0\n",
      "NM_000119\tchr15:43500478\tC/T\tW=1\t0:0\n",
      "NM_000119\tchr15:43498537..43500478\tEPB42\t3\tSKAT\t0.422114\t.\t.\n",
      "NM_000122\tchr2:128016983\tC/T\tW=1\t0:0\n",
      "NM_000122\tchr2:128038204\tT/C\tW=1\t0:0\n",
      "NM_000122\tchr2:128016983..128038204\tERCC3\t2\tSKAT\t0.386466\t.\t.\n",
      "NM_000124\tchr10:50732644\tG/C\tW=1\t0:0\n",
      "NM_000124\tchr10:50738781\tT/C\tW=1\t0:0\n",
      "NM_000124\tchr10:50740844\tG/A\tW=1\t0:0\n",
      "NM_000124\tchr10:50740861\tC/T\tW=1\t0:0\n"
     ]
    }
   ],
   "source": [
    "head -20 SKAT_CEU.result"
   ]
  },
  {
   "cell_type": "markdown",
   "metadata": {
    "kernel": "Bash"
   },
   "source": [
    "For each gene region the list of the variants within the gene are\n",
    "listed, followed by gene-based association results. The I field is only\n",
    "available for case control data and provides the smallest possible\n",
    "empirical p-value which can be obtained for the variant sites and the\n",
    "DESC field which is also only available for case control data and it\n",
    "provides the number of case and control alternative alleles. Since we\n",
    "are analyzing quantitative trait data these fields are blank. Detailed\n",
    "explanation about each output field can be found at\n",
    "<https://atgu.mgh.harvard.edu/plinkseq/assoc.shtml#genic>\n",
    "\n",
    "To view the smallest p-values for each SKAT test:"
   ]
  },
  {
   "cell_type": "code",
   "execution_count": 49,
   "metadata": {
    "kernel": "Bash"
   },
   "outputs": [
    {
     "name": "stdout",
     "output_type": "stream",
     "text": [
      "NM_024837\tchr15:50152449..50264848\tATP8B4\t5\tSKAT\t0.00405073\t.\t.\n",
      "NM_001055\tchr16:28617413..28617413\tSULT1A1\t1\tSKAT\t0.00418122\t.\t.\n",
      "NM_177529\tchr16:28617413..28617413\t.\t1\tSKAT\t0.00418122\t.\t.\n",
      "NM_177530\tchr16:28617413..28617413\t.\t1\tSKAT\t0.00418122\t.\t.\n",
      "NM_177534\tchr16:28617413..28617413\t.\t1\tSKAT\t0.00418122\t.\t.\n",
      "NM_177536\tchr16:28617413..28617413\t.\t1\tSKAT\t0.00418122\t.\t.\n",
      "NM_001137559\tchr12:121746337..121764935\tANAPC5\t3\tSKAT\t0.00621198\t.\t.\n",
      "NM_016237\tchr12:121746337..121764935\t.\t3\tSKAT\t0.00621198\t.\t.\n",
      "NM_006371\tchr3:33174163..33174163\tCRTAP\t1\tSKAT\t0.00748816\t.\t.\n",
      "NM_006944\tchr2:234959642..234967570\tSPP2\t3\tSKAT\t0.00753125\t.\t.\n",
      "NM_018328\tchr2:149221327..149241000\tMBD5\t4\tSKAT\t0.00755692\t.\t.\n",
      "NM_000782\tchr20:52779338..52779338\tCYP24A1\t1\tSKAT\t0.00794735\t.\t.\n",
      "NM_001128915\tchr20:52779338..52779338\t.\t1\tSKAT\t0.00794735\t.\t.\n",
      "NM_001018088\tchr15:62204043..62302757\t.\t3\tSKAT\t0.0221564\t.\t.\n",
      "NM_017684\tchr15:62204043..62302757\tVPS13C\t3\tSKAT\t0.0221564\t.\t.\n",
      "sort: write failed: 'standard output': Broken pipe\n",
      "sort: write error\n"
     ]
    }
   ],
   "source": [
    "cat SKAT_CEU.result | grep SKAT | grep -v \"P=NA\" | sort -k6 | head -15"
   ]
  },
  {
   "cell_type": "markdown",
   "metadata": {
    "kernel": "Bash"
   },
   "source": [
    "Note that each test has been performed on each alternative transcript\n",
    "(NM\\_\\*) of each gene, e.g. transcripts NM\\_001055, NM\\_177529,\n",
    "NM\\_177530, NM\\_177534 and NM\\_177536 all belong to gene SULT1A1."
   ]
  },
  {
   "cell_type": "markdown",
   "metadata": {
    "kernel": "Bash"
   },
   "source": [
    "**Task**\n",
    "\n",
    "Repeat the above analysis but using the data from the Yoruba (YRI)\n",
    "population and answer the following questions."
   ]
  },
  {
   "cell_type": "markdown",
   "metadata": {
    "kernel": "SoS"
   },
   "source": [
    "**Question 1**\n",
    "List the four smallest p-values for the single variant tests for the\n",
    "common variants i.e. MAF *&gt;*0.05:"
   ]
  },
  {
   "cell_type": "markdown",
   "metadata": {
    "kernel": "SoS"
   },
   "source": [
    "1.) \n",
    "\n",
    "2.) \n",
    "\n",
    "3.) \n",
    "\n",
    "4.) "
   ]
  },
  {
   "cell_type": "markdown",
   "metadata": {
    "kernel": "SoS"
   },
   "source": [
    "**Question 2**\n",
    "List the four smallest p-values for the SKAT rare variant test:"
   ]
  },
  {
   "cell_type": "markdown",
   "metadata": {
    "kernel": "SoS"
   },
   "source": [
    "1.) \n",
    "\n",
    "2.) \n",
    "\n",
    "3.) \n",
    "\n",
    "4.) "
   ]
  },
  {
   "cell_type": "markdown",
   "metadata": {
    "kernel": "SoS"
   },
   "source": [
    "**Answers**\n",
    "\n",
    "**Question 1**\n",
    "\n",
    "Single variant test\n",
    "\n",
    "1.) chr21:26979752  0.00084882\n",
    "2.) chr17:3445901   0.000956475\n",
    "3.) chr17:9729445   0.0010022\n",
    "4.) chr19:15303225  0.0011692\n",
    "\n",
    "**Question 2**\n",
    "SKAT aggregate burden test\n",
    "\n",
    "1.) NM_207317 0.0210752\n",
    "2.) NM_032048 0.0238947\n",
    "3.) NM_002738 0.0255961\n",
    "4.) NM_212535 0.0255961"
   ]
  }
 ],
 "metadata": {
  "kernelspec": {
   "display_name": "SoS",
   "language": "sos",
   "name": "sos"
  },
  "language_info": {
   "codemirror_mode": "sos",
   "file_extension": ".sos",
   "mimetype": "text/x-sos",
   "name": "sos",
   "nbconvert_exporter": "sos_notebook.converter.SoS_Exporter",
   "pygments_lexer": "sos"
  },
  "sos": {
   "kernels": [
    [
     "Bash",
     "bash",
     "Bash",
     "#E6EEFF",
     "shell"
    ]
   ],
   "version": "0.22.9"
  }
 },
 "nbformat": 4,
 "nbformat_minor": 4
}
