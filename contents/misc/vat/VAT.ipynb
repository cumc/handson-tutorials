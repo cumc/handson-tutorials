{
 "cells": [
  {
   "cell_type": "markdown",
   "metadata": {
    "kernel": "SoS"
   },
   "source": [
    "# Overview\n",
    "Variant Association Tools [VAT, Wang et al (2014)] [1] was developed to perform quality control and association analysis of sequence data. It can also be used to analyze genotype data, e.g. exome chip data and imputed data. The software incorporates many rare variant association methods which include but not limited to Combined Multivariate Collapsing (CMC) [2], Burden of Rare Variants (BRV) [3], Weighted Sum Statistic (WSS) [4], Kernel Based Adaptive Cluster (KBAC) [5], Variable Threshold (VT) [6] and Sequence Kernel Association Test (SKAT) [7].\n",
    "VAT inherits the intuitive command-line interface of Variant Tools (VTools) [8] with re-design and implementation of its infrastructure to accommodate the scale of dataset generated from current sequencing efforts on large populations. Features of VAT are implemented into VTools subcommand system."
   ]
  },
  {
   "cell_type": "markdown",
   "metadata": {
    "kernel": "SoS"
   },
   "source": [
    "## Resources\n",
    "\n",
    "Basic concepts to handle sequence data using `vtools` can be found at:\n",
    "\n",
    "http://varianttools.sourceforge.net/Main/Concepts\n",
    "\n",
    "VAT Software documentation:\n",
    "\n",
    "http://varianttools.sourceforge.net/Main/Documentation"
   ]
  },
  {
   "cell_type": "markdown",
   "metadata": {
    "kernel": "SoS"
   },
   "source": [
    "## Genotype data\n",
    "\n",
    "Exome genotype data was downloaded from the 1000 Genomes pilot data July 2010 release for both the CEU and YRI populations. Only the autosomes are contained in the datasets accompanying this exercise.\n",
    "The data sets (`CEU.exon.2010_03.genotypes.vcf.gz, YRI.exon.2010_03.genotypes.vcf.gz`) are available from:\n",
    "ftp://ftp.1000genomes.ebi.ac.uk/vol1/ftp/pilot_data/release/2010_07/exon/snps"
   ]
  },
  {
   "cell_type": "markdown",
   "metadata": {
    "kernel": "SoS"
   },
   "source": [
    "## Phenotype data\n",
    "To demonstrate the association analysis, we simulated a quantitative trait phenotype (BMI). Please note that these phenotypes are NOT from the 1000 genome project."
   ]
  },
  {
   "cell_type": "markdown",
   "metadata": {
    "kernel": "SoS"
   },
   "source": [
    "### Computation resources\n",
    "Due to the nature of next-generation sequencing data, a reasonably powerful machine with high speed internet connection is needed to use this tool for real-world applications. For this reason, in this tutorial we will use a small demo dataset to demonstrate association analysis."
   ]
  },
  {
   "cell_type": "markdown",
   "metadata": {
    "kernel": "SoS"
   },
   "source": [
    "# Part I: Data Quality Control, Annotation and Variant/sample Selection\n",
    "\n",
    "## Getting started\n",
    "Please navigate to the exercise data directory, and check the available subcommands by typing:"
   ]
  },
  {
   "cell_type": "code",
   "execution_count": 1,
   "metadata": {
    "kernel": "Bash"
   },
   "outputs": [
    {
     "name": "stdout",
     "output_type": "stream",
     "text": [
      "usage: vtools [-h] [--version]\n",
      "              {init,import,phenotype,show,liftover,use,update,select,exclude,compare,output,export,remove,associate,admin,execute,simulate}\n",
      "              ...\n",
      "\n",
      "A variant calling, processing, annotation and analysis tool for next-\n",
      "generation sequencing studies.\n",
      "\n",
      "optional arguments:\n",
      "  -h, --help            show this help message and exit\n",
      "  --version             show program's version number and exit\n",
      "\n",
      "subcommands:\n",
      "  {init,import,phenotype,show,liftover,use,update,select,exclude,compare,output,export,remove,associate,admin,execute,simulate}\n",
      "    init                Create a new project, or a subproject from an existing\n",
      "                        parent project, or merge several existing projects\n",
      "                        into one\n",
      "    import              Import variants and related sample genotype from files\n",
      "                        in specified formats\n",
      "    phenotype           Manage sample phenotypes\n",
      "    show                Display content of a project\n",
      "    liftover            Set alternative reference genome and update\n",
      "                        alternative coordinates of all variant tables\n",
      "    use                 Prepare (download or import if necessary) and use an\n",
      "                        annotation database\n",
      "    update              Add or update fields of existing variants and genotype\n",
      "                        using information from specified existing fields,\n",
      "                        sample genotype, or external files\n",
      "    select              Output or save select variants that match specified\n",
      "                        conditions\n",
      "    exclude             Output or save variants after excluding variants that\n",
      "                        match specified conditions\n",
      "    compare             Compare sites, variants, or genotypes of variants in\n",
      "                        two or more variant tables\n",
      "    output              Output variants in tab or comma separated format\n",
      "    export              Export samples (variants and genotypes) in specified\n",
      "                        format\n",
      "    remove              Remove project or its contents such as variant tables,\n",
      "                        fields, and annotation databases.\n",
      "    associate           Test association between variants and phenotypes\n",
      "    admin               Perform various administrative tasks including merge\n",
      "                        and rename samples.\n",
      "    execute             Execute a SQL query\n",
      "    simulate            Simulate sequencing data using specified simulation\n",
      "                        models.\n",
      "\n",
      "Use 'vtools cmd -h' for details about each command. Please contact Bo Peng\n",
      "(bpeng at mdanderson.org) if you have any question.\n"
     ]
    }
   ],
   "source": [
    "vtools -h"
   ]
  },
  {
   "cell_type": "markdown",
   "metadata": {
    "kernel": "SoS"
   },
   "source": [
    "Subcommand system is used for various data manipulation tasks (to check details of each subcommand use `vtools <name of subcommand> -h`). This tutorial is mission oriented and focuses on a subset of the commands that are relevant to variant-phenotype association analysis, rather than introducing them systematically. For additional functionality, please refer to documentation and tutorials online."
   ]
  },
  {
   "cell_type": "markdown",
   "metadata": {
    "kernel": "SoS"
   },
   "source": [
    "### Initialize a project"
   ]
  },
  {
   "cell_type": "code",
   "execution_count": 2,
   "metadata": {
    "kernel": "Bash"
   },
   "outputs": [
    {
     "name": "stdout",
     "output_type": "stream",
     "text": [
      "INFO: variant tools 3.1.3 : Copyright (c) 2011 - 2016 Bo Peng\n",
      "INFO: Please visit https://github.com/vatlab/varianttools for more information.\n",
      "INFO: Creating a new project VATDemo\n"
     ]
    }
   ],
   "source": [
    "vtools init VATDemo"
   ]
  },
  {
   "cell_type": "markdown",
   "metadata": {
    "kernel": "SoS"
   },
   "source": [
    "Command `vtools init` creates a new project in the current directory. A directory can only have one project. After a project is created, subsequent `vtools` calls will automatically load the project in the current directory. Working from outside of a project directory is not allowed."
   ]
  },
  {
   "cell_type": "markdown",
   "metadata": {
    "kernel": "SoS"
   },
   "source": [
    "### Import variant and genotype data\n"
   ]
  },
  {
   "cell_type": "markdown",
   "metadata": {
    "kernel": "SoS"
   },
   "source": [
    "Import all vcf files under the current directory:\n"
   ]
  },
  {
   "cell_type": "code",
   "execution_count": 3,
   "metadata": {
    "kernel": "Bash"
   },
   "outputs": [
    {
     "name": "stdout",
     "output_type": "stream",
     "text": [
      "INFO: Importing variants from CEU.exon.2010_03.genotypes.vcf.gz (1/2)\n",
      "CEU.exon.2010_03.genotypes.vcf.gz: 100% [============\u001b[1;31m\u001b[0m] 4,306 17.8K/s in 00:00:00\n",
      "INFO: 3,489 new variants (3,489 SNVs) from 3,500 lines are imported.\n",
      "Importing genotypes: 100% [===========================\u001b[1;31m\u001b[0m] 3,489 6.8K/s in 00:00:00\n",
      "INFO: Importing variants from YRI.exon.2010_03.genotypes.vcf.gz (2/2)\n",
      "YRI.exon.2010_03.genotypes.vcf.gz: 100% [============\u001b[1;31m\u001b[0m] 5,967 17.5K/s in 00:00:00\n",
      "INFO: 3,498 new variants (5,175 SNVs) from 5,186 lines are imported.\n",
      "Importing genotypes: 100% [===========================\u001b[1;31m\u001b[0m] 6,987 9.3K/s in 00:00:00\n"
     ]
    }
   ],
   "source": [
    "vtools import *.vcf.gz --var_info DP filter --geno_info DP_geno --build hg18 -j1"
   ]
  },
  {
   "cell_type": "markdown",
   "metadata": {
    "kernel": "SoS"
   },
   "source": [
    "Command `vtools import` imports variants, sample genotypes and related information fields. The imported variants are saved to the master variant table for the project, along with their information fields.\n",
    "\n",
    "The command above imports two vcf files sequentially into an empty `vtools` project. The second `INFO` message in the screen output shows that 3,489 variant sites are imported from the first vcf file, where 3,489 new means that all of them are new because prior to importing the first vcf the project was empty so there was 0 site. The fourth `INFO` message tells that 5,175 variant sites are imported from the second vcf file, but only 3,498 of them are new (which are not seen in the existing 3,489) because prior to importing the second vcf there were already 3,489 existing variant sites from first vcf. \n",
    "\n",
    "Thus, 5,175 - 3,498 = 1,677 variant sites are overlapped sites between first and second vcfs. The last `INFO` message summarizes that the sum of variant sites contained in both vcfs is 8,664 = 3,489 + 5,175, where there are 6,987 variant sites after merging variants from both vcfs.\n",
    "\n",
    "More details about `vtools import` command can be found at:\n",
    "\n",
    "http://varianttools.sourceforge.net/Vtools/Import\n",
    "\n",
    "Since the input VCF file uses hg18 as the reference genome while most modern annotation data sources are hg19-based, we need to \"liftover\" our project using hg19 in order to use various annotation sources in the analysis. Vtools provides a command which is based on the tool of USCS `liftOver` to map the variants from existing reference genome to an alternative build. More details about `vtools liftover` command can be found at:\n",
    "\n",
    "http://varianttools.sourceforge.net/Vtools/Liftover"
   ]
  },
  {
   "cell_type": "code",
   "execution_count": 4,
   "metadata": {
    "kernel": "Bash"
   },
   "outputs": [
    {
     "name": "stdout",
     "output_type": "stream",
     "text": [
      "INFO: Downloading liftOver tool from UCSC\n",
      "liftOver: 100% [===============================\u001b[1;31m\u001b[0m] 28,777,496.0 5.6M/s in 00:00:05\n",
      "INFO: Downloading liftOver chain file from UCSC\n",
      "hg18ToHg19.over.chain.gz: 100% [================\u001b[1;31m\u001b[0m] 140,346.0 158.2K/s in 00:00:00\n",
      "INFO: Exporting variants in BED format\n",
      "Exporting variants: 100% [==========================\u001b[1;31m\u001b[0m] 6,987 199.9K/s in 00:00:00\n",
      "INFO: Running UCSC liftOver tool\n",
      "INFO: Flipping primary and alternative reference genome\n",
      "Updating table variant: 100% [=======================\u001b[1;31m\u001b[0m] 6,987 20.0K/s in 00:00:00\n"
     ]
    }
   ],
   "source": [
    "vtools liftover hg19 --flip"
   ]
  },
  {
   "cell_type": "markdown",
   "metadata": {
    "kernel": "SoS"
   },
   "source": [
    "### Import phenotype data\n",
    "\n",
    "The aim of the association test is to find variants that modulate the phenotype BMI. We simulated BMI values for each of the individuals. The phenotype file must be in plain text format with sample names matching the sample IDs in the vcf file(s):"
   ]
  },
  {
   "cell_type": "code",
   "execution_count": 5,
   "metadata": {
    "kernel": "SoS"
   },
   "outputs": [
    {
     "data": {
      "text/html": [
       "<div class=\"sos_hint\">> phenotypes.csv (5.0 KiB):</div>"
      ],
      "text/plain": [
       "\n",
       "> phenotypes.csv (5.0 KiB):"
      ]
     },
     "metadata": {},
     "output_type": "display_data"
    },
    {
     "data": {
      "text/html": [
       "\n",
       "    <div class='dataframe_container' style=\"max-height:400px\">\n",
       "    <input type=\"text\" class='dataframe_input' id=\"search_m32bdy8j\" onkeyup=\"filterDataFrame('m32bdy8j')\" placeholder=\"Search for names..\">\n",
       "    <table border=\"1\" id=\"dataframe_m32bdy8j\" class=\"sos_dataframe dataframe\">\n",
       "  <thead>\n",
       "    <tr style=\"text-align: right;\">\n",
       "      <th> &nbsp; <i class=\"fa fa-sort\" style=\"color:lightgray\" onclick=\"sortDataFrame('m32bdy8j', 0, 'numeric')\"></th>\n",
       "      <th>sample_name &nbsp; <i class=\"fa fa-sort\" style=\"color:lightgray\" onclick=\"sortDataFrame('m32bdy8j', 1, 'alphabetic')\"></th>\n",
       "      <th>panel &nbsp; <i class=\"fa fa-sort\" style=\"color:lightgray\" onclick=\"sortDataFrame('m32bdy8j', 2, 'alphabetic')\"></th>\n",
       "      <th>SEX &nbsp; <i class=\"fa fa-sort\" style=\"color:lightgray\" onclick=\"sortDataFrame('m32bdy8j', 3, 'numeric')\"></th>\n",
       "      <th>BMI &nbsp; <i class=\"fa fa-sort\" style=\"color:lightgray\" onclick=\"sortDataFrame('m32bdy8j', 4, 'numeric')\"></th>\n",
       "    </tr>\n",
       "  </thead>\n",
       "  <tbody>\n",
       "    <tr>\n",
       "      <th>0</th>\n",
       "      <td>NA06984</td>\n",
       "      <td>ILLUMINA</td>\n",
       "      <td>1</td>\n",
       "      <td>36.353</td>\n",
       "    </tr>\n",
       "    <tr>\n",
       "      <th>1</th>\n",
       "      <td>NA06985</td>\n",
       "      <td>NaN</td>\n",
       "      <td>2</td>\n",
       "      <td>21.415</td>\n",
       "    </tr>\n",
       "    <tr>\n",
       "      <th>2</th>\n",
       "      <td>NA06986</td>\n",
       "      <td>ABI_SOLID+ILLUMINA</td>\n",
       "      <td>1</td>\n",
       "      <td>26.898</td>\n",
       "    </tr>\n",
       "    <tr>\n",
       "      <th>3</th>\n",
       "      <td>NA06989</td>\n",
       "      <td>ILLUMINA</td>\n",
       "      <td>2</td>\n",
       "      <td>25.015</td>\n",
       "    </tr>\n",
       "    <tr>\n",
       "      <th>4</th>\n",
       "      <td>NA06994</td>\n",
       "      <td>ABI_SOLID+ILLUMINA</td>\n",
       "      <td>1</td>\n",
       "      <td>23.858</td>\n",
       "    </tr>\n",
       "    <tr>\n",
       "      <th>5</th>\n",
       "      <td>NA07000</td>\n",
       "      <td>ABI_SOLID+ILLUMINA</td>\n",
       "      <td>2</td>\n",
       "      <td>36.226</td>\n",
       "    </tr>\n",
       "    <tr>\n",
       "      <th>6</th>\n",
       "      <td>NA07037</td>\n",
       "      <td>ILLUMINA</td>\n",
       "      <td>1</td>\n",
       "      <td>32.513</td>\n",
       "    </tr>\n",
       "    <tr>\n",
       "      <th>7</th>\n",
       "      <td>NA07048</td>\n",
       "      <td>ILLUMINA</td>\n",
       "      <td>2</td>\n",
       "      <td>17.570</td>\n",
       "    </tr>\n",
       "    <tr>\n",
       "      <th>8</th>\n",
       "      <td>NA07051</td>\n",
       "      <td>ILLUMINA</td>\n",
       "      <td>1</td>\n",
       "      <td>37.142</td>\n",
       "    </tr>\n",
       "    <tr>\n",
       "      <th>9</th>\n",
       "      <td>NA07346</td>\n",
       "      <td>NaN</td>\n",
       "      <td>2</td>\n",
       "      <td>30.978</td>\n",
       "    </tr>\n",
       "  </tbody>\n",
       "</table></div>"
      ]
     },
     "metadata": {},
     "output_type": "display_data"
    }
   ],
   "source": [
    "%preview phenotypes.csv -n -l 10"
   ]
  },
  {
   "cell_type": "markdown",
   "metadata": {
    "kernel": "SoS"
   },
   "source": [
    "The phenotype file includes information for every individual, the sample name, sequencing panel, sex and BMI. To import the phenotype data:"
   ]
  },
  {
   "cell_type": "code",
   "execution_count": 6,
   "metadata": {
    "kernel": "Bash"
   },
   "outputs": [
    {
     "name": "stdout",
     "output_type": "stream",
     "text": [
      "INFO: Adding phenotype panel of type VARCHAR(24)\n",
      "INFO: Adding phenotype SEX of type INT\n",
      "INFO: Adding phenotype BMI of type FLOAT\n",
      "INFO: 3 field (3 new, 0 existing) phenotypes of 202 samples are updated.\n"
     ]
    }
   ],
   "source": [
    "vtools phenotype --from_file phenotypes.csv --delimiter \",\""
   ]
  },
  {
   "cell_type": "markdown",
   "metadata": {
    "kernel": "SoS"
   },
   "source": [
    "Unlike `vtools import`, this command imports/adds properties to samples rather than to variants. More details about `vtools phenotype` command can be found at:\n",
    "\n",
    "http://varianttools.sourceforge.net/Vtools/Phenotype"
   ]
  },
  {
   "cell_type": "markdown",
   "metadata": {
    "kernel": "SoS"
   },
   "source": [
    "### View imported data\n",
    "Summary information for the project can be viewed anytime using the command `vtools show`, which displays various project and system information. More details about `vtools show` can be found at:\n",
    "\n",
    "http://varianttools.sourceforge.net/Vtools/Show\n",
    "\n",
    "Some useful data summary commands are:"
   ]
  },
  {
   "cell_type": "code",
   "execution_count": 7,
   "metadata": {
    "kernel": "Bash"
   },
   "outputs": [
    {
     "name": "stdout",
     "output_type": "stream",
     "text": [
      "Project name:                VATDemo\n",
      "Created on:                  Mon Jan 25 20:45:27 2021\n",
      "Primary reference genome:    hg19\n",
      "Secondary reference genome:  hg18\n",
      "Storage method:              hdf5\n",
      "Runtime options:             verbosity=1, shared_resource=/home/jovyan/.variant_tools, local_resource=/home/jovyan/.variant_tools\n",
      "Variant tables:              variant\n",
      "Annotation databases:        \n",
      "\n"
     ]
    }
   ],
   "source": [
    "vtools show project"
   ]
  },
  {
   "cell_type": "code",
   "execution_count": 8,
   "metadata": {
    "kernel": "Bash"
   },
   "outputs": [
    {
     "name": "stdout",
     "output_type": "stream",
     "text": [
      "table      #variants     date message\n",
      "variant        6,987    Jan25 Master variant table\n"
     ]
    }
   ],
   "source": [
    "vtools show tables"
   ]
  },
  {
   "cell_type": "code",
   "execution_count": 9,
   "metadata": {
    "kernel": "Bash"
   },
   "outputs": [
    {
     "name": "stdout",
     "output_type": "stream",
     "text": [
      "Name:                   variant\n",
      "Description:            Master variant table\n",
      "Creation date:          Jan25\n",
      "Command:\n",
      "Fields:                 variant_id, bin, chr, pos, ref, alt, DP, filter,\n",
      "                        alt_bin, alt_chr, alt_pos\n",
      "Number of variants:     6987\n"
     ]
    }
   ],
   "source": [
    "vtools show table variant"
   ]
  },
  {
   "cell_type": "code",
   "execution_count": 10,
   "metadata": {
    "kernel": "Bash"
   },
   "outputs": [
    {
     "name": "stdout",
     "output_type": "stream",
     "text": [
      "variant.chr (char)      Chromosome name (VARCHAR)\n",
      "variant.pos (int)       Position (INT, 1-based)\n",
      "variant.ref (char)      Reference allele (VARCHAR, - for missing allele of an\n",
      "                        insertion)\n",
      "variant.alt (char)      Alternative allele (VARCHAR, - for missing allele of an\n",
      "                        deletion)\n",
      "variant.DP (int)\n",
      "variant.filter (char)\n",
      "variant.alt_chr (char)\n",
      "variant.alt_pos (int)\n"
     ]
    }
   ],
   "source": [
    "vtools show fields"
   ]
  },
  {
   "cell_type": "markdown",
   "metadata": {
    "kernel": "SoS"
   },
   "source": [
    "## Overview of variant and genotype data\n",
    "\n",
    "### Total number of variants\n",
    "\n",
    "The number of imported variants may be greater than number of lines in the vcf file, because when a variant has two alternative alleles (e.g. A->T/C) it is treated as two separate variants."
   ]
  },
  {
   "cell_type": "code",
   "execution_count": 11,
   "metadata": {
    "kernel": "Bash"
   },
   "outputs": [
    {
     "name": "stdout",
     "output_type": "stream",
     "text": [
      "Counting variants: 4 311.4/s in 00:00:00                                        \n",
      "6987\n"
     ]
    }
   ],
   "source": [
    "vtools select variant --count"
   ]
  },
  {
   "cell_type": "markdown",
   "metadata": {
    "kernel": "SoS"
   },
   "source": [
    "There are 6987 variants in our toy data-set."
   ]
  },
  {
   "cell_type": "markdown",
   "metadata": {
    "kernel": "SoS"
   },
   "source": [
    "`vtools select table condition action` selects from a variant table `table` a subset of variants satisfying a specified `condition`, and perform an `action` of\n",
    "\n",
    "- creating a new variant table if `--to_table` is specified.\n",
    "- counting the number of variants if `--count` is specified.\n",
    "- outputting selected variants if `--output` is specified."
   ]
  },
  {
   "cell_type": "markdown",
   "metadata": {
    "kernel": "SoS"
   },
   "source": [
    "The `condition` should be a SQL expression using one or more fields in a project (displayed in `vtools show` fields). If the condition argument is unspecified, then all variants in the table will be selected. An optional condition `--samples [condition]` can also be used to limit selected variants to specific samples. More details about `vtools select` command can be found at:\n",
    "\n",
    "http://varianttools.sourceforge.net/Vtools/Select"
   ]
  },
  {
   "cell_type": "markdown",
   "metadata": {
    "kernel": "SoS"
   },
   "source": [
    "### Genotype Summary\n",
    "\n",
    "The command `vtools show genotypes` displays the number of genotypes for each sample and names of the available genotype information fields for each sample, e.g. GT - genotype; DP geno - genotype read depth. Such information is useful for the calculation of summary statistics of genotypes (e.g. depth of coverage)."
   ]
  },
  {
   "cell_type": "code",
   "execution_count": 12,
   "metadata": {
    "kernel": "Bash"
   },
   "outputs": [],
   "source": [
    "vtools show genotypes > genotype_summary.txt"
   ]
  },
  {
   "cell_type": "code",
   "execution_count": 13,
   "metadata": {
    "kernel": "SoS"
   },
   "outputs": [
    {
     "data": {
      "text/html": [
       "<div class=\"sos_hint\">> genotype_summary.txt (11.5 KiB):</div>"
      ],
      "text/plain": [
       "\n",
       "> genotype_summary.txt (11.5 KiB):"
      ]
     },
     "metadata": {},
     "output_type": "display_data"
    },
    {
     "data": {
      "text/html": [
       "<div class=\"sos_hint\">203 lines (10 displayed, see --limit)</div>"
      ]
     },
     "metadata": {},
     "output_type": "display_data"
    },
    {
     "name": "stdout",
     "output_type": "stream",
     "text": [
      "sample_name\tfilename                 \tnum_genotypes\tsample_genotype_fields\n",
      "NA06984    \tCEU.exon...notypes.vcf.gz\t3162         \tDP,GT\n",
      "NA06985    \tCEU.exon...notypes.vcf.gz\t3144         \tDP,GT\n",
      "NA06986    \tCEU.exon...notypes.vcf.gz\t3437         \tDP,GT\n",
      "NA06989    \tCEU.exon...notypes.vcf.gz\t3130         \tDP,GT\n",
      "NA06994    \tCEU.exon...notypes.vcf.gz\t3002         \tDP,GT\n",
      "NA07000    \tCEU.exon...notypes.vcf.gz\t3388         \tDP,GT\n",
      "NA07037    \tCEU.exon...notypes.vcf.gz\t3374         \tDP,GT\n",
      "NA07048    \tCEU.exon...notypes.vcf.gz\t3373         \tDP,GT\n",
      "NA07051    \tCEU.exon...notypes.vcf.gz\t3451         \tDP,GT"
     ]
    }
   ],
   "source": [
    "%preview genotype_summary.txt -n -l 10"
   ]
  },
  {
   "cell_type": "markdown",
   "metadata": {
    "kernel": "SoS"
   },
   "source": [
    "### Variant Quality Overview\n",
    "\n",
    "The following command calculates summary statistics on the variant site depth of coverage (DP). Below is the command to calculate depth of coverage information for all variant sites."
   ]
  },
  {
   "cell_type": "code",
   "execution_count": 14,
   "metadata": {
    "kernel": "Bash"
   },
   "outputs": [
    {
     "name": "stdout",
     "output_type": "stream",
     "text": [
      "max_DP_\tmin_DP_\tavg_DP_           \tstdev_DP_         \tlower_quartile_DP_\tupper_quartile_DP_\n",
      "25490  \t13     \t6815.7702876771145\t3434.2804009099777\t4301              \t9143\n"
     ]
    }
   ],
   "source": [
    "vtools output variant \"max(DP)\" \"min(DP)\" \"avg(DP)\" \"stdev(DP)\" \"lower_quartile(DP)\" \"upper_quartile(DP)\" --header"
   ]
  },
  {
   "cell_type": "markdown",
   "metadata": {
    "kernel": "Bash"
   },
   "source": [
    "In the test data, the maximum DP for variant sites is 25490, minimum DP 13, average DP about 6815, standard deviation of DP about 3434, lower quartile of DP 4301 and upper quartile of DP 9143.\n",
    "\n",
    "The same syntax can be applied to other variant information or annotation information fields. The command `vtools output <name of variant table>` outputs properties of variants in a specified variant table. The properties include fields from annotation databases and variant tables, basically fields outputted from command `vtools show fields`, and SQL-supported functions and expressions. There are several freely available SQL resources on the web to learn more about SQL functions and expressions.\n",
    "\n",
    "It is also possible to view variant level summary statistic for variants satisfying certain filtering criteria using `vtools select <name of variant table>` command, for example to count only variants having passed all quality filters:"
   ]
  },
  {
   "cell_type": "code",
   "execution_count": 15,
   "metadata": {
    "kernel": "Bash"
   },
   "outputs": [
    {
     "name": "stdout",
     "output_type": "stream",
     "text": [
      "Counting variants: 5 352.6/s in 00:00:00                                        \n",
      "6987\n"
     ]
    }
   ],
   "source": [
    "vtools select variant \"filter='PASS'\" --count"
   ]
  },
  {
   "cell_type": "markdown",
   "metadata": {
    "kernel": "Bash"
   },
   "source": [
    "All 6987 variants have passed the quality filters. To combine variant filtering and summary statistics:"
   ]
  },
  {
   "cell_type": "code",
   "execution_count": 16,
   "metadata": {
    "kernel": "Bash"
   },
   "outputs": [
    {
     "name": "stdout",
     "output_type": "stream",
     "text": [
      "max_DP_\tmin_DP_\tavg_DP_           \tstdev_DP_         \tlower_quartile_DP_\tupper_quartile_DP_\n",
      "25490  \t13     \t6815.7702876771145\t3434.2804009099777\t4301              \t9143\n"
     ]
    }
   ],
   "source": [
    "vtools select variant \"filter='PASS'\" -o \"max(DP)\" \"min(DP)\" \"avg(DP)\" \"stdev(DP)\" \"lower_quartile(DP)\" \"upper_quartile(DP)\" --header"
   ]
  },
  {
   "cell_type": "markdown",
   "metadata": {
    "kernel": "Bash"
   },
   "source": [
    "The output information of command above will be the same as the previous vtools output command, since all variants have passed quality filter."
   ]
  },
  {
   "cell_type": "markdown",
   "metadata": {
    "kernel": "Bash"
   },
   "source": [
    "## Data exploration\n",
    "\n",
    "### Variant level summaries\n",
    "\n",
    "The command below will calculate:\n",
    "- `total`: Total number of genotypes (GT) for a variant\n",
    "- `num`: Total number of alternative alleles across all samples\n",
    "- `het`: Total number of heterozygote genotypes 1/0\n",
    "- `hom`: Total number of homozygote genotypes 1/1\n",
    "- `other`: Total number of double-homozygotes 1/2\n",
    "- `min/max/meanDP`: Summaries for depth of coverage and genotype quality across samples\n",
    "- `maf`: Minor allele frequency\n",
    "- Add calculated variant level statistics to `fields`, which can be shown by commands `vtools show fields` and `vtools show table variant`"
   ]
  },
  {
   "cell_type": "code",
   "execution_count": 17,
   "metadata": {
    "kernel": "Bash"
   },
   "outputs": [
    {
     "name": "stdout",
     "output_type": "stream",
     "text": [
      "INFO: Reading genotype info for processing....\n",
      "INFO: Adding variant info field num with type INT\n",
      "INFO: Adding variant info field hom with type INT\n",
      "INFO: Adding variant info field het with type INT\n",
      "INFO: Adding variant info field other with type INT\n",
      "INFO: Adding variant info field total with type INT\n",
      "INFO: Adding variant info field maf with type FLOAT\n",
      "INFO: Adding variant info field minDP with type INT\n",
      "INFO: Adding variant info field maxDP with type INT\n",
      "INFO: Adding variant info field meanDP with type FLOAT\n",
      "Updating variant: 100% [=============================\u001b[1;31m\u001b[0m] 6,987 16.4K/s in 00:00:00\n"
     ]
    }
   ],
   "source": [
    "vtools update variant --from_stat 'total=#(GT)' 'num=#(alt)' 'het=#(het)' 'hom=#(hom)' 'other=#(other)' 'minDP=min(DP_geno)' 'maxDP=max(DP_geno)' 'meanDP=avg(DP_geno)' 'maf=maf()'"
   ]
  },
  {
   "cell_type": "code",
   "execution_count": 18,
   "metadata": {
    "kernel": "Bash"
   },
   "outputs": [
    {
     "name": "stdout",
     "output_type": "stream",
     "text": [
      "variant.chr (char)      Chromosome name (VARCHAR)\n",
      "variant.pos (int)       Position (INT, 1-based)\n",
      "variant.ref (char)      Reference allele (VARCHAR, - for missing allele of an\n",
      "                        insertion)\n",
      "variant.alt (char)      Alternative allele (VARCHAR, - for missing allele of an\n",
      "                        deletion)\n",
      "variant.DP (int)\n",
      "variant.filter (char)\n",
      "variant.alt_chr (char)\n",
      "variant.alt_pos (int)\n",
      "variant.num (int)       Created from stat \"#(alt)\"  with type INT on Jan25\n",
      "variant.hom (int)       Created from stat \"#(hom)\"  with type INT on Jan25\n",
      "variant.het (int)       Created from stat \"#(het)\"  with type INT on Jan25\n",
      "variant.other (int)     Created from stat \"#(other)\"  with type INT on Jan25\n",
      "variant.total (int)     Created from stat \"#(GT)\"  with type INT on Jan25\n",
      "variant.maf (float)     Created from stat \"maf()\"  with type FLOAT on Jan25\n",
      "variant.minDP (int)     Created from stat \"min(DP_geno)\"  with type INT on Jan25\n",
      "variant.maxDP (int)     Created from stat \"max(DP_geno)\"  with type INT on Jan25\n",
      "variant.meanDP (float)  Created from stat \"avg(DP_geno)\"  with type FLOAT on\n",
      "                        Jan25\n"
     ]
    }
   ],
   "source": [
    "vtools show fields"
   ]
  },
  {
   "cell_type": "code",
   "execution_count": 19,
   "metadata": {
    "kernel": "Bash"
   },
   "outputs": [
    {
     "name": "stdout",
     "output_type": "stream",
     "text": [
      "Name:                   variant\n",
      "Description:            Master variant table\n",
      "Creation date:          Jan25\n",
      "Command:\n",
      "Fields:                 variant_id, bin, chr, pos, ref, alt, DP, filter,\n",
      "                        alt_bin, alt_chr, alt_pos, num, hom, het, other, total,\n",
      "                        maf, minDP, maxDP, meanDP\n",
      "Number of variants:     6987\n"
     ]
    }
   ],
   "source": [
    "vtools show table variant"
   ]
  },
  {
   "cell_type": "markdown",
   "metadata": {
    "kernel": "Bash"
   },
   "source": [
    "Command `vtools update` updates variant info fields (and to a lesser extend genotype info fields) by adding more fields or updating values at existing fields. It does not add any new variants or genotypes, and does not change existing variants, samples, or genotypes. Using three parameters `--from_file`, `--from_stat`, and `--set`, variant information fields could be updated from external file, sample genotypes, and existing fields. More details about vtools update command can be found at\n",
    "\n",
    "http://varianttools.sourceforge.net/Vtools/Update"
   ]
  },
  {
   "cell_type": "markdown",
   "metadata": {
    "kernel": "Bash"
   },
   "source": [
    "### Summaries for different genotype depth (GD) and genotype quality (GQ) filters\n",
    "\n",
    "The `--genotypes CONDITION` option restricts calculation to genotypes satisfying a given condition. Later we will remove individual genotypes by `DP_geno` filters. The command below will calculate summary statistics genotypes of all samples per variant site. It can assist us in determining filtering criteria for genotype call quality."
   ]
  },
  {
   "cell_type": "code",
   "execution_count": 20,
   "metadata": {
    "kernel": "Bash"
   },
   "outputs": [
    {
     "name": "stdout",
     "output_type": "stream",
     "text": [
      "INFO: Reading genotype info for processing....\n",
      "INFO: Adding variant info field numGD10 with type INT\n",
      "INFO: Adding variant info field homGD10 with type INT\n",
      "INFO: Adding variant info field hetGD10 with type INT\n",
      "INFO: Adding variant info field otherGD10 with type INT\n",
      "INFO: Adding variant info field totalGD10 with type INT\n",
      "INFO: Adding variant info field mafGD10 with type FLOAT\n",
      "Updating variant: 100% [=============================\u001b[1;31m\u001b[0m] 6,987 21.4K/s in 00:00:00\n"
     ]
    }
   ],
   "source": [
    "vtools update variant --from_stat 'totalGD10=#(GT)' 'numGD10=#(alt)' 'hetGD10=#(het)' 'homGD10=#(hom)' 'otherGD10=#(other)' 'mafGD10=maf()' --genotypes \"DP_geno > 10\""
   ]
  },
  {
   "cell_type": "code",
   "execution_count": 21,
   "metadata": {
    "kernel": "Bash"
   },
   "outputs": [
    {
     "name": "stdout",
     "output_type": "stream",
     "text": [
      "variant.chr (char)      Chromosome name (VARCHAR)\n",
      "variant.pos (int)       Position (INT, 1-based)\n",
      "variant.ref (char)      Reference allele (VARCHAR, - for missing allele of an\n",
      "                        insertion)\n",
      "variant.alt (char)      Alternative allele (VARCHAR, - for missing allele of an\n",
      "                        deletion)\n",
      "variant.DP (int)\n",
      "variant.filter (char)\n",
      "variant.alt_chr (char)\n",
      "variant.alt_pos (int)\n",
      "variant.num (int)       Created from stat \"#(alt)\"  with type INT on Jan25\n",
      "variant.hom (int)       Created from stat \"#(hom)\"  with type INT on Jan25\n",
      "variant.het (int)       Created from stat \"#(het)\"  with type INT on Jan25\n",
      "variant.other (int)     Created from stat \"#(other)\"  with type INT on Jan25\n",
      "variant.total (int)     Created from stat \"#(GT)\"  with type INT on Jan25\n",
      "variant.maf (float)     Created from stat \"maf()\"  with type FLOAT on Jan25\n",
      "variant.minDP (int)     Created from stat \"min(DP_geno)\"  with type INT on Jan25\n",
      "variant.maxDP (int)     Created from stat \"max(DP_geno)\"  with type INT on Jan25\n",
      "variant.meanDP (float)  Created from stat \"avg(DP_geno)\"  with type FLOAT on\n",
      "                        Jan25\n",
      "variant.numGD10 (int)   Created from stat \"#(alt)\"  with type INT on Jan25\n",
      "variant.homGD10 (int)   Created from stat \"#(hom)\"  with type INT on Jan25\n",
      "variant.hetGD10 (int)   Created from stat \"#(het)\"  with type INT on Jan25\n",
      "variant.otherGD10 (int) \n",
      "                        Created from stat \"#(other)\"  with type INT on Jan25\n",
      "variant.totalGD10 (int) \n",
      "                        Created from stat \"#(GT)\"  with type INT on Jan25\n",
      "variant.mafGD10 (float) \n",
      "                        Created from stat \"maf()\"  with type FLOAT on Jan25\n"
     ]
    }
   ],
   "source": [
    "vtools show fields"
   ]
  },
  {
   "cell_type": "code",
   "execution_count": 22,
   "metadata": {
    "kernel": "Bash"
   },
   "outputs": [
    {
     "name": "stdout",
     "output_type": "stream",
     "text": [
      "Name:                   variant\n",
      "Description:            Master variant table\n",
      "Creation date:          Jan25\n",
      "Command:\n",
      "Fields:                 variant_id, bin, chr, pos, ref, alt, DP, filter,\n",
      "                        alt_bin, alt_chr, alt_pos, num, hom, het, other, total,\n",
      "                        maf, minDP, maxDP, meanDP, numGD10, homGD10, hetGD10,\n",
      "                        otherGD10, totalGD10, mafGD10\n",
      "Number of variants:     6987\n"
     ]
    }
   ],
   "source": [
    "vtools show table variant"
   ]
  },
  {
   "cell_type": "markdown",
   "metadata": {
    "kernel": "Bash"
   },
   "source": [
    "You will notice the change in genotype counts when applying the filter on genotype depth of coverage and only retaining those genotypes with a read depth greater than 10X. There are now 6976 variant sites after filtering on `DP_geno>10`. Note that some variant sites will become monomorphic after removing genotypes due to low read depth.\n",
    "\n",
    "### Minor allele frequencies (MAFs)\n",
    "\n",
    "In previous steps, we calculated MAFs for each variant site before and after filtering on genotype read depth. Below is a summary of the results:"
   ]
  },
  {
   "cell_type": "code",
   "execution_count": 23,
   "metadata": {
    "kernel": "Bash"
   },
   "outputs": [
    {
     "name": "stdout",
     "output_type": "stream",
     "text": [
      "chr\tpos     \tmaf                  \tmafGD10\n",
      "1  \t1115503 \t0.03508771929824561  \t0.05128205128205128\n",
      "1  \t1115548 \t0.009433962264150943 \t0.01282051282051282\n",
      "1  \t1118275 \t0.19230769230769232  \t0.18023255813953487\n",
      "1  \t1120377 \t0.0056179775280898875\t0.0\n",
      "1  \t1120431 \t0.228125             \t0.2423076923076923\n",
      "1  \t3548136 \t0.12012987012987009  \t0.15217391304347827\n",
      "1  \t3548832 \t0.041025641025641026 \t0.043209876543209874\n",
      "1  \t3551737 \t0.0056179775280898875\t0.006172839506172839\n",
      "1  \t3551792 \t0.044444444444444446 \t0.05333333333333334\n",
      "1  \t3555351 \t0.0056179775280898875\t0.005813953488372093\n",
      "1  \t6524501 \t0.13114754098360656  \t0.14\n",
      "1  \t6524688 \t0.05113636363636364  \t0.056451612903225805\n",
      "1  \t6524703 \t0.011494252873563218 \t0.015625\n",
      "1  \t7838196 \t0.0056179775280898875\t0.006578947368421052\n",
      "1  \t10502369\t0.005747126436781609 \t0.006756756756756757\n",
      "1  \t11710561\t0.1111111111111111   \t0.10344827586206896\n",
      "1  \t17914057\t0.0755813953488372   \t0.0859375\n",
      "1  \t17914122\t0.08235294117647059  \t0.08064516129032258\n",
      "1  \t17928672\t0.00684931506849315  \t0.011363636363636364\n",
      "1  \t17949562\t0.006172839506172839 \t0.009615384615384616\n"
     ]
    }
   ],
   "source": [
    "vtools output variant chr pos maf mafGD10 --header --limit 20"
   ]
  },
  {
   "cell_type": "markdown",
   "metadata": {
    "kernel": "Bash"
   },
   "source": [
    "Adding “`> filename.txt`” at the end of the above command will write the output to a file.\n",
    "\n",
    "Next, we examine population specific MAFs. Our data is imported from two files, a CEU dataset (90 samples) and an YRI dataset (112 samples). To calculate allele frequency for each population, let us first assign an additional RACE phenotype (0 for YRI samples and 1 for CEU samples):"
   ]
  },
  {
   "cell_type": "code",
   "execution_count": 24,
   "metadata": {
    "kernel": "Bash"
   },
   "outputs": [
    {
     "name": "stdout",
     "output_type": "stream",
     "text": [
      "INFO: Adding phenotype RACE\n",
      "INFO: 112 values of 1 phenotypes (1 new, 0 existing) of 112 samples are updated.\n"
     ]
    }
   ],
   "source": [
    "vtools phenotype --set \"RACE=0\" --samples \"filename like 'YRI%'\""
   ]
  },
  {
   "cell_type": "code",
   "execution_count": 25,
   "metadata": {
    "kernel": "Bash"
   },
   "outputs": [
    {
     "name": "stdout",
     "output_type": "stream",
     "text": [
      "INFO: 90 values of 1 phenotypes (0 new, 1 existing) of 90 samples are updated.\n"
     ]
    }
   ],
   "source": [
    "vtools phenotype --set \"RACE=1\" --samples \"filename like 'CEU%'\""
   ]
  },
  {
   "cell_type": "code",
   "execution_count": 26,
   "metadata": {
    "kernel": "Bash"
   },
   "outputs": [
    {
     "name": "stdout",
     "output_type": "stream",
     "text": [
      "sample_name\tfilename                 \tpanel             \tSEX\tBMI   \tRACE\n",
      "NA06984    \tCEU.exon...notypes.vcf.gz\tILLUMINA          \t1  \t36.353\t1\n",
      "NA06985    \tCEU.exon...notypes.vcf.gz\t.                 \t2  \t21.415\t1\n",
      "NA06986    \tCEU.exon...notypes.vcf.gz\tABI_SOLID+ILLUMINA\t1  \t26.898\t1\n",
      "NA06989    \tCEU.exon...notypes.vcf.gz\tILLUMINA          \t2  \t25.015\t1\n",
      "NA06994    \tCEU.exon...notypes.vcf.gz\tABI_SOLID+ILLUMINA\t1  \t23.858\t1\n",
      "NA07000    \tCEU.exon...notypes.vcf.gz\tABI_SOLID+ILLUMINA\t2  \t36.226\t1\n",
      "NA07037    \tCEU.exon...notypes.vcf.gz\tILLUMINA          \t1  \t32.513\t1\n",
      "NA07048    \tCEU.exon...notypes.vcf.gz\tILLUMINA          \t2  \t17.57 \t1\n",
      "NA07051    \tCEU.exon...notypes.vcf.gz\tILLUMINA          \t1  \t37.142\t1\n",
      "NA07346    \tCEU.exon...notypes.vcf.gz\t.                 \t2  \t30.978\t1\n",
      "(192 records omitted)\n"
     ]
    }
   ],
   "source": [
    "vtools show samples --limit 10"
   ]
  },
  {
   "cell_type": "markdown",
   "metadata": {
    "kernel": "Bash"
   },
   "source": [
    "Population specific MAF calculations will be performed using those genotypes that passed the read depth filter (`DP_geno>10`)."
   ]
  },
  {
   "cell_type": "code",
   "execution_count": 27,
   "metadata": {
    "kernel": "Bash"
   },
   "outputs": [
    {
     "name": "stdout",
     "output_type": "stream",
     "text": [
      "INFO: 90 samples are selected\n",
      "INFO: Reading genotype info for processing....\n",
      "INFO: Adding variant info field CEU_mafGD10 with type FLOAT\n",
      "Updating variant: 100% [=============================\u001b[1;31m\u001b[0m] 6,987 31.8K/s in 00:00:00\n"
     ]
    }
   ],
   "source": [
    "vtools update variant --from_stat 'CEU_mafGD10=maf()' --genotypes 'DP_geno>10' --samples \"RACE=1\""
   ]
  },
  {
   "cell_type": "code",
   "execution_count": 28,
   "metadata": {
    "kernel": "Bash"
   },
   "outputs": [
    {
     "name": "stdout",
     "output_type": "stream",
     "text": [
      "INFO: 112 samples are selected\n",
      "INFO: Reading genotype info for processing....\n",
      "INFO: Adding variant info field YRI_mafGD10 with type FLOAT\n",
      "Updating variant: 100% [=============================\u001b[1;31m\u001b[0m] 6,987 27.1K/s in 00:00:00\n"
     ]
    }
   ],
   "source": [
    "vtools update variant --from_stat 'YRI_mafGD10=maf()' --genotypes 'DP_geno>10' --samples \"RACE=0\""
   ]
  },
  {
   "cell_type": "code",
   "execution_count": 29,
   "metadata": {
    "kernel": "Bash"
   },
   "outputs": [
    {
     "name": "stdout",
     "output_type": "stream",
     "text": [
      "chr\tpos    \tmafGD10             \tCEU_mafGD10         \tYRI_mafGD10\n",
      "1  \t1115503\t0.05128205128205128 \t0.05128205128205128 \t0.0\n",
      "1  \t1115548\t0.01282051282051282 \t0.01282051282051282 \t0.0\n",
      "1  \t1118275\t0.18023255813953487 \t0.02127659574468085 \t0.3717948717948718\n",
      "1  \t1120377\t0.0                 \t0.0                 \t0.0\n",
      "1  \t1120431\t0.2423076923076923  \t0.025               \t0.42857142857142855\n",
      "1  \t3548136\t0.15217391304347827 \t0.17045454545454541 \t0.13541666666666663\n",
      "1  \t3548832\t0.043209876543209874\t0.08333333333333333 \t0.005952380952380952\n",
      "1  \t3551737\t0.006172839506172839\t0.006172839506172839\t0.0\n",
      "1  \t3551792\t0.05333333333333334 \t0.05333333333333334 \t0.0\n",
      "1  \t3555351\t0.005813953488372093\t0.005813953488372093\t0.0\n"
     ]
    }
   ],
   "source": [
    "vtools output variant chr pos mafGD10 CEU_mafGD10 YRI_mafGD10 --header --limit 10"
   ]
  },
  {
   "cell_type": "markdown",
   "metadata": {
    "kernel": "Bash"
   },
   "source": [
    "You will observe zero values because some variant sites are monomorphic or they are population specific.\n",
    "\n",
    "### Sample level genotype summaries\n",
    "\n",
    "Similar operations could be performed on a sample level instead of on a variant level. More details about obtaining genotype level summary information using `vtools phenotype --from_stat` can be found at \n",
    "\n",
    "http://varianttools.sourceforge.net/Vtools/Phenotype"
   ]
  },
  {
   "cell_type": "code",
   "execution_count": 30,
   "metadata": {
    "kernel": "Bash"
   },
   "outputs": [
    {
     "name": "stdout",
     "output_type": "stream",
     "text": [
      "Calculating phenotype: 100% [============================\u001b[1;31m\u001b[0m] 90 10.0/s in 00:00:09\n",
      "INFO: 180 values of 2 phenotypes (2 new, 0 existing) of 90 samples are updated.\n"
     ]
    }
   ],
   "source": [
    "vtools phenotype --from_stat 'CEU_totalGD10=#(GT)' 'CEU_numGD10=#(alt)' --genotypes 'DP_geno>10' --samples \"RACE=1\""
   ]
  },
  {
   "cell_type": "code",
   "execution_count": 31,
   "metadata": {
    "kernel": "Bash"
   },
   "outputs": [
    {
     "name": "stdout",
     "output_type": "stream",
     "text": [
      "Calculating phenotype: 100% [============================\u001b[1;31m\u001b[0m] 112 8.0/s in 00:00:14\n",
      "INFO: 224 values of 2 phenotypes (2 new, 0 existing) of 112 samples are updated.\n"
     ]
    }
   ],
   "source": [
    "vtools phenotype --from_stat 'YRI_totalGD10=#(GT)' 'YRI_numGD10=#(alt)' --genotypes 'DP_geno>10' --samples \"RACE=0\""
   ]
  },
  {
   "cell_type": "code",
   "execution_count": 32,
   "metadata": {
    "kernel": "Bash"
   },
   "outputs": [
    {
     "name": "stdout",
     "output_type": "stream",
     "text": [
      "sample_name\tCEU_totalGD10\tCEU_numGD10\tYRI_totalGD10\tYRI_numGD10\n",
      "NA06984\t2774\t849\tNA\tNA\n",
      "NA06985\t1944\t570\tNA\tNA\n",
      "NA06986\t3386\t1029\tNA\tNA\n",
      "NA06989\t2659\t819\tNA\tNA\n",
      "NA06994\t1730\t486\tNA\tNA\n",
      "NA07000\t3089\t979\tNA\tNA\n",
      "NA07037\t2990\t931\tNA\tNA\n",
      "NA07048\t3305\t1012\tNA\tNA\n",
      "NA07051\t3402\t1130\tNA\tNA\n",
      "NA07346\t3356\t1092\tNA\tNA\n",
      "NA07347\t3330\t1121\tNA\tNA\n",
      "NA07357\t3373\t1063\tNA\tNA\n",
      "NA10847\t2371\t791\tNA\tNA\n",
      "NA10851\t2408\t665\tNA\tNA\n",
      "NA11829\t3365\t1087\tNA\tNA\n",
      "NA11830\t2935\t939\tNA\tNA\n",
      "NA11831\t3379\t1069\tNA\tNA\n",
      "NA11832\t3398\t1149\tNA\tNA\n",
      "NA11840\t1886\t615\tNA\tNA\n",
      "NA11843\t2400\t790\tNA\tNA\n",
      "NA11881\t2273\t698\tNA\tNA\n",
      "NA11893\t2951\t921\tNA\tNA\n",
      "NA11918\t3297\t1044\tNA\tNA\n",
      "NA11919\t2855\t753\tNA\tNA\n",
      "NA11920\t3365\t1129\tNA\tNA\n",
      "NA11930\t3336\t1128\tNA\tNA\n",
      "NA11992\t3386\t1111\tNA\tNA\n",
      "NA11994\t3370\t1095\tNA\tNA\n",
      "NA11995\t1993\t622\tNA\tNA\n",
      "NA12003\t3328\t1062\tNA\tNA\n",
      "NA12004\t1613\t449\tNA\tNA\n",
      "NA12005\t2973\t923\tNA\tNA\n",
      "NA12006\t1656\t484\tNA\tNA\n",
      "NA12043\t3323\t1089\tNA\tNA\n",
      "NA12044\t2602\t791\tNA\tNA\n",
      "NA12045\t3385\t1052\tNA\tNA\n",
      "NA12058\t2664\t837\tNA\tNA\n",
      "NA12144\t3316\t993\tNA\tNA\n",
      "NA12154\t3114\t1028\tNA\tNA\n",
      "NA12155\t3354\t1126\tNA\tNA\n",
      "NA12156\t1390\t380\tNA\tNA\n",
      "NA12234\t3333\t1060\tNA\tNA\n",
      "NA12249\t2081\t638\tNA\tNA\n",
      "NA12272\t2371\t756\tNA\tNA\n",
      "NA12273\t2319\t737\tNA\tNA\n",
      "NA12275\t2251\t725\tNA\tNA\n",
      "NA12282\t1758\t529\tNA\tNA\n",
      "NA12283\t2459\t770\tNA\tNA\n",
      "NA12286\t2528\t785\tNA\tNA\n",
      "NA12287\t3231\t1059\tNA\tNA\n",
      "NA12340\t2648\t820\tNA\tNA\n",
      "NA12341\t2266\t634\tNA\tNA\n",
      "NA12342\t2666\t825\tNA\tNA\n",
      "NA12347\t3056\t927\tNA\tNA\n",
      "NA12348\t2751\t794\tNA\tNA\n",
      "NA12383\t3356\t1082\tNA\tNA\n",
      "NA12400\t2169\t679\tNA\tNA\n",
      "NA12413\t3387\t1095\tNA\tNA\n",
      "NA12414\t2709\t800\tNA\tNA\n",
      "NA12489\t2888\t870\tNA\tNA\n",
      "NA12546\t3389\t1125\tNA\tNA\n",
      "NA12716\t2617\t829\tNA\tNA\n",
      "NA12717\t2280\t724\tNA\tNA\n",
      "NA12718\t2310\t715\tNA\tNA\n",
      "NA12748\t3302\t978\tNA\tNA\n",
      "NA12749\t3103\t935\tNA\tNA\n",
      "NA12750\t2210\t712\tNA\tNA\n",
      "NA12751\t2202\t692\tNA\tNA\n",
      "NA12760\t2868\t890\tNA\tNA\n",
      "NA12761\t1675\t525\tNA\tNA\n",
      "NA12762\t3184\t1026\tNA\tNA\n",
      "NA12763\t1634\t526\tNA\tNA\n",
      "NA12775\t3228\t960\tNA\tNA\n",
      "NA12776\t3186\t1050\tNA\tNA\n",
      "NA12812\t2244\t693\tNA\tNA\n",
      "NA12814\t2959\t940\tNA\tNA\n",
      "NA12815\t1589\t475\tNA\tNA\n",
      "NA12828\t3274\t1051\tNA\tNA\n",
      "NA12829\t3227\t1019\tNA\tNA\n",
      "NA12830\t3058\t914\tNA\tNA\n",
      "NA12842\t1684\t502\tNA\tNA\n",
      "NA12843\t2832\t846\tNA\tNA\n",
      "NA12872\t1485\t425\tNA\tNA\n",
      "NA12873\t1329\t357\tNA\tNA\n",
      "NA12874\t1802\t521\tNA\tNA\n",
      "NA12878\t3463\t1125\tNA\tNA\n",
      "NA12889\t360\t103\tNA\tNA\n",
      "NA12890\t3394\t1089\tNA\tNA\n",
      "NA12891\t3435\t1107\tNA\tNA\n",
      "NA12892\t3426\t1055\tNA\tNA\n",
      "NA18486\tNA\tNA\t4718\t1180\n",
      "NA18488\tNA\tNA\t4591\t1150\n",
      "NA18489\tNA\tNA\t3350\t685\n",
      "NA18498\tNA\tNA\t4058\t926\n",
      "NA18499\tNA\tNA\t3408\t642\n",
      "NA18501\tNA\tNA\t4267\t1005\n",
      "NA18504\tNA\tNA\t38\t7\n",
      "NA18508\tNA\tNA\t4036\t912\n",
      "NA18516\tNA\tNA\t86\t13\n",
      "NA18519\tNA\tNA\t4820\t1163\n",
      "NA18520\tNA\tNA\t4886\t1176\n",
      "NA18522\tNA\tNA\t27\t3\n",
      "NA18523\tNA\tNA\t5027\t1299\n",
      "NA18853\tNA\tNA\t4645\t1169\n",
      "NA18856\tNA\tNA\t4958\t1282\n",
      "NA18858\tNA\tNA\t5000\t1323\n",
      "NA18861\tNA\tNA\t4525\t1089\n",
      "NA18865\tNA\tNA\t1294\t279\n",
      "NA18867\tNA\tNA\t4849\t1211\n",
      "NA18868\tNA\tNA\t4430\t1079\n",
      "NA18870\tNA\tNA\t42\t5\n",
      "NA18871\tNA\tNA\t52\t10\n",
      "NA18877\tNA\tNA\t4866\t1236\n",
      "NA18881\tNA\tNA\t4484\t1062\n",
      "NA18907\tNA\tNA\t3826\t871\n",
      "NA18909\tNA\tNA\t3551\t767\n",
      "NA18910\tNA\tNA\t4836\t1216\n",
      "NA18915\tNA\tNA\t4394\t1025\n",
      "NA18916\tNA\tNA\t4378\t1009\n",
      "NA18917\tNA\tNA\t2835\t688\n",
      "NA18923\tNA\tNA\t3042\t697\n",
      "NA18924\tNA\tNA\t3086\t697\n",
      "NA18933\tNA\tNA\t2772\t654\n",
      "NA18934\tNA\tNA\t3079\t704\n",
      "NA19092\tNA\tNA\t4762\t1234\n",
      "NA19095\tNA\tNA\t4012\t963\n",
      "NA19096\tNA\tNA\t4072\t912\n",
      "NA19098\tNA\tNA\t2843\t648\n",
      "NA19102\tNA\tNA\t1908\t303\n",
      "NA19105\tNA\tNA\t4150\t953\n",
      "NA19108\tNA\tNA\t5043\t1214\n",
      "NA19113\tNA\tNA\t4049\t987\n",
      "NA19116\tNA\tNA\t3590\t721\n",
      "NA19117\tNA\tNA\t4092\t978\n",
      "NA19118\tNA\tNA\t4189\t998\n",
      "NA19119\tNA\tNA\t2866\t665\n",
      "NA19121\tNA\tNA\t4364\t1061\n",
      "NA19122\tNA\tNA\t4024\t978\n",
      "NA19130\tNA\tNA\t4570\t1153\n",
      "NA19131\tNA\tNA\t2827\t694\n",
      "NA19133\tNA\tNA\t4688\t1146\n",
      "NA19135\tNA\tNA\t4575\t1158\n",
      "NA19137\tNA\tNA\t1695\t381\n",
      "NA19138\tNA\tNA\t2897\t697\n",
      "NA19141\tNA\tNA\t2615\t584\n",
      "NA19143\tNA\tNA\t3260\t772\n",
      "NA19146\tNA\tNA\t3934\t965\n",
      "NA19149\tNA\tNA\t4187\t967\n",
      "NA19150\tNA\tNA\t4064\t940\n",
      "NA19152\tNA\tNA\t3238\t715\n",
      "NA19153\tNA\tNA\t3279\t795\n",
      "NA19156\tNA\tNA\t4516\t1127\n",
      "NA19157\tNA\tNA\t4773\t1166\n",
      "NA19159\tNA\tNA\t3122\t744\n",
      "NA19163\tNA\tNA\t4371\t1069\n",
      "NA19166\tNA\tNA\t4845\t1220\n",
      "NA19168\tNA\tNA\t4479\t1114\n",
      "NA19171\tNA\tNA\t3168\t747\n",
      "NA19172\tNA\tNA\t4161\t949\n",
      "NA19175\tNA\tNA\t4167\t986\n",
      "NA19179\tNA\tNA\t3969\t970\n",
      "NA19181\tNA\tNA\t2911\t696\n",
      "NA19182\tNA\tNA\t4116\t991\n",
      "NA19184\tNA\tNA\t4140\t1004\n",
      "NA19185\tNA\tNA\t4315\t1017\n",
      "NA19187\tNA\tNA\t4222\t995\n",
      "NA19189\tNA\tNA\t5019\t1279\n",
      "NA19190\tNA\tNA\t4603\t1034\n",
      "NA19195\tNA\tNA\t4450\t1093\n",
      "NA19196\tNA\tNA\t4450\t1082\n",
      "NA19197\tNA\tNA\t3433\t875\n",
      "NA19198\tNA\tNA\t3196\t749\n",
      "NA19200\tNA\tNA\t2990\t710\n",
      "NA19201\tNA\tNA\t2519\t592\n",
      "NA19204\tNA\tNA\t3114\t714\n",
      "NA19206\tNA\tNA\t3056\t765\n",
      "NA19207\tNA\tNA\t2280\t525\n",
      "NA19209\tNA\tNA\t2962\t673\n",
      "NA19210\tNA\tNA\t1350\t273\n",
      "NA19213\tNA\tNA\t4910\t1206\n",
      "NA19214\tNA\tNA\t4214\t1020\n",
      "NA19216\tNA\tNA\t4439\t1098\n",
      "NA19217\tNA\tNA\t4230\t1025\n",
      "NA19220\tNA\tNA\t2690\t611\n",
      "NA19222\tNA\tNA\t5053\t1261\n",
      "NA19223\tNA\tNA\t2720\t628\n",
      "NA19225\tNA\tNA\t5047\t1304\n",
      "NA19229\tNA\tNA\t4813\t1228\n",
      "NA19235\tNA\tNA\t4466\t1074\n",
      "NA19236\tNA\tNA\t4668\t1174\n",
      "NA19238\tNA\tNA\t5027\t1271\n",
      "NA19239\tNA\tNA\t5147\t1379\n",
      "NA19240\tNA\tNA\t5145\t1361\n",
      "NA19247\tNA\tNA\t4606\t1108\n",
      "NA19248\tNA\tNA\t4698\t1146\n",
      "NA19250\tNA\tNA\t4218\t1025\n",
      "NA19253\tNA\tNA\t4964\t1248\n",
      "NA19257\tNA\tNA\t4969\t1229\n",
      "NA19259\tNA\tNA\t4182\t1005\n",
      "NA19260\tNA\tNA\t4404\t1076\n",
      "NA19262\tNA\tNA\t4308\t1044\n",
      "NA19266\tNA\tNA\t4878\t1211\n"
     ]
    }
   ],
   "source": [
    "vtools phenotype --output sample_name CEU_totalGD10 CEU_numGD10 YRI_totalGD10 YRI_numGD10 --header"
   ]
  },
  {
   "cell_type": "markdown",
   "metadata": {
    "kernel": "Bash"
   },
   "source": [
    "## Variant Annotation\n",
    "\n",
    "For rare variant aggregated association tests, we want to focus on analyzing aggregating variants having potential functional contribution to a phenotype. Thus, each variant site needs to be annotated for its functionality. Annotation is performed using `variant annotation tools` [7] which implements an `ANNOVAR` pipeline for variant function annotation [9]. More details about the ANNOVAR pipeline can be found at\n",
    "\n",
    "http://varianttools.sourceforge.net/Pipeline/Annovar"
   ]
  },
  {
   "cell_type": "code",
   "execution_count": 33,
   "metadata": {
    "kernel": "Bash"
   },
   "outputs": [
    {
     "name": "stdout",
     "output_type": "stream",
     "text": [
      "INFO: Executing \u001b[32mANNOVAR.geneanno_0\u001b[0m: Load specified snapshot if a snapshot is specified. Otherwise use the existing project.\n",
      "INFO: Executing \u001b[32mANNOVAR.geneanno_10\u001b[0m: Check the existence of ANNOVAR's annotate_variation.pl command.\n",
      "INFO: Command annotate_variation.pl is located.\n",
      "INFO: Executing \u001b[32mANNOVAR.geneanno_11\u001b[0m: Determine the humandb path of ANNOVAR\n",
      "INFO: Running \u001b[32mwhich annotate_variation.pl > /home/jovyan/work/.vtools_cache/annovar.path\u001b[0m\n",
      "INFO: Executing \u001b[32mANNOVAR.geneanno_14\u001b[0m: Download gene database for specified --dbtype if they are unavailable\n",
      "INFO: Running \u001b[32mannotate_variation.pl --buildver hg19 -downdb refGene /home/jovyan/bin/humandb\u001b[0m\n",
      "INFO: Executing \u001b[32mANNOVAR.geneanno_20\u001b[0m: Export variants in ANNOVAR format\n",
      "INFO: Running \u001b[32mvtools export variant --format ANNOVAR --output /home/jovyan/work/.vtools_cache/annovar_input\u001b[0m\n",
      "INFO: Executing \u001b[32mANNOVAR.geneanno_30\u001b[0m: Execute ANNOVAR annotate_variation.pl --geneanno\n",
      "INFO: Running \u001b[32mannotate_variation.pl --geneanno --dbtype refGene --buildver hg19 /home/jovyan/work/.vtools_cache/annovar_input /home/jovyan/bin/humandb\u001b[0m\n",
      "INFO: Executing \u001b[32mANNOVAR.geneanno_40\u001b[0m: Importing results from ANNOVAR output .variant_function if --variant_info is specified\n",
      "INFO: Running \u001b[32mvtools update variant --from_file /home/jovyan/work/.vtools_cache/annovar_input.variant_function --format ANNOVAR_variant_function --var_info region_type, region_name\u001b[0m\n",
      "INFO: Using primary reference genome hg19 of the project.\n",
      "Getting existing variants: 100% [===================\u001b[1;31m\u001b[0m] 6,987 156.7K/s in 00:00:00\n",
      "INFO: Updating variants from /home/jovyan/work/.vtools_cache/annovar_input.variant_function (1/1)\n",
      "annovar_input.variant_function: 100% [===============\u001b[1;31m\u001b[0m] 6,987 10.9K/s in 00:00:00\n",
      "INFO: Fields region_type, region_name of 6,987 variants are updated\n",
      "INFO: Executing \u001b[32mANNOVAR.geneanno_50\u001b[0m: Importing results from ANNOVAR output .exonic_variant_function if --exonic_info is specified\n",
      "INFO: Running \u001b[32mvtools update variant --from_file /home/jovyan/work/.vtools_cache/annovar_input.exonic_variant_function --format ANNOVAR_exonic_variant_function --var_info mut_type, function\u001b[0m\n",
      "INFO: Using primary reference genome hg19 of the project.\n",
      "Getting existing variants: 100% [===================\u001b[1;31m\u001b[0m] 6,987 148.8K/s in 00:00:00\n",
      "INFO: Updating variants from /home/jovyan/work/.vtools_cache/annovar_input.exonic_variant_function (1/1)\n",
      "annovar_input.exonic_variant_function: 100% [=========\u001b[1;31m\u001b[0m] 6,918 9.3K/s in 00:00:00\n",
      "INFO: Fields mut_type, function of 6,918 variants are updated\n",
      "INFO: Execution of pipeline ANNOVAR.geneanno is successful with output /home/jovyan/work/.vtools_cache/annovar_input.exonic_variant_function\n"
     ]
    }
   ],
   "source": [
    "# You need to make sure `annovar` package & database are installed in the system\n",
    "# This is already the case here.\n",
    "vtools execute ANNOVAR geneanno"
   ]
  },
  {
   "cell_type": "markdown",
   "metadata": {
    "kernel": "Bash"
   },
   "source": [
    "The following command will output the annotated variant sites to the screen."
   ]
  },
  {
   "cell_type": "code",
   "execution_count": 34,
   "metadata": {
    "kernel": "Bash"
   },
   "outputs": [
    {
     "name": "stdout",
     "output_type": "stream",
     "text": [
      "chr\tpos     \tref\talt\tmut_type\n",
      "1  \t1115503 \tT  \tC  \tnonsynonymous SNV\n",
      "1  \t1115548 \tG  \tA  \tnonsynonymous SNV\n",
      "1  \t1118275 \tC  \tT  \tsynonymous SNV\n",
      "1  \t1120377 \tT  \tA  \tnonsynonymous SNV\n",
      "1  \t1120431 \tG  \tA  \tnonsynonymous SNV\n",
      "1  \t3548136 \tT  \tC  \tsynonymous SNV\n",
      "1  \t3548832 \tG  \tC  \tnonsynonymous SNV\n",
      "1  \t3551737 \tC  \tT  \tnonsynonymous SNV\n",
      "1  \t3551792 \tG  \tA  \tsynonymous SNV\n",
      "1  \t3555351 \tG  \tA  \tsynonymous SNV\n",
      "1  \t6524501 \tT  \tC  \tnonsynonymous SNV\n",
      "1  \t6524688 \tT  \tC  \tsynonymous SNV\n",
      "1  \t6524703 \tC  \tT  \tsynonymous SNV\n",
      "1  \t7838196 \tA  \tG  \tnonsynonymous SNV\n",
      "1  \t10502369\tA  \tG  \tsynonymous SNV\n",
      "1  \t11710561\tT  \tG  \tnonsynonymous SNV\n",
      "1  \t17914057\tG  \tA  \tnonsynonymous SNV\n",
      "1  \t17914122\tG  \tA  \tnonsynonymous SNV\n",
      "1  \t17928672\tG  \tC  \tnonsynonymous SNV\n",
      "1  \t17949562\tC  \tT  \tsynonymous SNV\n"
     ]
    }
   ],
   "source": [
    "vtools output variant chr pos ref alt mut_type --limit 20 --header"
   ]
  },
  {
   "cell_type": "markdown",
   "metadata": {
    "kernel": "Bash"
   },
   "source": [
    "Many more annotation sources are available which are not covered in this tutorial. Please read \n",
    "\n",
    "http://varianttools.sourceforge.net/Annotation \n",
    "\n",
    "for annotation databases, and \n",
    "\n",
    "http://varianttools.sourceforge.net/Pipeline for annotation pipelines.\n",
    "\n",
    "## Data Quality Control (QC) and Variant Selection\n",
    "\n",
    "### Ti/Tv ratio evaluations\n",
    "\n",
    "Before performing any data QC we examine the transition/transversion (Ti/Tv) ratio for all variant sites. Note that here we are obtaining Ti/Tv ratios for the entire sample, Ti/Tv ratios can also be obtained for each sample."
   ]
  },
  {
   "cell_type": "code",
   "execution_count": 35,
   "metadata": {
    "kernel": "Bash"
   },
   "outputs": [
    {
     "name": "stdout",
     "output_type": "stream",
     "text": [
      "INFO: Note: NumExpr detected 40 cores but \"NUMEXPR_MAX_THREADS\" not set, so enforcing safe limit of 8.\n",
      "INFO: NumExpr defaulting to 8 threads.\n",
      "num_of_transition\tnum_of_transversion\tratio\n",
      "161,637          \t44,641             \t3.62082\n"
     ]
    }
   ],
   "source": [
    "vtools_report trans_ratio variant -n num"
   ]
  },
  {
   "cell_type": "markdown",
   "metadata": {
    "kernel": "Bash"
   },
   "source": [
    "The command above counts the number of transition and transversion variants and calculates its ratio. More details about `vtools report trans_ratio` command can be found at \n",
    "\n",
    "http://varianttools.sourceforge.net/VtoolsReport/TransRatio\n",
    "\n",
    "\n",
    "If only genotype calls having depth of coverage greater than 10 are considered:"
   ]
  },
  {
   "cell_type": "code",
   "execution_count": 36,
   "metadata": {
    "kernel": "Bash"
   },
   "outputs": [
    {
     "name": "stdout",
     "output_type": "stream",
     "text": [
      "INFO: Note: NumExpr detected 40 cores but \"NUMEXPR_MAX_THREADS\" not set, so enforcing safe limit of 8.\n",
      "INFO: NumExpr defaulting to 8 threads.\n",
      "num_of_transition\tnum_of_transversion\tratio\n",
      "140,392          \t38,710             \t3.62676\n"
     ]
    }
   ],
   "source": [
    "vtools_report trans_ratio variant -n numGD10"
   ]
  },
  {
   "cell_type": "markdown",
   "metadata": {
    "kernel": "Bash"
   },
   "source": [
    "We can see that Ti/Tv ratio has increase slightly if low depth of coverage calls are removed. There is only a small change in the Ti/Tv ratio since only a few variant sites become monomorphic and are no longer included in the calculation. In practice Ti/Tv ratios can be used to evaluate which threshold should be used in data QC.\n",
    "\n",
    "### Removal of low quality variant sites\n",
    "\n",
    "We should not need to remove any variant site based on read depth because all variants passed the quality filter. To demonstrate removal of variant sites, let us remove those with a total read depth `DP<15`:"
   ]
  },
  {
   "cell_type": "code",
   "execution_count": 37,
   "metadata": {
    "kernel": "Bash"
   },
   "outputs": [
    {
     "name": "stdout",
     "output_type": "stream",
     "text": [
      "Running: 2 233.8/s in 00:00:00                                                  \n",
      "INFO: 1 variants selected.\n"
     ]
    }
   ],
   "source": [
    "vtools select variant \"DP<15\" -t to_remove"
   ]
  },
  {
   "cell_type": "code",
   "execution_count": 38,
   "metadata": {
    "kernel": "Bash"
   },
   "outputs": [
    {
     "name": "stdout",
     "output_type": "stream",
     "text": [
      "table        #variants     date message\n",
      "to_remove            1    Jan25\n",
      "variant          6,987    Jan25 Master variant table\n"
     ]
    }
   ],
   "source": [
    "vtools show tables"
   ]
  },
  {
   "cell_type": "code",
   "execution_count": 39,
   "metadata": {
    "kernel": "Bash"
   },
   "outputs": [],
   "source": [
    "vtools remove variants to_remove -v0"
   ]
  },
  {
   "cell_type": "code",
   "execution_count": 40,
   "metadata": {
    "kernel": "Bash"
   },
   "outputs": [
    {
     "name": "stdout",
     "output_type": "stream",
     "text": [
      "table      #variants     date message\n",
      "variant        6,986    Jan25 Master variant table\n"
     ]
    }
   ],
   "source": [
    "vtools show tables"
   ]
  },
  {
   "cell_type": "markdown",
   "metadata": {
    "kernel": "Bash"
   },
   "source": [
    "We can see that one variant site has been removed from master variant table. The `vtools remove` command can remove various items from the current project. More details about `vtools remove` command can be found at:\n",
    "\n",
    "http://varianttools.sourceforge.net/Vtools/Remove\n",
    "\n",
    "Using a combination of select/remove subcommands low quality variant sites can be easily filtered out. The `vtools show fields`, `vtools show tables`, and `vtools show table variant` commands will allow you to see the new/updated fields and tables you have added/changed to the project.\n",
    "\n",
    "### Filter genotype calls by quality\n",
    "\n",
    "We have calculated various summary statistics using the command `--genotypes CONDITION` but we have not yet removed genotypes having genotype read depth of coverage lower than 10X. The command below removes these genotypes."
   ]
  },
  {
   "cell_type": "code",
   "execution_count": 41,
   "metadata": {
    "kernel": "Bash"
   },
   "outputs": [],
   "source": [
    "vtools remove genotypes \"DP_geno<10\" -v0"
   ]
  },
  {
   "cell_type": "markdown",
   "metadata": {
    "kernel": "Bash"
   },
   "source": [
    "### Select variants by annotated functionality\n",
    "To select potentially functional variants for association mapping: "
   ]
  },
  {
   "cell_type": "code",
   "execution_count": 42,
   "metadata": {
    "kernel": "Bash"
   },
   "outputs": [
    {
     "name": "stdout",
     "output_type": "stream",
     "text": [
      "Running: 10 618.7/s in 00:00:00                                                 \n",
      "INFO: 3423 variants selected.\n"
     ]
    }
   ],
   "source": [
    "vtools select variant \"mut_type like 'non%' or mut_type like 'stop%' or region_type='splicing'\" -t v_funct"
   ]
  },
  {
   "cell_type": "code",
   "execution_count": 43,
   "metadata": {
    "kernel": "Bash"
   },
   "outputs": [
    {
     "name": "stdout",
     "output_type": "stream",
     "text": [
      "table      #variants     date message\n",
      "v_funct        3,423    Jan25\n",
      "variant        6,986    Jan25 Master variant table\n"
     ]
    }
   ],
   "source": [
    "vtools show tables"
   ]
  },
  {
   "cell_type": "markdown",
   "metadata": {
    "kernel": "Bash"
   },
   "source": [
    "The command above selects variant sites that are either nonsynonymous (by condition `mut_type like ’non%’`) or stop-gain/stop-loss (by condition `mut_type like ’stop%’`) or alternative splicing (by condition `region-type=’splicing’`)\n",
    "\n",
    "\n",
    "3367 functional variant sites are selected."
   ]
  },
  {
   "cell_type": "markdown",
   "metadata": {
    "kernel": "Bash"
   },
   "source": [
    "# Part II: Association Tests for Quantitative Traits\n",
    "\n",
    "\n",
    "## View phenotype data"
   ]
  },
  {
   "cell_type": "code",
   "execution_count": 44,
   "metadata": {
    "kernel": "Bash"
   },
   "outputs": [
    {
     "name": "stdout",
     "output_type": "stream",
     "text": [
      "sample_name\tfilename                 \tpanel             \tSEX\tBMI   \tRACE\tCEU_totalGD10\tCEU_numGD10\tYRI_totalGD10\tYRI_numGD10\n",
      "NA06984    \tCEU.exon...notypes.vcf.gz\tILLUMINA          \t1  \t36.353\t1   \t2774         \t849        \t.            \t.\n",
      "NA06985    \tCEU.exon...notypes.vcf.gz\t.                 \t2  \t21.415\t1   \t1944         \t570        \t.            \t.\n",
      "NA06986    \tCEU.exon...notypes.vcf.gz\tABI_SOLID+ILLUMINA\t1  \t26.898\t1   \t3386         \t1029       \t.            \t.\n",
      "NA06989    \tCEU.exon...notypes.vcf.gz\tILLUMINA          \t2  \t25.015\t1   \t2659         \t819        \t.            \t.\n",
      "NA06994    \tCEU.exon...notypes.vcf.gz\tABI_SOLID+ILLUMINA\t1  \t23.858\t1   \t1730         \t486        \t.            \t.\n",
      "(197 records omitted)\n"
     ]
    }
   ],
   "source": [
    "vtools show samples --limit 5"
   ]
  },
  {
   "cell_type": "markdown",
   "metadata": {
    "kernel": "Bash"
   },
   "source": [
    "## Analysis plan\n",
    "\n",
    "We want to carry out the association analysis for CEU and YRI separately. For starters we demonstrate analysis of CEU samples; and the same commands will be applicable for YRI samples. After completing the analysis of CEU samples please use the same commands to analyze the YRI data set. You should not analyze the data from different populations together, once you have the p-values from each analysis, you may perform a meta-analysis.\n",
    "\n",
    "## Subset data by MAFs\n",
    "\n",
    "To carry out association tests we need to treat common and rare variants separately. The dataset for our tutorial has very small sample size, but with large sample size it is reasonable to define rare variants as having observed MAF<0.01, and common variants as variants having observed MAF$\\ge$0.05. First, we create variant tables based on calculated alternative allele frequencies for both populations"
   ]
  },
  {
   "cell_type": "code",
   "execution_count": 45,
   "metadata": {
    "kernel": "Bash"
   },
   "outputs": [
    {
     "name": "stdout",
     "output_type": "stream",
     "text": [
      "Running: 6 338.3/s in 00:00:00                                                  \n",
      "INFO: 1450 variants selected.\n"
     ]
    }
   ],
   "source": [
    "vtools select variant \"CEU_mafGD10>=0.05\" --samples \"RACE=1\" -t common_ceu"
   ]
  },
  {
   "cell_type": "code",
   "execution_count": 46,
   "metadata": {
    "kernel": "Bash"
   },
   "outputs": [
    {
     "name": "stdout",
     "output_type": "stream",
     "text": [
      "Running: 5 454.6/s in 00:00:00                                                  \n",
      "INFO: 599 variants selected.\n"
     ]
    }
   ],
   "source": [
    "vtools select v_funct \"CEU_mafGD10<0.01\" --samples \"RACE=1\" -t rare_ceu"
   ]
  },
  {
   "cell_type": "markdown",
   "metadata": {
    "kernel": "Bash"
   },
   "source": [
    "Notice that for selection of rare variants we only keep those that are annotated as functional (chosen from `v_funct` table). There are 1450 and 604 variant sites selected for MAF0.05 and MAF<0.01, respectively.\n",
    "\n",
    "## Annotate variants to genes\n",
    "\n",
    "For gene based rare variant analysis we need annotations that tell us the boundaries of genes. We use the refGene annotation database for this purpose."
   ]
  },
  {
   "cell_type": "code",
   "execution_count": 47,
   "metadata": {
    "kernel": "Bash"
   },
   "outputs": [
    {
     "name": "stdout",
     "output_type": "stream",
     "text": [
      "Binning ranges: 100% [==============================\u001b[1;31m\u001b[0m] 41,302 67.4K/s in 00:00:00\n",
      "INFO: Using annotation DB refGene as refGene in project VATDemo.\n",
      "INFO: refseq Genes\n"
     ]
    }
   ],
   "source": [
    "vtools use refGene"
   ]
  },
  {
   "cell_type": "code",
   "execution_count": 48,
   "metadata": {
    "kernel": "Bash"
   },
   "outputs": [
    {
     "name": "stdout",
     "output_type": "stream",
     "text": [
      "Annotation database refGene (version hg19_20110909)\n",
      "Description:            refseq Genes\n",
      "Database type:          range\n",
      "Reference genome hg19:  chr, txStart, txEnd\n",
      "  name (char)           Gene name\n",
      "  chr (char)\n",
      "  strand (char)         which DNA strand contains the observed alleles\n",
      "  txStart (int)         Transcription start position\n",
      "  txEnd (int)           Transcription end position\n",
      "  cdsStart (int)        Coding region start\n",
      "  cdsEnd (int)          Coding region end\n",
      "  exonCount (int)       Number of exons\n",
      "  score (int)           Score\n",
      "  name2 (char)          Alternative name\n",
      "  cdsStartStat (char)   cds start stat, can be 'non', 'unk', 'incompl', and\n",
      "                        'cmp1'\n",
      "  cdsEndStat (char)     cds end stat, can be 'non', 'unk', 'incompl', and 'cmp1'\n"
     ]
    }
   ],
   "source": [
    "vtools show annotation refGene"
   ]
  },
  {
   "cell_type": "markdown",
   "metadata": {
    "kernel": "Bash"
   },
   "source": [
    "The names of genes are contained in the `refGene.name2` field. The `vtools use` command, attaches an annotation database to the project, effectively incorporating one or more attributes available to variants in the project. More details about `vtools use` command can be found at\n",
    "\n",
    "http://varianttools.sourceforge.net/Vtools/Use"
   ]
  },
  {
   "cell_type": "markdown",
   "metadata": {
    "kernel": "Bash"
   },
   "source": [
    "## Association testing of common/rare variants\n",
    "\n",
    "The association test program suite is implemented as the `vtools associate` subcommand. To list available association test options"
   ]
  },
  {
   "cell_type": "code",
   "execution_count": 49,
   "metadata": {
    "kernel": "Bash"
   },
   "outputs": [
    {
     "name": "stdout",
     "output_type": "stream",
     "text": [
      "usage: vtools associate [-h] [--covariates [COVARIATES [COVARIATES ...]]]\n",
      "                        [--var_info [VAR_INFO [VAR_INFO ...]]]\n",
      "                        [--geno_info [GENO_INFO [GENO_INFO ...]]]\n",
      "                        [--geno_name GENO_NAME] [-m METHODS [METHODS ...]]\n",
      "                        [-g [GROUP_BY [GROUP_BY ...]]] [-s [COND [COND ...]]]\n",
      "                        [--genotypes [COND [COND ...]]]\n",
      "                        [--discard_samples [EXPR [EXPR ...]]]\n",
      "                        [--discard_variants [EXPR [EXPR ...]]]\n",
      "                        [--to_db annoDB] [-d DELIMITER] [-f] [-j N] [-mpi]\n",
      "                        [-v {0,1,2,3}]\n",
      "                        variants phenotypes\n",
      "\n",
      "Call one or more statistical association tests and return test results as\n",
      "fields to variants tested.\n",
      "\n",
      "optional arguments:\n",
      "  -h, --help            show this help message and exit\n",
      "  -j N, --jobs N        Number of processes to carry out association tests.\n",
      "  -mpi                  Submit vtools association job to cluster, please check\n",
      "                        bash script.\n",
      "  -v {0,1,2,3}, --verbosity {0,1,2,3}\n",
      "                        Output error and warning (0), info (1), debug (2) and\n",
      "                        trace (3) information to standard output (default to\n",
      "                        1).\n",
      "\n",
      "Genotype, phenotype, and covariates:\n",
      "  variants              Table of variants to be tested.\n",
      "  phenotypes            A list of phenotypes that will be passed to the\n",
      "                        association statistics calculator. Currently only a\n",
      "                        single phenotype is allowed.\n",
      "  --covariates [COVARIATES [COVARIATES ...]]\n",
      "                        Optional phenotypes that will be passed to statistical\n",
      "                        tests as covariates. Values of these phenotypes should\n",
      "                        be integer or float.\n",
      "  --var_info [VAR_INFO [VAR_INFO ...]], --var-info [VAR_INFO [VAR_INFO ...]]\n",
      "                        Optional variant information fields (e.g. minor allele\n",
      "                        frequency from 1000 genomes project) that will be\n",
      "                        passed to statistical tests. The fields could be any\n",
      "                        annotation fields of with integer or float values,\n",
      "                        including those from used annotation databases (use\n",
      "                        \"vtools show fields\" to see a list of usable fields).\n",
      "  --geno_info [GENO_INFO [GENO_INFO ...]], --geno-info [GENO_INFO [GENO_INFO ...]]\n",
      "                        Optional genotype fields (e.g. quality score of\n",
      "                        genotype calls, cf. \"vtools show genotypes\") that will\n",
      "                        be passed to statistical tests. Note that the fields\n",
      "                        should exist for all samples that are tested.\n",
      "  --geno_name GENO_NAME, --geno-name GENO_NAME\n",
      "                        Field name of genotype, default to 'GT'. If another\n",
      "                        field name is specified, for example if imputation\n",
      "                        scores are available as 'DS' (dosage), then the given\n",
      "                        field 'DS' will be used as genotype data for\n",
      "                        association analysis.\n",
      "\n",
      "Association tests:\n",
      "  -m METHODS [METHODS ...], --methods METHODS [METHODS ...]\n",
      "                        Method of one or more association tests. Parameters\n",
      "                        for each method should be specified together as a\n",
      "                        quoted long argument (e.g. --methods \"m --alternative\n",
      "                        2\" \"m1 --permute 1000\"), although the common method\n",
      "                        parameters can be specified separately, as long as\n",
      "                        they do not conflict with command arguments. (e.g.\n",
      "                        --methods m1 m2 -p 1000 is equivalent to --methods \"m1\n",
      "                        -p 1000\" \"m2 -p 1000\".). You can use command 'vtools\n",
      "                        show tests' for a list of association tests, and\n",
      "                        'vtools show test TST' for details about a test.\n",
      "                        Customized association tests can be specified as\n",
      "                        mod_name.test_name where mod_name should be a Python\n",
      "                        module (system wide or in the current directory), and\n",
      "                        test_name should be a subclass of NullTest.\n",
      "  -g [GROUP_BY [GROUP_BY ...]], --group_by [GROUP_BY [GROUP_BY ...]], --group-by [GROUP_BY [GROUP_BY ...]]\n",
      "                        Group variants by fields. If specified, variants will\n",
      "                        be separated into groups and are tested one by one.\n",
      "\n",
      "Select and filter samples and genotypes:\n",
      "  -s [COND [COND ...]], --samples [COND [COND ...]]\n",
      "                        Limiting variants from samples that match conditions\n",
      "                        that use columns shown in command 'vtools show sample'\n",
      "                        (e.g. 'aff=1', 'filename like \"MG%\"'). Each line of\n",
      "                        the sample table (vtools show samples) is considered\n",
      "                        as samples. If genotype of a physical sample is\n",
      "                        scattered into multiple samples (e.g. imported\n",
      "                        chromosome by chromosome), they should be merged using\n",
      "                        command vtools admin.\n",
      "  --genotypes [COND [COND ...]]\n",
      "                        Limiting genotypes to those matching conditions that\n",
      "                        use columns shown in command 'vtools show genotypes'\n",
      "                        (e.g. 'GQ>15'). Genotypes failing such conditions will\n",
      "                        be regarded as missing genotypes.\n",
      "  --discard_samples [EXPR [EXPR ...]], --discard-samples [EXPR [EXPR ...]]\n",
      "                        Discard samples that match specified conditions within\n",
      "                        each test group (defined by parameter --group_by).\n",
      "                        Currently only expressions in the form of \"%(NA)>p\" is\n",
      "                        providedted to remove samples that have more 100*p\n",
      "                        percent of missing values.\n",
      "  --discard_variants [EXPR [EXPR ...]], --discard-variants [EXPR [EXPR ...]]\n",
      "                        Discard variant sites based on specified conditions\n",
      "                        within each test group. Currently only expressions in\n",
      "                        the form of '%(NA)>p' is provided to remove variant\n",
      "                        sites that have more than 100*p percent of missing\n",
      "                        genotypes. Note that this filter will be applied after\n",
      "                        \"--discard_samples\" is applied, if the latter also is\n",
      "                        specified.\n",
      "\n",
      "Output of test statistics:\n",
      "  --to_db annoDB, --to-db annoDB\n",
      "                        Name of a database to which results from association\n",
      "                        tests will be written. Groups with existing results in\n",
      "                        the database will be ignored unless parameter --force\n",
      "                        is used.\n",
      "  -d DELIMITER, --delimiter DELIMITER\n",
      "                        Delimiter use to separate columns of output. The\n",
      "                        default output uses multiple spaces to align columns\n",
      "                        of output. Use '-d,' for csv output, or -d'\\t' for\n",
      "                        tab-delimited output.\n",
      "  -f, --force           Analyze all groups including those that have recorded\n",
      "                        results in the result database.\n"
     ]
    }
   ],
   "source": [
    "vtools associate -h"
   ]
  },
  {
   "cell_type": "code",
   "execution_count": 50,
   "metadata": {
    "kernel": "Bash"
   },
   "outputs": [
    {
     "name": "stdout",
     "output_type": "stream",
     "text": [
      "BurdenBt                Burden test for disease traits, Morris & Zeggini 2009\n",
      "BurdenQt                Burden test for quantitative traits, Morris & Zeggini\n",
      "                        2009\n",
      "CFisher                 Fisher's exact test on collapsed variant loci, Li & Leal\n",
      "                        2008\n",
      "Calpha                  c-alpha test for unusual distribution of variants\n",
      "                        between cases and controls, Neale et al 2011\n",
      "CollapseBt              Collapsing method for disease traits, Li & Leal 2008\n",
      "CollapseQt              Collapsing method for quantitative traits, Li & Leal\n",
      "                        2008\n",
      "GroupStat               Calculates basic statistics for each testing group\n",
      "GroupWrite              Write data to disk for each testing group\n",
      "KBAC                    Kernel Based Adaptive Clustering method, Liu & Leal 2010\n",
      "LinRegBurden            A versatile framework of association tests for\n",
      "                        quantitative traits\n",
      "LogitRegBurden          A versatile framework of association tests for disease\n",
      "                        traits\n",
      "RBT                     Replication Based Test for protective and deleterious\n",
      "                        variants, Ionita-Laza et al 2011\n",
      "RTest                   A general framework for association analysis using R\n",
      "                        programs\n",
      "RareCover               A \"covering\" method for detecting rare variants\n",
      "                        association, Bhatia et al 2010.\n",
      "SKAT                    SKAT (Wu et al 2011) and SKAT-O (Lee et al 2012)\n",
      "SSeq_common             Score statistic / SCORE-Seq software (Tang & Lin 2011),\n",
      "                        for common variants analysis\n",
      "SSeq_rare               Score statistic / SCORE-Seq software (Tang & Lin 2011),\n",
      "                        for rare variants analysis\n",
      "VATStacking             VAT stacking with resampling-based p-value adjustment\n",
      "                        for applying many algorithms\n",
      "VTtest                  VT statistic for disease traits, Price et al 2010\n",
      "VariableThresholdsBt    Variable thresholds method for disease traits, in the\n",
      "                        spirit of Price et al 2010\n",
      "VariableThresholdsQt    Variable thresholds method for quantitative traits, in\n",
      "                        the spirit of Price et al 2010\n",
      "WSSRankTest             Weighted sum method using rank test statistic, Madsen &\n",
      "                        Browning 2009\n",
      "WeightedBurdenBt        Weighted genotype burden tests for disease traits, using\n",
      "                        one or many arbitrary external weights as well as one of\n",
      "                        4 internal weighting themes\n",
      "WeightedBurdenQt        Weighted genotype burden tests for quantitative traits,\n",
      "                        using one or many arbitrary external weights as well as\n",
      "                        one of 4 internal weighting themes\n",
      "aSum                    Adaptive Sum score test for protective and deleterious\n",
      "                        variants, Han & Pan 2010\n"
     ]
    }
   ],
   "source": [
    "vtools show tests"
   ]
  },
  {
   "cell_type": "code",
   "execution_count": 51,
   "metadata": {
    "kernel": "Bash"
   },
   "outputs": [
    {
     "name": "stdout",
     "output_type": "stream",
     "text": [
      "Name:          LinRegBurden\n",
      "Description:   A versatile framework of association tests for quantitative traits\n",
      "usage: vtools associate --method LinRegBurden [-h] [--name NAME]\n",
      "                                              [-q1 MAFUPPER] [-q2 MAFLOWER]\n",
      "                                              [--alternative TAILED]\n",
      "                                              [--use_indicator] [-p N]\n",
      "                                              [--permute_by XY] [--adaptive C]\n",
      "                                              [--variable_thresholds]\n",
      "                                              [--extern_weight [EXTERN_WEIGHT [EXTERN_WEIGHT ...]]]\n",
      "                                              [--weight {Browning_all,Browning,KBAC,RBT}]\n",
      "                                              [--NA_adjust]\n",
      "                                              [--moi {additive,dominant,recessive}]\n",
      "\n",
      "Linear regression test. p-value is based on the significance level of the\n",
      "regression coefficient for genotypes. If --group_by option is specified, it\n",
      "will collapse the variants within a group into a generic genotype score\n",
      "\n",
      "optional arguments:\n",
      "  -h, --help            show this help message and exit\n",
      "  --name NAME           Name of the test that will be appended to names of\n",
      "                        output fields, usually used to differentiate output of\n",
      "                        different tests, or the same test with different\n",
      "                        parameters.\n",
      "  -q1 MAFUPPER, --mafupper MAFUPPER\n",
      "                        Minor allele frequency upper limit. All variants\n",
      "                        having sample MAF<=m1 will be included in analysis.\n",
      "                        Default set to 1.0\n",
      "  -q2 MAFLOWER, --maflower MAFLOWER\n",
      "                        Minor allele frequency lower limit. All variants\n",
      "                        having sample MAF>m2 will be included in analysis.\n",
      "                        Default set to 0.0\n",
      "  --alternative TAILED  Alternative hypothesis is one-sided (\"1\") or two-sided\n",
      "                        (\"2\"). Default set to 1\n",
      "  --use_indicator, --use-indicator\n",
      "                        This option, if evoked, will apply binary coding to\n",
      "                        genotype groups (coding will be \"1\" if ANY locus in\n",
      "                        the group has the alternative allele, \"0\" otherwise)\n",
      "  -p N, --permutations N\n",
      "                        Number of permutations\n",
      "  --permute_by XY, --permute-by XY\n",
      "                        Permute phenotypes (\"Y\") or genotypes (\"X\"). Default\n",
      "                        is \"Y\"\n",
      "  --adaptive C          Adaptive permutation using Edwin Wilson 95 percent\n",
      "                        confidence interval for binomial distribution. The\n",
      "                        program will compute a p-value every 1000 permutations\n",
      "                        and compare the lower bound of the 95 percent CI of\n",
      "                        p-value against \"C\", and quit permutations with the\n",
      "                        p-value if it is larger than \"C\". It is recommended to\n",
      "                        specify a \"C\" that is slightly larger than the\n",
      "                        significance level for the study. To disable the\n",
      "                        adaptive procedure, set C=1. Default is C=0.1\n",
      "  --variable_thresholds, --variable-threholds\n",
      "                        This option, if evoked, will apply variable thresholds\n",
      "                        method to the permutation routine in burden test on\n",
      "                        aggregated variant loci\n",
      "  --extern_weight [EXTERN_WEIGHT [EXTERN_WEIGHT ...]], --extern-weight [EXTERN_WEIGHT [EXTERN_WEIGHT ...]]\n",
      "                        External weights that will be directly applied to\n",
      "                        genotype coding. Names of these weights should be in\n",
      "                        one of '--var_info' or '--geno_info'. If multiple\n",
      "                        weights are specified, they will be applied to\n",
      "                        genotypes sequentially. Note that all weights will be\n",
      "                        masked if --use_indicator is evoked.\n",
      "  --weight {Browning_all,Browning,KBAC,RBT}\n",
      "                        Internal weighting themes inspired by various\n",
      "                        association methods. Valid choices are:\n",
      "                        'Browning_all', 'Browning', 'KBAC' and 'RBT'. Except\n",
      "                        for 'Browning_all' weighting, tests using all other\n",
      "                        weighting themes has to calculate p-value via\n",
      "                        permutation. For details of the weighting themes,\n",
      "                        please refer to the online documentation.\n",
      "  --NA_adjust, --NA-adjust\n",
      "                        This option, if evoked, will replace missing genotype\n",
      "                        values with a score relative to sample allele\n",
      "                        frequencies. The association test will be adjusted to\n",
      "                        incorporate the information. This is an effective\n",
      "                        approach to control for type I error due to\n",
      "                        differential degrees of missing genotypes among\n",
      "                        samples.\n",
      "  --moi {additive,dominant,recessive}\n",
      "                        Mode of inheritance. Will code genotypes as 0/1/2/NA\n",
      "                        for additive mode, 0/1/NA for dominant or recessive\n",
      "                        mode. Default set to additive\n"
     ]
    }
   ],
   "source": [
    "vtools show test LinRegBurden"
   ]
  },
  {
   "cell_type": "markdown",
   "metadata": {
    "kernel": "Bash"
   },
   "source": [
    "Note that we use the quantitative trait BMI as the phenotype, and we will account for “SEX” as a covariate in the regression framework. More details about `vtools associate` command can be found at \n",
    "\n",
    "http://varianttools.sourceforge.net/Vtools/Associate\n",
    "\n",
    "### Analysis of common variants\n",
    "By default, the program will perform single variant tests using a simple linear model, and the Wald test statistic will be evaluated for p-values:"
   ]
  },
  {
   "cell_type": "code",
   "execution_count": 52,
   "metadata": {
    "kernel": "Bash"
   },
   "outputs": [
    {
     "name": "stdout",
     "output_type": "stream",
     "text": [
      "INFO: 90 samples are selected by condition: (RACE=1)\n",
      "INFO: 1450 groups are found\n",
      "Testing for association: 100% [====================\u001b[1;31m\u001b[0m] 1,450/\u001b[1;31m5\u001b[0m 163.5/s in 00:00:08\n",
      "INFO: Association tests on 1450 groups have completed. 5 failed.\n",
      "INFO: Using annotation DB EA_CV as EA_CV in project VATDemo.\n",
      "INFO: Annotation database used to record results of association tests. Created on Mon, 25 Jan 2021 20:47:24\n",
      "INFO: 1450 out of 6986 variant.chr, variant.pos are annotated through annotation database EA_CV\n"
     ]
    }
   ],
   "source": [
    "vtools associate common_ceu BMI --covariate SEX --samples \"RACE=1\" -m \"LinRegBurden --alternative 2\" -j1 --to_db EA_CV > EA_CV.asso.res"
   ]
  },
  {
   "cell_type": "markdown",
   "metadata": {
    "kernel": "Bash"
   },
   "source": [
    "Option `-j1` specifies that 1 CPU core be used for association testing. You may use larger number of jobs for real world data analysis, e.g., use `-j16` if your computational resources has 16 CPU cores available. Linux command `cat /proc/cpuinfo` shows the number of cores and other information related to the CPU on your computer.\n",
    "\n",
    "The following command displays error messages about the failed tests. In each case, the sample size was too small to perform the regression analysis."
   ]
  },
  {
   "cell_type": "code",
   "execution_count": 53,
   "metadata": {
    "kernel": "Bash"
   },
   "outputs": [
    {
     "name": "stdout",
     "output_type": "stream",
     "text": [
      "ValueError: Sample size too small (2) to be analyzed for '7:148921732'.\n",
      "2021-01-25 20:47:38,717: DEBUG: An ERROR has occurred in process 0 while processing '8:145747920': Sample size too small (4) to be analyzed for '8:145747920'.\n",
      "ValueError: Sample size too small (4) to be analyzed for '8:145747920'.\n",
      "2021-01-25 20:47:38,747: DEBUG: An ERROR has occurred in process 0 while processing '9:215057': Sample size too small (4) to be analyzed for '9:215057'.\n",
      "ValueError: Sample size too small (4) to be analyzed for '9:215057'.\n"
     ]
    }
   ],
   "source": [
    "grep -i error *.log | tail -5"
   ]
  },
  {
   "cell_type": "markdown",
   "metadata": {
    "kernel": "Bash"
   },
   "source": [
    "A summary from the association test is written to the file `EA_CV.asso.res`. The first column indicates the variant chromosome and base pair position so that you may follow up on the top signals using various annotation sources that we will not introduce in this tutorial. The result will be automatically built into annotation database if `--to_db` option is specified."
   ]
  },
  {
   "cell_type": "code",
   "execution_count": 54,
   "metadata": {
    "kernel": "Bash"
   },
   "outputs": [
    {
     "name": "stdout",
     "output_type": "stream",
     "text": [
      "variant_chr\tvariant_pos\tsample_size_LinRegBurden\tnum_variants_LinRegBurden\ttotal_mac_LinRegBurden\tbeta_x_LinRegBurden\tpvalue_LinRegBurden\twald_x_LinRegBurden\tbeta_2_LinRegBurden\tbeta_2_pvalue_LinRegBurden\twald_2_LinRegBurden\n",
      "1          \t1115503    \t39                      \t1                        \t4                     \t-3.79867           \t0.303847           \t-1.04312           \t1.81933            \t0.423273                  \t0.809982\n",
      "1          \t3548136    \t44                      \t1                        \t15                    \t1.87087            \t0.374567           \t0.897738           \t0.0423982          \t0.984496                  \t0.0195514\n",
      "1          \t3548832    \t78                      \t1                        \t13                    \t1.29502            \t0.562724           \t0.581386           \t-0.753517          \t0.651351                  \t-0.453706\n",
      "1          \t3551792    \t75                      \t1                        \t8                     \t4.31445            \t0.102654           \t1.65315            \t-1.38652           \t0.3924                    \t-0.860446\n",
      "1          \t6524501    \t62                      \t1                        \t10                    \t1.10259            \t0.671892           \t0.425678           \t-1.16366           \t0.544558                  \t-0.609463\n",
      "1          \t6524688    \t63                      \t1                        \t7                     \t-1.34283           \t0.632522           \t-0.480637          \t0.376518           \t0.831142                  \t0.214169\n",
      "1          \t11710561   \t38                      \t1                        \t9                     \t0.0203366          \t0.992064           \t0.0100182          \t2.19027            \t0.370985                  \t0.906279\n",
      "1          \t17914057   \t68                      \t1                        \t11                    \t-2.23783           \t0.387371           \t-0.870241          \t-1.0346            \t0.588188                  \t-0.544168\n",
      "1          \t17914122   \t64                      \t1                        \t11                    \t3.03457            \t0.240427           \t1.18548            \t-1.02577           \t0.600161                  \t-0.526919\n"
     ]
    }
   ],
   "source": [
    "head EA_CV.asso.res"
   ]
  },
  {
   "cell_type": "markdown",
   "metadata": {
    "kernel": "Bash"
   },
   "source": [
    "To sort the results by p-value and output the first 10 lines of the file use the command:"
   ]
  },
  {
   "cell_type": "code",
   "execution_count": 55,
   "metadata": {
    "kernel": "Bash"
   },
   "outputs": [
    {
     "name": "stdout",
     "output_type": "stream",
     "text": [
      "variant_chr\tvariant_pos\tsample_size_LinRegBurden\tnum_variants_LinRegBurden\ttotal_mac_LinRegBurden\tbeta_x_LinRegBurden\tpvalue_LinRegBurden\twald_x_LinRegBurden\tbeta_2_LinRegBurden\tbeta_2_pvalue_LinRegBurden\twald_2_LinRegBurden\n",
      "11         \t108383676  \t88                      \t1                        \t25                    \t6.53168            \t0.000105185        \t4.06922            \t0.0735287          \t0.961696                  \t0.0481674\n",
      "19         \t16008257   \t54                      \t1                        \t17                    \t7.31337            \t0.00038548         \t3.80137            \t1.45651            \t0.466234                  \t0.734125\n",
      "16         \t57735900   \t71                      \t1                        \t41                    \t-5.19002           \t0.000386273        \t-3.73498           \t0.570017           \t0.721588                  \t0.357818\n",
      "19         \t16008388   \t34                      \t1                        \t9                     \t6.97057            \t0.00279873         \t3.24718            \t2.8695             \t0.200913                  \t1.30674\n",
      "19         \t16006413   \t47                      \t1                        \t13                    \t6.7213             \t0.002973           \t3.14519            \t0.614935           \t0.775703                  \t0.28668\n",
      "9          \t35792423   \t32                      \t1                        \t15                    \t6.60852            \t0.00564457         \t2.98954            \t0.820153           \t0.714935                  \t0.368829\n",
      "2          \t49191041   \t88                      \t1                        \t73                    \t3.34503            \t0.00656039         \t2.78702            \t0.947342           \t0.552026                  \t0.597102\n",
      "17         \t33768354   \t44                      \t1                        \t42                    \t-4.13311           \t0.00686359         \t-2.84707           \t-2.08353           \t0.319621                  \t-1.00746\n",
      "8          \t121215991  \t86                      \t1                        \t77                    \t-3.34412           \t0.00722408         \t-2.75438           \t0.63102            \t0.697061                  \t0.390644\n",
      "sort: write failed: 'standard output': Broken pipe\n",
      "sort: write error\n"
     ]
    }
   ],
   "source": [
    "sort -g -k7 EA_CV.asso.res | head"
   ]
  },
  {
   "cell_type": "markdown",
   "metadata": {
    "kernel": "Bash"
   },
   "source": [
    "If you obtain significant p-values be sure to also observe the accompanying sample size. Significant p-values from too small of a sample size may not be results you can trust.\n",
    "\n",
    "Also, depending on your phenotype you may have to add additional covariates to your analysis. VAT allows you to test many different models for the various phenotypes and covariates. P-values for covariates are also reported.\n",
    "\n",
    "Similar to using an annotation database, you can use the results from the association test to annotate the project and follow up variants of interest, for example:"
   ]
  },
  {
   "cell_type": "code",
   "execution_count": 56,
   "metadata": {
    "kernel": "Bash"
   },
   "outputs": [
    {
     "name": "stdout",
     "output_type": "stream",
     "text": [
      "variant.chr (char)      Chromosome name (VARCHAR)\n",
      "variant.pos (int)       Position (INT, 1-based)\n",
      "variant.ref (char)      Reference allele (VARCHAR, - for missing allele of an\n",
      "                        insertion)\n",
      "variant.alt (char)      Alternative allele (VARCHAR, - for missing allele of an\n",
      "                        deletion)\n",
      "variant.DP (int)\n",
      "variant.filter (char)\n",
      "variant.alt_chr (char)\n",
      "variant.alt_pos (int)\n",
      "variant.num (int)       Created from stat \"#(alt)\"  with type INT on Jan25\n",
      "variant.hom (int)       Created from stat \"#(hom)\"  with type INT on Jan25\n",
      "variant.het (int)       Created from stat \"#(het)\"  with type INT on Jan25\n",
      "variant.other (int)     Created from stat \"#(other)\"  with type INT on Jan25\n",
      "variant.total (int)     Created from stat \"#(GT)\"  with type INT on Jan25\n",
      "variant.maf (float)     Created from stat \"maf()\"  with type FLOAT on Jan25\n",
      "variant.minDP (int)     Created from stat \"min(DP_geno)\"  with type INT on Jan25\n",
      "variant.maxDP (int)     Created from stat \"max(DP_geno)\"  with type INT on Jan25\n",
      "variant.meanDP (float)  Created from stat \"avg(DP_geno)\"  with type FLOAT on\n",
      "                        Jan25\n",
      "variant.numGD10 (int)   Created from stat \"#(alt)\"  with type INT on Jan25\n",
      "variant.homGD10 (int)   Created from stat \"#(hom)\"  with type INT on Jan25\n",
      "variant.hetGD10 (int)   Created from stat \"#(het)\"  with type INT on Jan25\n",
      "variant.otherGD10 (int) \n",
      "                        Created from stat \"#(other)\"  with type INT on Jan25\n",
      "variant.totalGD10 (int) \n",
      "                        Created from stat \"#(GT)\"  with type INT on Jan25\n",
      "variant.mafGD10 (float) \n",
      "                        Created from stat \"maf()\"  with type FLOAT on Jan25\n",
      "variant.CEU_mafGD10 (float) \n",
      "                        Created from stat \"maf()\" for samples ['RACE=1'] with\n",
      "                        type FLOAT on Jan25\n",
      "variant.YRI_mafGD10 (float) \n",
      "                        Created from stat \"maf()\" for samples ['RACE=0'] with\n",
      "                        type FLOAT on Jan25\n",
      "variant.region_type (char)\n",
      "variant.region_name (char)\n",
      "variant.mut_type (char)\n",
      "variant.function (char)\n",
      "v_funct.chr (char)      Chromosome name (VARCHAR)\n",
      "common_ceu.chr (char)   Chromosome name (VARCHAR)\n",
      "rare_ceu.chr (char)     Chromosome name (VARCHAR)\n",
      "refGene.name (char)     Gene name\n",
      "refGene.chr (char)\n",
      "refGene.strand (char)   which DNA strand contains the observed alleles\n",
      "refGene.txStart (int)   Transcription start position\n",
      "refGene.txEnd (int)     Transcription end position\n",
      "refGene.cdsStart (int)  Coding region start\n",
      "refGene.cdsEnd (int)    Coding region end\n",
      "refGene.exonCount (int) Number of exons\n",
      "refGene.score (int)     Score\n",
      "refGene.name2 (char)    Alternative name\n",
      "refGene.cdsStartStat (char)\n",
      "                        cds start stat, can be 'non', 'unk', 'incompl', and\n",
      "                        'cmp1'\n",
      "refGene.cdsEndStat (char)\n",
      "                        cds end stat, can be 'non', 'unk', 'incompl', and 'cmp1'\n",
      "EA_CV.variant_chr (char)\n",
      "                        variant_chr\n",
      "EA_CV.variant_pos (int) variant_pos\n",
      "EA_CV.sample_size_LinRegBurden (int)\n",
      "                        sample size\n",
      "EA_CV.num_variants_LinRegBurden (int)\n",
      "                        number of variants in each group (adjusted for specified\n",
      "                        MAF upper/lower bounds)\n",
      "EA_CV.total_mac_LinRegBurden (int)\n",
      "                        total minor allele counts in a group (adjusted for MOI)\n",
      "EA_CV.beta_x_LinRegBurden (float)\n",
      "                        test statistic. In the context of regression this is\n",
      "                        estimate of effect size for x\n",
      "EA_CV.pvalue_LinRegBurden (float)\n",
      "                        p-value\n",
      "EA_CV.wald_x_LinRegBurden (float)\n",
      "                        Wald statistic for x (beta_x/SE(beta_x))\n",
      "EA_CV.beta_2_LinRegBurden (float)\n",
      "                        estimate of beta for covariate 2\n",
      "EA_CV.beta_2_pvalue_LinRegBurden (float)\n",
      "                        p-value for covariate 2\n",
      "EA_CV.wald_2_LinRegBurden (float)\n",
      "                        Wald statistic for covariate 2\n"
     ]
    }
   ],
   "source": [
    "vtools show fields"
   ]
  },
  {
   "cell_type": "markdown",
   "metadata": {
    "kernel": "Bash"
   },
   "source": [
    "You see additional annotation fields starting with EA CV, the name of the annotation database you just created from association test (if you used the --to db option mentioned above). You can use them to easily select/output variants of interest. More details about outputting annotation fields for significant findings can be found at \n",
    "\n",
    "http://varianttools.sourceforge.net/Vtools/Output\n",
    "\n",
    "\n",
    "### Burden test for rare variants (BRV)\n",
    "\n",
    "BRV method uses the count of rare variants in given genetic region for association analysis, regardless of the region length.\n",
    "\n",
    "We use the `-g` option and use the ‘refGene.name2’ field to define the boundaries of a gene. By default, the test is a linear regression using aggregated counts of variants in a gene region as the regressor. "
   ]
  },
  {
   "cell_type": "code",
   "execution_count": 57,
   "metadata": {
    "kernel": "Bash"
   },
   "outputs": [
    {
     "name": "stdout",
     "output_type": "stream",
     "text": [
      "INFO: 90 samples are selected by condition: (RACE=1)\n",
      "INFO: 400 groups are found\n",
      "/opt/conda/lib/python3.7/site-packages/tables/leaf.py:544: VisibleDeprecationWarning: Creating an ndarray from ragged nested sequences (which is a list-or-tuple of lists-or-tuples-or ndarrays with different lengths or shapes) is deprecated. If you meant to do this, you must specify 'dtype=object' when creating the ndarray\n",
      "  key = numpy.array(key)\n",
      "Testing for association: 100% [=====================\u001b[1;31m\u001b[0m] 400/\u001b[1;31m12\u001b[0m 162.9/s in 00:00:02\n",
      "INFO: Association tests on 400 groups have completed. 12 failed.\n",
      "INFO: Using annotation DB EA_RV as EA_RV in project VATDemo.\n",
      "INFO: Annotation database used to record results of association tests. Created on Mon, 25 Jan 2021 20:47:41\n",
      "INFO: 400 out of 23269 refGene.refGene.name2 are annotated through annotation database EA_RV\n"
     ]
    }
   ],
   "source": [
    "vtools associate rare_ceu BMI --covariate SEX --samples \"RACE=1\" -m \"LinRegBurden --alternative 2\" -g refGene.name2 -j1 --to_db EA_RV  > EA_RV.asso.res"
   ]
  },
  {
   "cell_type": "markdown",
   "metadata": {
    "kernel": "Bash"
   },
   "source": [
    "Association tests on 404 groups have completed. 13 failed. To view failed tests:"
   ]
  },
  {
   "cell_type": "code",
   "execution_count": 58,
   "metadata": {
    "kernel": "Bash"
   },
   "outputs": [
    {
     "name": "stdout",
     "output_type": "stream",
     "text": [
      "2021-01-25 20:47:46,132: DEBUG: An ERROR has occurred in process 0 while processing 'NOM1': Sample size too small (1) to be analyzed for 'NOM1'.\n",
      "ValueError: Sample size too small (1) to be analyzed for 'NOM1'.\n",
      "2021-01-25 20:47:46,196: DEBUG: An ERROR has occurred in process 0 while processing 'OR10J1': No variant found in genotype data for 'OR10J1'.\n",
      "ValueError: No variant found in genotype data for 'OR10J1'.\n",
      "2021-01-25 20:47:46,525: DEBUG: An ERROR has occurred in process 0 while processing 'PRG3': No variant found in genotype data for 'PRG3'.\n",
      "ValueError: No variant found in genotype data for 'PRG3'.\n",
      "2021-01-25 20:47:46,909: DEBUG: An ERROR has occurred in process 0 while processing 'SULT1A1': No variant found in genotype data for 'SULT1A1'.\n",
      "ValueError: No variant found in genotype data for 'SULT1A1'.\n",
      "2021-01-25 20:47:47,012: DEBUG: An ERROR has occurred in process 0 while processing 'TMCC1': No variant found in genotype data for 'TMCC1'.\n",
      "ValueError: No variant found in genotype data for 'TMCC1'.\n"
     ]
    }
   ],
   "source": [
    "grep -i error *.log | tail -10"
   ]
  },
  {
   "cell_type": "markdown",
   "metadata": {
    "kernel": "Bash"
   },
   "source": [
    "The output file is `EA_RV.asso.res`. The first column is the gene name, with corresponding p-values in the sixth column for the entire gene."
   ]
  },
  {
   "cell_type": "code",
   "execution_count": 59,
   "metadata": {
    "kernel": "Bash"
   },
   "outputs": [
    {
     "name": "stdout",
     "output_type": "stream",
     "text": [
      "refgene_name2\tsample_size_LinRegBurden\tnum_variants_LinRegBurden\ttotal_mac_LinRegBurden\tbeta_x_LinRegBurden\tpvalue_LinRegBurden\twald_x_LinRegBurden\tbeta_2_LinRegBurden\tbeta_2_pvalue_LinRegBurden\twald_2_LinRegBurden\n",
      "AATF         \t89                      \t3                        \t3                     \t4.06571            \t0.371806           \t0.897786           \t0.819087           \t0.617609                  \t0.501059\n",
      "ABCB9        \t58                      \t1                        \t1                     \t4.29374            \t0.561422           \t0.584278           \t0.0901042          \t0.962807                  \t0.0468439\n",
      "ABCC6        \t82                      \t1                        \t1                     \t-1.07551           \t0.889218           \t-0.139743          \t0.415512           \t0.806418                  \t0.245874\n",
      "ABLIM3       \t90                      \t2                        \t2                     \t-7.83832           \t0.158126           \t-1.42364           \t0.466136           \t0.774715                  \t0.287105\n",
      "ACCN3        \t56                      \t1                        \t1                     \t9.84035            \t0.17451            \t1.37632            \t-1.2081            \t0.530485                  \t-0.631412\n",
      "ACHE         \t76                      \t1                        \t1                     \t1.51292            \t0.845698           \t0.195304           \t-0.186314          \t0.916242                  \t-0.105534\n",
      "ACOX3        \t57                      \t1                        \t1                     \t-1.48668           \t0.85294            \t-0.186258          \t-0.667523          \t0.75315                   \t-0.316093\n",
      "ACTL8        \t81                      \t2                        \t2                     \t-4.82112           \t0.378176           \t-0.886308          \t0.25399            \t0.88081                   \t0.150435\n",
      "ADAM29       \t88                      \t1                        \t1                     \t-6.52372           \t0.403205           \t-0.840108          \t0.850198           \t0.606861                  \t0.516479\n"
     ]
    }
   ],
   "source": [
    "head EA_RV.asso.res"
   ]
  },
  {
   "cell_type": "markdown",
   "metadata": {
    "kernel": "Bash"
   },
   "source": [
    "You can also sort these results by p-value using command:"
   ]
  },
  {
   "cell_type": "code",
   "execution_count": 60,
   "metadata": {
    "kernel": "Bash"
   },
   "outputs": [
    {
     "name": "stdout",
     "output_type": "stream",
     "text": [
      "refgene_name2\tsample_size_LinRegBurden\tnum_variants_LinRegBurden\ttotal_mac_LinRegBurden\tbeta_x_LinRegBurden\tpvalue_LinRegBurden\twald_x_LinRegBurden\tbeta_2_LinRegBurden\tbeta_2_pvalue_LinRegBurden\twald_2_LinRegBurden\n",
      "CIDEA        \t73                      \t1                        \t1                     \t20.294             \t0.00504822         \t2.89536            \t-0.235139          \t0.885684                  \t-0.144293\n",
      "SPP2         \t90                      \t2                        \t2                     \t15.0031            \t0.00549521         \t2.8476             \t0.792108           \t0.611456                  \t0.509838\n",
      "WNT16        \t88                      \t1                        \t1                     \t20.703             \t0.00683376         \t2.77254            \t1.17245            \t0.460926                  \t0.740684\n",
      "MFAP1        \t86                      \t1                        \t1                     \t18.4607            \t0.0133889          \t2.52736            \t-0.228389          \t0.884407                  \t-0.145832\n",
      "MBD5         \t90                      \t4                        \t4                     \t9.56169            \t0.0144442          \t2.49605            \t0.362862           \t0.818813                  \t0.229766\n",
      "SLA          \t89                      \t1                        \t1                     \t16.0687            \t0.0380065          \t2.10727            \t0.548345           \t0.73386                   \t0.3411\n",
      "THRB         \t90                      \t2                        \t2                     \t10.2182            \t0.0617212          \t1.89271            \t0.796836           \t0.617967                  \t0.500528\n",
      "GOLGB1       \t89                      \t3                        \t3                     \t7.89374            \t0.0809179          \t1.76616            \t0.730154           \t0.651999                  \t0.452568\n",
      "SOCS4        \t89                      \t2                        \t2                     \t-9.5645            \t0.0853879          \t-1.74027           \t0.488455           \t0.76505                   \t0.299804\n",
      "sort: write failed: 'standard output': Broken pipe\n",
      "sort: write error\n"
     ]
    }
   ],
   "source": [
    "sort -g -k6 EA_RV.asso.res | head"
   ]
  },
  {
   "cell_type": "markdown",
   "metadata": {
    "kernel": "Bash"
   },
   "source": [
    "### Variable thresholds test for rare variants (VT)\n",
    "\n",
    "The variable thresholds (VT) method will carry out multiple testing in the same gene region using groups of variants based on observed variant allele frequencies. This test will maximize over statistics thus obtain a final test statistic, and calculate the empirical p-value so that multiple comparisons are adjusted for correctly.\n",
    "\n",
    "We will use adaptive permutation to obtain empirical p-values. Therefore, to avoid performing too large number of permutations we use a cutoff to limit the number of permutations when the p-value is greater than 0.0005, e.g. not all 100,000 permutations are performed. Generally, even more permutations are used but we limit it to 100,000 to save time for this exercise.\n",
    "\n",
    "The command using variable thresholds method on our data is:"
   ]
  },
  {
   "cell_type": "code",
   "execution_count": 61,
   "metadata": {
    "kernel": "Bash"
   },
   "outputs": [
    {
     "name": "stdout",
     "output_type": "stream",
     "text": [
      "INFO: 90 samples are selected by condition: (RACE=1)\n",
      "INFO: 400 groups are found\n",
      "Testing for association: 100% [======================\u001b[1;31m\u001b[0m] 400/\u001b[1;31m12\u001b[0m 34.9/s in 00:00:11\n",
      "INFO: Association tests on 400 groups have completed. 12 failed.\n",
      "INFO: Using annotation DB EA_RV as EA_RV in project VATDemo.\n",
      "INFO: Annotation database used to record results of association tests. Created on Mon, 25 Jan 2021 20:47:41\n",
      "INFO: 400 out of 23269 refGene.refGene.name2 are annotated through annotation database EA_RV\n"
     ]
    }
   ],
   "source": [
    "vtools associate rare_ceu BMI --covariate SEX --samples \"RACE=1\" -m \"VariableThresholdsQt --alternative 2 -p 100000 --adaptive 0.0005\" \\\n",
    "    -g refGene.name2 -j1 --to_db EA_RV > EA_RV_VT.asso.res"
   ]
  },
  {
   "cell_type": "markdown",
   "metadata": {
    "kernel": "Bash"
   },
   "source": [
    "To view test that failed,"
   ]
  },
  {
   "cell_type": "code",
   "execution_count": 62,
   "metadata": {
    "kernel": "Bash"
   },
   "outputs": [
    {
     "name": "stdout",
     "output_type": "stream",
     "text": [
      "2021-01-25 20:47:55,431: DEBUG: An ERROR has occurred in process 0 while processing 'NOM1': Sample size too small (1) to be analyzed for 'NOM1'.\n",
      "ValueError: Sample size too small (1) to be analyzed for 'NOM1'.\n",
      "2021-01-25 20:47:55,721: DEBUG: An ERROR has occurred in process 0 while processing 'OR10J1': No variant found in genotype data for 'OR10J1'.\n",
      "ValueError: No variant found in genotype data for 'OR10J1'.\n",
      "2021-01-25 20:47:57,323: DEBUG: An ERROR has occurred in process 0 while processing 'PRG3': No variant found in genotype data for 'PRG3'.\n",
      "ValueError: No variant found in genotype data for 'PRG3'.\n",
      "2021-01-25 20:47:59,191: DEBUG: An ERROR has occurred in process 0 while processing 'SULT1A1': No variant found in genotype data for 'SULT1A1'.\n",
      "ValueError: No variant found in genotype data for 'SULT1A1'.\n",
      "2021-01-25 20:47:59,680: DEBUG: An ERROR has occurred in process 0 while processing 'TMCC1': No variant found in genotype data for 'TMCC1'.\n",
      "ValueError: No variant found in genotype data for 'TMCC1'.\n"
     ]
    }
   ],
   "source": [
    "grep -i error *.log | tail -10"
   ]
  },
  {
   "cell_type": "markdown",
   "metadata": {
    "kernel": "Bash"
   },
   "source": [
    "To view results,"
   ]
  },
  {
   "cell_type": "code",
   "execution_count": 63,
   "metadata": {
    "kernel": "Bash"
   },
   "outputs": [
    {
     "name": "stdout",
     "output_type": "stream",
     "text": [
      "refgene_name2\tsample_size_VTQt\tnum_variants_VTQt\ttotal_mac_VTQt\tbeta_x_VTQt\tpvalue_VTQt\tstd_error_VTQt\tnum_permutations_VTQt\tMAF_threshold_VTQt\n",
      "AATF         \t89              \t3                \t3             \t4.06571    \t0.405594   \t4.50659       \t1000                 \t0.00561798\n",
      "ABCB9        \t58              \t1                \t1             \t4.29374    \t0.659341   \t7.16459       \t1000                 \t0.00862069\n",
      "ABCC6        \t82              \t1                \t1             \t-1.07551   \t0.965035   \t7.66671       \t1000                 \t0.00609756\n",
      "ABLIM3       \t90              \t2                \t2             \t-7.83832   \t0.135864   \t5.5873        \t1000                 \t0.00555556\n",
      "ACCN3        \t56              \t1                \t1             \t9.84035    \t0.157842   \t7.30453       \t1000                 \t0.00892857\n",
      "ACHE         \t76              \t1                \t1             \t1.51292    \t0.789211   \t7.52701       \t1000                 \t0.00657895\n",
      "ACOX3        \t57              \t1                \t1             \t-1.48668   \t0.913087   \t7.64929       \t1000                 \t0.00877193\n",
      "ACTL8        \t81              \t2                \t2             \t-4.82112   \t0.415584   \t5.43057       \t1000                 \t0.00617284\n",
      "ADAM29       \t88              \t1                \t1             \t-6.52372   \t0.41958    \t7.64035       \t1000                 \t0.00568182\n"
     ]
    }
   ],
   "source": [
    "head EA_RV_VT.asso.res"
   ]
  },
  {
   "cell_type": "markdown",
   "metadata": {
    "kernel": "Bash"
   },
   "source": [
    "Sort and output the lowest p-values using the command:"
   ]
  },
  {
   "cell_type": "code",
   "execution_count": 64,
   "metadata": {
    "kernel": "Bash"
   },
   "outputs": [
    {
     "name": "stdout",
     "output_type": "stream",
     "text": [
      "refgene_name2\tsample_size_VTQt\tnum_variants_VTQt\ttotal_mac_VTQt\tbeta_x_VTQt\tpvalue_VTQt\tstd_error_VTQt\tnum_permutations_VTQt\tMAF_threshold_VTQt\n",
      "CIDEA        \t73              \t1                \t1             \t20.294     \t0.00999001 \t7.31736       \t1000                 \t0.00684932\n",
      "WNT16        \t88              \t1                \t1             \t20.703     \t0.011988   \t7.7255        \t1000                 \t0.00568182\n",
      "SPP2         \t90              \t2                \t2             \t15.0031    \t0.01998    \t5.3355        \t1000                 \t0.00555556\n",
      "NRG1         \t87              \t1                \t1             \t-11.5171   \t0.025974   \t7.63831       \t1000                 \t0.00574713\n",
      "LRRC27       \t79              \t1                \t1             \t-11.6328   \t0.02997    \t7.90808       \t1000                 \t0.00632911\n",
      "MBD5         \t90              \t4                \t4             \t9.56169    \t0.031968   \t4.08932       \t1000                 \t0.00555556\n",
      "PDSS1        \t55              \t1                \t1             \t-11.7564   \t0.031968   \t7.81955       \t1000                 \t0.00909091\n",
      "FUCA2        \t80              \t1                \t1             \t-10.9701   \t0.035964   \t7.84866       \t1000                 \t0.00625\n",
      "RREB1        \t66              \t1                \t1             \t-11.8953   \t0.037962   \t7.31305       \t1000                 \t0.00757576\n",
      "sort: write failed: 'standard output': Broken pipe\n",
      "sort: write error\n"
     ]
    }
   ],
   "source": [
    "sort -g -k6 EA_RV_VT.asso.res | head"
   ]
  },
  {
   "cell_type": "markdown",
   "metadata": {
    "kernel": "Bash"
   },
   "source": [
    "### Why do some tests fail?\n",
    "\n",
    "Notice that `vtools associate` command will fail on some association test units. Instances of failure are printed to terminal in red and are recorded in the project log file. Most failures occur due to an association test unit having too few samples or number of variants (for gene based analysis). You should view these error messages after each association scan is complete, e.g., using the Linux command `grep -i error *.log` and make sure you are informed of why failures occur.\n",
    "\n",
    "In the variable thresholds analysis above, gene TMCC1 failed the association test. If we look at this gene more closely we can see which variants are being analyzed by our test:"
   ]
  },
  {
   "cell_type": "code",
   "execution_count": 65,
   "metadata": {
    "kernel": "Bash"
   },
   "outputs": [
    {
     "name": "stdout",
     "output_type": "stream",
     "text": [
      "chr\tpos      \tref\talt\tCEU_mafGD10\tnumGD10\tmut_type\n",
      "3  \t129546729\tT  \tC  \t0.0        \t339    \tnonsynonymous SNV\n"
     ]
    }
   ],
   "source": [
    "vtools select rare_ceu \"refGene.name2='TMCC1'\" -o chr pos ref alt CEU_mafGD10 numGD10 mut_type --header"
   ]
  },
  {
   "cell_type": "markdown",
   "metadata": {
    "kernel": "Bash"
   },
   "source": [
    "After applying our QC filters we are left with one variant within the TMCC1 gene to analyze. Because the MAF for this variant is 0.0 there are no variants in the gene to analyze so that this gene is ignored. Note that all individuals are homozygous for the alternative allele for this variant site.\n",
    "\n",
    "### QQ and Manhattan plots for association results\n",
    "\n",
    "The vtools report plot association command generates QQ and Manhattan plots from output of vtools associate command. More details about vtools report plot association can be found at\n",
    "\n",
    "http://varianttools.sourceforge.net/VtoolsReport/PlotAssociation"
   ]
  },
  {
   "cell_type": "code",
   "execution_count": 66,
   "metadata": {
    "kernel": "Bash"
   },
   "outputs": [
    {
     "name": "stdout",
     "output_type": "stream",
     "text": [
      "INFO: Note: NumExpr detected 40 cores but \"NUMEXPR_MAX_THREADS\" not set, so enforcing safe limit of 8.\n",
      "INFO: NumExpr defaulting to 8 threads.\n",
      "INFO: Reading from standard input ...\n",
      "INFO: Processing 77K of input data ...\n",
      "INFO: Generating graph(s) ...\n",
      "Genomic inflation factor for method 'LinRegBurden' is: 1.25184885294054\n",
      "INFO: Complete!\n",
      "INFO: Note: NumExpr detected 40 cores but \"NUMEXPR_MAX_THREADS\" not set, so enforcing safe limit of 8.\n",
      "INFO: NumExpr defaulting to 8 threads.\n",
      "INFO: Reading from standard input ...\n",
      "INFO: Processing 77K of input data ...\n",
      "INFO: Generating graph(s) ...\n",
      "INFO: Complete!\n"
     ]
    }
   ],
   "source": [
    "vtools_report plot_association qq -o QQRV -b --label_top 2 -f 6 < EA_RV.asso.res\n",
    "vtools_report plot_association manhattan -o MHRV -b --label_top 5 --color Dark2 --chrom_prefix None -f 6 < EA_RV.asso.res"
   ]
  },
  {
   "cell_type": "code",
   "execution_count": 67,
   "metadata": {
    "kernel": "SoS"
   },
   "outputs": [
    {
     "data": {
      "text/html": [
       "<div class=\"sos_hint\">> MHRV.pdf (8.2 KiB):</div>"
      ],
      "text/plain": [
       "\n",
       "> MHRV.pdf (8.2 KiB):"
      ]
     },
     "metadata": {},
     "output_type": "display_data"
    },
    {
     "data": {
      "image/png": "[encoded data removed]"
     },
     "metadata": {},
     "output_type": "display_data"
    }
   ],
   "source": [
    "%preview MHRV.pdf -s png --dpi 150"
   ]
  },
  {
   "cell_type": "code",
   "execution_count": 68,
   "metadata": {
    "kernel": "SoS"
   },
   "outputs": [
    {
     "data": {
      "text/html": [
       "<div class=\"sos_hint\">> QQRV.pdf (7.6 KiB):</div>"
      ],
      "text/plain": [
       "\n",
       "> QQRV.pdf (7.6 KiB):"
      ]
     },
     "metadata": {},
     "output_type": "display_data"
    },
    {
     "data": {
      "image/png": "[encoded data removed]"
     },
     "metadata": {},
     "output_type": "display_data"
    }
   ],
   "source": [
    "%preview QQRV.pdf -s png --dpi 150"
   ]
  },
  {
   "cell_type": "markdown",
   "metadata": {
    "kernel": "Bash"
   },
   "source": [
    "QQ plots aid in evaluating if there is systematic inflation of test statistics. A common cause of inflation is population structure or batch effects.  If you observe significant inflation of test you may consider including MDS components in the association test model.\n",
    "\n",
    "### MDS analysis and PC adjustment\n",
    "\n",
    "This pipeline needs [PLINK 1.9](https://www.cog-genomics.org/plink/1.9/)\n",
    "and [KING](http://people.virginia.edu/~wc9c/KING/executables/Linux-king224.tar.gz)."
   ]
  },
  {
   "cell_type": "code",
   "execution_count": 69,
   "metadata": {
    "kernel": "Bash"
   },
   "outputs": [
    {
     "name": "stdout",
     "output_type": "stream",
     "text": [
      "INFO: Executing \u001b[32mKING.king_0\u001b[0m: Load specified snapshot if a snapshot is specified. Otherwise use the existing project.\n",
      "INFO: Executing \u001b[32mKING.king_10\u001b[0m: Check the existence of KING and PLINK command.\n",
      "INFO: Command king is located.\n",
      "INFO: Command plink is located.\n",
      "INFO: Executing \u001b[32mKING.king_20\u001b[0m: Write selected variant and samples in tped format\n",
      "INFO: Running \u001b[32mvtools export variant --format tped --samples \"1\" | awk '{$2=$1\"_\"$4;$3=0;print $0}' > /home/jovyan/work/.vtools_cache/KING.tped\u001b[0m\n",
      "INFO: Executing \u001b[32mKING.king_21\u001b[0m: Rename tfam file to match tped file\n",
      "INFO: Running \u001b[32mmv variant.tfam /home/jovyan/work/.vtools_cache/KING.tfam\u001b[0m\n",
      "INFO: Executing \u001b[32mKING.king_30\u001b[0m: Calculate LD pruning candidate list with a cutoff of R^2=0.5\n",
      "INFO: Running \u001b[32mplink --tped KING.tped --tfam KING.tfam --indep-pairwise 50 5 0.5 --allow-no-sex --out KING.LD.50\u001b[0m under /home/jovyan/work/.vtools_cache\n",
      "INFO: Executing \u001b[32mKING.king_31\u001b[0m: LD pruning from pre-calculated list\n",
      "INFO: Running \u001b[32mplink --tped KING.tped --tfam KING.tfam --extract KING.LD.50.prune.in --no-parents --no-sex --no-pheno --maf 0.01 --make-bed --out KING\u001b[0m under /home/jovyan/work/.vtools_cache\n",
      "INFO: Executing \u001b[32mKING.king_41\u001b[0m: Global ancestry inference\n",
      "INFO: Running \u001b[32mking -b KING.bed --mds --prefix KING-\u001b[0m under /home/jovyan/work/.vtools_cache\n",
      "INFO: Executing \u001b[32mKING.king_42\u001b[0m: Kinship inference\n",
      "INFO: Running \u001b[32mking -b KING.bed --kinship --related --degree 3 --prefix KING\u001b[0m under /home/jovyan/work/.vtools_cache\n",
      "INFO: Executing \u001b[32mKING.king_51\u001b[0m: Extract MDS result for vtools phenotype import\n",
      "INFO: Running ``cut -f 2,7-`echo $((7+5-1))` -d \" \" KING-pc.txt | sed 1c\"sample_name`seq 1 5 | awk '{if (NF>20) NF=20; for (i=1; i<=NF; ++i) printf(\" %s\", \"KING_MDS\"$i)}'`\" > KING-mds.vtools.txt`` under /home/jovyan/work/.vtools_cache\n",
      "INFO: Executing \u001b[32mKING.king_52\u001b[0m: Import phenotype from global ancestry analysis\n",
      "INFO: Running \u001b[32mvtools phenotype --from_file /home/jovyan/work/.vtools_cache/KING-mds.vtools.txt\u001b[0m\n",
      "INFO: Adding phenotype KING_MDS1 of type FLOAT\n",
      "INFO: Adding phenotype KING_MDS2 of type FLOAT\n",
      "INFO: Adding phenotype KING_MDS3 of type FLOAT\n",
      "INFO: Adding phenotype KING_MDS4 of type FLOAT\n",
      "INFO: Adding phenotype KING_MDS5 of type FLOAT\n",
      "INFO: 5 field (5 new, 0 existing) phenotypes of 196 samples are updated.\n",
      "INFO: Executing \u001b[32mKING.king_61\u001b[0m: Save global ancestry inference result to plot\n",
      "INFO: Running \u001b[32mvtools_report plot_pheno_fields KING_MDS1 KING_MDS2 --samples \"1\" --dot KING.mds.pdf --discrete_color Accent\u001b[0m\n",
      "INFO: Executing \u001b[32mKING.king_62\u001b[0m: Save kinship analysis result to text file\n",
      "INFO: Running \u001b[32mcat /home/jovyan/work/.vtools_cache/KING.kin0 | cut -f 2,4,6,7,8 | awk '{ if ($5>0.0442) print $0}' | awk '{if ($5>0.354) $6=\"MZ\"; if ($5>=0.177 && $5<=0.354) $6=\"1st-degree\"; if ($5>=0.0884 && $5<=0.177) $6=\"2nd-degree\"; if ($5>=0.0442 && $5<=0.0884) $6=\"3rd-degree\"; if ($5==\"Kinship\") $6=\"Relationship\"; print $0}' > KING.RelatedIndividuals.txt\u001b[0m\n",
      "INFO: Execution of pipeline KING.king is successful with output KING.RelatedIndividuals.txt\n"
     ]
    }
   ],
   "source": [
    "vtools execute KING"
   ]
  },
  {
   "cell_type": "code",
   "execution_count": 70,
   "metadata": {
    "kernel": "SoS"
   },
   "outputs": [
    {
     "data": {
      "text/html": [
       "<div class=\"sos_hint\">> KING.mds.pdf (6.1 KiB):</div>"
      ],
      "text/plain": [
       "\n",
       "> KING.mds.pdf (6.1 KiB):"
      ]
     },
     "metadata": {},
     "output_type": "display_data"
    },
    {
     "data": {
      "image/png": "[encoded data removed]"
     },
     "metadata": {},
     "output_type": "display_data"
    }
   ],
   "source": [
    "%preview KING.mds.pdf -s png --dpi 150"
   ]
  },
  {
   "cell_type": "markdown",
   "metadata": {
    "kernel": "SoS"
   },
   "source": [
    "You should not arbitrarily include MDS (or PCA) components in the analysis.  Instead put in each MDS component and examine the lambda value, i.e. include MDS component 1 them MDS components 1 and 2, etc. Visualization of the QQ plot is also useful to determine if population substructure/admixture is controlled.\n",
    "\n",
    "## Association analysis of YRI samples\n",
    "\n",
    "Procedures for YRI sample association analysis is the same as for CEU samples as previously has been described, thus is left as an extra exercise for you to work on your own. Commands to perform analysis for YRI are found below:"
   ]
  },
  {
   "cell_type": "code",
   "execution_count": 71,
   "metadata": {
    "kernel": "Bash"
   },
   "outputs": [
    {
     "name": "stdout",
     "output_type": "stream",
     "text": [
      "\u001b[95mWARNING\u001b[0m: \u001b[95mSample NA12889 is ignored due to missing value for phenotype KING_MDS1\u001b[0m\n",
      "\u001b[95mWARNING\u001b[0m: \u001b[95mSample NA12889 is ignored due to missing value for phenotype KING_MDS2\u001b[0m\n",
      "\u001b[95mWARNING\u001b[0m: \u001b[95mSample NA18504 is ignored due to missing value for phenotype KING_MDS1\u001b[0m\n",
      "\u001b[95mWARNING\u001b[0m: \u001b[95mSample NA18504 is ignored due to missing value for phenotype KING_MDS2\u001b[0m\n",
      "\u001b[95mWARNING\u001b[0m: \u001b[95mSample NA18516 is ignored due to missing value for phenotype KING_MDS1\u001b[0m\n",
      "\u001b[95mWARNING\u001b[0m: \u001b[95mSample NA18516 is ignored due to missing value for phenotype KING_MDS2\u001b[0m\n",
      "\u001b[95mWARNING\u001b[0m: \u001b[95mSample NA18522 is ignored due to missing value for phenotype KING_MDS1\u001b[0m\n",
      "\u001b[95mWARNING\u001b[0m: \u001b[95mSample NA18522 is ignored due to missing value for phenotype KING_MDS2\u001b[0m\n",
      "\u001b[95mWARNING\u001b[0m: \u001b[95mSample NA18870 is ignored due to missing value for phenotype KING_MDS1\u001b[0m\n",
      "\u001b[95mWARNING\u001b[0m: \u001b[95mSample NA18870 is ignored due to missing value for phenotype KING_MDS2\u001b[0m\n",
      "\u001b[95mWARNING\u001b[0m: \u001b[95mSample NA18871 is ignored due to missing value for phenotype KING_MDS1\u001b[0m\n",
      "\u001b[95mWARNING\u001b[0m: \u001b[95mSample NA18871 is ignored due to missing value for phenotype KING_MDS2\u001b[0m\n",
      "INFO: 196 samples are found\n",
      "INFO: 400 groups are found\n",
      "/opt/conda/lib/python3.7/site-packages/tables/leaf.py:544: VisibleDeprecationWarning: Creating an ndarray from ragged nested sequences (which is a list-or-tuple of lists-or-tuples-or ndarrays with different lengths or shapes) is deprecated. If you meant to do this, you must specify 'dtype=object' when creating the ndarray\n",
      "  key = numpy.array(key)\n",
      "Testing for association: 100% [=======================\u001b[1;31m\u001b[0m] 400/\u001b[1;31m5\u001b[0m 82.1/s in 00:00:04\n",
      "INFO: Association tests on 400 groups have completed. 5 failed.\n",
      "INFO: Using annotation DB EA_RV as EA_RV in project VATDemo.\n",
      "INFO: Annotation database used to record results of association tests. Created on Mon, 25 Jan 2021 20:47:41\n",
      "INFO: 400 out of 23269 refGene.refGene.name2 are annotated through annotation database EA_RV\n"
     ]
    }
   ],
   "source": [
    "vtools associate rare_ceu BMI --covariate SEX KING_MDS1 KING_MDS2 -m \"LinRegBurden --name RVMDS2 --alternative 2\" -g refGene.name2 -j1 --to_db EA_RV > EA_RV_MDS2.asso.res"
   ]
  },
  {
   "cell_type": "code",
   "execution_count": 72,
   "metadata": {
    "kernel": "Bash"
   },
   "outputs": [
    {
     "name": "stdout",
     "output_type": "stream",
     "text": [
      "INFO: Note: NumExpr detected 40 cores but \"NUMEXPR_MAX_THREADS\" not set, so enforcing safe limit of 8.\n",
      "INFO: NumExpr defaulting to 8 threads.\n",
      "INFO: Reading from standard input ...\n",
      "INFO: Processing 98K of input data ...\n",
      "INFO: Generating graph(s) ...\n",
      "Genomic inflation factor for method 'RVMDS2' is: 1.18113635349461\n",
      "INFO: Complete!\n"
     ]
    }
   ],
   "source": [
    "vtools_report plot_association qq -o QQRV_MDS2 -b --label_top 2 -f 6 < EA_RV_MDS2.asso.res"
   ]
  },
  {
   "cell_type": "code",
   "execution_count": 73,
   "metadata": {
    "kernel": "Bash"
   },
   "outputs": [
    {
     "name": "stdout",
     "output_type": "stream",
     "text": [
      "Running: 9 405.7/s in 00:00:00                                                  \n",
      "INFO: 1984 variants selected.\n"
     ]
    }
   ],
   "source": [
    "vtools select variant \"YRI_mafGD10>=0.05\" --samples \"RACE=0\" -t common_yri "
   ]
  },
  {
   "cell_type": "code",
   "execution_count": 74,
   "metadata": {
    "kernel": "Bash"
   },
   "outputs": [
    {
     "name": "stdout",
     "output_type": "stream",
     "text": [
      "Running: 7 368.9/s in 00:00:00                                                  \n",
      "INFO: 721 variants selected.\n"
     ]
    }
   ],
   "source": [
    "vtools select v_funct \"YRI_mafGD10<0.01\" --samples \"RACE=0\" -t rare_yri"
   ]
  },
  {
   "cell_type": "code",
   "execution_count": 75,
   "metadata": {
    "kernel": "Bash"
   },
   "outputs": [
    {
     "name": "stdout",
     "output_type": "stream",
     "text": [
      "INFO: 112 samples are selected by condition: (RACE=0)\n",
      "INFO: 1984 groups are found\n",
      "Testing for association: 100% [===================\u001b[1;31m\u001b[0m] 1,984/\u001b[1;31m12\u001b[0m 157.1/s in 00:00:12\n",
      "INFO: Association tests on 1984 groups have completed. 12 failed.\n",
      "INFO: Using annotation DB YA_CV as YA_CV in project VATDemo.\n",
      "INFO: Annotation database used to record results of association tests. Created on Mon, 25 Jan 2021 20:48:45\n",
      "INFO: 1984 out of 6986 variant.chr, variant.pos are annotated through annotation database YA_CV\n"
     ]
    }
   ],
   "source": [
    "vtools associate common_yri BMI --covariate SEX --samples \"RACE=0\" -m \"LinRegBurden --alternative 2\" -j1 --to_db YA_CV > YA_CV.asso.res"
   ]
  },
  {
   "cell_type": "code",
   "execution_count": 76,
   "metadata": {
    "kernel": "Bash"
   },
   "outputs": [
    {
     "name": "stdout",
     "output_type": "stream",
     "text": [
      "INFO: 112 samples are selected by condition: (RACE=0)\n",
      "INFO: 405 groups are found\n",
      "/opt/conda/lib/python3.7/site-packages/tables/leaf.py:544: VisibleDeprecationWarning: Creating an ndarray from ragged nested sequences (which is a list-or-tuple of lists-or-tuples-or ndarrays with different lengths or shapes) is deprecated. If you meant to do this, you must specify 'dtype=object' when creating the ndarray\n",
      "  key = numpy.array(key)\n",
      "Testing for association: 100% [=========\u001b[1;31m===========\u001b[0m] 405/\u001b[1;31m234\u001b[0m 153.4/s in 00:00:02\n",
      "INFO: Association tests on 405 groups have completed. 234 failed.\n",
      "INFO: Using annotation DB YA_RV as YA_RV in project VATDemo.\n",
      "INFO: Annotation database used to record results of association tests. Created on Mon, 25 Jan 2021 20:49:06\n",
      "INFO: 405 out of 23269 refGene.refGene.name2 are annotated through annotation database YA_RV\n"
     ]
    }
   ],
   "source": [
    "vtools associate rare_yri BMI --covariate SEX --samples \"RACE=0\" -m \"LinRegBurden --alternative 2\" -g refGene.name2 -j1 --to_db YA_RV > YA_RV.asso.res "
   ]
  },
  {
   "cell_type": "code",
   "execution_count": 77,
   "metadata": {
    "kernel": "Bash"
   },
   "outputs": [
    {
     "name": "stdout",
     "output_type": "stream",
     "text": [
      "INFO: 112 samples are selected by condition: (RACE=0)\n",
      "INFO: 405 groups are found\n",
      "Testing for association: 100% [=========\u001b[1;31m============\u001b[0m] 405/\u001b[1;31m234\u001b[0m 59.8/s in 00:00:06\n",
      "INFO: Association tests on 405 groups have completed. 234 failed.\n",
      "INFO: Using annotation DB YA_RV as YA_RV in project VATDemo.\n",
      "INFO: Annotation database used to record results of association tests. Created on Mon, 25 Jan 2021 20:49:06\n",
      "INFO: 405 out of 23269 refGene.refGene.name2 are annotated through annotation database YA_RV\n"
     ]
    }
   ],
   "source": [
    "vtools associate rare_yri BMI --covariate SEX --samples \"RACE=0\" -m \"VariableThresholdsQt --alternative 2 -p 100000 --adaptive 0.0005\" \\\n",
    "    -g refGene.name2 -j1 --to_db YA_RV > YA_RV_VT.asso.res"
   ]
  },
  {
   "cell_type": "markdown",
   "metadata": {
    "kernel": "Bash"
   },
   "source": [
    "## Meta-analysis\n",
    "\n",
    "Here we demonstrate the application of meta-analysis to combine association results from the two populations via `vtools report meta_analysis`. More details about `vtools report meta_analysis` command can be found at \n",
    "\n",
    "http://varianttools.sourceforge.net/VtoolsReport/MetaAnalysis\n",
    "\n",
    "The input to this command are the association results files generated from previous steps, for example:"
   ]
  },
  {
   "cell_type": "code",
   "execution_count": 78,
   "metadata": {
    "kernel": "Bash"
   },
   "outputs": [
    {
     "name": "stdout",
     "output_type": "stream",
     "text": [
      "INFO: Note: NumExpr detected 40 cores but \"NUMEXPR_MAX_THREADS\" not set, so enforcing safe limit of 8.\n",
      "INFO: NumExpr defaulting to 8 threads.\n"
     ]
    }
   ],
   "source": [
    "vtools_report meta_analysis EA_RV_VT.asso.res YA_RV_VT.asso.res --beta 5 --pval 6 --se 7 -n 2 --link 1 > META_RV_VT.asso.res"
   ]
  },
  {
   "cell_type": "markdown",
   "metadata": {
    "kernel": "Bash"
   },
   "source": [
    "To view the results,"
   ]
  },
  {
   "cell_type": "code",
   "execution_count": 79,
   "metadata": {
    "kernel": "Bash"
   },
   "outputs": [
    {
     "name": "stdout",
     "output_type": "stream",
     "text": [
      "refgene_name2\tpvalue_meta\n",
      "POLE\t9.123E-02\n",
      "SLC22A14\t4.373E-01\n",
      "PSMB8\t4.981E-01\n",
      "MORC1\t8.425E-01\n"
     ]
    }
   ],
   "source": [
    "cut -f1,3 META_RV_VT.asso.res | sort -g -k2 | head"
   ]
  },
  {
   "cell_type": "markdown",
   "metadata": {
    "kernel": "Bash"
   },
   "source": [
    "Note that for genes that only appears in one study but not the other, or only have a valid p-value in one study but not the other, will be ignored from meta-analysis.\n",
    "\n",
    "## Summary\n",
    "\n",
    "Analyzing variants with VAT is much like any other analysis software with a general workflow of:\n",
    "\n",
    "- Variant level cleaning\n",
    "- Sample genotype cleaning\n",
    "- Variant annotation and phenotype information processing\n",
    "- Sample/variant selection\n",
    "- Association analysis\n",
    "- Interpreting the findings\n",
    "\n",
    "The data cleaning and filtering conditions within this exercise should be considered as general guidelines. Your data may allow you to be laxer with certain criteria or force you to be more stringent with others."
   ]
  },
  {
   "cell_type": "markdown",
   "metadata": {
    "kernel": "Bash"
   },
   "source": [
    "## Questions\n",
    "\n",
    "### Question 1 \n",
    "\n",
    "List the four lowest p-values and associated variants or gene regions for the EA `CV.asso.res`, `EA RV.asso.res`, and `EA RV VT.asso.res` test outputs, which are results from single variant Wald test, rare variant BRV and VT tests, respectively, using the European American (CEU) population. Also, list the results using Yoruba African (YRI) population from `YA CV.asso.res`, `YA RV.asso.res` and `YA RV VT.asso.res`."
   ]
  },
  {
   "cell_type": "markdown",
   "metadata": {
    "kernel": "Bash"
   },
   "source": [
    "EA CV.asso.res - single variant tests using CEU\n",
    "\n",
    "1)\n",
    "\n",
    "2)\n",
    "\n",
    "3)\n",
    "\n",
    "4)\n",
    "\n",
    "\n",
    "EA RV.asso.res - BRV tests using CEU\n",
    "\n",
    "1)\n",
    "\n",
    "2)\n",
    "\n",
    "3)\n",
    "\n",
    "4)\n",
    "\n",
    "\n",
    "\n",
    "EA RV VT.asso.res - VT tests using CEU\n",
    "\n",
    "\n",
    "1)\n",
    "\n",
    "2)\n",
    "\n",
    "3)\n",
    "\n",
    "4)\n",
    "\n",
    "\n",
    "\n",
    "YA CV.asso.res - single variant tests using YRI\n",
    "\n",
    "\n",
    "1)\n",
    "\n",
    "2)\n",
    "\n",
    "3)\n",
    "\n",
    "4)\n",
    "\n",
    "\n",
    "\n",
    "YA RV.asso.res - BRV tests using YRI\n",
    "\n",
    "\n",
    "1)\n",
    "\n",
    "2)\n",
    "\n",
    "3)\n",
    "\n",
    "4)\n",
    "\n",
    "\n",
    "\n",
    "YA RV VT.asso.res - VT tests using YRI\n",
    "\n",
    "\n",
    "1)\n",
    "\n",
    "2)\n",
    "\n",
    "3)\n",
    "\n",
    "4)"
   ]
  },
  {
   "cell_type": "markdown",
   "metadata": {
    "kernel": "Bash"
   },
   "source": [
    "### Question 2 \n",
    "\n",
    "List any gene regions that show up in the lowest eight p-values for both the BRV and the VT tests. Why might the p-values for the VT tests be higher than the p-values for the BRV tests? Are any of the top p-value hits significant? Why or why not?"
   ]
  },
  {
   "cell_type": "markdown",
   "metadata": {
    "kernel": "Bash"
   },
   "source": [
    "## Answers\n",
    "\n",
    "### Question 1\n",
    "\n",
    "EA CV.asso.res\n",
    "1. 107888886 0.000105185\n",
    "2. 15869257 0.00038548\n",
    "3. 56293401 0.000386273\n",
    "4. 15869388 0.00279873\n",
    "\n",
    "EA RV.asso.res\n",
    "1. CIDEA 0.00504822\n",
    "2. UGT1A10 0.00549521\n",
    "3. UGT1A5 0.00549521\n",
    "4. UGT1A6 0.00549521\n",
    "\n",
    "EA RV VT.asso.res\n",
    "1. UGT1A9 0.007996\n",
    "2. CPED1 0.00999001\n",
    "3. UGT1A10 0.00999001\n",
    "4. UGT1A6 0.011988\n",
    "\n",
    "YA CV.asso.res\n",
    "\n",
    "1. 107888886 0.00000974\n",
    "2. 6003506 0.000211457\n",
    "3. 25901623 0.001329\n",
    "4. 3392651 0.00194995\n",
    "\n",
    "YA RV.asso.res\n",
    "\n",
    "1. EMILIN2 0.00262487\n",
    "2. ASIC2 0.0551664\n",
    "3. MDN1 0.0593085\n",
    "4. BAZ2B 0.0607625\n",
    "\n",
    "YA RV VT.asso.res\n",
    "\n",
    "1. EMILIN2 0.00533156\n",
    "2. MDN1 0.013986\n",
    "3. VLDLR 0.01998\n",
    "4. LRRC9 0.025974"
   ]
  },
  {
   "cell_type": "markdown",
   "metadata": {
    "kernel": "Bash"
   },
   "source": [
    "### Question 2\n",
    "\n",
    "The p-values do not achieve significance based on the corrected p values above (Bonferroni correction for multiple tests). Since the BMI values were randomly generated for each individual it is unlikely that any of the p-values for the single variant and aggregation tests would have achieved significance. Also, because of the multiple testing, the p-values for the VT tests might be higher than the p-values for the BRV tests."
   ]
  },
  {
   "cell_type": "markdown",
   "metadata": {
    "kernel": "Bash"
   },
   "source": [
    "## References\n",
    "\n",
    "1.  Wang, G.T., Peng, B., and Leal, S.M. (2014). Variant Association\n",
    "    Tools for Quality Control and Analysis of Large-Scale Sequence and\n",
    "    Genotyping Array Data. Am. J. Hum. Genet. 94, 770783\n",
    "\n",
    "\n",
    "2.  Li B, Leal SM. Methods for\n",
    "    detecting associations with rare variants for common diseases:\n",
    "    application to analysis of sequence data. Am J Hum Genet 2008\n",
    "    83:311-21\n",
    "\n",
    "3.  Auer PL, Wang G, Leal SM. Testing for rare variant associations in\n",
    "    the presence of missing data. Genet Epidemiol 2013 37:529-38\n",
    "\n",
    "4.  Liu DJ, Leal SM. A novel adaptive method for the analysis of\n",
    "    next-generation sequencing data to detect com-plex trait\n",
    "    associations with rare variants due to gene main effects\n",
    "    and interactions. PLoS Genet 2010 6:e1001156\n",
    "\n",
    "5.  Madsen BE, Browning SR. A groupwise association test for rare\n",
    "    mutations using a weighted sum statistic. PLoS Genet 2009 5:e1000384\n",
    "\n",
    "6.  Price AL, Kryukov GV, de Bakker PI, Purcell SM, Staples J, Wei LJ,\n",
    "    Sunyaev SR. Pooled association tests for rare variants in\n",
    "    exon-resequencing studies. Am J Hum Genet 20010 86:832-8\n",
    "\n",
    "7.  Wu MC, Lee S, Cai T, Li Y, Boehnke M, Lin X. Rare-variant\n",
    "    association testing for sequencing data with the sequence kernel\n",
    "    association test. Am J Hum Genet 2011 89:82-93\n",
    "\n",
    "8.  Lucas FAS, Wang G, Scheet P, Peng B. Integrated annotation and\n",
    "    analysis of genetic variants from next-generation sequencing studies\n",
    "    with variant tools. Bioinformatics 2012 28:421-2\n",
    "\n",
    "9.  Wang K, Li M, Hakonarson H. ANNOVAR: functional annotation of\n",
    "    genetic variants from high-throughput sequencing data. Nucleic Acids\n",
    "    Res 2010 38:e164\n",
    "\n",
    "10. Manichaikul A, Mychaleckyj JC, Rich SS, Daly K, Sale M, Chen WM.\n",
    "    Robust relationship inference in genome-wide association studies.\n",
    "    Bioinformatics 2010 26(22):2867-2873\n",
    "\n",
    "11. Purcell S, Neale B, Todd-Brown K, Thomas L, Ferreira MAR, Bender D,\n",
    "    Maller J, Sklar P, de Bakker PIW, Daly MJ & Sham PC. PLINK: a\n",
    "    toolset for whole-genome association and population-based\n",
    "    linkage analysis. Am J Hum Genet, 2007 81:559-75"
   ]
  }
 ],
 "metadata": {
  "authors": [
   {
    "name": "Copyright (c) 2021 Gao Wang, Diana Cornejo Sánchez & Suzanne M. Leal"
   }
  ],
  "kernelspec": {
   "display_name": "SoS",
   "language": "sos",
   "name": "sos"
  },
  "language_info": {
   "codemirror_mode": "sos",
   "file_extension": ".sos",
   "mimetype": "text/x-sos",
   "name": "sos",
   "nbconvert_exporter": "sos_notebook.converter.SoS_Exporter",
   "pygments_lexer": "sos"
  },
  "sos": {
   "default_kernel": "Bash",
   "kernels": [
    [
     "Bash",
     "bash",
     "Bash",
     "#E6EEFF"
    ],
    [
     "SoS",
     "sos",
     "",
     ""
    ]
   ],
   "panel": {
    "displayed": true,
    "height": 0,
    "style": "side"
   },
   "version": "0.22.4"
  },
  "title": " Association Analysis of Sequence Data using Variant Association Tools (VAT) for Complex Traits"
 },
 "nbformat": 4,
 "nbformat_minor": 4
}
